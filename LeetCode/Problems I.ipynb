{
 "cells": [
  {
   "cell_type": "markdown",
   "metadata": {},
   "source": [
    "\n",
    "\n",
    "## Two Sum\n",
    "\n",
    "<https://leetcode.com/problems/two-sum/description/>\n",
    "\n",
    "给定一个整数数列，找出其中和为特定值的那两个数。\n",
    "\n",
    "你可以假设每个输入都只会有一种答案，同样的元素不能被重用。\n",
    "\n",
    "示例:\n",
    "\n",
    "```\n",
    "Given nums = [2, 7, 11, 15], target = 9,\n",
    "\n",
    "Because nums[0] + nums[1] = 2 + 7 = 9,\n",
    "return [0, 1].\n",
    "```\n",
    "\n",
    "###  暴力算法\n",
    "\n",
    "最直接的方法就是暴力算法。遍历所有的和，算法复杂度是 $O(n^2)$"
   ]
  },
  {
   "cell_type": "code",
   "execution_count": 14,
   "metadata": {},
   "outputs": [
    {
     "data": {
      "text/plain": [
       "[0, 1]"
      ]
     },
     "execution_count": 14,
     "metadata": {},
     "output_type": "execute_result"
    }
   ],
   "source": [
    "class Solution:\n",
    "    def twoSum(self, nums, target):\n",
    "        \"\"\"\n",
    "        :type nums: List[int]\n",
    "        :type target: int\n",
    "        :rtype: List[int]\n",
    "        \"\"\"\n",
    "        l = len(nums)\n",
    "        for i in range(l):\n",
    "            for j in range(i+1, l):\n",
    "                if nums[i] + nums[j] == target:\n",
    "                    return [i, j]\n",
    "                \n",
    "Solution().twoSum([2, 7, 11, 15], 9)"
   ]
  },
  {
   "cell_type": "markdown",
   "metadata": {},
   "source": [
    "\n",
    "###  使用字典 （hash table）\n",
    "\n",
    "观察一下 `[2, 7, 11, 15]`， 可以直接计算其解为 `[7, 2, ...]` ，存储 解和当前索引到字典中。 在往后的遍历中，先看看当前的数在不在解集合中，如果在，则直接返回之前的索引和当前的索引。如果不在，保存解和当前索引。\n",
    "\n",
    "只需一次遍历即可，算法时间 $O(n)$"
   ]
  },
  {
   "cell_type": "code",
   "execution_count": 16,
   "metadata": {},
   "outputs": [
    {
     "name": "stdout",
     "output_type": "stream",
     "text": [
      "CPU times: user 16 µs, sys: 1 µs, total: 17 µs\n",
      "Wall time: 24.1 µs\n"
     ]
    },
    {
     "data": {
      "text/plain": [
       "[0, 1]"
      ]
     },
     "execution_count": 16,
     "metadata": {},
     "output_type": "execute_result"
    }
   ],
   "source": [
    "class Solution:\n",
    "    def twoSum(self, nums, target):\n",
    "        \"\"\"\n",
    "        :type nums: List[int]\n",
    "        :type target: int\n",
    "        :rtype: List[int]\n",
    "        \"\"\"\n",
    "        solution = dict()\n",
    "        for i, n in enumerate(nums):\n",
    "            if n in solution:\n",
    "                return [solution[n], i]\n",
    "            else:\n",
    "                solution[target - n] = i\n",
    "\n",
    "%time Solution().twoSum([2, 7, 11, 15], 9)"
   ]
  },
  {
   "cell_type": "markdown",
   "metadata": {},
   "source": [
    "## Add Two Numbers\n",
    "\n",
    "两个链表分别表示两个数字，从低位指向高位的方向。求和\n",
    "\n",
    "```\n",
    "Input: (2 -> 4 -> 3) + (5 -> 6 -> 4)\n",
    "Output: 7 -> 0 -> 8\n",
    "Explanation: 342 + 465 = 807.\n",
    "```\n",
    "\n",
    "咋看很简单啊。 注意一些细节。 这里返回一个新的链表"
   ]
  },
  {
   "cell_type": "code",
   "execution_count": 1,
   "metadata": {},
   "outputs": [],
   "source": [
    "# Definition for singly-linked list.\n",
    "class ListNode:\n",
    "    def __init__(self, x):\n",
    "        self.val = x\n",
    "        self.next = None\n",
    "\n",
    "class Solution:\n",
    "    def addTwoNumbers(self, l1, l2):\n",
    "        \"\"\"\n",
    "        :type l1: ListNode\n",
    "        :type l2: ListNode\n",
    "        :rtype: ListNode\n",
    "        \"\"\"\n",
    "        \n",
    "        x1 = l1\n",
    "        x2 = l2\n",
    "        carry = 0\n",
    "        head = prev = ListNode(0)\n",
    "        # loop1\n",
    "        while (x1 and x2):\n",
    "            val = x1.val + x2.val + carry\n",
    "            prev.next = ListNode(val % 10)\n",
    "            carry = val // 10\n",
    "            prev = prev.next\n",
    "            x1 = x1.next\n",
    "            x2 = x2.next\n",
    "            \n",
    "        rx = x1 if x2 is None else x2\n",
    "        \n",
    "        # loop2\n",
    "        while rx:\n",
    "            val = rx.val + carry\n",
    "            prev.next = ListNode(val % 10)\n",
    "            carry = val // 10\n",
    "            prev = prev.next\n",
    "            rx = rx.next\n",
    "            \n",
    "        if carry:\n",
    "            prev.next = ListNode(carry)\n",
    "        \n",
    "        return head.next\n",
    "            "
   ]
  },
  {
   "cell_type": "code",
   "execution_count": 25,
   "metadata": {},
   "outputs": [
    {
     "name": "stdout",
     "output_type": "stream",
     "text": [
      "[0, 0, 1]\n",
      "1024\n"
     ]
    }
   ],
   "source": [
    "def create_list_node(num):\n",
    "    head = prev = ListNode(0)\n",
    "    while num:\n",
    "        prev.next = ListNode(num % 10)\n",
    "        num = num // 10\n",
    "        prev = prev.next\n",
    "    return head.next\n",
    "\n",
    "def parse_list_node(ln):\n",
    "    num = 0\n",
    "    base = 1\n",
    "    while ln:\n",
    "        num += ln.val * base\n",
    "        base = base * 10\n",
    "        ln = ln.next\n",
    "        \n",
    "    return num \n",
    "\n",
    "def print_list_node(ln):\n",
    "    l = list()\n",
    "    while ln:\n",
    "        l.append(ln.val)\n",
    "        ln = ln.next\n",
    "    print(l)\n",
    "    \n",
    "print_list_node(create_list_node(100))\n",
    "\n",
    "print(parse_list_node(create_list_node(1024)))\n",
    "assert parse_list_node(create_list_node(100)) == 100\n",
    "\n",
    "def test(a, b):\n",
    "    # create\n",
    "    l1 = create_list_node(a)\n",
    "    l2 = create_list_node(b)\n",
    "    s = Solution().addTwoNumbers(l1, l2)\n",
    "#     print_list_node(s)\n",
    "    assert parse_list_node(s) == (a + b)\n",
    "    \n",
    "test(123, 3452323)\n",
    "\n",
    "import random\n",
    "\n",
    "for _ in range(100):\n",
    "    a = random.randint(0, 100000000)\n",
    "    b = random.randint(0, 100000000)\n",
    "    test(a, b)\n",
    "    "
   ]
  },
  {
   "cell_type": "markdown",
   "metadata": {},
   "source": [
    "## Longest Substring Without Repeating Characters\n",
    "\n",
    "Given a string, find the length of the longest substring without repeating characters.\n",
    "\n",
    "Examples:\n",
    "\n",
    "Given \"abcabcbb\", the answer is \"abc\", which the length is 3.\n",
    "\n",
    "Given \"bbbbb\", the answer is \"b\", with the length of 1.\n",
    "\n",
    "Given \"pwwkew\", the answer is \"wke\", with the length of 3. Note that the answer must be a substring, \"pwke\" is a subsequence and not a substring.\n",
    "\n",
    "\n",
    "返回没有重复字符的最长子串的长度。\n",
    "\n",
    "思路很直接啊： 用头尾指针夹住无重复字符的子串。\n",
    "1. 需要一前一后两个指针：尾指针遍历字符串， 当遇到重复字符时，更新头指针位置。必须总能确保：头尾指针之间没有重复字符。\n",
    "2. 注意上面有个trick。 一般使用字典保存字符位置。只需要保证头尾指针之间没有重复字符即可，所以重复的指针还有一个必要条件是 `i <= used[c]`。\n",
    "3. 遍历时计算长度，更新最大长度。\n",
    "    \n",
    "注意一些细节：\n",
    "\n",
    "```\n",
    "i 0--1--4-\n",
    "  |  |  |\n",
    "  abcadeab\n",
    "  ||||||||\n",
    "j 01234567\n",
    "l 123-45-4\n",
    "```\n",
    "\n",
    "注意下面这个例子，必须同时满足 `i <= used[c]` 才更新头指针位置。如果 `i > used[c]`，`c` 已经可以不用考虑了。\n",
    "只考虑 `i` 和 `j` 之间是否有重复的字符。\n",
    "```\n",
    "i 0-2----         \n",
    "  | |   \n",
    "  tmmzuxt   \n",
    "  |||||||\n",
    "j 0123456\n",
    "l 12-2345\n",
    "```"
   ]
  },
  {
   "cell_type": "code",
   "execution_count": 62,
   "metadata": {},
   "outputs": [
    {
     "name": "stdout",
     "output_type": "stream",
     "text": [
      "5\n"
     ]
    }
   ],
   "source": [
    "class Solution:\n",
    "    def lengthOfLongestSubstring(self, s):\n",
    "        \"\"\"\n",
    "        :type s: str\n",
    "        :rtype: int\n",
    "        \"\"\"\n",
    "        used = {}\n",
    "        ml = i = 0\n",
    "        \n",
    "        for j, c in enumerate(s):\n",
    "            if c in used and i <= used[c]:\n",
    "                i = used[c] + 1\n",
    "            else:\n",
    "                ml = max(ml, j - i + 1)\n",
    "\n",
    "            used[c] = j\n",
    "#             print(i,j,ml)\n",
    "        return ml\n",
    "    \n",
    "# print(Solution().lengthOfLongestSubstring('abcabcbb'))  # 3\n",
    "# print(Solution().lengthOfLongestSubstring('bbbbbb'))  # 1\n",
    "# print(Solution().lengthOfLongestSubstring('pwwkew'))  # 3\n",
    "print(Solution().lengthOfLongestSubstring('abcadeab'))  # 5\n",
    "# print(Solution().lengthOfLongestSubstring(''))  # 0\n",
    "# print(Solution().lengthOfLongestSubstring('c'))  # 1\n",
    "# print(Solution().lengthOfLongestSubstring('abcdefg'))  # 7\n",
    "# print(Solution().lengthOfLongestSubstring(\"tmmzuxt\"))  # 5\n"
   ]
  },
  {
   "cell_type": "markdown",
   "metadata": {},
   "source": [
    "## Median of Two Sorted Arrays\n",
    "\n",
    "There are two sorted arrays nums1 and nums2 of size m and n respectively.\n",
    "\n",
    "Find the median of the two sorted arrays. The overall run time complexity should be O(log (m+n)).\n",
    "\n",
    "Example 1:\n",
    "```\n",
    "nums1 = [1, 3]\n",
    "nums2 = [2]\n",
    "\n",
    "The median is 2.0\n",
    "```\n",
    "Example 2:\n",
    "```\n",
    "nums1 = [1, 2]\n",
    "nums2 = [3, 4]\n",
    "\n",
    "The median is (2 + 3)/2 = 2.5\n",
    "```\n",
    "\n",
    "解题思路，很巧妙，参考讨论区的来着：\n",
    "\n",
    "什么是中位数，就是排序数组中间的两个数（或一个数）的平均数。\n",
    "\n",
    "那么两个数组的中位数怎么找。 注意把两个有序数组这样排放（总是假设 A长度 $m$ 不大于 B长度 $n$）：\n",
    "```\n",
    "A:      [........]\n",
    "B:  [.................]\n",
    "```\n",
    "在中心位置（旋转对称轴中心？）切一刀，例如：\n",
    "\n",
    "```\n",
    "A:      [....|....]\n",
    "B:  [........|.........]\n",
    "```\n",
    "或者\n",
    "\n",
    "```\n",
    "A:      [\\........]\n",
    "          \\\n",
    "           \\\n",
    "            \\\n",
    "             \\\n",
    "              \\\n",
    "               \\\n",
    "                \\ \n",
    "                 \\\n",
    "B:  [.............\\....]   ^_^\n",
    "```\n",
    "保证左侧的和右侧的数量相等（或者左边的比右边的多1个，如果总数是奇数的话）。当左侧数总是不大于右侧数的时候，其实就是找到了中位数的位置。\n",
    "\n",
    "上面的切割位置 $i \\in [0, m]$， 下面的切割位置 $j \\in [(n - m)/2, (n + m)/2]$。\n",
    "\n",
    "如果总数是偶数，则 $i,j$ 满足： $i + j = (n + m) /2 $。\n",
    "\n",
    "如果总数是奇数，则 $i,j$ 满足： $i + j = (n + m + 1) / 2 $。 统一写就是 $i + j = (n + m + 1 ) / 2$， 偶数的0.5会舍去。\n",
    "\n",
    "所以问题本质上就是个二分查找题，查找范围 $i \\in [0, m]$， 下边数组的切割位置 $j = (n + m + 1) / 2 - i$\n",
    "\n",
    "其他细节：\n",
    "\n",
    "1. 对于切割位置 $i,j$， 如果 $A[i-1] > B[j]$ 的话，同时说明 $A[i] \\ge A[i-1] > B[j] \\ge B[j-1]$， 说明在 $i$ 切割位置，上面的数普遍比下面的数大，$i$ 应该偏小一点。收缩查找范围到 $[imin, i-1]$\n",
    "2. 如果 $B[j-1] > A[i]$ 的话， 同时说明 $B[j] \\ge B[j-1] > A[i] \\ge A[i-1]$，说明 $i$ 的切割位置，上面的数普遍比下面的数小，$i$ 应该偏大一些。收缩查找范围到 $[i+1, imax]$\n",
    "3. 如果总数是奇数的话，返回左侧数的最大值即可； 如果总数是偶数的话，需要求个平均值。同时还要注意边界条件。\n",
    "\n",
    "\n",
    "思路很清晰，但是边界条件以及细节都很麻烦。 自己写不知道写到何时去。。。。。。。。"
   ]
  },
  {
   "cell_type": "code",
   "execution_count": 65,
   "metadata": {
    "scrolled": true
   },
   "outputs": [
    {
     "data": {
      "text/plain": [
       "2"
      ]
     },
     "execution_count": 65,
     "metadata": {},
     "output_type": "execute_result"
    }
   ],
   "source": [
    "class Solution:\n",
    "    def findMedianSortedArrays(self, nums1, nums2):\n",
    "        \"\"\"\n",
    "        :type nums1: List[int]\n",
    "        :type nums2: List[int]\n",
    "        :rtype: float\n",
    "        \"\"\" \n",
    "        m, n = len(nums1), len(nums2)\n",
    "        if m > n:\n",
    "            nums1, nums2, m, n = nums2, nums1, n, m\n",
    "        \n",
    "        A, B = nums1, nums2\n",
    "        imin, imax, half_len = 0, m, (m + n + 1) // 2\n",
    "        while imin <= imax:\n",
    "            i = (imin + imax) // 2\n",
    "            j = half_len - i\n",
    "            if i < m and B[j-1] > A[i]:\n",
    "                # i is too small, must increase it\n",
    "                imin = i + 1\n",
    "            elif i > 0 and A[i-1] > B[j]:\n",
    "                # i is too big, must decrease it\n",
    "                imax = i - 1\n",
    "            else:\n",
    "                # i is perfect\n",
    "\n",
    "                if i == 0: max_of_left = B[j-1]\n",
    "                elif j == 0: max_of_left = A[i-1]\n",
    "                else: max_of_left = max(A[i-1], B[j-1])\n",
    "\n",
    "                if (m + n) % 2 == 1:\n",
    "                    return max_of_left\n",
    "\n",
    "                if i == m: min_of_right = B[j]\n",
    "                elif j == n: min_of_right = A[i]\n",
    "                else: min_of_right = min(A[i], B[j])\n",
    "\n",
    "                return (max_of_left + min_of_right) / 2.0\n",
    "            \n",
    "Solution().findMedianSortedArrays([1, 3], [2])"
   ]
  },
  {
   "cell_type": "markdown",
   "metadata": {},
   "source": [
    "## 5. Longest Palindromic Substring\n",
    "\n",
    "回文字符串。\n",
    "\n",
    "题意很简单： 找出一个字符串中最长的回文字符串。\n",
    "\n",
    "例如： `ababa` 就是一个回文字串。\n",
    "\n",
    "用到动态规划思想。简单回顾一下动态规划思想，动态规划一般用在求最优解的问题中。 动态规划包括以下4个步骤：\n",
    "\n",
    "1. 描述最优解的结构， 并且可以分解成子问题的最优解的选择。\n",
    "2. 递归定义最优解的值，即子问题组合\n",
    "3. 按自底向上的方式计算出最优解的值\n",
    "4. 由计算出的结果构造一个最优解\n",
    "\n",
    "说的比较抽象，关键点在于 最优解的结构可以分解成子问题的最优解的选择。\n",
    "\n",
    "### 一般解法\n",
    "\n",
    "回文字符串没这么麻烦，其实很直观： 遍历每个字符，以每个字符为中心向两边扩展搜索，直到不满足回文结构为止。 这种方法的时间复杂度是 $O(n^2)$， 空间复杂度是 $O(1)$，其实可以就地搜索。\n",
    "\n",
    "经常就是边界条件的trick：\n",
    "\n",
    "1. 关于 `expand`， \n",
    "    1. 如果 `i==j`，就是从字符展开，得到的长度是奇数； 如果 `j = i + 1`，就是从两个字符展开，得到的长度是偶数。\n",
    "    2. 如果 `i==j`，那么一定有 `s[i] == s[j]`， 直接计算 `j - i` 得到的是偶数， 需要减1\n",
    "    3. 如果 `j = i + 1`，如果 `s[i] == s[j]`， 计算 `j - i` 得到 3， 需要减1。\n",
    "2. 关于计算回文子串的起止位置：\n",
    "    1. 如果 l  是奇数， 表示从1个字符展开， `j = i - l // 2 , k = i + l // 2`\n",
    "    2. 如果 l  是偶数， 表示从2个字符展开， `j = i - l // 2 - 1, k = i + l // 2`\n",
    "    3. 可以看到 k 的表达式都一样。 j 的表达式需要调和一下， 可以变成 `j = i - (l - 1) // 2`， 符合奇偶情况。"
   ]
  },
  {
   "cell_type": "code",
   "execution_count": 85,
   "metadata": {},
   "outputs": [
    {
     "data": {
      "text/plain": [
       "'abaaba'"
      ]
     },
     "execution_count": 85,
     "metadata": {},
     "output_type": "execute_result"
    }
   ],
   "source": [
    "class Solution:\n",
    "    def longestPalindrome(self, s):\n",
    "        \"\"\"\n",
    "        :type s: str\n",
    "        :rtype: str\n",
    "        \"\"\"\n",
    "        k = j = 0\n",
    "        for i in range(len(s)):\n",
    "            l1 = self.expand(s, i, i)\n",
    "            l2 = self.expand(s, i, i+1)\n",
    "            l = max(l1, l2)\n",
    "            if l > k - j:\n",
    "                j = i - (l - 1) // 2\n",
    "                k = i + l // 2\n",
    "        return s[j:k+1]\n",
    "            \n",
    "    def expand(self, s, i, j):\n",
    "        while (i >=0 and j < len(s) and s[i] == s[j]):\n",
    "            i -= 1\n",
    "            j += 1\n",
    "        return j - i - 1\n",
    "    \n",
    "Solution().longestPalindrome('abaabadddd')"
   ]
  },
  {
   "cell_type": "markdown",
   "metadata": {},
   "source": [
    "### Manacher’s Algorithm\n",
    "\n",
    "核心思想： 利用 回文子串的特点： 对回文的另一侧子串省略扩展程序\n",
    "\n",
    "具体的解释见： <https://articles.leetcode.com/longest-palindromic-substring-part-ii/>\n",
    "\n",
    "一些细节：\n",
    "\n",
    "1. 在头和尾加上 '^$' 主要是为了避免ns的index错误。\n",
    "2. 插入 '#‘ 可以巧妙优雅的简化问题。详见上面的链接。\n",
    "3. r表示已知的回文子串的最大右边界（在这个范围内可以采取一些镜像策略）， c表示这个回文子串的中心位置。\n",
    "4. `p = min(r - i, P[i_mirror]) if r > i else 0` 是关键的trick。\n",
    "    1. 拆开解释： 如果 `r <= i`，表示 i 超出了最大右边界，这时候就老老实实从这里扩展，找 `p`\n",
    "    2. 如果 `r > i`，比较 `r - i` 即i到右边界的剩余部分，和镜像中心回文子串长度 `P[i_mirror]`\n",
    "        1. 如果 剩余部分多，完全可以镜像过来。所以 `p = P[i_mirror]`\n",
    "        2. 如果 剩余部分少，右边界以内的肯定是回文的，但是右边界以外的就需要扩展搜索。（但是逻辑上，没必要继续扩展搜索。因为如果右边界以外也符合回文条件，那么镜像范围是增大的，之前的最大右边界条件不成立）\n",
    "        3. 所以用 `min(r - i, P[i_mirror])`\n",
    "5. 如果从 i 开始的扩展搜索的范围超过了右边界，那么就定义新的中心和边界位置。\n",
    "5. 最后用到 `argmax` 找到最长回文子串的中心位置。\n",
    "6. 用替换比用计算原字符串的位置，不仅省事，还省时间。。。。不纠结\n",
    "\n",
    "原始算法的复杂度是 $O(n^2)$， 这个算法的时间复杂度可以达到 $O(n)$，为什么，可以感觉到： 到达右边界的搜索过程是线性的。在到达右边界后，在右边界之内的就**不用重复搜索，只需要线性时间的计算而已**。 虽然是两个循环嵌套，但好比你追我赶，所以就是线性的。"
   ]
  },
  {
   "cell_type": "code",
   "execution_count": 105,
   "metadata": {},
   "outputs": [
    {
     "data": {
      "text/plain": [
       "'abaaba'"
      ]
     },
     "execution_count": 105,
     "metadata": {},
     "output_type": "execute_result"
    }
   ],
   "source": [
    "class Solution:\n",
    "    def longestPalindrome(self, s):\n",
    "        \"\"\"\n",
    "        :type s: str\n",
    "        :rtype: str\n",
    "        \"\"\"\n",
    "        ns = '^#' + '#'.join(s) + '#$'\n",
    "        P  = [0]\n",
    "        c = r = 0\n",
    "        for i in range(1, len(ns)-1):\n",
    "            i_mirror = 2 * c - i\n",
    "            \n",
    "            p = min(r - i, P[i_mirror]) if r > i else 0\n",
    "            while (ns[i + p + 1] == ns[i - p - 1]):\n",
    "                p += 1\n",
    "            \n",
    "            if i + p > r:\n",
    "                c = i\n",
    "                r = i + p\n",
    "            \n",
    "            P.append(p)\n",
    "            \n",
    "        center, length = max(enumerate(P), key=lambda x:x[1]) \n",
    "        return ns[center - length: center + length].replace('#', '')\n",
    "\n",
    "Solution().longestPalindrome('abaabadddd')"
   ]
  },
  {
   "cell_type": "markdown",
   "metadata": {},
   "source": [
    "## 682. Baseball Game\n",
    "\n",
    "\n",
    "https://leetcode.com/problems/baseball-game/description/\n",
    "\n",
    "很简单的题目，baseball计分规则：\n",
    "\n",
    "1. 数字，就是分数\n",
    "2. 'D'， 就是把前一轮的有效分数翻倍，作为本轮分数\n",
    "3. '+'， 就是把前两轮有效分数相加，作为本轮分数\n",
    "4. 'C'， 是一个操作，把前一轮分数定为无效。\n",
    "\n",
    "给出一列计分，求最后的分数总和。\n",
    "\n",
    "例如 :\n",
    "\n",
    "`[\"5\",\"2\",\"C\",\"D\",\"+\"]` ，最后得分是 30分。\n",
    "\n",
    "用栈就可以解决。 算法时间复杂度 $O(n)$， 空间复杂度 $O(n)$。"
   ]
  },
  {
   "cell_type": "code",
   "execution_count": 67,
   "metadata": {},
   "outputs": [
    {
     "data": {
      "text/plain": [
       "30"
      ]
     },
     "execution_count": 67,
     "metadata": {},
     "output_type": "execute_result"
    }
   ],
   "source": [
    "class Solution:\n",
    "    def calPoints(self, ops):\n",
    "        \"\"\"\n",
    "        :type ops: List[str]\n",
    "        :rtype: int\n",
    "        \"\"\"\n",
    "        points = []\n",
    "        for op in ops:\n",
    "            if op == 'C':\n",
    "                points.pop()\n",
    "            elif op == 'D':\n",
    "                points.append(points[-1] * 2)\n",
    "            elif op == '+':\n",
    "                points.append(points[-1] + points[-2])\n",
    "            else:\n",
    "                points.append(int(op))\n",
    "        return sum(points)\n",
    "        \n",
    "    \n",
    "Solution().calPoints([\"5\",\"2\",\"C\",\"D\",\"+\"])"
   ]
  }
 ],
 "metadata": {
  "kernelspec": {
   "display_name": "Python 3",
   "language": "python",
   "name": "python3"
  },
  "language_info": {
   "codemirror_mode": {
    "name": "ipython",
    "version": 3
   },
   "file_extension": ".py",
   "mimetype": "text/x-python",
   "name": "python",
   "nbconvert_exporter": "python",
   "pygments_lexer": "ipython3",
   "version": "3.6.2"
  },
  "toc": {
   "base_numbering": 1,
   "nav_menu": {},
   "number_sections": false,
   "sideBar": true,
   "skip_h1_title": false,
   "title_cell": "Table of Contents",
   "title_sidebar": "Contents",
   "toc_cell": false,
   "toc_position": {
    "height": "calc(100% - 180px)",
    "left": "10px",
    "top": "150px",
    "width": "384px"
   },
   "toc_section_display": true,
   "toc_window_display": true
  },
  "varInspector": {
   "cols": {
    "lenName": 16,
    "lenType": 16,
    "lenVar": 40
   },
   "kernels_config": {
    "python": {
     "delete_cmd_postfix": "",
     "delete_cmd_prefix": "del ",
     "library": "var_list.py",
     "varRefreshCmd": "print(var_dic_list())"
    },
    "r": {
     "delete_cmd_postfix": ") ",
     "delete_cmd_prefix": "rm(",
     "library": "var_list.r",
     "varRefreshCmd": "cat(var_dic_list()) "
    }
   },
   "position": {
    "height": "144px",
    "left": "1568px",
    "right": "20px",
    "top": "140px",
    "width": "350px"
   },
   "types_to_exclude": [
    "module",
    "function",
    "builtin_function_or_method",
    "instance",
    "_Feature"
   ],
   "window_display": false
  }
 },
 "nbformat": 4,
 "nbformat_minor": 2
}
