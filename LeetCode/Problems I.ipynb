{
 "cells": [
  {
   "cell_type": "markdown",
   "metadata": {},
   "source": [
    "\n",
    "\n",
    "## Two Sum\n",
    "\n",
    "<https://leetcode.com/problems/two-sum/description/>\n",
    "\n",
    "给定一个整数数列，找出其中和为特定值的那两个数。\n",
    "\n",
    "你可以假设每个输入都只会有一种答案，同样的元素不能被重用。\n",
    "\n",
    "示例:\n",
    "\n",
    "```\n",
    "Given nums = [2, 7, 11, 15], target = 9,\n",
    "\n",
    "Because nums[0] + nums[1] = 2 + 7 = 9,\n",
    "return [0, 1].\n",
    "```\n",
    "\n",
    "###  暴力算法\n",
    "\n",
    "最直接的方法就是暴力算法。遍历所有的和，算法复杂度是 $O(n^2)$"
   ]
  },
  {
   "cell_type": "code",
   "execution_count": 14,
   "metadata": {},
   "outputs": [
    {
     "data": {
      "text/plain": [
       "[0, 1]"
      ]
     },
     "execution_count": 14,
     "metadata": {},
     "output_type": "execute_result"
    }
   ],
   "source": [
    "class Solution:\n",
    "    def twoSum(self, nums, target):\n",
    "        \"\"\"\n",
    "        :type nums: List[int]\n",
    "        :type target: int\n",
    "        :rtype: List[int]\n",
    "        \"\"\"\n",
    "        l = len(nums)\n",
    "        for i in range(l):\n",
    "            for j in range(i+1, l):\n",
    "                if nums[i] + nums[j] == target:\n",
    "                    return [i, j]\n",
    "                \n",
    "Solution().twoSum([2, 7, 11, 15], 9)"
   ]
  },
  {
   "cell_type": "markdown",
   "metadata": {},
   "source": [
    "\n",
    "###  使用字典 （hash table）\n",
    "\n",
    "观察一下 `[2, 7, 11, 15]`， 可以直接计算其解为 `[7, 2, ...]` ，存储 解和当前索引到字典中。 在往后的遍历中，先看看当前的数在不在解集合中，如果在，则直接返回之前的索引和当前的索引。如果不在，保存解和当前索引。\n",
    "\n",
    "只需一次遍历即可，算法时间 $O(n)$"
   ]
  },
  {
   "cell_type": "code",
   "execution_count": 16,
   "metadata": {},
   "outputs": [
    {
     "name": "stdout",
     "output_type": "stream",
     "text": [
      "CPU times: user 16 µs, sys: 1 µs, total: 17 µs\n",
      "Wall time: 24.1 µs\n"
     ]
    },
    {
     "data": {
      "text/plain": [
       "[0, 1]"
      ]
     },
     "execution_count": 16,
     "metadata": {},
     "output_type": "execute_result"
    }
   ],
   "source": [
    "class Solution:\n",
    "    def twoSum(self, nums, target):\n",
    "        \"\"\"\n",
    "        :type nums: List[int]\n",
    "        :type target: int\n",
    "        :rtype: List[int]\n",
    "        \"\"\"\n",
    "        solution = dict()\n",
    "        for i, n in enumerate(nums):\n",
    "            if n in solution:\n",
    "                return [solution[n], i]\n",
    "            else:\n",
    "                solution[target - n] = i\n",
    "\n",
    "%time Solution().twoSum([2, 7, 11, 15], 9)"
   ]
  },
  {
   "cell_type": "markdown",
   "metadata": {},
   "source": [
    "## Add Two Numbers\n",
    "\n",
    "两个链表分别表示两个数字，从低位指向高位的方向。求和\n",
    "\n",
    "```\n",
    "Input: (2 -> 4 -> 3) + (5 -> 6 -> 4)\n",
    "Output: 7 -> 0 -> 8\n",
    "Explanation: 342 + 465 = 807.\n",
    "```\n",
    "\n",
    "咋看很简单啊。 注意一些细节。 这里返回一个新的链表"
   ]
  },
  {
   "cell_type": "code",
   "execution_count": 1,
   "metadata": {},
   "outputs": [],
   "source": [
    "# Definition for singly-linked list.\n",
    "class ListNode:\n",
    "    def __init__(self, x):\n",
    "        self.val = x\n",
    "        self.next = None\n",
    "\n",
    "class Solution:\n",
    "    def addTwoNumbers(self, l1, l2):\n",
    "        \"\"\"\n",
    "        :type l1: ListNode\n",
    "        :type l2: ListNode\n",
    "        :rtype: ListNode\n",
    "        \"\"\"\n",
    "        \n",
    "        x1 = l1\n",
    "        x2 = l2\n",
    "        carry = 0\n",
    "        head = prev = ListNode(0)\n",
    "        # loop1\n",
    "        while (x1 and x2):\n",
    "            val = x1.val + x2.val + carry\n",
    "            prev.next = ListNode(val % 10)\n",
    "            carry = val // 10\n",
    "            prev = prev.next\n",
    "            x1 = x1.next\n",
    "            x2 = x2.next\n",
    "            \n",
    "        rx = x1 if x2 is None else x2\n",
    "        \n",
    "        # loop2\n",
    "        while rx:\n",
    "            val = rx.val + carry\n",
    "            prev.next = ListNode(val % 10)\n",
    "            carry = val // 10\n",
    "            prev = prev.next\n",
    "            rx = rx.next\n",
    "            \n",
    "        if carry:\n",
    "            prev.next = ListNode(carry)\n",
    "        \n",
    "        return head.next\n",
    "            "
   ]
  },
  {
   "cell_type": "code",
   "execution_count": 25,
   "metadata": {},
   "outputs": [
    {
     "name": "stdout",
     "output_type": "stream",
     "text": [
      "[0, 0, 1]\n",
      "1024\n"
     ]
    }
   ],
   "source": [
    "def create_list_node(num):\n",
    "    head = prev = ListNode(0)\n",
    "    while num:\n",
    "        prev.next = ListNode(num % 10)\n",
    "        num = num // 10\n",
    "        prev = prev.next\n",
    "    return head.next\n",
    "\n",
    "def parse_list_node(ln):\n",
    "    num = 0\n",
    "    base = 1\n",
    "    while ln:\n",
    "        num += ln.val * base\n",
    "        base = base * 10\n",
    "        ln = ln.next\n",
    "        \n",
    "    return num \n",
    "\n",
    "def print_list_node(ln):\n",
    "    l = list()\n",
    "    while ln:\n",
    "        l.append(ln.val)\n",
    "        ln = ln.next\n",
    "    print(l)\n",
    "    \n",
    "print_list_node(create_list_node(100))\n",
    "\n",
    "print(parse_list_node(create_list_node(1024)))\n",
    "assert parse_list_node(create_list_node(100)) == 100\n",
    "\n",
    "def test(a, b):\n",
    "    # create\n",
    "    l1 = create_list_node(a)\n",
    "    l2 = create_list_node(b)\n",
    "    s = Solution().addTwoNumbers(l1, l2)\n",
    "#     print_list_node(s)\n",
    "    assert parse_list_node(s) == (a + b)\n",
    "    \n",
    "test(123, 3452323)\n",
    "\n",
    "import random\n",
    "\n",
    "for _ in range(100):\n",
    "    a = random.randint(0, 100000000)\n",
    "    b = random.randint(0, 100000000)\n",
    "    test(a, b)\n",
    "    "
   ]
  },
  {
   "cell_type": "code",
   "execution_count": 24,
   "metadata": {},
   "outputs": [
    {
     "data": {
      "text/plain": [
       "4353"
      ]
     },
     "execution_count": 24,
     "metadata": {},
     "output_type": "execute_result"
    }
   ],
   "source": [
    "random.randint(0, 100000000)"
   ]
  }
 ],
 "metadata": {
  "kernelspec": {
   "display_name": "Python 3",
   "language": "python",
   "name": "python3"
  },
  "language_info": {
   "codemirror_mode": {
    "name": "ipython",
    "version": 3
   },
   "file_extension": ".py",
   "mimetype": "text/x-python",
   "name": "python",
   "nbconvert_exporter": "python",
   "pygments_lexer": "ipython3",
   "version": "3.6.2"
  },
  "toc": {
   "base_numbering": 1,
   "nav_menu": {},
   "number_sections": true,
   "sideBar": true,
   "skip_h1_title": false,
   "title_cell": "Table of Contents",
   "title_sidebar": "Contents",
   "toc_cell": false,
   "toc_position": {
    "height": "calc(100% - 180px)",
    "left": "10px",
    "top": "150px",
    "width": "384px"
   },
   "toc_section_display": true,
   "toc_window_display": true
  },
  "varInspector": {
   "cols": {
    "lenName": 16,
    "lenType": 16,
    "lenVar": 40
   },
   "kernels_config": {
    "python": {
     "delete_cmd_postfix": "",
     "delete_cmd_prefix": "del ",
     "library": "var_list.py",
     "varRefreshCmd": "print(var_dic_list())"
    },
    "r": {
     "delete_cmd_postfix": ") ",
     "delete_cmd_prefix": "rm(",
     "library": "var_list.r",
     "varRefreshCmd": "cat(var_dic_list()) "
    }
   },
   "position": {
    "height": "144px",
    "left": "1568px",
    "right": "20px",
    "top": "140px",
    "width": "350px"
   },
   "types_to_exclude": [
    "module",
    "function",
    "builtin_function_or_method",
    "instance",
    "_Feature"
   ],
   "window_display": true
  }
 },
 "nbformat": 4,
 "nbformat_minor": 2
}
