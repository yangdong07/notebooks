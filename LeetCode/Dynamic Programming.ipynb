{
 "cells": [
  {
   "cell_type": "markdown",
   "metadata": {},
   "source": [
    "## 32. Longest Valid Parentheses\n",
    "\n",
    "\n",
    "Given a string containing just the characters `'('` and `')'`, find the length of the longest valid (well-formed) parentheses substring.\n",
    "\n",
    "For `\"(()\"`, the longest valid parentheses substring is `\"()\"`, which has length = 2.\n",
    "\n",
    "Another example is `\")()())\"`, where the longest valid parentheses substring is `\"()()\"`, which has length = 4.\n",
    "\n",
    "\n",
    "DP问题：\n",
    "\n",
    "定义 `dp(i)` 为 i 位置的最长括号结构的 长度（最优解）， 在最优解满足一下条件：\n",
    "\n",
    "- `s(i) == '('` , `dp(i) = 0`\n",
    "- `s(i) == ')'`\n",
    "    - `s(i-1) == '('`,  `dp(i) = dp(i-2) + 2`\n",
    "    - `s(i-1) == ')'`\n",
    "        - `s(i-1-dp(i-1)) == '('`, `dp(i) = dp(i-1) + 2 + dp(i-2-dp(i-1))`\n",
    "        - `s(i-1-dp(i-1)) == ')'`, `dp(i) = 0`\n",
    "        \n",
    "\n"
   ]
  },
  {
   "cell_type": "code",
   "execution_count": 11,
   "metadata": {},
   "outputs": [
    {
     "name": "stdout",
     "output_type": "stream",
     "text": [
      "1 0 ( (\n",
      "2 2 ) (\n",
      "3 4 ) (\n",
      "4 0 ) (\n",
      "5 0 ( )\n",
      "6 2 ) (\n",
      "7 0 ) )\n",
      "8 0 ( )\n"
     ]
    },
    {
     "data": {
      "text/plain": [
       "4"
      ]
     },
     "execution_count": 11,
     "metadata": {},
     "output_type": "execute_result"
    }
   ],
   "source": [
    "class Solution:\n",
    "    def longestValidParentheses(self, s):\n",
    "        \"\"\"\n",
    "        :type s: str\n",
    "        :rtype: int\n",
    "        \"\"\"\n",
    "        dp = [0] * len(s)\n",
    "        maxlen = 0\n",
    "        for i in range(1, len(s)):\n",
    "            if s[i] == ')':\n",
    "                if s[i-1] == '(':\n",
    "                    dp[i] = dp[i-2] + 2\n",
    "                elif i > dp[i-1] and s[i-1-dp[i-1]] == '(':\n",
    "                    dp[i] = dp[i-1] + 2 + dp[i-2-dp[i-1]]\n",
    "            print(i, dp[i], s[i], s[i-1-dp[i-1]])\n",
    "            maxlen = max(maxlen, dp[i])\n",
    "            \n",
    "        return maxlen\n",
    "    \n",
    "# Solution().longestValidParentheses(')()())')\n",
    "Solution().longestValidParentheses(\"(()))())(\")"
   ]
  },
  {
   "cell_type": "markdown",
   "metadata": {},
   "source": [
    "上面是典型的DP做法。还有更巧妙的办法。\n",
    "\n",
    "其实这个括号结构有点特殊。仔细看会发现，它的模式就是：\n",
    "\n",
    "```\n",
    "expr = '()' |  '(' + expr + ')' | expr + expr\n",
    "```\n",
    "\n",
    "除去最后的 `expr + expr`，  `expr` 总是对称的。\n",
    "\n",
    "一种想法是，从左向右scan一遍， 对 `(` 和 `)` 计数， 如果`)`的数量超过了 `(`的数量，说明不是有效结构，重置计数； 如果 `)` 的数量小于 `(` 的数量，则说明还有一些括号需要不全； 如果二者相等，则说明结构合理。\n",
    "\n",
    "如果 `(` 的数量总是超过 `)`， 从右向左scan一遍，就可以解决问题。\n"
   ]
  },
  {
   "cell_type": "code",
   "execution_count": 13,
   "metadata": {},
   "outputs": [
    {
     "data": {
      "text/plain": [
       "4"
      ]
     },
     "execution_count": 13,
     "metadata": {},
     "output_type": "execute_result"
    }
   ],
   "source": [
    "class Solution:\n",
    "    def longestValidParentheses(self, s):\n",
    "        \"\"\"\n",
    "        :type s: str\n",
    "        :rtype: int\n",
    "        \"\"\"\n",
    "        maxlen = 0\n",
    "        left = right = 0\n",
    "        for c in s:\n",
    "            if c == '(':\n",
    "                left += 1\n",
    "            else:\n",
    "                right += 1\n",
    "            if left == right:\n",
    "                maxlen = max(maxlen, right * 2)\n",
    "            elif right > left:\n",
    "                left = right = 0\n",
    "        left = right = 0\n",
    "        for c in s[::-1]:\n",
    "            if c == '(':\n",
    "                left += 1\n",
    "            else:\n",
    "                right += 1\n",
    "                \n",
    "            if left == right:\n",
    "                maxlen = max(maxlen, right * 2)\n",
    "            elif left > right:\n",
    "                left = right = 0\n",
    "        return maxlen\n",
    "# Solution().longestValidParentheses(')()())')\n",
    "Solution().longestValidParentheses(\"(()))())(\")"
   ]
  },
  {
   "cell_type": "markdown",
   "metadata": {},
   "source": [
    "## 64. Minimum Path Sum\n",
    "\n",
    "Given a m x n grid filled with non-negative numbers, find a path from top left to bottom right which minimizes the sum of all numbers along its path.\n",
    "\n",
    "Note: You can only move either down or right at any point in time.\n",
    "\n",
    "```\n",
    "Example 1:\n",
    "[[1,3,1],\n",
    " [1,5,1],\n",
    " [4,2,1]]\n",
    "Given the above grid map, return 7. Because the path 1→3→1→1→1 minimizes the sum.\n",
    "\n",
    "```\n",
    "\n",
    "典型的DP问题。很简单， `dp[i, j] = min(dp[i-1, j], dp[i, j-1]) + gird[i, j]`\n",
    "\n",
    "算法复杂度 $O(nm)$， 空间复杂度 $O(nm)$。 其实可以只用一行，简化空间复杂度。"
   ]
  },
  {
   "cell_type": "code",
   "execution_count": 19,
   "metadata": {},
   "outputs": [
    {
     "data": {
      "text/plain": [
       "7"
      ]
     },
     "execution_count": 19,
     "metadata": {},
     "output_type": "execute_result"
    }
   ],
   "source": [
    "\n",
    "class Solution:\n",
    "    def minPathSum(self, grid):\n",
    "        \"\"\"\n",
    "        :type grid: List[List[int]]\n",
    "        :rtype: int\n",
    "        \"\"\"\n",
    "        dp = []\n",
    "        s = 0\n",
    "        for x in grid[0]:\n",
    "            s += x\n",
    "            dp.append(s)\n",
    "        # print(dp)    \n",
    "        for i in range(1, len(grid)):\n",
    "            dp[0] += grid[i][0]\n",
    "            for j in range(1, len(dp)):\n",
    "                dp[j] = min(dp[j-1], dp[j]) + grid[i][j]\n",
    "            # print(dp)\n",
    "        return dp[-1]\n",
    "    \n",
    "Solution().minPathSum([[1,3,1], [1, 5, 1], [4, 2, 1]])"
   ]
  },
  {
   "cell_type": "markdown",
   "metadata": {},
   "source": [
    "## 72. Edit Distance\n",
    "\n",
    "Given two words word1 and word2, find the minimum number of steps required to convert word1 to word2. (each operation is counted as 1 step.)\n",
    "\n",
    "You have the following 3 operations permitted on a word:\n",
    "\n",
    "a) Insert a character\n",
    "b) Delete a character\n",
    "c) Replace a character\n",
    "\n",
    "题目大意是 两个字符串， 只允许3种操作，问最少需要多少操作可以将word1 转成word2？\n",
    "\n",
    "也是动态规划问题：令 `dp[i,j]` 是问题 `word1[0:i]` 和 `word2[0:j]` 的解。则：\n",
    "\n",
    "1. `dp[i][0] = i` ，一个空字符串和一个字符串，单纯用插入操作就可以解决。\n",
    "2. `dp[0][j] = j` ，同上。\n",
    "3. 如果`word1[i - 1] = word2[j - 1]`， 则 `dp[i][j] = dp[i - 1][j - 1]`\n",
    "4. 否则 `dp[i][j] = min(dp[i - 1][j - 1] + 1, dp[i - 1][j] + 1, dp[i][j - 1] + 1)`\n",
    "    1. 拆开看就是 替换、插入或者删除 三种情况的最优选择。\n",
    "\n",
    "上面的过程可以对空间进行优化：\n",
    "```\n",
    "(i-1, j-1),  (i-1, j)\n",
    "(i,   j-1),  (i,   j)\n",
    "```\n",
    "可以看出就是一个网格结构。\n",
    "\n",
    "所以跟上个一样，维护一行就行了。 并且还可以选择只维护短的word所代表的行。\n",
    "\n",
    "\n",
    "```\n",
    "prev,   cache\n",
    "dp[j],  dp[j+1]\n",
    "```"
   ]
  },
  {
   "cell_type": "code",
   "execution_count": 31,
   "metadata": {
    "scrolled": true
   },
   "outputs": [
    {
     "data": {
      "text/plain": [
       "0"
      ]
     },
     "execution_count": 31,
     "metadata": {},
     "output_type": "execute_result"
    }
   ],
   "source": [
    "class Solution:\n",
    "    def minDistance(self, word1, word2):\n",
    "        \"\"\"\n",
    "        :type word1: str\n",
    "        :type word2: str\n",
    "        :rtype: int\n",
    "        \"\"\"\n",
    "        n, m = len(word1), len(word2)\n",
    "        if m > n:\n",
    "            n, m, word1, word2 = m, n, word2, word1\n",
    "        if m == 0:\n",
    "            return n\n",
    "        \n",
    "        dp = list(range(m+1))\n",
    "        for i in range(n):\n",
    "            prev = i\n",
    "            dp[0] = i + 1\n",
    "            for j in range(m):\n",
    "                cache = dp[j+1]\n",
    "                if word1[i] == word2[j]:\n",
    "                    dp[j+1] = prev\n",
    "                else:\n",
    "                    dp[j+1] = min(prev, dp[j], cache) + 1\n",
    "                prev = cache\n",
    "                \n",
    "        return dp[m]\n",
    "    \n",
    "# Solution().minDistance('abc', 'efg')\n",
    "Solution().minDistance('a', 'a')\n",
    "        "
   ]
  },
  {
   "cell_type": "markdown",
   "metadata": {},
   "source": [
    "## 87. Scramble String\n",
    "\n",
    "s1 和 s2 是两个字符串\n",
    "\n",
    "如果 s1 的树状表示，在叶节点翻转后组成的字符串表示为 s2，则 s2 是 s1的 scramble。。。\n",
    "\n",
    "也是DP问题。 关键是这个树状结构定义怎么定义。\n",
    "\n",
    "思路非常简单， 一个 `s1, s2` 问题，可以划分成 `4*n` 个子问题： `s1[:i], s2[:i]`和 `s1[i:], s2[i:]`， 或者 `s1[:i], s2[-i:]` 和 `s1[-i:], s2[:i]`。 但是这样递归下去，感觉规模非常庞大。\n",
    "\n",
    "考虑所有索引位置， 大约有 $n^4$ 个子问题。 但是大部分都无效，因为长度不一致。"
   ]
  },
  {
   "cell_type": "code",
   "execution_count": 56,
   "metadata": {},
   "outputs": [
    {
     "data": {
      "text/plain": [
       "False"
      ]
     },
     "execution_count": 56,
     "metadata": {},
     "output_type": "execute_result"
    }
   ],
   "source": [
    "\n",
    "class Solution:\n",
    "    # @return a boolean\n",
    "    def isScramble(self, s1, s2):\n",
    "        n, m = len(s1), len(s2)\n",
    "        if n != m or sorted(s1) != sorted(s2):\n",
    "            return False\n",
    "        if n < 4 or s1 == s2:\n",
    "            return True\n",
    "        f = self.isScramble\n",
    "        for i in range(1, n):\n",
    "            if f(s1[:i], s2[:i]) and f(s1[i:], s2[i:]) or \\\n",
    "               f(s1[:i], s2[-i:]) and f(s1[i:], s2[:-i]):\n",
    "                return True\n",
    "        return False\n",
    "    \n",
    "# Solution().isScramble(\"great\", \"rgeat\")\n",
    "Solution().isScramble(\"abcdefghijklmn\", \"efghijklmncadb\")"
   ]
  },
  {
   "cell_type": "code",
   "execution_count": 58,
   "metadata": {},
   "outputs": [
    {
     "data": {
      "text/plain": [
       "False"
      ]
     },
     "execution_count": 58,
     "metadata": {},
     "output_type": "execute_result"
    }
   ],
   "source": [
    "class Solution:\n",
    "    # @return a boolean\n",
    "    def isScramble(self, s1, s2):\n",
    "        n, m = len(s1), len(s2)\n",
    "        if n != m:\n",
    "            return False\n",
    "        \n",
    "        def dp(ss1, ss2):\n",
    "            # 这是可以节省运行时间的关键：如果字符都不匹配，一定是错误的\n",
    "            if sorted(ss1) != sorted(ss2):\n",
    "                return False\n",
    "            sn = len(ss1)\n",
    "            if sn < 4 or ss1 == ss2:\n",
    "                return True\n",
    "            for i in range(1, sn):\n",
    "                if (dp(ss1[:i], ss2[:i]) and dp(ss1[i:], ss2[i:])) or \\\n",
    "                       (dp(ss1[:i], ss2[-i:]) and dp(ss1[i:], ss2[:-i])):\n",
    "                    return True\n",
    "            return False        \n",
    "        return dp(s1, s2)\n",
    "    \n",
    "# Solution().isScramble(\"abc\", \"bca\")\n",
    "Solution().isScramble(\"abcdefghijklmn\", \"efghijklmncadb\")"
   ]
  },
  {
   "cell_type": "markdown",
   "metadata": {},
   "source": [
    "## 95. Unique Binary Search Trees II\n",
    "\n",
    "构建所有的二分查找树。对于 `1...n`\n",
    "\n",
    "这也是个DP问题。\n",
    "\n",
    "$$ DP(1, n) = \\sum_i{DP(1, i-1) + DP(i+1, n)} $$\n",
    "\n",
    "实际上也是一个DFS 搜索问题。"
   ]
  },
  {
   "cell_type": "code",
   "execution_count": 90,
   "metadata": {},
   "outputs": [
    {
     "name": "stdout",
     "output_type": "stream",
     "text": [
      "[<__main__.TreeNode object at 0x110ab86d8>, <__main__.TreeNode object at 0x110ab8cc0>, <__main__.TreeNode object at 0x110ab86a0>, <__main__.TreeNode object at 0x110ab84e0>, <__main__.TreeNode object at 0x110ab8390>]\n",
      "1,null,2,null,3,null,null,\n",
      "1,null,3,2,null,null,null,\n",
      "2,1,null,null,3,null,null,\n",
      "3,1,null,2,null,null,null,\n",
      "3,2,1,null,null,null,null,\n"
     ]
    }
   ],
   "source": [
    "class Solution(object):\n",
    "    def generateTrees(self, n):\n",
    "        \"\"\"\n",
    "        :type n: int\n",
    "        :rtype: List[TreeNode]\n",
    "        \"\"\"\n",
    "        if n == 0:\n",
    "            return []\n",
    "        return self.dfs(1, n+1)\n",
    "        \n",
    "    def dfs(self, start, end):\n",
    "        if start == end:\n",
    "            return None\n",
    "        result = []\n",
    "        for i in range(start, end):\n",
    "            for l in self.dfs(start, i) or [None]:\n",
    "                for r in self.dfs(i+1, end) or [None]:\n",
    "                    node = TreeNode(i)\n",
    "                    node.left, node.right  = l, r\n",
    "                    result.append(node)\n",
    "        return result\n",
    "    \n",
    "    \n",
    "def print_solution(n):\n",
    "    def print_nodes(node):\n",
    "        if node is None:\n",
    "            print(\"null\", end=',')\n",
    "        else:\n",
    "            print(node.val, end=',')\n",
    "            print_nodes(node.left)\n",
    "            print_nodes(node.right)\n",
    "        \n",
    "    list_trees = Solution().generateTrees(n)\n",
    "    print(list_trees)\n",
    "    for tree in list_trees:\n",
    "        print_nodes(tree)\n",
    "        print()\n",
    "\n",
    "print_solution(3)"
   ]
  },
  {
   "cell_type": "markdown",
   "metadata": {},
   "source": [
    "下面是 generator版本的"
   ]
  },
  {
   "cell_type": "code",
   "execution_count": 93,
   "metadata": {},
   "outputs": [
    {
     "name": "stdout",
     "output_type": "stream",
     "text": [
      "[<__main__.TreeNode object at 0x110b58780>, <__main__.TreeNode object at 0x110b58898>, <__main__.TreeNode object at 0x110b58940>, <__main__.TreeNode object at 0x110b589e8>, <__main__.TreeNode object at 0x110b58a90>]\n",
      "1,null,2,null,3,null,null,\n",
      "1,null,3,2,null,null,null,\n",
      "2,1,null,null,3,null,null,\n",
      "3,1,null,2,null,null,null,\n",
      "3,2,1,null,null,null,null,\n"
     ]
    }
   ],
   "source": [
    "# Definition for a binary tree node.\n",
    "class TreeNode:\n",
    "    def __init__(self, x):\n",
    "        self.val = x\n",
    "        self.left = None\n",
    "        self.right = None\n",
    "    \n",
    "    def __str__(self):\n",
    "        return str(self.val)\n",
    "\n",
    "class Solution(object):\n",
    "    def generateTrees(self, n):\n",
    "        \"\"\"\n",
    "        :type n: int\n",
    "        :rtype: List[TreeNode]\n",
    "        \"\"\"\n",
    "        if n == 0:\n",
    "            return []\n",
    "        \n",
    "        def trees(i, j):\n",
    "            if i > j:\n",
    "                yield None\n",
    "            for k in range(i, j+1):\n",
    "                for left in trees(i, k-1):\n",
    "                    for right in trees(k+1, j):\n",
    "                        node = TreeNode(k)\n",
    "                        node.left, node.right = left, right\n",
    "                        yield node              \n",
    "            \n",
    "        return list(trees(1, n))\n",
    "    \n",
    "# Solution().generateTrees(3)\n",
    "print_solution(3)"
   ]
  },
  {
   "cell_type": "markdown",
   "metadata": {},
   "source": [
    "## 97. Interleaving String\n",
    "\n",
    "交织string：给定 s1, s2, s3， 判断 s3 是否由 s1 和 s2 交织而成\n",
    "\n",
    "例如：\n",
    "```\n",
    "Given:\n",
    "s1 = \"aabcc\",\n",
    "s2 = \"dbbca\",\n",
    "\n",
    "When s3 = \"aadbbcbcac\", return true.\n",
    "When s3 = \"aadbbbaccc\", return false.\n",
    "```\n",
    "\n",
    "一开始有一个简单的想法： 就是从 s3中划掉 s1的字符，剩下的如果和 s2相同，就是交织而成的。其实不对，有个反例：\n",
    "```\n",
    "s1=\"abc\"\n",
    "s2=\"bcd\"\n",
    "s3=\"abcbdc\"\n",
    "```\n",
    "\n",
    "还是老老实实用 DP。\n",
    "\n",
    "DP的思路其实也很简单：令 `DP(i, j)` 表示 `s1[i:]` 、`s2[j:]` 和 `s3[i+j:]`的解\n",
    "\n",
    "- 如果 `s1[i] == s2[j] == s3[i+j]` ， 则 `DP(i, j) = DP(i+1, j) or DP(i, j+1)`\n",
    "- 如果 `s1[i] != s2[j]`， \n",
    "    - 如果 `s3[i+j] == s1[i]`， 则 `DP(i, j) = DP(i+1, j)`\n",
    "    - 如果 `s3[i+j] == s2[j]`， 则 `DP(i, j) = DP(i, j+1)`\n",
    "    - 都不相同， 则 `DP(i, j) = False`\n",
    "    \n",
    "反向的思路：\n",
    "\n",
    "\n",
    "DP的思路其实也很简单：令 `DP(i, j)` 表示 `s1[:i]` 、`s2[:j]` 和 `s3[:i+j]`的解\n",
    "\n",
    "- 如果 `s1[i] == s2[j] == s3[i+j]` ， 则 `DP(i, j) = DP(i-1, j) or DP(i, j-1)`\n",
    "- 如果 `s1[i] != s2[j]`， \n",
    "    - 如果 `s3[i+j] == s1[i]`， 则 `DP(i, j) = DP(i-1, j)`\n",
    "    - 如果 `s3[i+j] == s2[j]`， 则 `DP(i, j) = DP(i, j-1)`\n",
    "    - 都不相同， 则 `DP(i, j) = False`\n",
    "\n",
    "- `DP(i, 0) = s1[:i] == s3[:i]`\n",
    "- `DP(0, j) = s2[:j] == s3[:j]`\n",
    "\n",
    "    \n",
    "注意这也是一个网格样式的DP（正向和反向都一样）\n",
    "\n",
    "```\n",
    "x         (i-1, j)\n",
    "(i, j-1)  (i, j)\n",
    "```\n",
    "\n",
    "\n",
    "这里注意一个大trick：  就是索引的问题： 注意： `a` 和 `b` 可以拼成 `ab`，那么 索引呢？ ， 0, 0，0，永远到不了1。 使用这种索引方式有很大缺陷的： `i in range(n), j in range(m)`，则永远无法判断 s3的最后一个字符。必须用正常索引方式： `i in range(1, n+1), j in range(1, m+1), k = i + j`，实际用在字符串索引时，都减1"
   ]
  },
  {
   "cell_type": "code",
   "execution_count": 125,
   "metadata": {},
   "outputs": [
    {
     "name": "stdout",
     "output_type": "stream",
     "text": [
      "True\n",
      "True\n",
      "False\n",
      "True\n",
      "True\n",
      "True\n"
     ]
    }
   ],
   "source": [
    "class Solution:\n",
    "    def isInterleave(self, s1, s2, s3):\n",
    "        \"\"\"\n",
    "        :type s1: str\n",
    "        :type s2: str\n",
    "        :type s3: str\n",
    "        :rtype: bool\n",
    "        \"\"\"\n",
    "        n, m, l = len(s1), len(s2), len(s3)\n",
    "        if n + m != l:\n",
    "            return False\n",
    "        if m > n:\n",
    "            n, m, s1, s2 = m, n, s2, s1\n",
    "            \n",
    "        if m == 0:\n",
    "            return s1 == s3\n",
    "        \n",
    "        dp = [False] * (m + 1)\n",
    "        for i in range(n+1):\n",
    "            for j in range(m+1):\n",
    "                if (i == 0 and j == 0):\n",
    "                    dp[j] = True\n",
    "                elif (i == 0):\n",
    "                    dp[j] = dp[j-1] and s2[j-1] == s3[j-1]\n",
    "                elif (j == 0):\n",
    "                    dp[j] = dp[j] and s1[i-1] == s3[i-1]\n",
    "                else:\n",
    "                    dp[j] = (dp[j] and s1[i-1] == s3[i+j-1]) or (dp[j-1] and s2[j-1] == s3[i+j-1])\n",
    "        return dp[-1]\n",
    "    \n",
    "print(Solution().isInterleave('abc', 'bcd', 'abcbdc'))\n",
    "print(Solution().isInterleave('aabcc', 'dbbca', 'aadbbcbcac'))\n",
    "print(Solution().isInterleave('aabcc', 'dbbca', 'aadbbbaccc'))\n",
    "print(Solution().isInterleave('', '', ''))\n",
    "print(Solution().isInterleave('a', '', 'a'))\n",
    "print(Solution().isInterleave('a', 'b', 'ab'))\n",
    "                "
   ]
  },
  {
   "cell_type": "markdown",
   "metadata": {},
   "source": [
    "## 115. Distinct Subsequences\n",
    "\n",
    "Given a string S and a string T, count the number of distinct subsequences of S which equals T.\n",
    "\n",
    "A subsequence of a string is a new string which is formed from the original string by deleting some (can be none) of the characters without disturbing the relative positions of the remaining characters. (ie, \"ACE\" is a subsequence of \"ABCDE\" while \"AEC\" is not).\n",
    "\n",
    "Here is an example:\n",
    "```\n",
    "S = \"rabbbit\", T = \"rabbit\"\n",
    "\n",
    "Return 3.\n",
    "```\n",
    "\n",
    "题目大意是 ：  问 S有多少个不同的 子串等于 T。 这里不同意思是截取的位置不同。\n",
    "\n",
    "这里是解法：<https://leetcode.com/problems/distinct-subsequences/discuss/37327/Easy-to-understand-DP-in-Java>\n",
    "\n",
    "不看真不知道，解释的很清楚。是个DP问题。\n",
    "\n",
    "定义 `DP(i, j)` 是 问题 `S[:i]` 和 `T[:j]`的解。\n",
    "\n",
    "- `T == ''`， `DP(i, 0) = 1`，因为空串是任意字符串的子串，且可以认为是唯一。\n",
    "- `T != '', S = ''`, `DP(0, j) = 0`\n",
    "- 首先看 `DP(i+1, j+1)`， 有一部分解 `DP(i+1, j+1)  = DP(i,j+1)`，即 `S[:i]`中包括 `T[:j+1]`的解，如果不考虑其他情况， 如果 `S[:i]` 有若干个 `T[:j+1]`的解。\n",
    "- 如果 `S[i] == T[j]`， 则如果 `S[:i]` 有若干个 `T[:j]`子串， 则需要加上这一部分。 因此 `S[i] == T[j]`时，  `DP(i+1,j+1) = DP(i, j+1) + DP(i, j)`\n",
    "\n",
    "这样看就很清楚：\n",
    "\n",
    "```\n",
    "  S 0123....i\n",
    "T +----------+\n",
    "0 |1111111111|\n",
    "1 |0         |\n",
    "2 |0         |\n",
    ". |0         |\n",
    ". |0         |\n",
    "j |0         |\n",
    "```\n",
    "比如 `s = 'acdbabefbc', t = 'abc'`，则：\n",
    "\n",
    "```\n",
    "   s  =  acdbabefbc\n",
    "'' dp = 11111111111     # 因为 \"\"空字符串是所有字符串的子串，只取1\n",
    "'a'   = 01111222222     # 'a' 出现的时候，开始计数\n",
    "'b'   = 00001           # 'b' 出现第一次，必须前面有 'a'才算第一次。\n",
    "      = 0000113         # 'b' 出现第二次，感觉像个斐波那契问题：这个'b'和前面两个'a' 构成2个子串，在加上前一个'ab'，就是3个\n",
    "      = 00001133355     # 'b' 出现第三次，这个'b' 和前面两个'a' 构成2个子串，再加上前面3个， 就是5个。\n",
    "'c'   = 00_             # 'c' 出现第一次，因为前面没有'ab'，所以不计数\n",
    "      = 00000000005     # 'c' 出现第二次，因为前面有5个'ab'子串，所以，总共有5个。\n",
    "```\n",
    "\n",
    "```\n",
    "   s  =  rabbbbit\n",
    "'' dp = 111111111     # 因为 \"\"空字符串是所有字符串的子串，只取1\n",
    "'r'   = 011111111     # 'r' 出现的时候，开始计数\n",
    "'a'   = 001111111     # \n",
    "'b'   = 000123444     # \n",
    "'b'   = 000013666     # 注意这里，计算的时候用来左上角，而不是正上方。\n",
    "'i'   = 000000066\n",
    "```\n",
    "\n",
    "用行表示：\n",
    "\n",
    "```\n",
    "prev   cache\n",
    "dp[i-1]  dp[i]\n",
    "```\n"
   ]
  },
  {
   "cell_type": "code",
   "execution_count": 140,
   "metadata": {},
   "outputs": [
    {
     "data": {
      "text/plain": [
       "3"
      ]
     },
     "execution_count": 140,
     "metadata": {},
     "output_type": "execute_result"
    }
   ],
   "source": [
    "class Solution:\n",
    "    def numDistinct(self, s, t):\n",
    "        \"\"\"\n",
    "        :type s: str\n",
    "        :type t: str\n",
    "        :rtype: int\n",
    "        \"\"\"\n",
    "        n, m = len(s), len(t)\n",
    "        \n",
    "        dp = [1] * (n+1)\n",
    "        for j in range(m):\n",
    "            prev = dp[0]\n",
    "            dp[0] = 0\n",
    "            for i in range(n):\n",
    "                cache = dp[i+1]\n",
    "                dp[i+1] = dp[i]\n",
    "                if s[i] == t[j]:\n",
    "                    dp[i+1] += prev\n",
    "                prev = cache\n",
    "            # print(dp)\n",
    "        return dp[-1]\n",
    "\n",
    "# Solution().numDistinct('acdbabefbc', 'abc')\n",
    "Solution().numDistinct(\"rabbbit\", \"rabbit\")"
   ]
  },
  {
   "cell_type": "markdown",
   "metadata": {},
   "source": [
    "##  120. Triangle\n",
    "\n",
    "Given a triangle, find the minimum path sum from top to bottom. Each step you may move to adjacent numbers on the row below.\n",
    "\n",
    "For example, given the following triangle\n",
    "```\n",
    "[\n",
    "     [2],\n",
    "    [3,4],\n",
    "   [6,5,7],\n",
    "  [4,1,8,3]\n",
    "]\n",
    "The minimum path sum from top to bottom is 11 (i.e., 2 + 3 + 5 + 1 = 11).\n",
    "```\n",
    "\n",
    "简单的DP问题。\n",
    "\n",
    "令 `DP(i, j)` 为第 `i`行，第`j`位置的最优解，有：\n",
    "\n",
    "- `DP(i+1, j) = min(DP(i, j-1), DP(i, j)) + num(i+1, j)`\n",
    "\n",
    "还可以反过来想，看看对不对：\n",
    "\n",
    "- `DP(i, j) = min(DP(i+1, j), DP(i+1, j+1)) + num(i, j)`\n",
    "\n",
    "居然是对的，哈哈"
   ]
  },
  {
   "cell_type": "code",
   "execution_count": 150,
   "metadata": {},
   "outputs": [
    {
     "data": {
      "text/plain": [
       "11"
      ]
     },
     "execution_count": 150,
     "metadata": {},
     "output_type": "execute_result"
    }
   ],
   "source": [
    "\n",
    "class Solution:\n",
    "    def minimumTotal(self, triangle):\n",
    "        \"\"\"\n",
    "        :type triangle: List[List[int]]\n",
    "        :rtype: int\n",
    "        \"\"\"\n",
    "        dp = triangle[-1]\n",
    "        for i in range(len(triangle)-2, -1, -1):\n",
    "            for j in range(i+1):\n",
    "                dp[j] = min(dp[j], dp[j+1]) + triangle[i][j]\n",
    "        \n",
    "        return dp[0]\n",
    "    \n",
    "Solution().minimumTotal([[2],[3,4],[6,5,7],[4,1,8,3]])"
   ]
  },
  {
   "cell_type": "markdown",
   "metadata": {},
   "source": [
    "## 53. Maximum Subarray\n",
    "\n",
    "Find the contiguous subarray within an array (containing at least one number) which has the largest sum.\n",
    "\n",
    "```\n",
    "For example, given the array [-2,1,-3,4,-1,2,1,-5,4],\n",
    "the contiguous subarray [4,-1,2,1] has the largest sum = 6.\n",
    "```\n",
    "\n",
    "典型的DP问题。但是最优解的子结构比较难找。\n",
    "\n",
    "定义  `DP(i)` 是 `A[:i]` 问题的最优解，但是注意这里问题不再是找到子数组， 而是带有 `A[i-1]`的连续数值的子数组的和的最大值， `i in range(1, len(A)+1)`。  换句话说，对于 `A[:i]`，我只要找到 `A[i-1]`之前累积的最大和就可以了。\n",
    "\n",
    "对于这样的问题，DP方法就很简单了：\n",
    "- 如果 `DP(i) > 0`， `DP(i+1) = DP(i) + A[i]`， 如果前一段的和的最大值大于0， 那么继续累积好了。\n",
    "- 否则： `DP(i+1) = A[i]`。 否则，就重新从 `A[i]`开始。\n"
   ]
  },
  {
   "cell_type": "code",
   "execution_count": 154,
   "metadata": {},
   "outputs": [
    {
     "data": {
      "text/plain": [
       "6"
      ]
     },
     "execution_count": 154,
     "metadata": {},
     "output_type": "execute_result"
    }
   ],
   "source": [
    "class Solution:\n",
    "    def maxSubArray(self, nums):\n",
    "        \"\"\"\n",
    "        :type nums: List[int]\n",
    "        :rtype: int\n",
    "        \"\"\"\n",
    "        maxsum = s = nums[0]\n",
    "        for n in nums[1:]:\n",
    "            if s > 0:\n",
    "                s += n\n",
    "            else:\n",
    "                s = n\n",
    "            maxsum = max(s, maxsum)\n",
    "        return maxsum\n",
    "    \n",
    "Solution().maxSubArray([-2,1,-3,4,-1,2,1,-5,4])"
   ]
  },
  {
   "cell_type": "markdown",
   "metadata": {},
   "source": [
    "## 152. Maximum Product Subarray\n",
    "\n",
    "Find the contiguous subarray within an array (containing at least one number) which has the largest product.\n",
    "\n",
    "```\n",
    "For example, given the array [2,3,-2,4],\n",
    "the contiguous subarray [2,3] has the largest product = 6.\n",
    "```\n",
    "\n",
    "DP问题的定义跟上面很相似。但是乘积比求和，要复杂一点。\n",
    "\n",
    "令 `DP(i)` 是 `A[:i]`问题的最优解，以 `A[i-1]`结尾的连续子数组的最大乘积。在计算 `DP(i+1)`的时候，有个小问题： 如果 `A[i] > 0, DP(i) > 0` 是正的，继续乘可以增大最大值； 但如果 `DP(i) < 0`，继续乘会减小值：还不如 `A[i]`本身； 如果`A[i] < 0`，则需要最负的 `DP(i)`，而不是最正的，这样才能得到最大值。\n",
    "\n",
    "所以，`DP(i)` 需要记录两个值： 最大值和最小值（pmax和pmin， `pmax >= pmin`）。 遇到正数： `A[i] * pmax > A[i] * pmin`，遇到负数： `A[i] * pmax < A[i] * pmin`。 另外，还要将结果与 `A[i]`比较，如果都不如 `A[i]`，还要用`A[i]`替换掉。\n",
    "\n",
    "代码如下：\n"
   ]
  },
  {
   "cell_type": "code",
   "execution_count": 155,
   "metadata": {},
   "outputs": [
    {
     "data": {
      "text/plain": [
       "-2"
      ]
     },
     "execution_count": 155,
     "metadata": {},
     "output_type": "execute_result"
    }
   ],
   "source": [
    "class Solution:\n",
    "    def maxProduct(self, nums):\n",
    "        \"\"\"\n",
    "        :type nums: List[int]\n",
    "        :rtype: int\n",
    "        \"\"\"\n",
    "        result = pmax = pmin = p = nums[0]\n",
    "        for n in nums[1:]:\n",
    "            if n < 0:\n",
    "                pmax, pmin = pmin, pmax\n",
    "            pmax = max(n, n * pmax)\n",
    "            pmin = min(n, n * pmin)\n",
    "            result = max(result, pmax)\n",
    "        return result\n",
    "\n",
    "Solution().maxProduct([-2])\n",
    "            "
   ]
  },
  {
   "cell_type": "markdown",
   "metadata": {},
   "source": [
    "如果不考虑正负号什么乱七八糟的东西，简单粗暴\n",
    "\n",
    "会稍微慢一点点。"
   ]
  },
  {
   "cell_type": "code",
   "execution_count": 156,
   "metadata": {},
   "outputs": [],
   "source": [
    "class Solution:\n",
    "    def maxProduct(self, nums):\n",
    "        \"\"\"\n",
    "        :type nums: List[int]\n",
    "        :rtype: int\n",
    "        \"\"\"\n",
    "        result = pmax = pmin = p = nums[0]\n",
    "        for n in nums[1:]:\n",
    "            r = (n, n * pmin, n * pmax)\n",
    "            pmax = max(r)\n",
    "            pmin = min(r)\n",
    "            result = max(result, pmax)\n",
    "        return result"
   ]
  },
  {
   "cell_type": "markdown",
   "metadata": {},
   "source": [
    "## 198. House Robber\n",
    "\n",
    "You are a professional robber planning to rob houses along a street. Each house has a certain amount of money stashed, the only constraint stopping you from robbing each of them is that adjacent houses have security system connected and it will automatically contact the police if two adjacent houses were broken into on the same night.\n",
    "\n",
    "Given a list of non-negative integers representing the amount of money of each house, determine the maximum amount of money you can rob tonight without alerting the police.\n",
    "\n",
    "题目大意是： 有一排商店，里面有现金（非负）。唯一的限制是如果抢了连续两个商店，会自动报警。 问：如果计划抢劫，获取最多的现金？\n",
    "\n",
    "一开始我以为跟 Maximum Subarray 一样，求最大和的问题。后来想，这也太简单了，奇偶分别求和，取最大值不就完了？ 后来发现，事情没那么简单。比如 `[3, 2, 1, 2]`， 这样做的结果是 4，实际上，取头尾两个值，是5。\n",
    "\n",
    "其实本质上仍然是DP问题。 也很简单，限制相邻条件就可以了。\n",
    "\n",
    "定义 `DP(i)` 是问题 `A[:i]`的解。 那么求 `DP(i+1)` 的时候， 看 `A[i]`，这里包括两个解： 包括 `A[i]`的解，和不包括 `A[i]`的解。 包括 `A[i]`的解，要求 `DP(i)`的不包括 `A[i-1]`的解； 不包括 `A[i]`的解， 则 等于 `DP(i)`。\n",
    "\n",
    "所以 `DP(i)` 需要记录两个解，包括 `A[i-1]`的解，和不包括 `A[i-1]`的解。最终取一个最大值即可。\n",
    "\n",
    "- `DP(i+1, inclue A[i]) = max(DP(i, not inclue A[i-1]) + A[i], DP(i, inclue A[i-1])`\n",
    "- `DP(i+1, not include A[i]) =  DP(i, inclue A[i-1])`\n",
    "\n"
   ]
  },
  {
   "cell_type": "code",
   "execution_count": 162,
   "metadata": {},
   "outputs": [
    {
     "data": {
      "text/plain": [
       "5"
      ]
     },
     "execution_count": 162,
     "metadata": {},
     "output_type": "execute_result"
    }
   ],
   "source": [
    "class Solution:\n",
    "    def rob(self, nums):\n",
    "        \"\"\"\n",
    "        :type nums: List[int]\n",
    "        :rtype: int\n",
    "        \"\"\"\n",
    "        a = b = 0\n",
    "        for n in nums:\n",
    "            a, b = max(b + n, a), a\n",
    "        return max(a, b)\n",
    "    \n",
    "Solution().rob([3, 2, 1, 2])"
   ]
  },
  {
   "cell_type": "markdown",
   "metadata": {},
   "source": [
    "## 213. House Robber II\n",
    "\n",
    "Note: This is an extension of House Robber.\n",
    "\n",
    "After robbing those houses on that street, the thief has found himself a new place for his thievery so that he will not get too much attention. This time, all houses at this place are arranged in a circle. That means the first house is the neighbor of the last one. Meanwhile, the security system for these houses remain the same as for those in the previous street.\n",
    "\n",
    "Given a list of non-negative integers representing the amount of money of each house, determine the maximum amount of money you can rob tonight without alerting the police.\n",
    "\n",
    "上一个问题的扩展。 现在不是一排房子了，而是首尾连成环。。仍然满足抢劫相邻房间就会报警的条件。\n",
    "\n",
    "\n",
    "乍一看很棘手。其实解决问题思路比较巧妙（看讨论区的）\n",
    "\n",
    "`A[0]` 和 `A[-1]` 肯定不能同时出现在最优解里了。 所以问题可以变成： `A[:-1]` 和 `A[1:]`的问题。 结果是二者的最大值。仅此而已。"
   ]
  },
  {
   "cell_type": "code",
   "execution_count": 165,
   "metadata": {},
   "outputs": [
    {
     "data": {
      "text/plain": [
       "4"
      ]
     },
     "execution_count": 165,
     "metadata": {},
     "output_type": "execute_result"
    }
   ],
   "source": [
    "class Solution:\n",
    "    def rob(self, nums):\n",
    "        \"\"\"\n",
    "        :type nums: List[int]\n",
    "        :rtype: int\n",
    "        \"\"\"\n",
    "        if len(nums) == 1:\n",
    "            return nums[0]\n",
    "        def _rob(A):\n",
    "            a = b = 0\n",
    "            for n in A:\n",
    "                a, b = max(b + n, a), a\n",
    "            return max(a, b)\n",
    "        \n",
    "        return max(_rob(nums[1:]), _rob(nums[:-1]))\n",
    "    \n",
    "Solution().rob([3, 2, 1, 2])"
   ]
  },
  {
   "cell_type": "markdown",
   "metadata": {},
   "source": [
    "## 279. Perfect Squares\n",
    "\n",
    "Given a positive integer n, find the least number of perfect square numbers (for example, 1, 4, 9, 16, ...) which sum to n.\n",
    "\n",
    "For example, given n = 12, return 3 because 12 = 4 + 4 + 4; given n = 13, return 2 because 13 = 4 + 9.\n",
    "\n",
    "\n",
    "如果定义成DP问题，实际上也很简单 `DP(n) = min(DP(i) + DP(n-i))`， 其中 $i \\in [1, n // 2]$\n",
    "\n",
    "再仔细想一下，可以更简化： 因为 `n` 的分解至少包括一个完全平方数，所以 `DP(n) = min(DP(n-i*i)) + 1`， 其中 $i \\in [1, sqrt(n)]$\n",
    "\n",
    "另外对于 完全平方数， `DP(n) = 1`\n",
    "\n",
    "这样的计算复杂度是 $O(n \\sqrt{n})$，其实挺差的\n",
    "\n",
    "这个问题有很多解法，参考 <https://leetcode.com/problems/perfect-squares/discuss/71488/Summary-of-4-different-solutions-(BFS-DP-static-DP-and-mathematics)> 甚至还可以数值求解\n",
    "\n"
   ]
  },
  {
   "cell_type": "code",
   "execution_count": 180,
   "metadata": {},
   "outputs": [
    {
     "data": {
      "text/plain": [
       "2"
      ]
     },
     "execution_count": 180,
     "metadata": {},
     "output_type": "execute_result"
    }
   ],
   "source": [
    "## 超时了。\n",
    "\n",
    "class Solution:\n",
    "    def numSquares(self, n):\n",
    "        \"\"\"\n",
    "        :type n: int\n",
    "        :rtype: int\n",
    "        \"\"\"\n",
    "        dp = [0] * (n + 1)\n",
    "        for i in range(1, n+1):\n",
    "            dp[i] = dp[i-1] + 1\n",
    "            j = 2\n",
    "            while j * j <= i:\n",
    "                dp[i] = min(dp[i - j*j] + 1, dp[i])\n",
    "                j += 1  \n",
    "        return dp[n]\n",
    "\n",
    "Solution().numSquares(12)\n",
    "Solution().numSquares(5)"
   ]
  },
  {
   "cell_type": "code",
   "execution_count": 188,
   "metadata": {},
   "outputs": [
    {
     "data": {
      "text/plain": [
       "2"
      ]
     },
     "execution_count": 188,
     "metadata": {},
     "output_type": "execute_result"
    }
   ],
   "source": [
    "# 使用缓存，哈哈\n",
    "\n",
    "class Solution:\n",
    "    _dp = [0, 1, 2, 3, 1]\n",
    "    def numSquares(self, n):\n",
    "        \"\"\"\n",
    "        :type n: int\n",
    "        :rtype: int\n",
    "        \"\"\"\n",
    "        dp = self._dp\n",
    "        while len(dp) <= n:\n",
    "            dp.append(min(dp[-i*i] for i in range(1, int(len(dp)**0.5+1))) + 1)\n",
    "        return dp[n]\n",
    "    \n",
    "\n",
    "Solution().numSquares(12)\n",
    "Solution().numSquares(5)   "
   ]
  },
  {
   "cell_type": "code",
   "execution_count": 185,
   "metadata": {},
   "outputs": [
    {
     "data": {
      "text/plain": [
       "2"
      ]
     },
     "execution_count": 185,
     "metadata": {},
     "output_type": "execute_result"
    }
   ],
   "source": [
    "# 数直解法，没看懂 \n",
    "\n",
    "\n",
    "class Solution:\n",
    "    def numSquares(self, n):\n",
    "        \"\"\"\n",
    "        :type n: int\n",
    "        :rtype: int\n",
    "        \"\"\"\n",
    "        import math\n",
    "        def is_square(_n):\n",
    "            sqrt = int(math.sqrt(_n))\n",
    "            return sqrt * sqrt == _n\n",
    "        \n",
    "        # 1\n",
    "        if is_square(n):\n",
    "            return 1\n",
    "        # 4\n",
    "        while n & 3 == 0:\n",
    "            n = n >> 2\n",
    "        if n & 7 == 7:\n",
    "            return 4\n",
    "        \n",
    "        # 2\n",
    "        sqrt_n = int(math.sqrt(n))\n",
    "        for i in range(sqrt_n + 1):\n",
    "            if (is_square(n - i * i)):\n",
    "                return 2\n",
    "        \n",
    "        return 3;        \n",
    "\n",
    "Solution().numSquares(12)\n",
    "Solution().numSquares(5)"
   ]
  },
  {
   "cell_type": "code",
   "execution_count": 184,
   "metadata": {},
   "outputs": [
    {
     "data": {
      "text/plain": [
       "1"
      ]
     },
     "execution_count": 184,
     "metadata": {},
     "output_type": "execute_result"
    }
   ],
   "source": [
    "5 & 3"
   ]
  },
  {
   "cell_type": "markdown",
   "metadata": {},
   "source": [
    "## 300. Longest Increasing Subsequence\n",
    "\n",
    "最长递增序列\n",
    "\n",
    "给定一个数组序列， 找出其中最长的单调递增子序列\n",
    "\n",
    "Given an unsorted array of integers, find the length of longest increasing subsequence.\n",
    "\n",
    "For example,\n",
    "Given [10, 9, 2, 5, 3, 7, 101, 18],\n",
    "The longest increasing subsequence is [2, 3, 7, 101], therefore the length is 4. Note that there may be more than one LIS combination, it is only necessary for you to return the length.\n",
    "\n",
    "Your algorithm should run in O(n2) complexity.\n",
    "\n",
    "Follow up: Could you improve it to O(n log n) time complexity?\n",
    "\n",
    "\n",
    "也是典型的 DP问题。不过稍微复杂一点。\n",
    "\n",
    "定义 `DP(i)` 为  `A[:i+1]` 问题的解。则 `DP(i)`默认为1，看 `A[i]`，如果 `A[i]` 比 `A[j]` 大， 则 `DP(i) = DP(j) + 1`，其中 `j < i`。 所以 `DP(i) = max(DP(j) + 1  for j in range(i)`\n",
    "\n",
    "这种方法的计算时间为 $O(n^2)$"
   ]
  },
  {
   "cell_type": "code",
   "execution_count": 213,
   "metadata": {},
   "outputs": [
    {
     "data": {
      "text/plain": [
       "6"
      ]
     },
     "execution_count": 213,
     "metadata": {},
     "output_type": "execute_result"
    }
   ],
   "source": [
    "class Solution:\n",
    "    def lengthOfLIS(self, nums):\n",
    "        \"\"\"\n",
    "        :type nums: List[int]\n",
    "        :rtype: int\n",
    "        \"\"\"\n",
    "        if len(nums) == 0:\n",
    "            return 0\n",
    "        dp = [0] * len(nums)\n",
    "        for i in range(len(nums)):\n",
    "            dp[i] = 1\n",
    "            for j in range(i):\n",
    "                if nums[i] > nums[j]:\n",
    "                    dp[i] = max(dp[j] + 1, dp[i])\n",
    "            # print(dp)\n",
    "        return max(dp)\n",
    "\n",
    "# Solution().lengthOfLIS([10, 9, 2, 5, 3, 7, 101, 18])\n",
    "Solution().lengthOfLIS([1,3,6,7,9,4,10,5,6])"
   ]
  },
  {
   "cell_type": "markdown",
   "metadata": {},
   "source": [
    "\n",
    "有 $O(n \\log n)$ 的解法， DP问题的定义并不一样，而且很难想。。。并且很难定义。\n",
    "\n",
    "定义 `DP(i)` 为 `A[:i+1]` 数组中的元素组成的一个递增的序列。这个序列的长度是问题的最优解（但是本身可能并不是符合条件的递增子序列）。\n",
    "\n",
    "对于 `A[i]`，如果 `A[i] >= DP(i-1)[-1]`，则 `DP(i) = DP(i-1) append A[i]`\n",
    "\n",
    "否则，用二分查找法，在 `DP(i-1)` 中找到位置 j， 使得 `DP(i-1)[j-1] <= A[i] < DP(i-1)[j]`，将 `DP(i-1)[j]` 替换成 `A[i]` 即可。\n"
   ]
  },
  {
   "cell_type": "code",
   "execution_count": 220,
   "metadata": {},
   "outputs": [
    {
     "data": {
      "text/plain": [
       "2"
      ]
     },
     "execution_count": 220,
     "metadata": {},
     "output_type": "execute_result"
    }
   ],
   "source": [
    "class Solution:\n",
    "    def lengthOfLIS(self, nums):\n",
    "        \"\"\"\n",
    "        :type nums: List[int]\n",
    "        :rtype: int\n",
    "        \"\"\"\n",
    "        if len(nums) == 0:\n",
    "            return 0\n",
    "        dp = [nums[0]]\n",
    "        # print(nums)\n",
    "        for n in nums[1:]:\n",
    "            i, j = 0, len(dp)\n",
    "            while i < j:\n",
    "                c = (i + j) // 2\n",
    "                if n < dp[c]:\n",
    "                    j = c\n",
    "                else:\n",
    "                    i = c + 1\n",
    "            if i == len(dp):\n",
    "                dp.append(n)\n",
    "            else:\n",
    "                dp[i] = n                \n",
    "            # print(dp)\n",
    "        return len(dp)\n",
    "    \n",
    "# Solution().lengthOfLIS([1,3,6,7,9,4,10,5,6])\n",
    "Solution().lengthOfLIS([2, 2])"
   ]
  },
  {
   "cell_type": "code",
   "execution_count": null,
   "metadata": {},
   "outputs": [],
   "source": [
    "\n",
    "上面是 递增。如果要求严格递增（题目要求），则有些改变\n",
    "\n",
    "定义 `DP(i)` 为 `A[:i+1]` 数组中的元素组成的一个严格递增的序列。这个序列的长度是问题的最优解（但是本身可能并不是符合条件的递增子序列）。\n",
    "\n",
    "\n",
    "用二分查找法，在 `DP(i-1)` 中找到位置 j， 使得 `DP(i-1)[j-1] < A[i] <= DP(i-1)[j]`，将 `DP(i-1)[j]` 替换成 `A[i]` 即可。"
   ]
  },
  {
   "cell_type": "code",
   "execution_count": 222,
   "metadata": {},
   "outputs": [
    {
     "data": {
      "text/plain": [
       "6"
      ]
     },
     "execution_count": 222,
     "metadata": {},
     "output_type": "execute_result"
    }
   ],
   "source": [
    "class Solution:\n",
    "    def lengthOfLIS(self, nums):\n",
    "        \"\"\"\n",
    "        :type nums: List[int]\n",
    "        :rtype: int\n",
    "        \"\"\"\n",
    "        if len(nums) == 0:\n",
    "            return 0\n",
    "        dp = [nums[0]]\n",
    "        # print(nums)\n",
    "        for n in nums[1:]:\n",
    "            i, j = 0, len(dp)\n",
    "            while i < j:\n",
    "                c = (i + j) // 2\n",
    "                if n <= dp[c]:\n",
    "                    j = c\n",
    "                else:\n",
    "                    i = c + 1\n",
    "            if i == len(dp):\n",
    "                dp.append(n)\n",
    "            else:\n",
    "                dp[i] = n                \n",
    "            # print(dp)\n",
    "        return len(dp)\n",
    "    \n",
    "Solution().lengthOfLIS([1,3,6,7,9,4,10,5,6])\n",
    "# Solution().lengthOfLIS([2, 2])"
   ]
  }
 ],
 "metadata": {
  "kernelspec": {
   "display_name": "Python 3",
   "language": "python",
   "name": "python3"
  },
  "language_info": {
   "codemirror_mode": {
    "name": "ipython",
    "version": 3
   },
   "file_extension": ".py",
   "mimetype": "text/x-python",
   "name": "python",
   "nbconvert_exporter": "python",
   "pygments_lexer": "ipython3",
   "version": "3.6.2"
  },
  "toc": {
   "base_numbering": 1,
   "nav_menu": {},
   "number_sections": true,
   "sideBar": true,
   "skip_h1_title": false,
   "title_cell": "Table of Contents",
   "title_sidebar": "Contents",
   "toc_cell": false,
   "toc_position": {
    "height": "calc(100% - 180px)",
    "left": "10px",
    "top": "150px",
    "width": "384px"
   },
   "toc_section_display": true,
   "toc_window_display": true
  },
  "varInspector": {
   "cols": {
    "lenName": 16,
    "lenType": 16,
    "lenVar": 40
   },
   "kernels_config": {
    "python": {
     "delete_cmd_postfix": "",
     "delete_cmd_prefix": "del ",
     "library": "var_list.py",
     "varRefreshCmd": "print(var_dic_list())"
    },
    "r": {
     "delete_cmd_postfix": ") ",
     "delete_cmd_prefix": "rm(",
     "library": "var_list.r",
     "varRefreshCmd": "cat(var_dic_list()) "
    }
   },
   "types_to_exclude": [
    "module",
    "function",
    "builtin_function_or_method",
    "instance",
    "_Feature"
   ],
   "window_display": false
  }
 },
 "nbformat": 4,
 "nbformat_minor": 2
}
