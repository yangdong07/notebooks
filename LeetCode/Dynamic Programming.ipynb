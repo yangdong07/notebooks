{
 "cells": [
  {
   "cell_type": "markdown",
   "metadata": {},
   "source": [
    "## 32. Longest Valid Parentheses\n",
    "\n",
    "\n",
    "Given a string containing just the characters `'('` and `')'`, find the length of the longest valid (well-formed) parentheses substring.\n",
    "\n",
    "For `\"(()\"`, the longest valid parentheses substring is `\"()\"`, which has length = 2.\n",
    "\n",
    "Another example is `\")()())\"`, where the longest valid parentheses substring is `\"()()\"`, which has length = 4.\n",
    "\n",
    "\n",
    "DP问题：\n",
    "\n",
    "定义 `dp(i)` 为 i 位置的最长括号结构的 长度（最优解）， 在最优解满足一下条件：\n",
    "\n",
    "- `s(i) == '('` , `dp(i) = 0`\n",
    "- `s(i) == ')'`\n",
    "    - `s(i-1) == '('`,  `dp(i) = dp(i-2) + 2`\n",
    "    - `s(i-1) == ')'`\n",
    "        - `s(i-1-dp(i-1)) == '('`, `dp(i) = dp(i-1) + 2 + dp(i-2-dp(i-1))`\n",
    "        - `s(i-1-dp(i-1)) == ')'`, `dp(i) = 0`\n",
    "        \n",
    "\n"
   ]
  },
  {
   "cell_type": "code",
   "execution_count": 11,
   "metadata": {},
   "outputs": [
    {
     "name": "stdout",
     "output_type": "stream",
     "text": [
      "1 0 ( (\n",
      "2 2 ) (\n",
      "3 4 ) (\n",
      "4 0 ) (\n",
      "5 0 ( )\n",
      "6 2 ) (\n",
      "7 0 ) )\n",
      "8 0 ( )\n"
     ]
    },
    {
     "data": {
      "text/plain": [
       "4"
      ]
     },
     "execution_count": 11,
     "metadata": {},
     "output_type": "execute_result"
    }
   ],
   "source": [
    "class Solution:\n",
    "    def longestValidParentheses(self, s):\n",
    "        \"\"\"\n",
    "        :type s: str\n",
    "        :rtype: int\n",
    "        \"\"\"\n",
    "        dp = [0] * len(s)\n",
    "        maxlen = 0\n",
    "        for i in range(1, len(s)):\n",
    "            if s[i] == ')':\n",
    "                if s[i-1] == '(':\n",
    "                    dp[i] = dp[i-2] + 2\n",
    "                elif i > dp[i-1] and s[i-1-dp[i-1]] == '(':\n",
    "                    dp[i] = dp[i-1] + 2 + dp[i-2-dp[i-1]]\n",
    "            print(i, dp[i], s[i], s[i-1-dp[i-1]])\n",
    "            maxlen = max(maxlen, dp[i])\n",
    "            \n",
    "        return maxlen\n",
    "    \n",
    "# Solution().longestValidParentheses(')()())')\n",
    "Solution().longestValidParentheses(\"(()))())(\")"
   ]
  },
  {
   "cell_type": "markdown",
   "metadata": {},
   "source": [
    "上面是典型的DP做法。还有更巧妙的办法。\n",
    "\n",
    "其实这个括号结构有点特殊。仔细看会发现，它的模式就是：\n",
    "\n",
    "```\n",
    "expr = '()' |  '(' + expr + ')' | expr + expr\n",
    "```\n",
    "\n",
    "除去最后的 `expr + expr`，  `expr` 总是对称的。\n",
    "\n",
    "一种想法是，从左向右scan一遍， 对 `(` 和 `)` 计数， 如果`)`的数量超过了 `(`的数量，说明不是有效结构，重置计数； 如果 `)` 的数量小于 `(` 的数量，则说明还有一些括号需要不全； 如果二者相等，则说明结构合理。\n",
    "\n",
    "如果 `(` 的数量总是超过 `)`， 从右向左scan一遍，就可以解决问题。\n"
   ]
  },
  {
   "cell_type": "code",
   "execution_count": 13,
   "metadata": {},
   "outputs": [
    {
     "data": {
      "text/plain": [
       "4"
      ]
     },
     "execution_count": 13,
     "metadata": {},
     "output_type": "execute_result"
    }
   ],
   "source": [
    "class Solution:\n",
    "    def longestValidParentheses(self, s):\n",
    "        \"\"\"\n",
    "        :type s: str\n",
    "        :rtype: int\n",
    "        \"\"\"\n",
    "        maxlen = 0\n",
    "        left = right = 0\n",
    "        for c in s:\n",
    "            if c == '(':\n",
    "                left += 1\n",
    "            else:\n",
    "                right += 1\n",
    "            if left == right:\n",
    "                maxlen = max(maxlen, right * 2)\n",
    "            elif right > left:\n",
    "                left = right = 0\n",
    "        left = right = 0\n",
    "        for c in s[::-1]:\n",
    "            if c == '(':\n",
    "                left += 1\n",
    "            else:\n",
    "                right += 1\n",
    "                \n",
    "            if left == right:\n",
    "                maxlen = max(maxlen, right * 2)\n",
    "            elif left > right:\n",
    "                left = right = 0\n",
    "        return maxlen\n",
    "# Solution().longestValidParentheses(')()())')\n",
    "Solution().longestValidParentheses(\"(()))())(\")"
   ]
  },
  {
   "cell_type": "markdown",
   "metadata": {},
   "source": [
    "## 64. Minimum Path Sum\n",
    "\n",
    "Given a m x n grid filled with non-negative numbers, find a path from top left to bottom right which minimizes the sum of all numbers along its path.\n",
    "\n",
    "Note: You can only move either down or right at any point in time.\n",
    "\n",
    "```\n",
    "Example 1:\n",
    "[[1,3,1],\n",
    " [1,5,1],\n",
    " [4,2,1]]\n",
    "Given the above grid map, return 7. Because the path 1→3→1→1→1 minimizes the sum.\n",
    "\n",
    "```\n",
    "\n",
    "典型的DP问题。很简单， `dp[i, j] = min(dp[i-1, j], dp[i, j-1]) + gird[i, j]`\n",
    "\n",
    "算法复杂度 $O(nm)$， 空间复杂度 $O(nm)$。 其实可以只用一行，简化空间复杂度。"
   ]
  },
  {
   "cell_type": "code",
   "execution_count": 19,
   "metadata": {},
   "outputs": [
    {
     "data": {
      "text/plain": [
       "7"
      ]
     },
     "execution_count": 19,
     "metadata": {},
     "output_type": "execute_result"
    }
   ],
   "source": [
    "\n",
    "class Solution:\n",
    "    def minPathSum(self, grid):\n",
    "        \"\"\"\n",
    "        :type grid: List[List[int]]\n",
    "        :rtype: int\n",
    "        \"\"\"\n",
    "        dp = []\n",
    "        s = 0\n",
    "        for x in grid[0]:\n",
    "            s += x\n",
    "            dp.append(s)\n",
    "        # print(dp)    \n",
    "        for i in range(1, len(grid)):\n",
    "            dp[0] += grid[i][0]\n",
    "            for j in range(1, len(dp)):\n",
    "                dp[j] = min(dp[j-1], dp[j]) + grid[i][j]\n",
    "            # print(dp)\n",
    "        return dp[-1]\n",
    "    \n",
    "Solution().minPathSum([[1,3,1], [1, 5, 1], [4, 2, 1]])"
   ]
  },
  {
   "cell_type": "markdown",
   "metadata": {},
   "source": [
    "## 72. Edit Distance\n",
    "\n",
    "Given two words word1 and word2, find the minimum number of steps required to convert word1 to word2. (each operation is counted as 1 step.)\n",
    "\n",
    "You have the following 3 operations permitted on a word:\n",
    "\n",
    "a) Insert a character\n",
    "b) Delete a character\n",
    "c) Replace a character\n",
    "\n",
    "题目大意是 两个字符串， 只允许3种操作，问最少需要多少操作可以将word1 转成word2？\n",
    "\n",
    "也是动态规划问题：令 `dp[i,j]` 是问题 `word1[0:i]` 和 `word2[0:j]` 的解。则：\n",
    "\n",
    "1. `dp[i][0] = i` ，一个空字符串和一个字符串，单纯用插入操作就可以解决。\n",
    "2. `dp[0][j] = j` ，同上。\n",
    "3. 如果`word1[i - 1] = word2[j - 1]`， 则 `dp[i][j] = dp[i - 1][j - 1]`\n",
    "4. 否则 `dp[i][j] = min(dp[i - 1][j - 1] + 1, dp[i - 1][j] + 1, dp[i][j - 1] + 1)`\n",
    "    1. 拆开看就是 替换、插入或者删除 三种情况的最优选择。\n",
    "\n",
    "上面的过程可以对空间进行优化：\n",
    "```\n",
    "(i-1, j-1),  (i-1, j)\n",
    "(i,   j-1),  (i,   j)\n",
    "```\n",
    "可以看出就是一个网格结构。\n",
    "\n",
    "所以跟上个一样，维护一行就行了。 并且还可以选择只维护短的word所代表的行。\n",
    "\n",
    "\n",
    "```\n",
    "prev,   cache\n",
    "dp[j],  dp[j+1]\n",
    "```"
   ]
  },
  {
   "cell_type": "code",
   "execution_count": 31,
   "metadata": {
    "scrolled": true
   },
   "outputs": [
    {
     "data": {
      "text/plain": [
       "0"
      ]
     },
     "execution_count": 31,
     "metadata": {},
     "output_type": "execute_result"
    }
   ],
   "source": [
    "class Solution:\n",
    "    def minDistance(self, word1, word2):\n",
    "        \"\"\"\n",
    "        :type word1: str\n",
    "        :type word2: str\n",
    "        :rtype: int\n",
    "        \"\"\"\n",
    "        n, m = len(word1), len(word2)\n",
    "        if m > n:\n",
    "            n, m, word1, word2 = m, n, word2, word1\n",
    "        if m == 0:\n",
    "            return n\n",
    "        \n",
    "        dp = list(range(m+1))\n",
    "        for i in range(n):\n",
    "            prev = i\n",
    "            dp[0] = i + 1\n",
    "            for j in range(m):\n",
    "                cache = dp[j+1]\n",
    "                if word1[i] == word2[j]:\n",
    "                    dp[j+1] = prev\n",
    "                else:\n",
    "                    dp[j+1] = min(prev, dp[j], cache) + 1\n",
    "                prev = cache\n",
    "                \n",
    "        return dp[m]\n",
    "    \n",
    "# Solution().minDistance('abc', 'efg')\n",
    "Solution().minDistance('a', 'a')\n",
    "        "
   ]
  },
  {
   "cell_type": "markdown",
   "metadata": {},
   "source": [
    "## 87. Scramble String\n",
    "\n",
    "s1 和 s2 是两个字符串\n",
    "\n",
    "如果 s1 的树状表示，在叶节点翻转后组成的字符串表示为 s2，则 s2 是 s1的 scramble。。。\n",
    "\n",
    "也是DP问题。 关键是这个树状结构定义怎么定义。\n",
    "\n",
    "思路非常简单， 一个 `s1, s2` 问题，可以划分成 `4*n` 个子问题： `s1[:i], s2[:i]`和 `s1[i:], s2[i:]`， 或者 `s1[:i], s2[-i:]` 和 `s1[-i:], s2[:i]`。 但是这样递归下去，感觉规模非常庞大。\n",
    "\n",
    "考虑所有索引位置， 大约有 $n^4$ 个子问题。 但是大部分都无效，因为长度不一致。"
   ]
  },
  {
   "cell_type": "code",
   "execution_count": 56,
   "metadata": {},
   "outputs": [
    {
     "data": {
      "text/plain": [
       "False"
      ]
     },
     "execution_count": 56,
     "metadata": {},
     "output_type": "execute_result"
    }
   ],
   "source": [
    "\n",
    "class Solution:\n",
    "    # @return a boolean\n",
    "    def isScramble(self, s1, s2):\n",
    "        n, m = len(s1), len(s2)\n",
    "        if n != m or sorted(s1) != sorted(s2):\n",
    "            return False\n",
    "        if n < 4 or s1 == s2:\n",
    "            return True\n",
    "        f = self.isScramble\n",
    "        for i in range(1, n):\n",
    "            if f(s1[:i], s2[:i]) and f(s1[i:], s2[i:]) or \\\n",
    "               f(s1[:i], s2[-i:]) and f(s1[i:], s2[:-i]):\n",
    "                return True\n",
    "        return False\n",
    "    \n",
    "# Solution().isScramble(\"great\", \"rgeat\")\n",
    "Solution().isScramble(\"abcdefghijklmn\", \"efghijklmncadb\")"
   ]
  },
  {
   "cell_type": "code",
   "execution_count": 58,
   "metadata": {},
   "outputs": [
    {
     "data": {
      "text/plain": [
       "False"
      ]
     },
     "execution_count": 58,
     "metadata": {},
     "output_type": "execute_result"
    }
   ],
   "source": [
    "class Solution:\n",
    "    # @return a boolean\n",
    "    def isScramble(self, s1, s2):\n",
    "        n, m = len(s1), len(s2)\n",
    "        if n != m:\n",
    "            return False\n",
    "        \n",
    "        def dp(ss1, ss2):\n",
    "            # 这是可以节省运行时间的关键：如果字符都不匹配，一定是错误的\n",
    "            if sorted(ss1) != sorted(ss2):\n",
    "                return False\n",
    "            sn = len(ss1)\n",
    "            if sn < 4 or ss1 == ss2:\n",
    "                return True\n",
    "            for i in range(1, sn):\n",
    "                if (dp(ss1[:i], ss2[:i]) and dp(ss1[i:], ss2[i:])) or \\\n",
    "                       (dp(ss1[:i], ss2[-i:]) and dp(ss1[i:], ss2[:-i])):\n",
    "                    return True\n",
    "            return False        \n",
    "        return dp(s1, s2)\n",
    "    \n",
    "# Solution().isScramble(\"abc\", \"bca\")\n",
    "Solution().isScramble(\"abcdefghijklmn\", \"efghijklmncadb\")"
   ]
  },
  {
   "cell_type": "markdown",
   "metadata": {},
   "source": [
    "## 95. Unique Binary Search Trees II\n",
    "\n",
    "构建所有的二分查找树。对于 `1...n`\n",
    "\n",
    "这也是个DP问题。\n",
    "\n",
    "$$ DP(1, n) = \\sum_i{DP(1, i-1) + DP(i+1, n)} $$\n",
    "\n",
    "实际上也是一个DFS 搜索问题。"
   ]
  },
  {
   "cell_type": "code",
   "execution_count": 90,
   "metadata": {},
   "outputs": [
    {
     "name": "stdout",
     "output_type": "stream",
     "text": [
      "[<__main__.TreeNode object at 0x110ab86d8>, <__main__.TreeNode object at 0x110ab8cc0>, <__main__.TreeNode object at 0x110ab86a0>, <__main__.TreeNode object at 0x110ab84e0>, <__main__.TreeNode object at 0x110ab8390>]\n",
      "1,null,2,null,3,null,null,\n",
      "1,null,3,2,null,null,null,\n",
      "2,1,null,null,3,null,null,\n",
      "3,1,null,2,null,null,null,\n",
      "3,2,1,null,null,null,null,\n"
     ]
    }
   ],
   "source": [
    "class Solution(object):\n",
    "    def generateTrees(self, n):\n",
    "        \"\"\"\n",
    "        :type n: int\n",
    "        :rtype: List[TreeNode]\n",
    "        \"\"\"\n",
    "        if n == 0:\n",
    "            return []\n",
    "        return self.dfs(1, n+1)\n",
    "        \n",
    "    def dfs(self, start, end):\n",
    "        if start == end:\n",
    "            return None\n",
    "        result = []\n",
    "        for i in range(start, end):\n",
    "            for l in self.dfs(start, i) or [None]:\n",
    "                for r in self.dfs(i+1, end) or [None]:\n",
    "                    node = TreeNode(i)\n",
    "                    node.left, node.right  = l, r\n",
    "                    result.append(node)\n",
    "        return result\n",
    "    \n",
    "    \n",
    "def print_solution(n):\n",
    "    def print_nodes(node):\n",
    "        if node is None:\n",
    "            print(\"null\", end=',')\n",
    "        else:\n",
    "            print(node.val, end=',')\n",
    "            print_nodes(node.left)\n",
    "            print_nodes(node.right)\n",
    "        \n",
    "    list_trees = Solution().generateTrees(n)\n",
    "    print(list_trees)\n",
    "    for tree in list_trees:\n",
    "        print_nodes(tree)\n",
    "        print()\n",
    "\n",
    "print_solution(3)"
   ]
  },
  {
   "cell_type": "markdown",
   "metadata": {},
   "source": [
    "下面是 generator版本的"
   ]
  },
  {
   "cell_type": "code",
   "execution_count": 93,
   "metadata": {},
   "outputs": [
    {
     "name": "stdout",
     "output_type": "stream",
     "text": [
      "[<__main__.TreeNode object at 0x110b58780>, <__main__.TreeNode object at 0x110b58898>, <__main__.TreeNode object at 0x110b58940>, <__main__.TreeNode object at 0x110b589e8>, <__main__.TreeNode object at 0x110b58a90>]\n",
      "1,null,2,null,3,null,null,\n",
      "1,null,3,2,null,null,null,\n",
      "2,1,null,null,3,null,null,\n",
      "3,1,null,2,null,null,null,\n",
      "3,2,1,null,null,null,null,\n"
     ]
    }
   ],
   "source": [
    "# Definition for a binary tree node.\n",
    "class TreeNode:\n",
    "    def __init__(self, x):\n",
    "        self.val = x\n",
    "        self.left = None\n",
    "        self.right = None\n",
    "    \n",
    "    def __str__(self):\n",
    "        return str(self.val)\n",
    "\n",
    "class Solution(object):\n",
    "    def generateTrees(self, n):\n",
    "        \"\"\"\n",
    "        :type n: int\n",
    "        :rtype: List[TreeNode]\n",
    "        \"\"\"\n",
    "        if n == 0:\n",
    "            return []\n",
    "        \n",
    "        def trees(i, j):\n",
    "            if i > j:\n",
    "                yield None\n",
    "            for k in range(i, j+1):\n",
    "                for left in trees(i, k-1):\n",
    "                    for right in trees(k+1, j):\n",
    "                        node = TreeNode(k)\n",
    "                        node.left, node.right = left, right\n",
    "                        yield node              \n",
    "            \n",
    "        return list(trees(1, n))\n",
    "    \n",
    "# Solution().generateTrees(3)\n",
    "print_solution(3)"
   ]
  },
  {
   "cell_type": "markdown",
   "metadata": {},
   "source": [
    "## 97. Interleaving String\n",
    "\n",
    "交织string：给定 s1, s2, s3， 判断 s3 是否由 s1 和 s2 交织而成\n",
    "\n",
    "例如：\n",
    "```\n",
    "Given:\n",
    "s1 = \"aabcc\",\n",
    "s2 = \"dbbca\",\n",
    "\n",
    "When s3 = \"aadbbcbcac\", return true.\n",
    "When s3 = \"aadbbbaccc\", return false.\n",
    "```\n",
    "\n",
    "一开始有一个简单的想法： 就是从 s3中划掉 s1的字符，剩下的如果和 s2相同，就是交织而成的。其实不对，有个反例：\n",
    "```\n",
    "s1=\"abc\"\n",
    "s2=\"bcd\"\n",
    "s3=\"abcbdc\"\n",
    "```\n",
    "\n",
    "还是老老实实用 DP。\n",
    "\n",
    "DP的思路其实也很简单：令 `DP(i, j)` 表示 `s1[i:]` 、`s2[j:]` 和 `s3[i+j:]`的解\n",
    "\n",
    "- 如果 `s1[i] == s2[j] == s3[i+j]` ， 则 `DP(i, j) = DP(i+1, j) or DP(i, j+1)`\n",
    "- 如果 `s1[i] != s2[j]`， \n",
    "    - 如果 `s3[i+j] == s1[i]`， 则 `DP(i, j) = DP(i+1, j)`\n",
    "    - 如果 `s3[i+j] == s2[j]`， 则 `DP(i, j) = DP(i, j+1)`\n",
    "    - 都不相同， 则 `DP(i, j) = False`\n",
    "    \n",
    "反向的思路：\n",
    "\n",
    "\n",
    "DP的思路其实也很简单：令 `DP(i, j)` 表示 `s1[:i]` 、`s2[:j]` 和 `s3[:i+j]`的解\n",
    "\n",
    "- 如果 `s1[i] == s2[j] == s3[i+j]` ， 则 `DP(i, j) = DP(i-1, j) or DP(i, j-1)`\n",
    "- 如果 `s1[i] != s2[j]`， \n",
    "    - 如果 `s3[i+j] == s1[i]`， 则 `DP(i, j) = DP(i-1, j)`\n",
    "    - 如果 `s3[i+j] == s2[j]`， 则 `DP(i, j) = DP(i, j-1)`\n",
    "    - 都不相同， 则 `DP(i, j) = False`\n",
    "\n",
    "- `DP(i, 0) = s1[:i] == s3[:i]`\n",
    "- `DP(0, j) = s2[:j] == s3[:j]`\n",
    "\n",
    "    \n",
    "注意这也是一个网格样式的DP（正向和反向都一样）\n",
    "\n",
    "```\n",
    "x         (i-1, j)\n",
    "(i, j-1)  (i, j)\n",
    "```\n",
    "\n",
    "\n",
    "这里注意一个大trick：  就是索引的问题： 注意： `a` 和 `b` 可以拼成 `ab`，那么 索引呢？ ， 0, 0，0，永远到不了1。 使用这种索引方式有很大缺陷的： `i in range(n), j in range(m)`，则永远无法判断 s3的最后一个字符。必须用正常索引方式： `i in range(1, n+1), j in range(1, m+1), k = i + j`，实际用在字符串索引时，都减1"
   ]
  },
  {
   "cell_type": "code",
   "execution_count": 125,
   "metadata": {},
   "outputs": [
    {
     "name": "stdout",
     "output_type": "stream",
     "text": [
      "True\n",
      "True\n",
      "False\n",
      "True\n",
      "True\n",
      "True\n"
     ]
    }
   ],
   "source": [
    "class Solution:\n",
    "    def isInterleave(self, s1, s2, s3):\n",
    "        \"\"\"\n",
    "        :type s1: str\n",
    "        :type s2: str\n",
    "        :type s3: str\n",
    "        :rtype: bool\n",
    "        \"\"\"\n",
    "        n, m, l = len(s1), len(s2), len(s3)\n",
    "        if n + m != l:\n",
    "            return False\n",
    "        if m > n:\n",
    "            n, m, s1, s2 = m, n, s2, s1\n",
    "            \n",
    "        if m == 0:\n",
    "            return s1 == s3\n",
    "        \n",
    "        dp = [False] * (m + 1)\n",
    "        for i in range(n+1):\n",
    "            for j in range(m+1):\n",
    "                if (i == 0 and j == 0):\n",
    "                    dp[j] = True\n",
    "                elif (i == 0):\n",
    "                    dp[j] = dp[j-1] and s2[j-1] == s3[j-1]\n",
    "                elif (j == 0):\n",
    "                    dp[j] = dp[j] and s1[i-1] == s3[i-1]\n",
    "                else:\n",
    "                    dp[j] = (dp[j] and s1[i-1] == s3[i+j-1]) or (dp[j-1] and s2[j-1] == s3[i+j-1])\n",
    "        return dp[-1]\n",
    "    \n",
    "print(Solution().isInterleave('abc', 'bcd', 'abcbdc'))\n",
    "print(Solution().isInterleave('aabcc', 'dbbca', 'aadbbcbcac'))\n",
    "print(Solution().isInterleave('aabcc', 'dbbca', 'aadbbbaccc'))\n",
    "print(Solution().isInterleave('', '', ''))\n",
    "print(Solution().isInterleave('a', '', 'a'))\n",
    "print(Solution().isInterleave('a', 'b', 'ab'))\n",
    "                "
   ]
  },
  {
   "cell_type": "markdown",
   "metadata": {},
   "source": [
    "## 115. Distinct Subsequences\n",
    "\n",
    "Given a string S and a string T, count the number of distinct subsequences of S which equals T.\n",
    "\n",
    "A subsequence of a string is a new string which is formed from the original string by deleting some (can be none) of the characters without disturbing the relative positions of the remaining characters. (ie, \"ACE\" is a subsequence of \"ABCDE\" while \"AEC\" is not).\n",
    "\n",
    "Here is an example:\n",
    "```\n",
    "S = \"rabbbit\", T = \"rabbit\"\n",
    "\n",
    "Return 3.\n",
    "```\n",
    "\n",
    "题目大意是 ：  问 S有多少个不同的 子串等于 T。 这里不同意思是截取的位置不同。\n",
    "\n",
    "这里是解法：<https://leetcode.com/problems/distinct-subsequences/discuss/37327/Easy-to-understand-DP-in-Java>\n",
    "\n",
    "不看真不知道，解释的很清楚。是个DP问题。\n",
    "\n",
    "定义 `DP(i+1, j+1)` 是 问题 `S[:i]` 和 `T[:j]`的解。\n",
    "\n",
    "- `T == ''`， `DP(i, 0) = 1`，因为空串是任意字符串的子串，且可以认为是唯一。\n",
    "- `T != '', S = ''`, `DP(0, j) = 0`\n",
    "- 如果 `S[i] == T[j]`, `DP(i+1, j+1) = DP(i,j) + DP(i, j+1)`， 如果字符相同， `S[:i-1]` 中有多少`T[:j-1]`子串，分别附上这个相同字符； 另外还有， `S[:i-1]`中有多少 `T[:j]`子串，\n",
    "\n",
    "这样看就很清楚：\n",
    "\n",
    "```\n",
    "  S 0123....i\n",
    "T +----------+\n",
    "0 |1111111111|\n",
    "1 |0         |\n",
    "2 |0         |\n",
    ". |0         |\n",
    ". |0         |\n",
    "j |0         |\n",
    "```\n",
    "比如 `s = 'acdbabefbc', t = 'abc'`，则：\n",
    "\n",
    "```\n",
    "   s  =  acdbabefbc\n",
    "'' dp = 11111111111     # 因为 \"\"空字符串是所有字符串的子串，只取1\n",
    "'a'   = 01111222222     # 'a' 出现的时候，开始计数\n",
    "'b'   = 00001           # 'b' 出现第一次，必须前面有 'a'才算第一次。\n",
    "      = 0000113         # 'b' 出现第二次，感觉像个斐波那契问题：这个'b'和前面两个'a' 构成2个子串，在加上前一个'ab'，就是3个\n",
    "      = 00001133355     # 'b' 出现第三次，这个'b' 和前面两个'a' 构成2个子串，再加上前面3个， 就是5个。\n",
    "'c'   = 00_             # 'c' 出现第一次，因为前面没有'ab'，所以不计数\n",
    "      = 00000000005     # 'c' 出现第二次，因为前面有5个'ab'子串，所以，总共有5个。\n",
    "```\n",
    "\n",
    "```\n",
    "   s  =  rabbbbit\n",
    "'' dp = 111111111     # 因为 \"\"空字符串是所有字符串的子串，只取1\n",
    "'r'   = 011111111     # 'r' 出现的时候，开始计数\n",
    "'a'   = 001111111     # \n",
    "'b'   = 000123444     # \n",
    "'b'   = 000013666     # 注意这里，计算的时候用来左上角，而不是正上方。\n",
    "'i'   = 000000066\n",
    "```\n"
   ]
  },
  {
   "cell_type": "code",
   "execution_count": 131,
   "metadata": {},
   "outputs": [
    {
     "name": "stdout",
     "output_type": "stream",
     "text": [
      "[1, 1, 1, 1, 1, 1, 1, 1]\n",
      "[0, 1, 1, 1, 1, 1, 1, 1]\n",
      "[0, 0, 1, 1, 1, 1, 1, 1]\n",
      "[0, 0, 0, 1, 2, 3, 3, 3]\n",
      "[0, 0, 0, 1, 3, 6, 6, 6]\n",
      "[0, 0, 0, 0, 0, 0, 6, 6]\n",
      "[0, 0, 0, 0, 0, 0, 0, 6]\n"
     ]
    },
    {
     "data": {
      "text/plain": [
       "6"
      ]
     },
     "execution_count": 131,
     "metadata": {},
     "output_type": "execute_result"
    }
   ],
   "source": [
    "class Solution:\n",
    "    def numDistinct(self, s, t):\n",
    "        \"\"\"\n",
    "        :type s: str\n",
    "        :type t: str\n",
    "        :rtype: int\n",
    "        \"\"\"\n",
    "        n, m = len(s), len(t)\n",
    "        if n < m:\n",
    "            return 0\n",
    "        if n == m:\n",
    "            return int(s == t)\n",
    "        \n",
    "        dp = [1] * (n+1)\n",
    "        print(dp)\n",
    "        for j in range(m):\n",
    "            dp[0] = 0\n",
    "            for i in range(n):\n",
    "                if s[i] == t[j]:\n",
    "                    dp[i+1] += dp[i]\n",
    "                else:\n",
    "                    dp[i+1] = dp[i]\n",
    "            print(dp)\n",
    "        return dp[-1]\n",
    "\n",
    "# Solution().numDistinct('acdbabefbc', 'abc')\n",
    "Solution().numDistinct(\"rabbbit\", \"rabbit\")"
   ]
  }
 ],
 "metadata": {
  "kernelspec": {
   "display_name": "Python 3",
   "language": "python",
   "name": "python3"
  },
  "language_info": {
   "codemirror_mode": {
    "name": "ipython",
    "version": 3
   },
   "file_extension": ".py",
   "mimetype": "text/x-python",
   "name": "python",
   "nbconvert_exporter": "python",
   "pygments_lexer": "ipython3",
   "version": "3.6.2"
  },
  "toc": {
   "base_numbering": 1,
   "nav_menu": {},
   "number_sections": true,
   "sideBar": true,
   "skip_h1_title": false,
   "title_cell": "Table of Contents",
   "title_sidebar": "Contents",
   "toc_cell": false,
   "toc_position": {
    "height": "calc(100% - 180px)",
    "left": "10px",
    "top": "150px",
    "width": "384px"
   },
   "toc_section_display": true,
   "toc_window_display": true
  },
  "varInspector": {
   "cols": {
    "lenName": 16,
    "lenType": 16,
    "lenVar": 40
   },
   "kernels_config": {
    "python": {
     "delete_cmd_postfix": "",
     "delete_cmd_prefix": "del ",
     "library": "var_list.py",
     "varRefreshCmd": "print(var_dic_list())"
    },
    "r": {
     "delete_cmd_postfix": ") ",
     "delete_cmd_prefix": "rm(",
     "library": "var_list.r",
     "varRefreshCmd": "cat(var_dic_list()) "
    }
   },
   "types_to_exclude": [
    "module",
    "function",
    "builtin_function_or_method",
    "instance",
    "_Feature"
   ],
   "window_display": false
  }
 },
 "nbformat": 4,
 "nbformat_minor": 2
}
