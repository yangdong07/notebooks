{
 "cells": [
  {
   "cell_type": "markdown",
   "metadata": {},
   "source": [
    "## 11. Container With Most Water\n",
    "\n",
    "**two pointers**\n",
    "\n",
    "Given n non-negative integers a1, a2, ..., an, where each represents a point at coordinate (i, ai). n vertical lines are drawn such that the two endpoints of line i is at (i, ai) and (i, 0). Find two lines, which together with x-axis forms a container, such that the container contains the most water.\n",
    "\n",
    "Note: You may not slant the container and n is at least 2.\n",
    "\n",
    "\n",
    "题目大意： 有n条垂直线，坐标分别是 $(i, a_i), (i, 0)$， 找出两条线与x轴构成最大的容器。\n",
    "\n",
    "注意：下面这种情况，最两端的线构成的容器不包括中间两条线。所以不考虑在中间蓄水多的情况。\n",
    "```\n",
    "  | |\n",
    "| | | |\n",
    "|_|_|_|\n",
    "```\n",
    "\n",
    "一般思路是找出所有的pair，算法时间是 $O(n^2)$。 考虑用两个指针，一头一尾向中间收缩，计算。\n",
    "\n",
    "\n",
    "证明如下：\n",
    "\n",
    "比如某条边 `height[l] < height[r]`， 那么可以认为右边取  `height[l+1] ... height[r-1]` 都不可能大于当前的面积 `height[l] * (r - l)`。 所以这些情况都可以不用考虑了。 用 `height[l+1]` 和 `height[r]`。\n",
    "\n",
    "相当于在移动指针的过程中就做了筛选。考虑到了所有的情况，所以这样比较的最大值就是最终答案。"
   ]
  },
  {
   "cell_type": "code",
   "execution_count": 1,
   "metadata": {},
   "outputs": [
    {
     "data": {
      "text/plain": [
       "1"
      ]
     },
     "execution_count": 1,
     "metadata": {},
     "output_type": "execute_result"
    }
   ],
   "source": [
    "class Solution:\n",
    "    def maxArea(self, height):\n",
    "        \"\"\"\n",
    "        :type height: List[int]\n",
    "        :rtype: int\n",
    "        \"\"\"\n",
    "        l, r = 0, len(height) - 1\n",
    "        maxarea = 0\n",
    "        while l < r:\n",
    "            maxarea = max(maxarea, min(height[l], height[r]) * (r - l))\n",
    "            if height[l] < height[r]:\n",
    "                l += 1\n",
    "            else:\n",
    "                r -= 1\n",
    "        \n",
    "        return maxarea\n",
    "    \n",
    "Solution().maxArea([1,1])"
   ]
  },
  {
   "cell_type": "code",
   "execution_count": null,
   "metadata": {},
   "outputs": [],
   "source": [
    "## 稍微改善一下速度\n",
    "\n",
    "class Solution:\n",
    "    def maxArea(self, height):\n",
    "        \"\"\"\n",
    "        :type height: List[int]\n",
    "        :rtype: int\n",
    "        \"\"\"\n",
    "        l, r = 0, len(height) - 1\n",
    "        maxarea = 0\n",
    "        while l < r:\n",
    "            if height[l] < height[r]:\n",
    "                maxarea = max(maxarea, height[l] * (r-l))\n",
    "                l += 1\n",
    "            else:\n",
    "                maxarea = max(maxarea, height[r] * (r-l))\n",
    "                r -= 1\n",
    "        \n",
    "        return maxarea"
   ]
  },
  {
   "cell_type": "markdown",
   "metadata": {},
   "source": [
    "## 12. Integer to Roman\n",
    "Roman numerals are represented by seven different symbols: I, V, X, L, C, D and M.\n",
    "\n",
    "```\n",
    "Symbol       Value\n",
    "I             1\n",
    "V             5\n",
    "X             10\n",
    "L             50\n",
    "C             100\n",
    "D             500\n",
    "M             1000\n",
    "```\n",
    "For example, two is written as II in Roman numeral, just two one's added together. Twelve is written as, XII, which is simply X + II. The number twenty seven is written as XXVII, which is XX + V + II.\n",
    "\n",
    "Roman numerals are usually written largest to smallest from left to right. However, the numeral for four is not IIII. Instead, the number four is written as IV. Because the one is before the five we subtract it making four. The same principle applies to the number nine, which is written as IX. There are six instances where subtraction is used:\n",
    "\n",
    "- I can be placed before V (5) and X (10) to make 4 and 9. \n",
    "- X can be placed before L (50) and C (100) to make 40 and 90. \n",
    "- C can be placed before D (500) and M (1000) to make 400 and 900.\n",
    "\n",
    "Given an integer, convert it to a roman numeral. Input is guaranteed to be within the range from 1 to 3999.\n",
    "\n",
    "题意很简单： 数字到罗马数字的转换。\n",
    "\n",
    "感觉解题思路也很暴力啊，想法是给一个数字到 symbol对应的字典，直接遍历。\n",
    "\n"
   ]
  },
  {
   "cell_type": "code",
   "execution_count": 5,
   "metadata": {},
   "outputs": [
    {
     "data": {
      "text/plain": [
       "'X'"
      ]
     },
     "execution_count": 5,
     "metadata": {},
     "output_type": "execute_result"
    }
   ],
   "source": [
    "class Solution:\n",
    "    def intToRoman(self, num):\n",
    "        \"\"\"\n",
    "        :type num: int\n",
    "        :rtype: str\n",
    "        \"\"\"\n",
    "        \n",
    "        roman = [\"M\", \"CM\", \"D\", \"CD\", \"C\", \"XC\", \"L\", \"XL\", \"X\", \"IX\", \"V\", \"IV\", \"I\"]\n",
    "        values = [1000, 900, 500, 400, 100, 90, 50, 40, 10, 9, 5, 4, 1]\n",
    "        \n",
    "        result = []\n",
    "        i = 0        \n",
    "        while num > 0:\n",
    "            while num >= values[i]:\n",
    "                num -= values[i]\n",
    "                result.append(roman[i])\n",
    "            i += 1\n",
    "        return \"\".join(result)\n",
    "\n",
    "Solution().intToRoman(10)"
   ]
  },
  {
   "cell_type": "code",
   "execution_count": 8,
   "metadata": {},
   "outputs": [],
   "source": [
    "### 有更简单的版本，考虑到输入是 1 ~ 3999 之间的数，所以最多 \"MMM\"\n",
    "\n",
    "class Solution:\n",
    "    def intToRoman(self, num):\n",
    "        \"\"\"\n",
    "        :type num: int\n",
    "        :rtype: str\n",
    "        \"\"\"\n",
    "        M = [\"\", \"M\", \"MM\", \"MMM\"];\n",
    "        C = [\"\", \"C\", \"CC\", \"CCC\", \"CD\", \"D\", \"DC\", \"DCC\", \"DCCC\", \"CM\"];\n",
    "        X = [\"\", \"X\", \"XX\", \"XXX\", \"XL\", \"L\", \"LX\", \"LXX\", \"LXXX\", \"XC\"];\n",
    "        I = [\"\", \"I\", \"II\", \"III\", \"IV\", \"V\", \"VI\", \"VII\", \"VIII\", \"IX\"];\n",
    "        return M[num//1000] + C[(num%1000)//100] + X[(num%100)//10] + I[num%10];        "
   ]
  },
  {
   "cell_type": "markdown",
   "metadata": {},
   "source": [
    "## 13. Roman to Integer\n",
    "\n",
    "上一题反过来。一堆逻辑而已。\n",
    "\n"
   ]
  },
  {
   "cell_type": "code",
   "execution_count": 11,
   "metadata": {},
   "outputs": [
    {
     "data": {
      "text/plain": [
       "13"
      ]
     },
     "execution_count": 11,
     "metadata": {},
     "output_type": "execute_result"
    }
   ],
   "source": [
    "## 利用current缓存索引，略微提升速度  148ms -> 136ms\n",
    "\n",
    "class Solution:\n",
    "    def romanToInt(self, s):\n",
    "        \"\"\"\n",
    "        :type s: str\n",
    "        :rtype: int\n",
    "        \"\"\"\n",
    "        roman = {\n",
    "            'M': 1000,\n",
    "            'D': 500,\n",
    "            'C': 100,\n",
    "            'L': 50,\n",
    "            'X': 10,\n",
    "            'V': 5,\n",
    "            'I': 1,\n",
    "        }\n",
    "        value = roman[s[-1]]\n",
    "        for i in range(len(s)-1):\n",
    "            current = roman[s[i]]\n",
    "            if current < roman[s[i+1]]:\n",
    "                value -= current\n",
    "            else:\n",
    "                value += current\n",
    "        return value\n",
    "    \n",
    "Solution().romanToInt('XIII')"
   ]
  },
  {
   "cell_type": "markdown",
   "metadata": {},
   "source": [
    "## 14. Longest Common Prefix\n",
    "\n",
    "Write a function to find the longest common prefix string amongst an array of strings.\n",
    "\n",
    "If there is no common prefix, return an empty string \"\".\n",
    "\n",
    "Example 1:\n",
    "\n",
    "Input: [\"flower\",\"flow\",\"flight\"]\n",
    "Output: \"fl\"\n",
    "Example 2:\n",
    "\n",
    "Input: [\"dog\",\"racecar\",\"car\"]\n",
    "Output: \"\"\n",
    "Explanation: There is no common prefix among the input strings.\n",
    "\n",
    "题意，就是找最长公共前缀。\n",
    "\n",
    "一个一个比较就可以了，算法复杂度是 $O(S)$， S 是所有字符总数。 参考<https://leetcode.com/problems/longest-common-prefix/solution/>\n",
    "\n",
    "\n",
    "1. Horizontal scanning， 先比较 LCP(1, 2), 然后比较 LCP(LCP(1, 2), 3) ， 依次。\n",
    "2. Vertical scanning， 就是最先想的那种方法。 纵向比较。 算法复杂度 $O(S)$\n",
    "3. Divide and conquer， $LCP(S_1\\dots S_n) = LCP(LCP(S_1\\dots S_k), LCP(S_{k+1}\\dots S_n))$。 这种方法时间复杂度仍然是 $O(S)$， 因为分治法并不减少计算量。"
   ]
  },
  {
   "cell_type": "code",
   "execution_count": 12,
   "metadata": {},
   "outputs": [
    {
     "data": {
      "text/plain": [
       "'fl'"
      ]
     },
     "execution_count": 12,
     "metadata": {},
     "output_type": "execute_result"
    }
   ],
   "source": [
    "class Solution:\n",
    "    def longestCommonPrefix(self, strs):\n",
    "        \"\"\"\n",
    "        :type strs: List[str]\n",
    "        :rtype: str\n",
    "        \"\"\"\n",
    "        if len(strs) == 0:\n",
    "            return \"\"\n",
    "        i = 0\n",
    "        while True:\n",
    "            if i >= len(strs[0]):\n",
    "                return strs[0][:i]\n",
    "            c = strs[0][i]\n",
    "            for s in strs:\n",
    "                if i >= len(s) or s[i] != c:\n",
    "                    return s[:i]\n",
    "            i += 1\n",
    "            \n",
    "        return strs[0][:i]\n",
    "    \n",
    "Solution().longestCommonPrefix([\"flower\",\"flow\",\"flight\"])\n",
    "            \n",
    "                \n",
    "                "
   ]
  },
  {
   "cell_type": "code",
   "execution_count": 14,
   "metadata": {},
   "outputs": [],
   "source": [
    "## 有更无耻的做法。\n",
    "\n",
    "\n",
    "class Solution:\n",
    "    def longestCommonPrefix(self, strs):\n",
    "        \"\"\"\n",
    "        :type strs: List[str]\n",
    "        :rtype: str\n",
    "        \"\"\" \n",
    "        import os \n",
    "        return os.path.commonprefix(strs)"
   ]
  },
  {
   "cell_type": "code",
   "execution_count": 15,
   "metadata": {},
   "outputs": [],
   "source": [
    "## 有另一个无耻的做法，利用 set。其实这个方法并不怎么好。\n",
    "\n",
    "class Solution:\n",
    "    def longestCommonPrefix(self, strs):\n",
    "        \"\"\"\n",
    "        :type strs: List[str]\n",
    "        :rtype: str\n",
    "        \"\"\"\n",
    "        if not strs:\n",
    "            return \"\"\n",
    "        \n",
    "        for i, chars in enumerate(zip(*strs)):\n",
    "            if len(set(chars)) > 1:\n",
    "                return strs[0][:i]\n",
    "        else:\n",
    "            return min(strs)\n",
    "                \n"
   ]
  },
  {
   "cell_type": "markdown",
   "metadata": {},
   "source": [
    "## 15. 3Sum\n",
    "\n",
    "Given an array nums of n integers, are there elements a, b, c in nums such that a + b + c = 0? Find all unique triplets in the array which gives the sum of zero.\n",
    "\n",
    "Note:\n",
    "The solution set must not contain duplicate triplets.\n",
    "\n",
    "Example:\n",
    "\n",
    "Given array nums = [-1, 0, 1, 2, -1, -4],\n",
    "\n",
    "A solution set is:\n",
    "[\n",
    "  [-1, 0, 1],\n",
    "  [-1, -1, 2]\n",
    "]\n",
    "\n",
    "找出来三个数之和为 0 的。\n",
    "\n",
    "感觉可以简化成 2Sum问题。 但实际答案用的是 Two Pointers方法。\n",
    "\n",
    "下面解释一下思路。 先对数组排序。考虑用 i、l、r表示左、中、右三个指针。\n",
    "\n",
    "1. 固定 i， 移动 l、r，试图找到 `nums[i] + nums[l] + nums[r] == 0`。\n",
    "    1. 如果3sum小于0， 数小了。向右移动 l\n",
    "    2. 如果3sum大于0， 数大了。向左移动 r\n",
    "    3. 如果3sum == 0， 则是一个答案。 这时候继续收缩指针l、r。\n",
    "    4. 重复以上步骤，直到 l 超过 r。\n",
    "2. 增加一步 i。重复上述步骤。\n",
    "\n",
    "所以 时间复杂度是 $O(n^2)$"
   ]
  },
  {
   "cell_type": "code",
   "execution_count": null,
   "metadata": {},
   "outputs": [],
   "source": [
    "class Solution:\n",
    "    def threeSum(self, nums):\n",
    "        \"\"\"\n",
    "        :type nums: List[int]\n",
    "        :rtype: List[List[int]]\n",
    "        \"\"\"\n",
    "        result = []\n",
    "        nums.sort()\n",
    "        \n",
    "        for i in range(len(nums)-2):\n",
    "            if i > 0 and nums[i] == nums[i-1]:\n",
    "                continue\n",
    "            l, r = i+1, len(nums)-1\n",
    "            while l < r:\n",
    "                s = nums[i] + nums[l] + nums[r]\n",
    "                if s < 0:\n",
    "                    l +=1 \n",
    "                elif s > 0:\n",
    "                    r -= 1\n",
    "                else:\n",
    "                    result.append((nums[i], nums[l], nums[r]))\n",
    "                    while l < r and nums[l] == nums[l+1]:\n",
    "                        l += 1\n",
    "                    while l < r and nums[r] == nums[r-1]:\n",
    "                        r -= 1\n",
    "                    l += 1; r -= 1\n",
    "        return result"
   ]
  },
  {
   "cell_type": "markdown",
   "metadata": {},
   "source": [
    "下面这个解法虽然快，但是不直观。用到了字典储存所有的数字和出现的频次。并且分成负数和正数。\n",
    "\n",
    "在搜索的时候，只搜索负数（大概一半）和非负数（大概一半）？ 为了避免重复搜索，采取了一些策略，防止重复。所以不怎么直观。\n",
    "\n",
    "这个策略是： 如果 src是非负数，则要大于 elem2。 顺序是 ： elem1, elem2, src。 这样不用重复搜索 elem1， src， elem2。\n",
    "\n",
    "如果 src是负数，则要小于 elem1， 顺序是： src， elem1， elem2。 这样不用重复搜索 elem1， src， elem2.\n",
    "\n",
    "算法复杂度严格意义上仍然是 $O(n^2)$，但是系数要小。这种方法比较复杂。不爱用。"
   ]
  },
  {
   "cell_type": "code",
   "execution_count": null,
   "metadata": {},
   "outputs": [],
   "source": [
    "###\n",
    "\n",
    "class Solution:\n",
    "    def threeSum(self, nums):\n",
    "        freq = {}\n",
    "        for elem in nums:\n",
    "            freq[elem] = freq.get(elem, 0) + 1\n",
    "        if 0 in freq and freq[0] > 2:\n",
    "            res = [[0,0,0]]\n",
    "        else:\n",
    "            res = []\n",
    "        neg = sorted((filter(lambda x: x < 0, freq)))\n",
    "        nneg = sorted((filter(lambda x: x>= 0, freq)))\n",
    "        for elem1 in neg:\n",
    "            for elem2 in nneg:\n",
    "                src = -(elem1 + elem2)\n",
    "                if src in freq:\n",
    "                    if src in (elem1, elem2) and freq[src] > 1:\n",
    "                        res.append([elem1, src, elem2])\n",
    "                    elif src < elem1:\n",
    "                        res.append([elem1, src, elem2])\n",
    "                    elif src > elem2:\n",
    "                        res.append([elem1, src, elem2])\n",
    "        return res"
   ]
  },
  {
   "cell_type": "markdown",
   "metadata": {},
   "source": [
    "## 16. 3Sum Closest\n",
    "\n",
    "Given an array nums of n integers and an integer target, find three integers in nums such that the sum is closest to target. Return the sum of the three integers. You may assume that each input would have exactly one solution.\n",
    "\n",
    "\n",
    "给定一个目标值。 找出数组中三个数的和最接近这个目标值的。\n",
    "\n",
    "用 Two Pointers就可以。算法时间也是 $O(n^2)$\n",
    "\n"
   ]
  },
  {
   "cell_type": "code",
   "execution_count": 18,
   "metadata": {},
   "outputs": [
    {
     "data": {
      "text/plain": [
       "2"
      ]
     },
     "execution_count": 18,
     "metadata": {},
     "output_type": "execute_result"
    }
   ],
   "source": [
    "class Solution:\n",
    "    def threeSumClosest(self, nums, target):\n",
    "        \"\"\"\n",
    "        :type nums: List[int]\n",
    "        :type target: int\n",
    "        :rtype: int\n",
    "        \"\"\"\n",
    "        \n",
    "        nums.sort()\n",
    "        \n",
    "        closest = nums[0] + nums[1] + nums[2]\n",
    "        \n",
    "        for i in range(len(nums) - 2):\n",
    "            j, k = i+1, len(nums) - 1\n",
    "            while j < k:\n",
    "                s = nums[i] + nums[j] + nums[k]\n",
    "                if s == target:\n",
    "                    return s\n",
    "                \n",
    "                if abs(s - target) < abs(closest - target):\n",
    "                    closest = s\n",
    "                \n",
    "                if s < target:\n",
    "                    j += 1\n",
    "                elif s > target:\n",
    "                    k -= 1\n",
    "            \n",
    "        return closest\n",
    "    \n",
    "Solution().threeSumClosest([-1,2,1,-4], 1)"
   ]
  },
  {
   "cell_type": "code",
   "execution_count": 27,
   "metadata": {},
   "outputs": [
    {
     "data": {
      "text/plain": [
       "3"
      ]
     },
     "execution_count": 27,
     "metadata": {},
     "output_type": "execute_result"
    }
   ],
   "source": [
    "## 经过优化了的。主要是一些细节优化。算法没什么变化。 68ms\n",
    "### 1. 使用 target - nums[i]， 避免多余的加法计算。\n",
    "### 2. 避免在循环中使用 abs。\n",
    "\n",
    "class Solution:\n",
    "    def threeSumClosest(self, nums, target):\n",
    "        nums.sort()  \n",
    "        \n",
    "        closest = nums[0] + nums[1] + nums[2]\n",
    "        \n",
    "        md = abs(closest - target)\n",
    "        \n",
    "        for i in range(len(nums) - 2):\n",
    "            if i > 0 and nums[i] == nums[i-1]:\n",
    "                continue\n",
    "                \n",
    "            t = target - nums[i]\n",
    "            j, k = i+1, len(nums) - 1\n",
    "            \n",
    "            while j < k:\n",
    "                s = nums[j] + nums[k]\n",
    "                if s < t:\n",
    "                    d = t - s\n",
    "                    j += 1\n",
    "                elif s > t:\n",
    "                    d = s - t\n",
    "                    k -= 1\n",
    "                else:\n",
    "                    return target\n",
    "                    \n",
    "                if d < md:\n",
    "                    md = d\n",
    "                    closest = s + nums[i]\n",
    "\n",
    "        return closest\n",
    "\n",
    "Solution().threeSumClosest([-1,2,1,-4], 1)\n",
    "Solution().threeSumClosest([1, 1, 1, 0], 100)"
   ]
  },
  {
   "cell_type": "markdown",
   "metadata": {},
   "source": [
    "## 17. Letter Combinations of a Phone Number\n",
    "\n",
    "Given a string containing digits from 2-9 inclusive, return all possible letter combinations that the number could represent.\n",
    "\n",
    "A mapping of digit to letters (just like on the telephone buttons) is given below. Note that 1 does not map to any letters.\n",
    "\n",
    "Example:\n",
    "\n",
    "Input: \"23\"\n",
    "Output: [\"ad\", \"ae\", \"af\", \"bd\", \"be\", \"bf\", \"cd\", \"ce\", \"cf\"].\n",
    "Note:\n",
    "\n",
    "Although the above answer is in lexicographical order, your answer could be in any order you want.\n",
    "\n",
    "题意： 诺基亚手机上的九宫格键盘， 每个数字对应若干字母。 问某个数字组合对应的字母组合。\n",
    "\n",
    "其实是排列组合问题。没什么好说的。 其实用到了 `itertools.product`， 给出所有笛卡尔乘积，所有组合。"
   ]
  },
  {
   "cell_type": "code",
   "execution_count": 35,
   "metadata": {},
   "outputs": [
    {
     "data": {
      "text/plain": [
       "['ad', 'ae', 'af', 'bd', 'be', 'bf', 'cd', 'ce', 'cf']"
      ]
     },
     "execution_count": 35,
     "metadata": {},
     "output_type": "execute_result"
    }
   ],
   "source": [
    "## 利用自带的product， 无耻的做法\n",
    "\n",
    "class Solution:\n",
    "    def letterCombinations(self, digits):\n",
    "        \"\"\"\n",
    "        :type digits: str\n",
    "        :rtype: List[str]\n",
    "        \"\"\"        \n",
    "        if len(digits) == 0:\n",
    "            return []\n",
    "        \n",
    "        dc = {\n",
    "            '2': 'abc',\n",
    "            '3': 'def',\n",
    "            '4': 'ghi',\n",
    "            '5': 'jkl',\n",
    "            '6': 'mno',\n",
    "            '7': 'pqrs',\n",
    "            '8': 'tuv',\n",
    "            '9': 'wxyz'\n",
    "        }\n",
    "        chars = [dc[d] for d in digits]\n",
    "        from itertools import product\n",
    "        \n",
    "        result = []\n",
    "        for cb in product(*chars):\n",
    "            result.append(''.join(cb))\n",
    "            \n",
    "        return result\n",
    "    \n",
    "\n",
    "Solution().letterCombinations('23')"
   ]
  },
  {
   "cell_type": "code",
   "execution_count": 39,
   "metadata": {},
   "outputs": [
    {
     "data": {
      "text/plain": [
       "['ad', 'ae', 'af', 'bd', 'be', 'bf', 'cd', 'ce', 'cf']"
      ]
     },
     "execution_count": 39,
     "metadata": {},
     "output_type": "execute_result"
    }
   ],
   "source": [
    "## 常规 dfs做法。实际上可以看出来，是一颗树。\n",
    "\n",
    "class Solution:\n",
    "    def letterCombinations(self, digits):\n",
    "        \"\"\"\n",
    "        :type digits: str\n",
    "        :rtype: List[str]\n",
    "        \"\"\"\n",
    "        if len(digits) == 0:\n",
    "            return []\n",
    "        \n",
    "        result = []\n",
    "        dc = {\n",
    "            '2': 'abc',\n",
    "            '3': 'def',\n",
    "            '4': 'ghi',\n",
    "            '5': 'jkl',\n",
    "            '6': 'mno',\n",
    "            '7': 'pqrs',\n",
    "            '8': 'tuv',\n",
    "            '9': 'wxyz'\n",
    "        }\n",
    "        depth = len(digits)\n",
    "        def dfs(i, s):\n",
    "            if i == depth:\n",
    "                result.append(s)\n",
    "                return\n",
    "            \n",
    "            d = digits[i]\n",
    "            for c in dc[d]:\n",
    "                dfs(i+1, s + c)\n",
    "        dfs(0, \"\")\n",
    "        return result\n",
    "\n",
    "Solution().letterCombinations('23')"
   ]
  },
  {
   "cell_type": "markdown",
   "metadata": {},
   "source": [
    "## 18. 4Sum\n",
    "\n",
    "Given an array nums of n integers and an integer target, are there elements a, b, c, and d in nums such that a + b + c + d = target? Find all unique quadruplets in the array which gives the sum of target.\n",
    "\n",
    "Note:\n",
    "\n",
    "The solution set must not contain duplicate quadruplets.\n",
    "\n",
    "Example:\n",
    "\n",
    "Given array nums = [1, 0, -1, 0, -2, 2], and target = 0.\n",
    "\n",
    "A solution set is:\n",
    "[\n",
    "  [-1,  0, 0, 1],\n",
    "  [-2, -1, 1, 2],\n",
    "  [-2,  0, 0, 2]\n",
    "]\n",
    "\n",
    "\n",
    "题意很清楚， 4Sum问题。 感觉上是 $O(n^3)$ 的。 这个问题还可以变成 N-Sum问题。\n",
    "\n",
    "一种做法是利用递归的方式，将N-Sum的问题，归约到 2-Sum 问题。"
   ]
  },
  {
   "cell_type": "code",
   "execution_count": 71,
   "metadata": {},
   "outputs": [
    {
     "data": {
      "text/plain": [
       "[[0, 0, 0, 0]]"
      ]
     },
     "execution_count": 71,
     "metadata": {},
     "output_type": "execute_result"
    }
   ],
   "source": [
    "## 696ms\n",
    "\n",
    "class Solution:\n",
    "    def fourSum(self, nums, target):\n",
    "        \"\"\"\n",
    "        :type nums: List[int]\n",
    "        :type target: int\n",
    "        :rtype: List[List[int]]\n",
    "        \"\"\"\n",
    "        nums.sort()\n",
    "        \n",
    "        N = len(nums)\n",
    "        result = []\n",
    "        def nsum(n, l, t, left):\n",
    "            if n == 2:   # 2sum, O(n)\n",
    "                r = N - 1\n",
    "                while l < r:\n",
    "                    s = nums[l] + nums[r]\n",
    "                    if s < t:\n",
    "                        l += 1\n",
    "                    elif s > t:\n",
    "                        r -= 1\n",
    "                    else:\n",
    "                        result.append(left + [nums[l], nums[r]])\n",
    "                        mem = nums[l]\n",
    "                        l += 1\n",
    "                        r -= 1\n",
    "                        while l < N and nums[l] ==  mem:\n",
    "                            l += 1\n",
    "            else:\n",
    "                mem = None\n",
    "                for i in range(l, N-n+1):\n",
    "                    if nums[i] != mem:\n",
    "                        nsum(n-1, i+1, t-nums[i], left + [nums[i]])\n",
    "                    mem = nums[i]\n",
    "                        \n",
    "        nsum(4, 0, target, [])\n",
    "        \n",
    "        return result\n",
    "\n",
    "Solution().fourSum([1,0,-1,0,-2,2], 0)\n",
    "Solution().fourSum([0, 0, 0, 0], 0)"
   ]
  },
  {
   "cell_type": "code",
   "execution_count": 72,
   "metadata": {},
   "outputs": [
    {
     "data": {
      "text/plain": [
       "[[0, 0, 0, 0]]"
      ]
     },
     "execution_count": 72,
     "metadata": {},
     "output_type": "execute_result"
    }
   ],
   "source": [
    "## 优化一下，加了一个判别条件。 优化到 88ms。\n",
    "\n",
    "class Solution:\n",
    "    def fourSum(self, nums, target):\n",
    "        \"\"\"\n",
    "        :type nums: List[int]\n",
    "        :type target: int\n",
    "        :rtype: List[List[int]]\n",
    "        \"\"\"\n",
    "        nums.sort()\n",
    "        \n",
    "        N = len(nums)\n",
    "        result = []\n",
    "        def nsum(n, l, t, left):\n",
    "            if n == 2:   # 2sum, O(n)\n",
    "                r = N - 1\n",
    "                while l < r:\n",
    "                    s = nums[l] + nums[r]\n",
    "                    if s < t:\n",
    "                        l += 1\n",
    "                    elif s > t:\n",
    "                        r -= 1\n",
    "                    else:\n",
    "                        result.append(left + [nums[l], nums[r]])\n",
    "                        mem = nums[l]\n",
    "                        l += 1\n",
    "                        r -= 1\n",
    "                        while l < N and nums[l] ==  mem:\n",
    "                            l += 1\n",
    "            else:\n",
    "                mem = None\n",
    "                for i in range(l, N-n+1):\n",
    "                    if nums[i] != mem:\n",
    "                        if t < nums[i] * n or t > nums[-1] * n:\n",
    "                            continue\n",
    "                        nsum(n-1, i+1, t-nums[i], left + [nums[i]])\n",
    "                    mem = nums[i]\n",
    "                        \n",
    "        nsum(4, 0, target, [])\n",
    "        \n",
    "        return result\n",
    "\n",
    "Solution().fourSum([1,0,-1,0,-2,2], 0)\n",
    "Solution().fourSum([0, 0, 0, 0], 0)"
   ]
  },
  {
   "cell_type": "markdown",
   "metadata": {},
   "source": [
    "## 20. Valid Parentheses\n",
    "\n",
    "Given a string containing just the characters '(', ')', '{', '}', '[' and ']', determine if the input string is valid.\n",
    "\n",
    "An input string is valid if:\n",
    "\n",
    "Open brackets must be closed by the same type of brackets.\n",
    "Open brackets must be closed in the correct order.\n",
    "Note that an empty string is also considered valid.\n",
    "\n",
    "判断括号结构。很简单，用栈即可。\n",
    "\n"
   ]
  },
  {
   "cell_type": "code",
   "execution_count": 76,
   "metadata": {},
   "outputs": [
    {
     "data": {
      "text/plain": [
       "True"
      ]
     },
     "execution_count": 76,
     "metadata": {},
     "output_type": "execute_result"
    }
   ],
   "source": [
    "class Solution:\n",
    "    def isValid(self, s):\n",
    "        \"\"\"\n",
    "        :type s: str\n",
    "        :rtype: bool\n",
    "        \"\"\"\n",
    "        stack = [''] * len(s)\n",
    "        \n",
    "        bmap = {')': '(', ']': '[', '}': '{'}\n",
    "        \n",
    "        i = 0\n",
    "        for c in s:\n",
    "            if c in ('(', '[', '{'):\n",
    "                stack[i] = c\n",
    "                i += 1\n",
    "            elif c in bmap:\n",
    "                if i == 0 or stack[i-1] != bmap[c]:\n",
    "                    return False\n",
    "                i -= 1\n",
    "                \n",
    "        return i == 0\n",
    "            \n",
    "Solution().isValid(\"()\")"
   ]
  }
 ],
 "metadata": {
  "kernelspec": {
   "display_name": "Python 3",
   "language": "python",
   "name": "python3"
  },
  "language_info": {
   "codemirror_mode": {
    "name": "ipython",
    "version": 3
   },
   "file_extension": ".py",
   "mimetype": "text/x-python",
   "name": "python",
   "nbconvert_exporter": "python",
   "pygments_lexer": "ipython3",
   "version": "3.6.2"
  },
  "toc": {
   "base_numbering": 1,
   "nav_menu": {},
   "number_sections": false,
   "sideBar": true,
   "skip_h1_title": false,
   "title_cell": "Table of Contents",
   "title_sidebar": "Contents",
   "toc_cell": false,
   "toc_position": {
    "height": "calc(100% - 180px)",
    "left": "10px",
    "top": "150px",
    "width": "384px"
   },
   "toc_section_display": true,
   "toc_window_display": true
  },
  "varInspector": {
   "cols": {
    "lenName": 16,
    "lenType": 16,
    "lenVar": 40
   },
   "kernels_config": {
    "python": {
     "delete_cmd_postfix": "",
     "delete_cmd_prefix": "del ",
     "library": "var_list.py",
     "varRefreshCmd": "print(var_dic_list())"
    },
    "r": {
     "delete_cmd_postfix": ") ",
     "delete_cmd_prefix": "rm(",
     "library": "var_list.r",
     "varRefreshCmd": "cat(var_dic_list()) "
    }
   },
   "types_to_exclude": [
    "module",
    "function",
    "builtin_function_or_method",
    "instance",
    "_Feature"
   ],
   "window_display": false
  }
 },
 "nbformat": 4,
 "nbformat_minor": 2
}
