{
 "cells": [
  {
   "cell_type": "markdown",
   "metadata": {},
   "source": [
    "## 10. Modules and Packages\n",
    "\n",
    "我需要理解一些 namespace 的作用"
   ]
  },
  {
   "cell_type": "markdown",
   "metadata": {},
   "source": [
    "### 10.1 理解 Packages of Modules的层级结构\n",
    "\n",
    "`import`\n",
    "\n",
    "参考 \n",
    "\n",
    "- <https://www.learnpython.org/en/Modules_and_Packages>\n",
    "- <https://stackoverflow.com/questions/7948494/whats-the-difference-between-a-python-module-and-a-python-package>\n",
    "\n",
    "感觉都没说清楚。简单说来：\n",
    "\n",
    "1. 每个py文件是一个 module\n",
    "2. 一个目录有了`__init__.py` 文件，就变成python的一个 package\n"
   ]
  },
  {
   "cell_type": "markdown",
   "metadata": {},
   "source": [
    "### 10.2  `from module import *` 控制一下\n",
    "\n",
    "定义 `__all__` ，选择显示哪些"
   ]
  },
  {
   "cell_type": "markdown",
   "metadata": {},
   "source": [
    "### 10.3 `import` 相对路径\n",
    "\n",
    "\n",
    "在这里一定要注意 top路径是什么。 python在执行的时候，文件（或者当前目录）的执行路径，也是 python环境变量的一个。\n",
    "\n",
    "如果不注意，就很容易产生引用错误。\n",
    "\n",
    "**一般不要用相对路径。**"
   ]
  },
  {
   "cell_type": "markdown",
   "metadata": {},
   "source": [
    "### 10.4  Splitting  a Module into Multiple Files\n",
    "\n",
    "这个不太懂，似乎用处不大\n"
   ]
  },
  {
   "cell_type": "markdown",
   "metadata": {},
   "source": [
    "### 10.5 这个问题其实是： 如果一个目录没有 `__init__.py` ，怎么引用目录下的模块？\n",
    "\n",
    "答案是用 `sys.path.append` ，把这个目录路径给加进来。。"
   ]
  },
  {
   "cell_type": "markdown",
   "metadata": {},
   "source": [
    "\n",
    "### 10.6 Reloading Modules\n"
   ]
  },
  {
   "cell_type": "code",
   "execution_count": 1,
   "metadata": {},
   "outputs": [
    {
     "data": {
      "text/plain": [
       "<module 'math' from '/Users/yangdong/.pyenv/versions/anaconda3-5.1.0/envs/DL3/lib/python3.6/lib-dynload/math.cpython-36m-darwin.so'>"
      ]
     },
     "execution_count": 1,
     "metadata": {},
     "output_type": "execute_result"
    }
   ],
   "source": [
    "import math\n",
    "import imp\n",
    "imp.reload(math)"
   ]
  },
  {
   "cell_type": "markdown",
   "metadata": {},
   "source": [
    "### 10.7 运行一个目录，对，就是运行一个目录\n",
    "\n",
    "在目录下面加上 `__main__.py` 文件，作为运行的入口文件。\n",
    "\n",
    "如果目录打包成 `.zip` 文件，可以直接运行 zip文件"
   ]
  },
  {
   "cell_type": "markdown",
   "metadata": {},
   "source": [
    "### 10.8 读取package里面的 datafiles\n",
    "\n",
    "以前也遇到这个问题，例如在flask里面定义一些模板文件。 那么怎么使用这些模板文件？\n",
    "\n",
    "\n",
    "```python\n",
    "import pkgutil\n",
    "data = pkgutil.get_data(__package__, 'somedata.dat')\n",
    "```\n",
    "\n",
    "不明所以。。"
   ]
  },
  {
   "cell_type": "markdown",
   "metadata": {},
   "source": [
    "### 10.9 黑魔法之 添加环境变量 sys.path\n",
    "\n",
    "其实也是为了正常import某个特定目录下的modules。 \n"
   ]
  },
  {
   "cell_type": "markdown",
   "metadata": {},
   "source": [
    "### 10.10 这个比较常用： 使用模块名（字符串），导入模块\n",
    "\n",
    "根据参数，选择性，动态的加载模块的一种方式。"
   ]
  },
  {
   "cell_type": "code",
   "execution_count": 3,
   "metadata": {},
   "outputs": [
    {
     "name": "stdout",
     "output_type": "stream",
     "text": [
      "0.9092974268256817\n"
     ]
    },
    {
     "data": {
      "text/plain": [
       "<module 'urllib.request' from '/Users/yangdong/.pyenv/versions/anaconda3-5.1.0/envs/DL3/lib/python3.6/urllib/request.py'>"
      ]
     },
     "execution_count": 3,
     "metadata": {},
     "output_type": "execute_result"
    }
   ],
   "source": [
    "\n",
    "import importlib\n",
    "math = importlib.import_module('math')\n",
    "\n",
    "print(math.sin(2))\n",
    "\n",
    "mod = importlib.import_module('urllib.request')\n",
    "mod"
   ]
  },
  {
   "cell_type": "code",
   "execution_count": 4,
   "metadata": {},
   "outputs": [
    {
     "name": "stdout",
     "output_type": "stream",
     "text": [
      "None\n"
     ]
    }
   ],
   "source": [
    "print(__package__)"
   ]
  },
  {
   "cell_type": "markdown",
   "metadata": {},
   "source": [
    "### 10.11 黑魔法之 远程加载模块。。。\n",
    "\n",
    "不想看。\n",
    "\n",
    "大致猜测一下，看上面， 导入的模块，会说明其来源，那么这个模块也可以是远程机器上的。\n",
    "\n",
    "想不出这样做的应用场景。"
   ]
  },
  {
   "cell_type": "markdown",
   "metadata": {},
   "source": [
    "### 10.12 Patching Modules on Import\n",
    "\n",
    "这个也见过， monkey patching。\n",
    "\n",
    "这里有一点不一样，下面这个例子，可以指定在加载某个模块的时候，干些什么事情，很有意思"
   ]
  },
  {
   "cell_type": "code",
   "execution_count": 13,
   "metadata": {},
   "outputs": [],
   "source": [
    "# postimport.py\n",
    "\n",
    "import importlib\n",
    "import sys\n",
    "from collections import defaultdict\n",
    "\n",
    "_post_import_hooks = defaultdict(list)\n",
    "\n",
    "class PostImportFinder:\n",
    "    def __init__(self):\n",
    "        self._skip = set()\n",
    "\n",
    "    def find_module(self, fullname, path=None):\n",
    "        if fullname in self._skip:\n",
    "            return None\n",
    "        self._skip.add(fullname)\n",
    "        return PostImportLoader(self)\n",
    "\n",
    "class PostImportLoader:\n",
    "    def __init__(self, finder):\n",
    "        self._finder = finder\n",
    "\n",
    "    def load_module(self, fullname):\n",
    "        importlib.import_module(fullname)\n",
    "        module = sys.modules[fullname]\n",
    "        for func in _post_import_hooks[fullname]:\n",
    "            func(module)\n",
    "        self._finder._skip.remove(fullname)\n",
    "        return module\n",
    "\n",
    "def when_imported(fullname):\n",
    "    def decorate(func):\n",
    "        if fullname in sys.modules:\n",
    "            func(sys.modules[fullname])\n",
    "        else:\n",
    "            _post_import_hooks[fullname].append(func)\n",
    "        return func\n",
    "    return decorate\n",
    "\n",
    "# 注意只运行一次啊\n",
    "if sys.meta_path[0].__class__.__name__ != 'PostImportFinder':\n",
    "    sys.meta_path.insert(0, PostImportFinder())\n"
   ]
  },
  {
   "cell_type": "code",
   "execution_count": 14,
   "metadata": {},
   "outputs": [
    {
     "data": {
      "text/plain": [
       "[<__main__.PostImportFinder at 0x106c6ad68>,\n",
       " _frozen_importlib.BuiltinImporter,\n",
       " _frozen_importlib.FrozenImporter,\n",
       " _frozen_importlib_external.PathFinder,\n",
       " <six._SixMetaPathImporter at 0x104e05128>,\n",
       " <pkg_resources.extern.VendorImporter at 0x105db7a20>,\n",
       " <pkg_resources._vendor.six._SixMetaPathImporter at 0x105e961d0>]"
      ]
     },
     "execution_count": 14,
     "metadata": {},
     "output_type": "execute_result"
    }
   ],
   "source": [
    "sys.meta_path"
   ]
  },
  {
   "cell_type": "code",
   "execution_count": 15,
   "metadata": {},
   "outputs": [
    {
     "name": "stdout",
     "output_type": "stream",
     "text": [
      "Threads? Are you crazy?\n"
     ]
    }
   ],
   "source": [
    "@when_imported('threading')\n",
    "def warn_threads(mod):\n",
    "    print('Threads? Are you crazy?')\n",
    "\n",
    "if __name__ == '__main__':\n",
    "    import threading\n"
   ]
  }
 ],
 "metadata": {
  "kernelspec": {
   "display_name": "Python 3",
   "language": "python",
   "name": "python3"
  },
  "language_info": {
   "codemirror_mode": {
    "name": "ipython",
    "version": 3
   },
   "file_extension": ".py",
   "mimetype": "text/x-python",
   "name": "python",
   "nbconvert_exporter": "python",
   "pygments_lexer": "ipython3",
   "version": "3.6.2"
  },
  "varInspector": {
   "cols": {
    "lenName": 16,
    "lenType": 16,
    "lenVar": 40
   },
   "kernels_config": {
    "python": {
     "delete_cmd_postfix": "",
     "delete_cmd_prefix": "del ",
     "library": "var_list.py",
     "varRefreshCmd": "print(var_dic_list())"
    },
    "r": {
     "delete_cmd_postfix": ") ",
     "delete_cmd_prefix": "rm(",
     "library": "var_list.r",
     "varRefreshCmd": "cat(var_dic_list()) "
    }
   },
   "types_to_exclude": [
    "module",
    "function",
    "builtin_function_or_method",
    "instance",
    "_Feature"
   ],
   "window_display": false
  }
 },
 "nbformat": 4,
 "nbformat_minor": 2
}
