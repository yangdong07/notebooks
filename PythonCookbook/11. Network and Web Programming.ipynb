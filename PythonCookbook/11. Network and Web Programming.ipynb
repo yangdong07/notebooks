{
 "cells": [
  {
   "cell_type": "markdown",
   "metadata": {},
   "source": [
    "## 11. Network and Web Programming"
   ]
  },
  {
   "cell_type": "markdown",
   "metadata": {},
   "source": [
    "### 11.1 HTTP Service\n",
    "\n",
    "搞清楚几个概念：\n",
    "\n",
    "1. 网络连接。 套接字（socket），七层协议。\n",
    "\n",
    "TCP/IP层。 IP 网络层，负责将包发送到指定的地方；  TCP： 传输控制层。\n",
    "\n",
    "python 用作url请求的库有：\n",
    "\n",
    "- urllib\n",
    "- requests"
   ]
  },
  {
   "cell_type": "markdown",
   "metadata": {},
   "source": [
    "\n",
    "### 11.2 TCP Server\n",
    "\n",
    "python自带 ：  `socketserver.TCPServer`\n",
    "\n",
    "如果用一些web框架，比如有 `flask`， `Django` 等等"
   ]
  },
  {
   "cell_type": "code",
   "execution_count": 2,
   "metadata": {},
   "outputs": [],
   "source": [
    "from socketserver import BaseRequestHandler, TCPServer\n",
    "\n",
    "class EchoHandler(BaseRequestHandler):\n",
    "    def handle(self):\n",
    "        print('Got connection from', self.client_address)\n",
    "        while True:\n",
    "            msg = self.request.recv(8192)\n",
    "            if not msg:\n",
    "                break\n",
    "            self.request.send(msg)\n",
    "\n",
    "def main():\n",
    "    serv = TCPServer(('', 20000), EchoHandler)\n",
    "    print('Echo server running on port 20000')\n",
    "    serv.serve_forever()\n"
   ]
  },
  {
   "cell_type": "markdown",
   "metadata": {},
   "source": [
    "下面的例子用了若干线程，起了若干server。"
   ]
  },
  {
   "cell_type": "code",
   "execution_count": 4,
   "metadata": {},
   "outputs": [],
   "source": [
    "from socketserver import StreamRequestHandler, TCPServer\n",
    "\n",
    "class EchoHandler(StreamRequestHandler):\n",
    "    def handle(self):\n",
    "        print('Got connection from', self.client_address)\n",
    "        # self.rfile is a file-like object for reading\n",
    "        for line in self.rfile:\n",
    "            # self.wfile is a file-like object for writing\n",
    "            self.wfile.write(line)\n",
    "\n",
    "def main():\n",
    "    from threading import Thread\n",
    "    NWORKERS = 16\n",
    "    serv = TCPServer(('', 20000), EchoHandler)\n",
    "    for n in range(NWORKERS):\n",
    "        t = Thread(target=serv.serve_forever)\n",
    "        t.daemon = True\n",
    "        t.start()\n",
    "    print('Multithreaded server running on port 20000')\n",
    "    serv.serve_forever()\n"
   ]
  },
  {
   "cell_type": "markdown",
   "metadata": {},
   "source": [
    "### 11.3 UDP Server\n",
    "\n"
   ]
  },
  {
   "cell_type": "code",
   "execution_count": 5,
   "metadata": {},
   "outputs": [],
   "source": [
    "from socketserver import BaseRequestHandler, UDPServer\n",
    "import time\n",
    "\n",
    "class TimeHandler(BaseRequestHandler):\n",
    "    def handle(self):\n",
    "        print('Got connection from', self.client_address)\n",
    "        # Get message and client socket\n",
    "        msg, sock = self.request\n",
    "        resp = time.ctime()\n",
    "        sock.sendto(resp.encode('ascii'), self.client_address)\n",
    "\n",
    "def main():\n",
    "    serv = UDPServer(('', 20000), TimeHandler)\n",
    "    serv.serve_forever()\n"
   ]
  },
  {
   "cell_type": "markdown",
   "metadata": {},
   "source": [
    "\n",
    "### 11.4 IP地址的一些操作\n",
    "\n",
    "python库 有 `ipaddress`"
   ]
  },
  {
   "cell_type": "code",
   "execution_count": 8,
   "metadata": {},
   "outputs": [
    {
     "name": "stdout",
     "output_type": "stream",
     "text": [
      "123.45.67.64\n",
      "123.45.67.65\n",
      "123.45.67.66\n",
      "123.45.67.67\n",
      "123.45.67.68\n",
      "123.45.67.69\n",
      "123.45.67.70\n",
      "123.45.67.71\n",
      "123.45.67.72\n",
      "123.45.67.73\n",
      "123.45.67.74\n",
      "123.45.67.75\n",
      "123.45.67.76\n",
      "123.45.67.77\n",
      "123.45.67.78\n",
      "123.45.67.79\n",
      "123.45.67.80\n",
      "123.45.67.81\n",
      "123.45.67.82\n",
      "123.45.67.83\n",
      "123.45.67.84\n",
      "123.45.67.85\n",
      "123.45.67.86\n",
      "123.45.67.87\n",
      "123.45.67.88\n",
      "123.45.67.89\n",
      "123.45.67.90\n",
      "123.45.67.91\n",
      "123.45.67.92\n",
      "123.45.67.93\n",
      "123.45.67.94\n",
      "123.45.67.95\n"
     ]
    }
   ],
   "source": [
    "import ipaddress\n",
    "\n",
    "net = ipaddress.ip_network('123.45.67.64/27')\n",
    "\n",
    "for a in net:\n",
    "    print(a)"
   ]
  },
  {
   "cell_type": "markdown",
   "metadata": {},
   "source": [
    "### 11.5 REST API\n",
    "\n",
    "关于web编程也有一些概念，比如 WSGI。\n",
    "\n",
    "一些问题：\n",
    "\n",
    "1. 什么是 web server？\n",
    "2. apache 和nginx的区别？\n",
    "3. 什么是WSGI？\n",
    "4. WSGI框架\n",
    "\n"
   ]
  },
  {
   "cell_type": "code",
   "execution_count": 11,
   "metadata": {},
   "outputs": [],
   "source": [
    "#web_application.py\n",
    "from wsgiref.simple_server import make_server\n",
    "\n",
    "def application(environ, start_response):\n",
    "    path = environ.get('PATH_INFO')\n",
    "    if path == '/':\n",
    "        response_body = \"Index\"\n",
    "    else:\n",
    "        response_body = \"Hello\"\n",
    "    status = \"200 OK\"\n",
    "    response_headers = [(\"Content-Length\", str(len(response_body)))]\n",
    "    start_response(status, response_headers)\n",
    "    return [response_body]\n",
    "\n",
    "def main():\n",
    "    httpd = make_server(\n",
    "        '127.0.0.1', 8051, application)\n",
    "\n",
    "    httpd.serve_forever()\n",
    "    "
   ]
  },
  {
   "cell_type": "markdown",
   "metadata": {},
   "source": [
    "### 11.6 Simple Remote Procedure Call\n",
    "\n",
    "XML-RPC\n",
    "\n",
    "这个概念没有遇到过。略。\n",
    "\n",
    "### 11.7 Communicating Simply Between Interpreters 解释器间通信\n",
    "\n",
    "也没有遇到过。 略。\n",
    "\n",
    "### 11.8 RemoteProcedure Call， RPC\n",
    "\n",
    "\n",
    "### 11.10 Adding SSL to Network Services\n",
    "\n",
    "### 11.11 进程间传递 Socket File Descriptor"
   ]
  },
  {
   "cell_type": "markdown",
   "metadata": {},
   "source": [
    "\n",
    "### 11.12 Understanding Event-Driven I/O\n",
    "\n",
    "事件驱动IO。 轮询机制。\n",
    "\n",
    "计算机科学解决的大部分问题是 如何最大化利用硬件资源的问题。 这里面又有一大块是并发的问题。 \n",
    "\n",
    "如果能用，就绝不让他闲着。就是这样的原则。。。\n",
    "\n",
    "对于一些 I/O操作， 通常感觉是很慢，容易阻塞，比如网络请求。等待的时候，可以做些其他事情。 但什么时候再回来。 这样会有一些机制。\n",
    "\n",
    "事件驱动型I/O，的原理实际上是一种 轮询机制： 任务派下去之后， 询问各代表，事情有没有做完？ 如果做完了，继续下一步\n",
    "\n",
    "\n",
    "下面的例子只是描述了这样的一个概念。\n",
    "\n",
    "关于select、poll、epoll见 <https://segmentfault.com/a/1190000003063859> 写的很好。"
   ]
  },
  {
   "cell_type": "code",
   "execution_count": 12,
   "metadata": {},
   "outputs": [],
   "source": [
    "class EventHandler:\n",
    "    def fileno(self):\n",
    "        'Return the associated file descriptor'\n",
    "        raise NotImplemented('must implement')\n",
    "\n",
    "    def wants_to_receive(self):\n",
    "        'Return True if receiving is allowed'\n",
    "        return False\n",
    "\n",
    "    def handle_receive(self):\n",
    "        'Perform the receive operation'\n",
    "        pass\n",
    "\n",
    "    def wants_to_send(self):\n",
    "        'Return True if sending is requested' \n",
    "        return False\n",
    "\n",
    "    def handle_send(self):\n",
    "        'Send outgoing data'\n",
    "        pass\n",
    "\n",
    "import select\n",
    "\n",
    "def event_loop(handlers):\n",
    "    while True:\n",
    "        wants_recv = [h for h in handlers if h.wants_to_receive()]\n",
    "        wants_send = [h for h in handlers if h.wants_to_send()]\n",
    "        can_recv, can_send, _ = select.select(wants_recv, wants_send, [])\n",
    "        for h in can_recv:\n",
    "            h.handle_receive()\n",
    "        for h in can_send:\n",
    "            h.handle_send()\n"
   ]
  },
  {
   "cell_type": "markdown",
   "metadata": {},
   "source": [
    "\n",
    "udp server是一种无连接的server， 不会保持连接。\n",
    "\n",
    "tcp server是一种保持连接的server。除非client主动断掉或者其他异常。\n"
   ]
  },
  {
   "cell_type": "markdown",
   "metadata": {},
   "source": [
    "### 11.13 Sending and Receiving Large Arrays\n",
    "\n",
    "发送和接受大数组。\n",
    "\n",
    "可能是因为 内存的限制，无法一次copy太多。\n",
    "\n",
    "同时为了最大化减少copy的次数。\n"
   ]
  }
 ],
 "metadata": {
  "kernelspec": {
   "display_name": "Python 3",
   "language": "python",
   "name": "python3"
  },
  "language_info": {
   "codemirror_mode": {
    "name": "ipython",
    "version": 3
   },
   "file_extension": ".py",
   "mimetype": "text/x-python",
   "name": "python",
   "nbconvert_exporter": "python",
   "pygments_lexer": "ipython3",
   "version": "3.6.2"
  },
  "varInspector": {
   "cols": {
    "lenName": 16,
    "lenType": 16,
    "lenVar": 40
   },
   "kernels_config": {
    "python": {
     "delete_cmd_postfix": "",
     "delete_cmd_prefix": "del ",
     "library": "var_list.py",
     "varRefreshCmd": "print(var_dic_list())"
    },
    "r": {
     "delete_cmd_postfix": ") ",
     "delete_cmd_prefix": "rm(",
     "library": "var_list.r",
     "varRefreshCmd": "cat(var_dic_list()) "
    }
   },
   "types_to_exclude": [
    "module",
    "function",
    "builtin_function_or_method",
    "instance",
    "_Feature"
   ],
   "window_display": false
  }
 },
 "nbformat": 4,
 "nbformat_minor": 2
}
