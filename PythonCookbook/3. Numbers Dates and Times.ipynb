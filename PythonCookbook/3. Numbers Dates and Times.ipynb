{
 "cells": [
  {
   "cell_type": "markdown",
   "metadata": {},
   "source": [
    "## 3. Numbers, Dates, and Times\n",
    "\n",
    "数字，日期，和时间\n",
    "\n",
    "主要难点：\n",
    "\n",
    "1. 数值的精度处理\n",
    "2. 日期的格式转换\n",
    "3. 时区\n"
   ]
  },
  {
   "cell_type": "markdown",
   "metadata": {},
   "source": [
    "\n",
    "### 3.1 rounding numerical values"
   ]
  },
  {
   "cell_type": "code",
   "execution_count": 7,
   "metadata": {},
   "outputs": [
    {
     "name": "stdout",
     "output_type": "stream",
     "text": [
      "1.2\n",
      "1.3\n",
      "-1.3\n",
      "1.254\n",
      "2\n",
      "2\n",
      "4\n",
      "1.1\n",
      "2.2\n",
      "3.4\n"
     ]
    }
   ],
   "source": [
    "print(round(1.23, 1))\n",
    "print(round(1.27, 1))\n",
    "print(round(-1.27, 1))\n",
    "print(round(1.25361, 3))\n",
    "\n",
    "\n",
    "print(round(1.5))\n",
    "print(round(2.5))  ## neareat even\n",
    "print(round(3.5))\n",
    "\n",
    "print(round(1.15, 1))\n",
    "print(round(2.25, 1))  ## neareat even\n",
    "print(round(3.35, 1))"
   ]
  },
  {
   "cell_type": "markdown",
   "metadata": {},
   "source": [
    "### 3.2 精确的数值计算\n",
    "\n",
    "如果用普通的浮点型，直接计算，经常会出现一些数值错误。\n",
    "\n",
    "在需要精确计算的地方，用 `decimal.Decimal`。"
   ]
  },
  {
   "cell_type": "code",
   "execution_count": 13,
   "metadata": {},
   "outputs": [
    {
     "name": "stdout",
     "output_type": "stream",
     "text": [
      "6.3\n",
      "0.7647058823529411764705882353\n",
      "0.765\n"
     ]
    }
   ],
   "source": [
    "from decimal import Decimal, localcontext\n",
    "\n",
    "a = Decimal('4.2')\n",
    "b = Decimal('2.1')\n",
    "\n",
    "print(a + b)\n",
    "print(Decimal('1.3') / Decimal('1.7'))\n",
    "\n",
    "with localcontext() as ctx:\n",
    "    ctx.prec = 3\n",
    "    print(Decimal('1.3') / Decimal('1.7'))"
   ]
  },
  {
   "cell_type": "markdown",
   "metadata": {},
   "source": [
    "### 3.3 数值格式化输出\n",
    "\n",
    "` '[<>^]?width[,]?(.digits)?'`"
   ]
  },
  {
   "cell_type": "code",
   "execution_count": 17,
   "metadata": {},
   "outputs": [
    {
     "name": "stdout",
     "output_type": "stream",
     "text": [
      "1234.57\n",
      "    1234.6\n",
      "1234.6    \n",
      "  1234.6  \n",
      "1,234.56789\n",
      "1,234.6\n",
      "1.234568e+03\n",
      "1.23E+03\n"
     ]
    }
   ],
   "source": [
    "x = 1234.56789\n",
    "\n",
    "print(format(x, '0.2f'))\n",
    "print(format(x, '>10.1f'))\n",
    "print(format(x, '<10.1f'))\n",
    "print(format(x, '^10.1f'))\n",
    "print(format(x, ','))       # 千分位\n",
    "print(format(x, '0,.1f'))\n",
    "print(format(x, 'e'))       # 科学计数\n",
    "print(format(x, '0.2E'))       # 科学计数"
   ]
  },
  {
   "cell_type": "markdown",
   "metadata": {},
   "source": [
    "### 3.4 二进制（binary）、八进制（Octal）、十六进制（Hexadecimal）与十进制转换"
   ]
  },
  {
   "cell_type": "code",
   "execution_count": 23,
   "metadata": {
    "scrolled": true
   },
   "outputs": [
    {
     "name": "stdout",
     "output_type": "stream",
     "text": [
      "0b10011010010\n",
      "0o2322\n",
      "0x4d2\n",
      "10011010010\n",
      "2322\n",
      "4d2\n",
      "1234\n",
      "1234\n",
      "1234\n"
     ]
    }
   ],
   "source": [
    "x = 1234\n",
    "print(bin(x))\n",
    "print(oct(x))\n",
    "print(hex(x))\n",
    "\n",
    "print(format(x, 'b'))\n",
    "print(format(x, 'o'))\n",
    "print(format(x, 'x'))\n",
    "\n",
    "print(int(bin(x), 2))\n",
    "print(int(oct(x), 8))\n",
    "print(int(hex(x), 16))"
   ]
  },
  {
   "cell_type": "markdown",
   "metadata": {},
   "source": [
    "\n",
    "### 3.5 从Bytes解析大数字\n",
    "\n",
    "`int.from_bytes`"
   ]
  },
  {
   "cell_type": "code",
   "execution_count": 31,
   "metadata": {},
   "outputs": [
    {
     "name": "stdout",
     "output_type": "stream",
     "text": [
      "b'\\x00\\x00\\x00\\x00\\x00\\x00\\x00\\x00\\x00\\x00\\x00\\x00\\x00\\x00\\xff\\xff'\n",
      "b'\\xff\\xff\\x00\\x00\\x00\\x00\\x00\\x00\\x00\\x00\\x00\\x00\\x00\\x00\\x00\\x00'\n",
      "65535\n",
      "340277174624079928635746076935438991360\n"
     ]
    }
   ],
   "source": [
    "\n",
    "x = 65535\n",
    "bx = x.to_bytes(16, 'big')\n",
    "\n",
    "print(x.to_bytes(16, 'big'))    # 高位在左，低位在右\n",
    "print(x.to_bytes(16, 'little')) # 低位在左，高位在右\n",
    "\n",
    "print(int.from_bytes(bx, 'big'))\n",
    "print(int.from_bytes(bx, 'little'))"
   ]
  },
  {
   "cell_type": "markdown",
   "metadata": {},
   "source": [
    "### 3.6 复数计算"
   ]
  },
  {
   "cell_type": "code",
   "execution_count": 40,
   "metadata": {},
   "outputs": [
    {
     "name": "stdout",
     "output_type": "stream",
     "text": [
      "(3+4j)\n",
      "3.0\n",
      "4.0\n",
      "(3-4j)\n",
      "5.0\n",
      "(3.853738037919377-27.016813258003936j)\n",
      "(-27.034945603074224-3.8511533348117775j)\n",
      "(-13.128783081462158-15.200784463067954j)\n",
      "1j\n"
     ]
    }
   ],
   "source": [
    "a = complex(3, 4)\n",
    "print(a)\n",
    "print(a.real)\n",
    "print(a.imag)\n",
    "print(a.conjugate())\n",
    "print(abs(a))\n",
    "\n",
    "import cmath   # 复数运算\n",
    "print(cmath.sin(a))\n",
    "print(cmath.cos(a))\n",
    "print(cmath.exp(a))\n",
    "\n",
    "print(cmath.sqrt(-1))"
   ]
  },
  {
   "cell_type": "markdown",
   "metadata": {},
   "source": [
    "### 3.7 Infinity and NaNs\n",
    "\n"
   ]
  },
  {
   "cell_type": "code",
   "execution_count": 46,
   "metadata": {},
   "outputs": [
    {
     "name": "stdout",
     "output_type": "stream",
     "text": [
      "inf\n",
      "-inf\n",
      "nan\n"
     ]
    }
   ],
   "source": [
    "a = float('inf')\n",
    "b = float('-inf')\n",
    "c = float('nan')\n",
    "d = float('nan')\n",
    "\n",
    "print(a)\n",
    "print(b)\n",
    "print(c)\n",
    "\n",
    "import math\n",
    "assert math.isinf(a)\n",
    "assert math.isinf(b)\n",
    "assert math.isnan(c)\n",
    "\n",
    "assert math.isinf(a + 1)\n",
    "assert 10.0 / a == 0.0\n",
    "assert math.isnan(c + 1)\n",
    "\n",
    "assert c != d"
   ]
  },
  {
   "cell_type": "markdown",
   "metadata": {},
   "source": [
    "### 3.8 分数计算（Fractions）\n",
    "\n",
    "`fractions.Fraction`"
   ]
  },
  {
   "cell_type": "code",
   "execution_count": 59,
   "metadata": {},
   "outputs": [
    {
     "name": "stdout",
     "output_type": "stream",
     "text": [
      "27/16\n",
      "35/64\n",
      "35\n",
      "64\n",
      "0.546875\n",
      "6/11\n",
      "4/7\n",
      "(15, 4)\n",
      "15/4\n"
     ]
    }
   ],
   "source": [
    "from fractions import Fraction\n",
    "\n",
    "a = Fraction(5, 4)\n",
    "b = Fraction(7, 16)\n",
    "c = a * b\n",
    "print(a + b)\n",
    "print(c)\n",
    "print(c.numerator)\n",
    "print(c.denominator)\n",
    "\n",
    "print(float(c))\n",
    "print(c.limit_denominator(12))   # 限制分母大小，近似\n",
    "print(c.limit_denominator(8))   # 限制分母大小，近似\n",
    "\n",
    "x = 3.75\n",
    "print(x.as_integer_ratio())\n",
    "y = Fraction(*x.as_integer_ratio())\n",
    "print(y)"
   ]
  },
  {
   "cell_type": "markdown",
   "metadata": {},
   "source": [
    "### 3.9 numpy 计算（略）\n",
    "\n",
    "### 3.10 随机选取数字 （random）"
   ]
  },
  {
   "cell_type": "code",
   "execution_count": 92,
   "metadata": {},
   "outputs": [
    {
     "name": "stdout",
     "output_type": "stream",
     "text": [
      "6,2,5,2,2,5,3,3,3,2,\n",
      "[4, 6, 5],[3, 4, 4],[4, 3, 6],[1, 4, 6],[4, 4, 4],[5, 5, 6],[5, 5, 2],[6, 3, 4],[2, 1, 5],[6, 6, 1],\n",
      "[6, 1, 4],[4, 3, 2],[3, 1, 4],[3, 6, 4],[6, 2, 3],[4, 1, 5],[2, 4, 3],[1, 3, 4],[6, 1, 3],[1, 4, 6],\n",
      "[3, 6, 2, 4, 5, 1]\n",
      "9,3,6,5,4,7,6,8,7,7,\n",
      "0.7516995522379439,0.3494001985380403,0.3271402149280057,0.7500038200114834,0.2608108981330731,\n",
      "12\n"
     ]
    }
   ],
   "source": [
    "import random\n",
    "random.seed()    # seed based on system time or os.urandom()\n",
    "\n",
    "values = list(range(1, 7, 1))\n",
    "for i in range(10):\n",
    "    print(random.choice(values), end=',')    # 随机选择一个\n",
    "print()\n",
    "\n",
    "for i in range(10):\n",
    "    print(random.choices(values, k=3), end=',') # 随机选择三次，每次选完放回\n",
    "print()\n",
    "\n",
    "for i in range(10):\n",
    "    print(random.sample(values, k=3), end=',') # 随机抽三个\n",
    "print()\n",
    "\n",
    "random.shuffle(values)  # 随机排序，就地\n",
    "print(values)\n",
    "\n",
    "for i in range(10):  \n",
    "    print(random.randint(0, 10), end=',')   # 随机数 (0, 10) 范围类\n",
    "print()\n",
    "\n",
    "for i in range(5):  \n",
    "    print(random.random(), end=',')   # 随机数 (0, 1) 范围内均匀分布\n",
    "print()\n",
    "\n",
    "print(random.getrandbits(5))    # 5个随机bits。。\n",
    "\n",
    "\n",
    "random.seed()    # seed based on system time or os.urandom()\n",
    "random.seed(12345)"
   ]
  },
  {
   "cell_type": "markdown",
   "metadata": {},
   "source": [
    "### 3.12 上周五是哪天（日期）？\n",
    "\n",
    "主要就是计算 weekday的差值。\n",
    "\n",
    "1. 先找到起始日（今天）的 weekday\n",
    "2. 比较目标日的weekday， 减去天数，即得到日期\n"
   ]
  },
  {
   "cell_type": "code",
   "execution_count": 94,
   "metadata": {},
   "outputs": [
    {
     "name": "stdout",
     "output_type": "stream",
     "text": [
      "2018-03-30 21:59:16.976052\n",
      "2018-03-23 21:59:16.976342\n",
      "2018-03-26 21:59:16.976515\n"
     ]
    }
   ],
   "source": [
    "from datetime import datetime, timedelta\n",
    "\n",
    "weekdays = ['Monday', 'Tuesday', 'Wednesday', 'Thursday', 'Friday', 'Saturday', 'Sunday']\n",
    "\n",
    "def get_previous_byday(dayname, start_date=None):\n",
    "    if start_date is None:\n",
    "        start_date = datetime.today()\n",
    "    day_num = start_date.weekday()\n",
    "    day_num_target = weekdays.index(dayname)\n",
    "    days_ago = (7 + day_num - day_num_target) % 7 \n",
    "    if days_ago == 0:\n",
    "        days_ago = 7\n",
    "    target_date = start_date - timedelta(days=days_ago)\n",
    "    return target_date\n",
    "\n",
    "print(datetime.today())\n",
    "print(get_previous_byday('Friday'))\n",
    "print(get_previous_byday('Monday'))"
   ]
  },
  {
   "cell_type": "markdown",
   "metadata": {},
   "source": [
    "\n",
    "### 3.13 指定年，月份，给出此月份的起始、终止日期\n",
    "\n",
    "这个关键实际上就是 datetime 里的 days_in_month 函数，还需要一个 `is_leap_year` 的函数\n",
    "\n",
    "但是用python实现的时候，用 `calendar.monthrange` "
   ]
  },
  {
   "cell_type": "code",
   "execution_count": 99,
   "metadata": {},
   "outputs": [
    {
     "name": "stdout",
     "output_type": "stream",
     "text": [
      "2018-03-01 2018-04-01\n"
     ]
    }
   ],
   "source": [
    "from datetime import datetime, date, timedelta\n",
    "import calendar\n",
    "\n",
    "def get_month_range(start_date=None):\n",
    "    if start_date is None:\n",
    "        start_date = date.today().replace(day=1)\n",
    "    days_in_month = calendar.monthrange(start_date.year, start_date.month)[1]\n",
    "    end_date = start_date + timedelta(days=days_in_month)\n",
    "    return (start_date, end_date)\n",
    "\n",
    "first_day, last_day = get_month_range()\n",
    "print(first_day, last_day)\n",
    "# a_day = timedelta(days=1)\n",
    "# while first_day < last_day:\n",
    "#     print(first_day)\n",
    "#     first_day += a_day\n",
    "\n",
    "# def daterange(start, stop, step):\n",
    "#     while start < stop:\n",
    "#         yield start\n",
    "#         start += step\n",
    "\n",
    "# for d in daterange(date(2012, 8, 1), date(2012, 8, 11), timedelta(days=1)):\n",
    "#     print(d)\n",
    "\n",
    "# # for d in daterange(datetime(2012, 8, 1), datetime(2012, 8, 3), timedelta(minutes=30)):\n",
    "# #     print(d)\n",
    "\n"
   ]
  },
  {
   "cell_type": "markdown",
   "metadata": {},
   "source": [
    "\n",
    "### 3.14 字符串到Datetimes\n",
    "\n",
    "见 <https://docs.python.org/3/library/datetime.html> 最末"
   ]
  },
  {
   "cell_type": "code",
   "execution_count": 101,
   "metadata": {},
   "outputs": [
    {
     "name": "stdout",
     "output_type": "stream",
     "text": [
      "2012-09-20 00:00:00\n",
      "Friday March 30, 2018\n"
     ]
    }
   ],
   "source": [
    "from datetime import datetime\n",
    "\n",
    "text = '2012-09-20'\n",
    "print(datetime.strptime(text, '%Y-%m-%d'))\n",
    "\n",
    "print(datetime.strftime(datetime.now(), '%A %B %d, %Y'))"
   ]
  },
  {
   "cell_type": "markdown",
   "metadata": {},
   "source": [
    "\n",
    "### 3.15 处理时区\n"
   ]
  },
  {
   "cell_type": "code",
   "execution_count": 109,
   "metadata": {},
   "outputs": [
    {
     "name": "stdout",
     "output_type": "stream",
     "text": [
      "2018-03-30 22:11:35.568675\n",
      "2018-03-30 22:11:35.568675-05:00\n"
     ]
    }
   ],
   "source": [
    "from datetime import datetime\n",
    "from pytz import timezone\n",
    "\n",
    "d = datetime.now()   ## 系统给定的时间，无时区的\n",
    "\n",
    "print(d)\n",
    "\n",
    "tz_us = timezone('US/Central')\n",
    "d_us = tz_us.localize(d)   ## 时区化\n",
    "print(d_us)"
   ]
  },
  {
   "cell_type": "code",
   "execution_count": null,
   "metadata": {},
   "outputs": [],
   "source": []
  }
 ],
 "metadata": {
  "kernelspec": {
   "display_name": "Python 3",
   "language": "python",
   "name": "python3"
  },
  "language_info": {
   "codemirror_mode": {
    "name": "ipython",
    "version": 3
   },
   "file_extension": ".py",
   "mimetype": "text/x-python",
   "name": "python",
   "nbconvert_exporter": "python",
   "pygments_lexer": "ipython3",
   "version": "3.6.2"
  },
  "varInspector": {
   "cols": {
    "lenName": 16,
    "lenType": 16,
    "lenVar": 40
   },
   "kernels_config": {
    "python": {
     "delete_cmd_postfix": "",
     "delete_cmd_prefix": "del ",
     "library": "var_list.py",
     "varRefreshCmd": "print(var_dic_list())"
    },
    "r": {
     "delete_cmd_postfix": ") ",
     "delete_cmd_prefix": "rm(",
     "library": "var_list.r",
     "varRefreshCmd": "cat(var_dic_list()) "
    }
   },
   "types_to_exclude": [
    "module",
    "function",
    "builtin_function_or_method",
    "instance",
    "_Feature"
   ],
   "window_display": false
  }
 },
 "nbformat": 4,
 "nbformat_minor": 2
}
