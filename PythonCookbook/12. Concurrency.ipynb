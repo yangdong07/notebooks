{
 "cells": [
  {
   "cell_type": "markdown",
   "metadata": {},
   "source": [
    "## 12. Concurrency\n",
    "\n",
    "IO 和并发， 两大问题。 本质上仍然是最大化利用计算机资源的问题。\n",
    "\n",
    "如果想要使计算机“同时”做多件事情， 考虑 并发。 但实际上 CPU（单核）一次只能做一件事情（一个指令），所以做一会儿程序1，再做一会儿程序2。 因为CPU计算速度很快，会造成同时做事情的错觉。\n",
    "\n",
    "并发的几个概念：\n",
    "\n",
    "1. 进程\n",
    "2. 线程\n"
   ]
  },
  {
   "cell_type": "markdown",
   "metadata": {},
   "source": [
    "### 12.1 Starting and Stopping Threads\n",
    "\n"
   ]
  },
  {
   "cell_type": "code",
   "execution_count": 9,
   "metadata": {},
   "outputs": [
    {
     "name": "stdout",
     "output_type": "stream",
     "text": [
      "T-minus 10\n",
      "Still running\n",
      "T-minus 9\n",
      "T-minus 8\n",
      "T-minus 7\n",
      "T-minus 6\n",
      "T-minus 5\n",
      "T-minus 4\n",
      "T-minus 3\n",
      "T-minus 2\n",
      "T-minus 1\n"
     ]
    }
   ],
   "source": [
    "import time\n",
    "\n",
    "def countdown(n):\n",
    "    while n > 0:\n",
    "        print('T-minus', n)\n",
    "        n -= 1\n",
    "        time.sleep(2)\n",
    "        \n",
    "from threading import Thread\n",
    "t = Thread(target=countdown, args=(10, ))\n",
    "t.start()\n",
    "\n",
    "if t.is_alive():\n",
    "    print('Still running')\n",
    "else:\n",
    "    print('Completed')\n",
    "    \n",
    "t.join()"
   ]
  },
  {
   "cell_type": "markdown",
   "metadata": {},
   "source": [
    "### 12.2 监控线程： 知道何时开始"
   ]
  },
  {
   "cell_type": "code",
   "execution_count": 11,
   "metadata": {},
   "outputs": [
    {
     "name": "stdout",
     "output_type": "stream",
     "text": [
      "Lauching coutndown\n",
      "countdown startingwait\n",
      "\n",
      "T-minus 10\n",
      "is running\n",
      "T-minus 9\n",
      "T-minus 8\n",
      "T-minus 7\n",
      "T-minus 6\n",
      "T-minus 5\n",
      "T-minus 4\n",
      "T-minus 3\n",
      "T-minus 2\n",
      "T-minus 1\n"
     ]
    }
   ],
   "source": [
    "\n",
    "\n",
    "from threading import Thread, Event\n",
    "\n",
    "\n",
    "def countdown(n, started_evt):\n",
    "    print('countdown starting')\n",
    "    started_evt.set()   # 这里发出信号。。\n",
    "    while n > 0:\n",
    "        print('T-minus', n)\n",
    "        n -= 1\n",
    "        time.sleep(2)\n",
    "        \n",
    "started_evt = Event()\n",
    "    \n",
    "print('Lauching coutndown')\n",
    "t = Thread(target=countdown, args=(10, started_evt))\n",
    "t.start()\n",
    "\n",
    "print('wait')\n",
    "time.sleep(2)\n",
    "started_evt.wait()\n",
    "print('is running')\n",
    "\n",
    "t.join()"
   ]
  },
  {
   "cell_type": "markdown",
   "metadata": {},
   "source": [
    "### 12.3 线程间通信\n",
    "\n",
    "主要靠队列。。。  生产者消耗者模型。\n",
    "\n",
    "队列也可以是优先级队列"
   ]
  },
  {
   "cell_type": "code",
   "execution_count": 12,
   "metadata": {
    "scrolled": true
   },
   "outputs": [
    {
     "name": "stdout",
     "output_type": "stream",
     "text": [
      "Got: 10\n",
      "Got: 9\n",
      "Got: 8\n",
      "Got: 7\n",
      "Got: 6\n",
      "Got: 5\n",
      "Got: 4\n",
      "Got: 3\n",
      "Got: 2\n",
      "Got: 1\n",
      "Consumer shutting down\n"
     ]
    }
   ],
   "source": [
    "from queue import Queue\n",
    "from threading import Thread\n",
    "import time\n",
    "\n",
    "_sentinel = object()\n",
    "\n",
    "# A thread that produces data\n",
    "def producer(out_q):\n",
    "    n = 10\n",
    "    while n > 0:\n",
    "        # Produce some data\n",
    "        out_q.put(n)\n",
    "        time.sleep(2)\n",
    "        n -= 1\n",
    "\n",
    "\n",
    "    # Put the sentinel on the queue to indicate completion\n",
    "    out_q.put(_sentinel)\n",
    "\n",
    "# A thread that consumes data\n",
    "def consumer(in_q):\n",
    "    while True:\n",
    "        # Get some data\n",
    "        data = in_q.get()\n",
    "\n",
    "        # Check for termination\n",
    "        if data is _sentinel:\n",
    "            in_q.put(_sentinel)\n",
    "            break\n",
    "\n",
    "        # Process the data\n",
    "        print('Got:', data)\n",
    "    print('Consumer shutting down')\n",
    "\n",
    "if __name__ == '__main__':\n",
    "    q = Queue()\n",
    "    t1 = Thread(target=consumer, args=(q,))\n",
    "    t2 = Thread(target=producer, args=(q,))\n",
    "    t1.start()\n",
    "    t2.start()\n",
    "    t1.join()\n",
    "    t2.join()\n"
   ]
  },
  {
   "cell_type": "markdown",
   "metadata": {},
   "source": [
    "\n",
    "### 12.4 线程锁\n",
    "\n",
    "避免竞争（race condition）\n",
    "\n",
    "下面这个例子非常简单直观。  多个线程共用一个计数器对象。 当修改值的时候，用锁保护一下。  不这样做，会造成计算错误\n",
    "\n",
    "有一些对象不是线程安全的，意思就是指 多个线程共用这个对象（修改值），会产生错误。\n",
    "\n",
    "错误产生的原因，也很好解释：\n",
    "\n",
    "比如此时 `_value` 值是 100， 一个线程加1， 计算得到101；还没有赋值给 `_value` 的时候， 另一个线程减1， 计算得到99，并且赋值给 `_value`。再到第一个线程的时候，`_value`值为 101。 所以第二个线程所做的工作都白费了。  最后结果一定是错误的。"
   ]
  },
  {
   "cell_type": "code",
   "execution_count": 16,
   "metadata": {
    "scrolled": true
   },
   "outputs": [
    {
     "name": "stdout",
     "output_type": "stream",
     "text": [
      "Running test\n",
      "-75097\n"
     ]
    },
    {
     "ename": "AssertionError",
     "evalue": "",
     "output_type": "error",
     "traceback": [
      "\u001b[0;31m---------------------------------------------------------------------------\u001b[0m",
      "\u001b[0;31mAssertionError\u001b[0m                            Traceback (most recent call last)",
      "\u001b[0;32m<ipython-input-16-3bc3a9aba01d>\u001b[0m in \u001b[0;36m<module>\u001b[0;34m()\u001b[0m\n\u001b[1;32m     45\u001b[0m \u001b[0;34m\u001b[0m\u001b[0m\n\u001b[1;32m     46\u001b[0m     \u001b[0mprint\u001b[0m\u001b[0;34m(\u001b[0m\u001b[0mc\u001b[0m\u001b[0;34m.\u001b[0m\u001b[0m_value\u001b[0m\u001b[0;34m)\u001b[0m\u001b[0;34m\u001b[0m\u001b[0m\n\u001b[0;32m---> 47\u001b[0;31m     \u001b[0;32massert\u001b[0m \u001b[0mc\u001b[0m\u001b[0;34m.\u001b[0m\u001b[0m_value\u001b[0m \u001b[0;34m==\u001b[0m \u001b[0;36m0\u001b[0m\u001b[0;34m\u001b[0m\u001b[0m\n\u001b[0m\u001b[1;32m     48\u001b[0m     \u001b[0mprint\u001b[0m\u001b[0;34m(\u001b[0m\u001b[0;34m'Looks good!'\u001b[0m\u001b[0;34m)\u001b[0m\u001b[0;34m\u001b[0m\u001b[0m\n",
      "\u001b[0;31mAssertionError\u001b[0m: "
     ]
    }
   ],
   "source": [
    "import threading\n",
    "\n",
    "class SharedCounter:\n",
    "    '''\n",
    "    A counter object that can be shared by multiple threads.\n",
    "    '''\n",
    "    def __init__(self, initial_value = 0):\n",
    "        self._value = initial_value\n",
    "        self._value_lock = threading.Lock()\n",
    "\n",
    "    def incr(self,delta=1):\n",
    "        '''\n",
    "        Increment the counter with locking\n",
    "        '''\n",
    "        self._value += delta\n",
    "#         with self._value_lock:\n",
    "#              self._value += delta\n",
    "\n",
    "    def decr(self,delta=1):\n",
    "        '''\n",
    "        Decrement the counter with locking\n",
    "        '''\n",
    "        self._value -= delta\n",
    "#         with self._value_lock:\n",
    "#              self._value -= delta\n",
    "\n",
    "def test(c):\n",
    "    for n in range(1000000):\n",
    "        c.incr()\n",
    "    for n in range(1000000):\n",
    "        c.decr()\n",
    "\n",
    "if __name__ == '__main__':\n",
    "    c = SharedCounter()\n",
    "    t1 = threading.Thread(target=test, args=(c,))\n",
    "    t2 = threading.Thread(target=test, args=(c,))\n",
    "    t3 = threading.Thread(target=test, args=(c,))\n",
    "    t1.start()\n",
    "    t2.start()\n",
    "    t3.start()\n",
    "    print('Running test')\n",
    "    t1.join()\n",
    "    t2.join()\n",
    "    t3.join()\n",
    "    \n",
    "    print(c._value)\n",
    "    assert c._value == 0\n",
    "    print('Looks good!')\n"
   ]
  },
  {
   "cell_type": "markdown",
   "metadata": {},
   "source": [
    "\n",
    "### 12.5 避免死锁\n",
    "\n",
    "如果一个程序同时获取多个锁，容易产生死锁。\n",
    "\n",
    "能猜出大概的原因。 但是具体的例子不知道怎么弄。\n",
    "\n",
    "\n",
    "一种解决死锁问题的方案是避免死锁： 在进程获取锁的时候会严格按照对象id升序排列获取，经过数学证明，这样保证程序不会进入 死锁状态。\n",
    "\n",
    "避免死锁的主要思想是，单纯地按照对象id递增的顺序加锁不会产生循环依赖，而循环依赖是 死锁的一个必要条件，从而避免程序进入死锁状态。"
   ]
  },
  {
   "cell_type": "code",
   "execution_count": 31,
   "metadata": {},
   "outputs": [],
   "source": [
    "import threading\n",
    "from contextlib import contextmanager\n",
    "\n",
    "# Thread-local state to stored information on locks already acquired\n",
    "_local = threading.local()\n",
    "\n",
    "@contextmanager\n",
    "def acquire(*locks):\n",
    "    # Sort locks by object identifier\n",
    "    locks = sorted(locks, key=lambda x: id(x))\n",
    "\n",
    "    # Make sure lock order of previously acquired locks is not violated\n",
    "    acquired = getattr(_local,'acquired',[])\n",
    "    if acquired and max(id(lock) for lock in acquired) >= id(locks[0]):\n",
    "        raise RuntimeError('Lock Order Violation')\n",
    "\n",
    "    # Acquire all of the locks\n",
    "    acquired.extend(locks)\n",
    "    _local.acquired = acquired\n",
    "\n",
    "    try:\n",
    "        for lock in locks:\n",
    "            lock.acquire()\n",
    "        yield\n",
    "    finally:\n",
    "        # Release locks in reverse order of acquisition\n",
    "        for lock in reversed(locks):\n",
    "            lock.release()\n",
    "        del acquired[-len(locks):]"
   ]
  },
  {
   "cell_type": "markdown",
   "metadata": {},
   "source": [
    "下面以一个关于线程死锁的经典问题：“哲学家就餐问题”，作为本节最后一个例子。题目是这样的：五位哲学家围坐在一张桌子前，每个人 面前有一碗饭和一只筷子。在这里每个哲学家可以看做是一个独立的线程，而每只筷子可以看做是一个锁。每个哲学家可以处在静坐、 思考、吃饭三种状态中的一个。需要注意的是，每个哲学家吃饭是需要两只筷子的，这样问题就来了：如果每个哲学家都拿起自己左边的筷子， 那么他们五个都只能拿着一只筷子坐在那儿，直到饿死。此时他们就进入了死锁状态。 下面是一个简单的使用死锁避免机制解决“哲学家就餐问题”的实现："
   ]
  },
  {
   "cell_type": "code",
   "execution_count": null,
   "metadata": {
    "scrolled": false
   },
   "outputs": [],
   "source": [
    "import threading\n",
    "\n",
    "# The philosopher thread\n",
    "def philosopher(left, right):\n",
    "    while True:\n",
    "        with acquire(left,right):\n",
    "             print(threading.currentThread(), 'eating')\n",
    "\n",
    "# The chopsticks (represented by locks)\n",
    "NSTICKS = 5\n",
    "chopsticks = [threading.Lock() for n in range(NSTICKS)]\n",
    "\n",
    "# Create all of the philosophers\n",
    "for n in range(NSTICKS):\n",
    "    t = threading.Thread(target=philosopher,\n",
    "                  \n",
    "                         args=(chopsticks[n],chopsticks[(n+1) % NSTICKS]))\n",
    "    t.start()"
   ]
  },
  {
   "cell_type": "markdown",
   "metadata": {},
   "source": []
  }
 ],
 "metadata": {
  "kernelspec": {
   "display_name": "Python 3",
   "language": "python",
   "name": "python3"
  },
  "language_info": {
   "codemirror_mode": {
    "name": "ipython",
    "version": 3
   },
   "file_extension": ".py",
   "mimetype": "text/x-python",
   "name": "python",
   "nbconvert_exporter": "python",
   "pygments_lexer": "ipython3",
   "version": "3.6.2"
  },
  "varInspector": {
   "cols": {
    "lenName": 16,
    "lenType": 16,
    "lenVar": 40
   },
   "kernels_config": {
    "python": {
     "delete_cmd_postfix": "",
     "delete_cmd_prefix": "del ",
     "library": "var_list.py",
     "varRefreshCmd": "print(var_dic_list())"
    },
    "r": {
     "delete_cmd_postfix": ") ",
     "delete_cmd_prefix": "rm(",
     "library": "var_list.r",
     "varRefreshCmd": "cat(var_dic_list()) "
    }
   },
   "types_to_exclude": [
    "module",
    "function",
    "builtin_function_or_method",
    "instance",
    "_Feature"
   ],
   "window_display": false
  }
 },
 "nbformat": 4,
 "nbformat_minor": 2
}
