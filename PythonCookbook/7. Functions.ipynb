{
 "cells": [
  {
   "cell_type": "markdown",
   "metadata": {},
   "source": [
    "## 7. Functions\n",
    "\n",
    "函数存在一些技巧，主要是用来封装和装饰（decorate）。\n",
    "\n",
    "此外还有一大块是 回调函数。 放到 异步处理去。\n",
    "\n",
    "几大块\n",
    "\n",
    "1. 传参，未知参数，键值参数，默认参数\n",
    "2. 封装和装饰\n",
    "3. 异步回调\n",
    "4. 闭包"
   ]
  },
  {
   "cell_type": "markdown",
   "metadata": {},
   "source": [
    "### 7.1  任意参数函数\n",
    "\n",
    "`*args, **kwargs`"
   ]
  },
  {
   "cell_type": "code",
   "execution_count": 15,
   "metadata": {},
   "outputs": [
    {
     "name": "stdout",
     "output_type": "stream",
     "text": [
      "1.5\n",
      "2.5\n",
      "<item size=\"large\" quantity=\"6\">Albatross</item>\n",
      "<p>&lt;spam&gt;</p>\n"
     ]
    }
   ],
   "source": [
    "# Examples of *args and **kwargs functions\n",
    "\n",
    "def avg(first, *rest):\n",
    "    return (first + sum(rest)) / (1 + len(rest))\n",
    "\n",
    "print(avg(1, 2))\n",
    "print(avg(1,2,3,4))\n",
    "\n",
    "import html\n",
    "\n",
    "def make_element(name, value, **attrs):\n",
    "    keyvals = [' %s=\"%s\"' % item for item in attrs.items()]\n",
    "    attr_str = ''.join(keyvals)\n",
    "    element = '<{name}{attrs}>{value}</{name}>'.format(\n",
    "                  name=name,\n",
    "                  attrs=attr_str,\n",
    "                  value=html.escape(value))\n",
    "    return element\n",
    "\n",
    "# Example\n",
    "# Creates '<item size=\"large\" quantity=\"6\">Albatross</item>'\n",
    "print(make_element('item', 'Albatross', size='large', quantity=6))\n",
    "print(make_element('p','<spam>'))\n"
   ]
  },
  {
   "cell_type": "markdown",
   "metadata": {},
   "source": [
    "### 7.2 某些参数必须指明key （keyword arguments）\n",
    "\n",
    "这是为了避免传参时，参数顺序错误导致的错误。"
   ]
  },
  {
   "cell_type": "code",
   "execution_count": 5,
   "metadata": {},
   "outputs": [
    {
     "name": "stdout",
     "output_type": "stream",
     "text": [
      "8192 False\n",
      "recv() takes 1 positional argument but 2 were given\n"
     ]
    }
   ],
   "source": [
    "# examples of keyword-only argument functions\n",
    "\n",
    "# A simple keyword-only argument\n",
    "def recv(maxsize, *, block=True):\n",
    "    print(maxsize, block)\n",
    "\n",
    "recv(8192, block=False)        # Works\n",
    "try:\n",
    "    recv(8192, False)          # Fails\n",
    "except TypeError as e:\n",
    "    print(e)\n"
   ]
  },
  {
   "cell_type": "code",
   "execution_count": 6,
   "metadata": {},
   "outputs": [
    {
     "name": "stdout",
     "output_type": "stream",
     "text": [
      "-5\n",
      "0\n"
     ]
    }
   ],
   "source": [
    "\n",
    "# Adding keyword-only args to *args functions\n",
    "def minimum(*values, clip=None):\n",
    "    m = min(values)\n",
    "    if clip is not None:\n",
    "        m = clip if clip > m else m\n",
    "    return m\n",
    "\n",
    "print(minimum(1, 5, 2, -5, 10))\n",
    "print(minimum(1, 5, 2, -5, 10, clip=0))\n"
   ]
  },
  {
   "cell_type": "markdown",
   "metadata": {},
   "source": [
    "### 7.3 函数参数类型声明（其实是一种标注）"
   ]
  },
  {
   "cell_type": "code",
   "execution_count": 9,
   "metadata": {
    "scrolled": true
   },
   "outputs": [
    {
     "name": "stdout",
     "output_type": "stream",
     "text": [
      "Help on function add in module __main__:\n",
      "\n",
      "add(x:int, y:int) -> int\n",
      "    add 2 nums\n",
      "\n",
      "None\n",
      "{'x': <class 'int'>, 'y': <class 'int'>, 'return': <class 'int'>}\n"
     ]
    }
   ],
   "source": [
    "def add(x:int, y:int) -> int:\n",
    "    \"\"\"add 2 nums\n",
    "    \"\"\"\n",
    "    return x + y\n",
    "\n",
    "print(help(add))\n",
    "print(add.__annotations__)"
   ]
  },
  {
   "cell_type": "markdown",
   "metadata": {},
   "source": [
    "### 7.4 一个函数返回多个值\n",
    "\n",
    "这个很简单， 用','分隔开就行了，返回的相当于是一个元组"
   ]
  },
  {
   "cell_type": "markdown",
   "metadata": {},
   "source": [
    "### 7.5 默认参数\n",
    "\n",
    "这个也简单，但是会有一些小坑，比如默认参数值不能设置字典、列表之类的。"
   ]
  },
  {
   "cell_type": "markdown",
   "metadata": {},
   "source": [
    "### 7.6 匿名函数和Inline函数\n",
    "\n",
    "\n",
    "lambda函数。 也有一些小坑。 例如，lambda函数里面使用的外部变量，值是由调用时的外部变量值决定的。"
   ]
  },
  {
   "cell_type": "markdown",
   "metadata": {},
   "source": [
    "### 7.7 简化函数参数\n",
    "\n",
    "partial ，简化参数。 \n",
    "\n",
    "感觉其实就是对原函数进行了一次封装。"
   ]
  },
  {
   "cell_type": "code",
   "execution_count": 11,
   "metadata": {},
   "outputs": [
    {
     "name": "stdout",
     "output_type": "stream",
     "text": [
      "[(3, 4), (1, 2), (5, 6), (7, 7)]\n"
     ]
    }
   ],
   "source": [
    "from functools import partial\n",
    "\n",
    "points = [ (1, 2), (3, 4), (5, 6), (7, 7) ]\n",
    "\n",
    "import math\n",
    "def distance(p1, p2):\n",
    "    x1, y1 = p1\n",
    "    x2, y2 = p2\n",
    "    return math.hypot(x2 - x1, y2 - y1)\n",
    "\n",
    "pt = (4,3)\n",
    "# 距离 pt 最近的点\n",
    "points.sort(key=partial(distance, pt))\n",
    "print(points)\n"
   ]
  },
  {
   "cell_type": "code",
   "execution_count": 13,
   "metadata": {},
   "outputs": [
    {
     "name": "stderr",
     "output_type": "stream",
     "text": [
      "DEBUG:test:Got: 7\n"
     ]
    }
   ],
   "source": [
    "import functools\n",
    "\n",
    "def output_result(result, log=None):\n",
    "    if log is not None:\n",
    "        log.debug('Got: %r', result)\n",
    "\n",
    "# A sample function\n",
    "def add(x, y):\n",
    "    return x + y\n",
    "\n",
    "if __name__ == '__main__':\n",
    "    import logging\n",
    "    from multiprocessing import Pool\n",
    "    from functools import partial\n",
    "\n",
    "    logging.basicConfig(level=logging.DEBUG)\n",
    "    log = logging.getLogger('test')\n",
    "\n",
    "    p = Pool()\n",
    "    p.apply_async(add, (3, 4), callback=partial(output_result, log=log))\n",
    "    p.close()\n",
    "    p.join()\n"
   ]
  },
  {
   "cell_type": "code",
   "execution_count": 14,
   "metadata": {},
   "outputs": [
    {
     "name": "stdout",
     "output_type": "stream",
     "text": [
      "Echo server running on port 15000\n"
     ]
    },
    {
     "ename": "KeyboardInterrupt",
     "evalue": "",
     "output_type": "error",
     "traceback": [
      "\u001b[0;31m---------------------------------------------------------------------------\u001b[0m",
      "\u001b[0;31mKeyboardInterrupt\u001b[0m                         Traceback (most recent call last)",
      "\u001b[0;32m<ipython-input-14-f06b4cf49684>\u001b[0m in \u001b[0;36m<module>\u001b[0;34m()\u001b[0m\n\u001b[1;32m     16\u001b[0m     \u001b[0mserv\u001b[0m \u001b[0;34m=\u001b[0m \u001b[0mTCPServer\u001b[0m\u001b[0;34m(\u001b[0m\u001b[0;34m(\u001b[0m\u001b[0;34m''\u001b[0m\u001b[0;34m,\u001b[0m \u001b[0;36m15000\u001b[0m\u001b[0;34m)\u001b[0m\u001b[0;34m,\u001b[0m \u001b[0mpartial\u001b[0m\u001b[0;34m(\u001b[0m\u001b[0mEchoHandler\u001b[0m\u001b[0;34m,\u001b[0m \u001b[0mack\u001b[0m\u001b[0;34m=\u001b[0m\u001b[0;34mb'RECEIVED:'\u001b[0m\u001b[0;34m)\u001b[0m\u001b[0;34m)\u001b[0m\u001b[0;34m\u001b[0m\u001b[0m\n\u001b[1;32m     17\u001b[0m     \u001b[0mprint\u001b[0m\u001b[0;34m(\u001b[0m\u001b[0;34m'Echo server running on port 15000'\u001b[0m\u001b[0;34m)\u001b[0m\u001b[0;34m\u001b[0m\u001b[0m\n\u001b[0;32m---> 18\u001b[0;31m     \u001b[0mserv\u001b[0m\u001b[0;34m.\u001b[0m\u001b[0mserve_forever\u001b[0m\u001b[0;34m(\u001b[0m\u001b[0;34m)\u001b[0m\u001b[0;34m\u001b[0m\u001b[0m\n\u001b[0m",
      "\u001b[0;32m~/.pyenv/versions/anaconda3-5.1.0/envs/DL3/lib/python3.6/socketserver.py\u001b[0m in \u001b[0;36mserve_forever\u001b[0;34m(self, poll_interval)\u001b[0m\n\u001b[1;32m    234\u001b[0m \u001b[0;34m\u001b[0m\u001b[0m\n\u001b[1;32m    235\u001b[0m                 \u001b[0;32mwhile\u001b[0m \u001b[0;32mnot\u001b[0m \u001b[0mself\u001b[0m\u001b[0;34m.\u001b[0m\u001b[0m__shutdown_request\u001b[0m\u001b[0;34m:\u001b[0m\u001b[0;34m\u001b[0m\u001b[0m\n\u001b[0;32m--> 236\u001b[0;31m                     \u001b[0mready\u001b[0m \u001b[0;34m=\u001b[0m \u001b[0mselector\u001b[0m\u001b[0;34m.\u001b[0m\u001b[0mselect\u001b[0m\u001b[0;34m(\u001b[0m\u001b[0mpoll_interval\u001b[0m\u001b[0;34m)\u001b[0m\u001b[0;34m\u001b[0m\u001b[0m\n\u001b[0m\u001b[1;32m    237\u001b[0m                     \u001b[0;32mif\u001b[0m \u001b[0mready\u001b[0m\u001b[0;34m:\u001b[0m\u001b[0;34m\u001b[0m\u001b[0m\n\u001b[1;32m    238\u001b[0m                         \u001b[0mself\u001b[0m\u001b[0;34m.\u001b[0m\u001b[0m_handle_request_noblock\u001b[0m\u001b[0;34m(\u001b[0m\u001b[0;34m)\u001b[0m\u001b[0;34m\u001b[0m\u001b[0m\n",
      "\u001b[0;32m~/.pyenv/versions/anaconda3-5.1.0/envs/DL3/lib/python3.6/selectors.py\u001b[0m in \u001b[0;36mselect\u001b[0;34m(self, timeout)\u001b[0m\n\u001b[1;32m    374\u001b[0m             \u001b[0mready\u001b[0m \u001b[0;34m=\u001b[0m \u001b[0;34m[\u001b[0m\u001b[0;34m]\u001b[0m\u001b[0;34m\u001b[0m\u001b[0m\n\u001b[1;32m    375\u001b[0m             \u001b[0;32mtry\u001b[0m\u001b[0;34m:\u001b[0m\u001b[0;34m\u001b[0m\u001b[0m\n\u001b[0;32m--> 376\u001b[0;31m                 \u001b[0mfd_event_list\u001b[0m \u001b[0;34m=\u001b[0m \u001b[0mself\u001b[0m\u001b[0;34m.\u001b[0m\u001b[0m_poll\u001b[0m\u001b[0;34m.\u001b[0m\u001b[0mpoll\u001b[0m\u001b[0;34m(\u001b[0m\u001b[0mtimeout\u001b[0m\u001b[0;34m)\u001b[0m\u001b[0;34m\u001b[0m\u001b[0m\n\u001b[0m\u001b[1;32m    377\u001b[0m             \u001b[0;32mexcept\u001b[0m \u001b[0mInterruptedError\u001b[0m\u001b[0;34m:\u001b[0m\u001b[0;34m\u001b[0m\u001b[0m\n\u001b[1;32m    378\u001b[0m                 \u001b[0;32mreturn\u001b[0m \u001b[0mready\u001b[0m\u001b[0;34m\u001b[0m\u001b[0m\n",
      "\u001b[0;31mKeyboardInterrupt\u001b[0m: "
     ]
    }
   ],
   "source": [
    "# Using partial to supply extra arguments to a class constructor\n",
    "from socketserver import StreamRequestHandler, TCPServer\n",
    "\n",
    "class EchoHandler(StreamRequestHandler):\n",
    "    # ack is added keyword-only argument. *args, **kwargs are\n",
    "    # any normal parameters supplied (which are passed on)\n",
    "    def __init__(self, *args, ack, **kwargs):\n",
    "        self.ack = ack\n",
    "        super().__init__(*args, **kwargs)\n",
    "    def handle(self):\n",
    "        for line in self.rfile:\n",
    "            self.wfile.write(self.ack + line)\n",
    "\n",
    "if __name__ == '__main__':\n",
    "    from functools import partial\n",
    "    serv = TCPServer(('', 15000), partial(EchoHandler, ack=b'RECEIVED:'))\n",
    "    print('Echo server running on port 15000')\n",
    "    serv.serve_forever()\n"
   ]
  },
  {
   "cell_type": "markdown",
   "metadata": {},
   "source": [
    "### 7.9 封装一个类的方法\n",
    "\n",
    "其实也是简化封装。"
   ]
  },
  {
   "cell_type": "markdown",
   "metadata": {},
   "source": [
    "### 7.12 Closure 概念\n",
    "\n",
    "我的理解就是函数里面定义函数。闭包。\n",
    "\n",
    "注意下面例子里面的nonlocal。\n",
    "\n",
    "有时候 闭包可以替代一些类， 会比类运行的更快一些"
   ]
  },
  {
   "cell_type": "code",
   "execution_count": 16,
   "metadata": {},
   "outputs": [
    {
     "name": "stdout",
     "output_type": "stream",
     "text": [
      "n= 0\n",
      "n= 10\n",
      "10\n"
     ]
    }
   ],
   "source": [
    "# Example of accessing variables inside a closure\n",
    "\n",
    "def sample():\n",
    "    n = 0           \n",
    "    # Closure function\n",
    "    def func():\n",
    "        print('n=', n)\n",
    "    \n",
    "    # Accessor methods for n\n",
    "    def get_n():\n",
    "        return n\n",
    "\n",
    "    def set_n(value):\n",
    "        nonlocal n\n",
    "        n = value\n",
    "\n",
    "    # Attach as function attributes\n",
    "    func.get_n = get_n\n",
    "    func.set_n = set_n\n",
    "    return func\n",
    "\n",
    "if __name__ == '__main__':\n",
    "    f = sample()\n",
    "    f()\n",
    "    n= 0\n",
    "    f.set_n(10)\n",
    "    f()\n",
    "    print(f.get_n())\n"
   ]
  }
 ],
 "metadata": {
  "kernelspec": {
   "display_name": "Python 3",
   "language": "python",
   "name": "python3"
  },
  "language_info": {
   "codemirror_mode": {
    "name": "ipython",
    "version": 3
   },
   "file_extension": ".py",
   "mimetype": "text/x-python",
   "name": "python",
   "nbconvert_exporter": "python",
   "pygments_lexer": "ipython3",
   "version": "3.6.2"
  },
  "varInspector": {
   "cols": {
    "lenName": 16,
    "lenType": 16,
    "lenVar": 40
   },
   "kernels_config": {
    "python": {
     "delete_cmd_postfix": "",
     "delete_cmd_prefix": "del ",
     "library": "var_list.py",
     "varRefreshCmd": "print(var_dic_list())"
    },
    "r": {
     "delete_cmd_postfix": ") ",
     "delete_cmd_prefix": "rm(",
     "library": "var_list.r",
     "varRefreshCmd": "cat(var_dic_list()) "
    }
   },
   "types_to_exclude": [
    "module",
    "function",
    "builtin_function_or_method",
    "instance",
    "_Feature"
   ],
   "window_display": false
  }
 },
 "nbformat": 4,
 "nbformat_minor": 2
}
