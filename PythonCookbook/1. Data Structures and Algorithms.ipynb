{
 "cells": [
  {
   "cell_type": "markdown",
   "metadata": {},
   "source": [
    "\n",
    "主要包括 列表、字典的一些基本操作。更基本的就没放上去了"
   ]
  },
  {
   "cell_type": "markdown",
   "metadata": {},
   "source": [
    "### 1. Unpacking a Sequence into Seperate Variables\n",
    "\n",
    "常见的是 `a, b = (1, 2)` 这种类型，但是如果等式右边长度不确定，左边只有有限个变量，怎么办？\n",
    "\n",
    "使用 `*` 标记"
   ]
  },
  {
   "cell_type": "code",
   "execution_count": 2,
   "metadata": {},
   "outputs": [],
   "source": [
    "\n",
    "def drop_first_last(grades):\n",
    "    first, *middle, last = grades\n",
    "    return sum(middle) / len(middle)\n",
    "\n",
    "assert drop_first_last([1,2, 2, 2, 2, 100]) == 2"
   ]
  },
  {
   "cell_type": "markdown",
   "metadata": {},
   "source": [
    "### 2. Keeping the Last N Items\n",
    "\n",
    "常常会遇见这样的问题： 保存最近的 N 个历史记录。\n",
    "\n",
    "第一反应是用链表。操作上稍稍有些麻烦。\n",
    "\n",
    "另一个思路是用固定数组，使用2个指针表示头和尾，循环操作\n",
    "\n",
    "建议使用 `collections.deque`， 实现方式（cpython）见 <https://github.com/python/cpython/blob/master/Modules/_collectionsmodule.c> ，大致思路： 使用2个指针表示头和尾，循环操作。"
   ]
  },
  {
   "cell_type": "code",
   "execution_count": 8,
   "metadata": {},
   "outputs": [
    {
     "name": "stdout",
     "output_type": "stream",
     "text": [
      "[0]\n",
      "[0, 1]\n",
      "[0, 1, 2]\n",
      "[0, 1, 2, 3]\n",
      "[0, 1, 2, 3, 4]\n",
      "[1, 2, 3, 4, 5]\n",
      "[2, 3, 4, 5, 6]\n",
      "[3, 4, 5, 6, 7]\n",
      "[4, 5, 6, 7, 8]\n",
      "[5, 6, 7, 8, 9]\n"
     ]
    }
   ],
   "source": [
    "from collections import deque\n",
    "\n",
    "class History(object):\n",
    "    def __init__(self, size):\n",
    "        self.store = deque(maxlen=size)\n",
    "        \n",
    "    def append(self, item):\n",
    "        self.store.append(item)\n",
    "    \n",
    "    def show(self):\n",
    "        print(list(self.store))\n",
    "\n",
    "history = History(5)\n",
    "\n",
    "for i in range(10):\n",
    "    history.append(i)\n",
    "    history.show()"
   ]
  },
  {
   "cell_type": "markdown",
   "metadata": {},
   "source": [
    "### 3. Finding the Largest or Smallest N Items\n",
    "\n",
    "找最大或最小的N个元素。 \n",
    "\n",
    "第一反应是先排序， 然后取前N个或后N个。 这样做法的复杂度是 $O(n \\log n)$。 \n",
    "\n",
    "可以使用 `heapq` 结构，即优先级队列结构，可以找到最大或最小的 N 个元素。 最大堆和最小堆结构。\n",
    "\n",
    "回顾一下堆排序算法：\n",
    "\n",
    "1. max-heapify， 保持最大堆特性： $O(\\log n)$\n",
    "2. build-max-heap， 从数组构建堆结构：从中间节点向上，逐步调用max-heapify，直观上需要 $O(n \\log n)$，实际上渐进上界是 $O(n)$\n",
    "3. heapsort， 堆排序，因为根节点最大，所以不断的抽取根节点、调整堆结构：  $O(n \\log n)$\n",
    "\n",
    "堆结构有个重要的作用是可以做为优先级队列。 在构建堆结构（$O(n)$）之后，取前k 个最大的只需要 $O(k \\log n)$ 的时间"
   ]
  },
  {
   "cell_type": "code",
   "execution_count": 7,
   "metadata": {},
   "outputs": [
    {
     "name": "stdout",
     "output_type": "stream",
     "text": [
      "[8, 7, 6]\n",
      "[1, 2, 3]\n"
     ]
    }
   ],
   "source": [
    "import heapq\n",
    "\n",
    "def nlargest(items, n, key=None):\n",
    "    return heapq.nlargest(n, items, key=key)\n",
    "\n",
    "def nsmallest(items, n, key=None):\n",
    "    return heapq.nsmallest(n, items, key=key)\n",
    "\n",
    "nums = [1, 2, 3, 4, 5, 6, 7, 8]\n",
    "print(nlargest(nums, 3))\n",
    "print(nsmallest(nums, 3))"
   ]
  },
  {
   "cell_type": "markdown",
   "metadata": {},
   "source": [
    "### 4. 实现优先级队列\n",
    "\n",
    "用 `heapq.heappush` 就行了。 heapq的原理是使用原列表， 维护一种堆结构。所以不需要额外空间。 默认使用最小堆\n",
    "\n",
    "注意下面例子里面， item 实际是一个三元组 `(-priority, self._index, item)` ， 所以比较的时候，先比较 `-priority`，优先级顺序，然后是 `index`，先进先出， 最后是 `item`"
   ]
  },
  {
   "cell_type": "code",
   "execution_count": 9,
   "metadata": {},
   "outputs": [
    {
     "name": "stdout",
     "output_type": "stream",
     "text": [
      "bar\n",
      "spam\n",
      "foo\n",
      "grok\n"
     ]
    }
   ],
   "source": [
    "import heapq\n",
    "\n",
    "class PriorityQueue:\n",
    "    def __init__(self):\n",
    "        self._queue = []\n",
    "        self._index = 0\n",
    "    \n",
    "    def push(self, item, priority):\n",
    "        heapq.heappush(self._queue, (-priority, self._index, item))\n",
    "        self._index += 1\n",
    "    \n",
    "    def pop(self):\n",
    "        return heapq.heappop(self._queue)[-1]\n",
    "    \n",
    "q = PriorityQueue()\n",
    "q.push('foo', 1)\n",
    "q.push('bar', 5)\n",
    "q.push('spam', 4)\n",
    "q.push('grok', 1)\n",
    "\n",
    "print(q.pop())\n",
    "print(q.pop())\n",
    "print(q.pop())\n",
    "print(q.pop())"
   ]
  },
  {
   "cell_type": "markdown",
   "metadata": {},
   "source": [
    "### 5. Mapping Keys to Multiple Values in a Dictionary\n",
    "\n",
    "在字典里面，一个键对应多个值。 实际上可以用列表保存多个值。所以每个键对应一个列表（或者集合）。 这里涉及初始化的问题。通常的做法是：\n",
    "\n",
    "```python\n",
    "d = {}\n",
    "d.setdefault('a', []).append(1)\n",
    "```\n",
    "\n",
    "实际上可以用 `collections.defaultdict`"
   ]
  },
  {
   "cell_type": "code",
   "execution_count": 11,
   "metadata": {},
   "outputs": [
    {
     "data": {
      "text/plain": [
       "defaultdict(list, {'a': [1]})"
      ]
     },
     "execution_count": 11,
     "metadata": {},
     "output_type": "execute_result"
    }
   ],
   "source": [
    "from collections import defaultdict\n",
    "\n",
    "d = defaultdict(list)\n",
    "d['a'].append(1)\n",
    "d"
   ]
  },
  {
   "cell_type": "markdown",
   "metadata": {},
   "source": [
    "### 6. Keeping Dictionaries in Order\n",
    "\n",
    "这个问题是，如何保证字典的插入顺序？\n",
    "\n",
    "所以字典的键值不再是一个集合，而是一个列表（同时需要保证去重）。\n",
    "\n",
    "python提供 `collections.OrderedDict` 。\n",
    "\n",
    "注意 `OrderedDict` 的存储空间是普通字典的 2倍。 所以视需求而定。"
   ]
  },
  {
   "cell_type": "code",
   "execution_count": 12,
   "metadata": {},
   "outputs": [
    {
     "name": "stdout",
     "output_type": "stream",
     "text": [
      "foo 1\n",
      "bar 2\n",
      "spam 3\n",
      "grok 4\n"
     ]
    }
   ],
   "source": [
    "from collections import OrderedDict\n",
    "\n",
    "d = OrderedDict()\n",
    "d['foo'] = 1\n",
    "d['bar'] = 2\n",
    "d['spam'] = 3\n",
    "d['grok'] = 4\n",
    "\n",
    "for key in d:\n",
    "    print(key, d[key])"
   ]
  },
  {
   "cell_type": "markdown",
   "metadata": {},
   "source": [
    "### 7. Finding Commonalities in Two Dictionaries\n",
    "\n",
    "找到两个字典中相同的键或者值。\n",
    "\n",
    "注意一个字典的键 `d.keys()` 或者值 `d.values()` 或者键值对 `d.items()` 都是 集合类型的对象。可以用集合操作。"
   ]
  },
  {
   "cell_type": "code",
   "execution_count": 15,
   "metadata": {},
   "outputs": [
    {
     "name": "stdout",
     "output_type": "stream",
     "text": [
      "<class 'dict_keys'> <class 'dict_values'> <class 'dict_items'>\n",
      "{'y', 'x'}\n",
      "{'z'}\n"
     ]
    }
   ],
   "source": [
    "a = {'x': 1, 'y': 2, 'z': 3}\n",
    "b = {'w': 10, 'x': 11, 'y': 2}\n",
    "\n",
    "print(type(a.keys()), type(a.values()), type(a.items()))\n",
    "print(a.keys() & b.keys())\n",
    "print(a.keys() - b.keys())"
   ]
  },
  {
   "cell_type": "markdown",
   "metadata": {},
   "source": [
    "### 8. Removing Duplicates from a Sequence while Maintaining Order\n",
    "\n",
    "给定一个序列数据， 移除重复元素的同时保证原来的顺序。\n",
    "\n",
    "如果不要求保证原来的顺序，可以直接用 `set`。 但是这也要求 数据项是 hashable的。\n",
    "\n",
    "如果要保证顺序，需要遍历序列，并且维护一个集合，用于保存“见过”的数据项。 对于不可hashable的，需要提供一个 `key` 方法，用于映射到某个可比较的值，用于辨识数据项是否一致。\n"
   ]
  },
  {
   "cell_type": "code",
   "execution_count": 18,
   "metadata": {},
   "outputs": [
    {
     "data": {
      "text/plain": [
       "[{'x': 1, 'y': 2}, {'x': 2, 'y': 4}]"
      ]
     },
     "execution_count": 18,
     "metadata": {},
     "output_type": "execute_result"
    }
   ],
   "source": [
    "\n",
    "def dedupe(items, key=None):\n",
    "    seen = set()\n",
    "    for item in items:\n",
    "        val = item if key is None else key(item)\n",
    "        if val not in seen:\n",
    "            yield item\n",
    "            seen.add(val)\n",
    "\n",
    "a = [{'x': 1, 'y': 2}, {'x': 1, 'y': 3}, {'x': 1, 'y': 2}, {'x': 1, 'y': 2}, {'x': 2, 'y': 4}, ]\n",
    "\n",
    "list(dedupe(a, key=lambda d: d['x']))\n"
   ]
  },
  {
   "cell_type": "markdown",
   "metadata": {},
   "source": [
    "### 9. Naming  a Slice\n",
    "\n",
    "有一些分片操作，用一些 magic number，不利于维护。 其实可以命名这些分片。 用 `slice`"
   ]
  },
  {
   "cell_type": "code",
   "execution_count": 22,
   "metadata": {},
   "outputs": [],
   "source": [
    "######### 01234567890123456789012345678901234567890123456789\n",
    "record = '.....................100           .....513.25.         ....'\n",
    "cost = int(record[21:24]) * float(record[40:46])\n",
    "\n",
    "SHARES = slice(21, 24)\n",
    "PRICE = slice(40, 46)\n",
    "\n",
    "assert (int(record[SHARES]) * float(record[PRICE]) == cost)"
   ]
  },
  {
   "cell_type": "markdown",
   "metadata": {},
   "source": [
    "### 10. 统计一个数组中出现次数最多的元素\n",
    "\n",
    "用一个字典统计计数就可以了。\n",
    "\n",
    "更直接的，用 `collections.Counter`\n"
   ]
  },
  {
   "cell_type": "code",
   "execution_count": 25,
   "metadata": {},
   "outputs": [
    {
     "name": "stdout",
     "output_type": "stream",
     "text": [
      "[('is', 3), ('are', 3), ('counts', 3)]\n"
     ]
    }
   ],
   "source": [
    "words = \"\"\"A Counter is a dict subclass for counting hashable objects. It is an unordered collection where elements are stored as dictionary keys and their counts are stored as dictionary values. Counts are allowed to be any integer value including zero or negative counts. \n",
    "The Counter class is similar to bags or multisets in other languages.\"\"\".lower().replace('.', '').split()\n",
    "\n",
    "\n",
    "from collections import Counter\n",
    "word_counts = Counter(words)\n",
    "print(word_counts.most_common(3))\n"
   ]
  },
  {
   "cell_type": "markdown",
   "metadata": {},
   "source": [
    "### 11. sort 操作中 ，key的选择和用法\n",
    "\n",
    "有时候需要对字典列表或者其他不可比较的数据类型进行排序。这时候需要给出 `key`\n",
    "\n",
    "有几种方式：\n",
    "\n",
    "1. lambda函数\n",
    "2. `operator.itemgetter`，这是用于字典类型某个键值的获取\n",
    "3. `operator.attrgetter`，这是用于某个对象的某个属性的获取"
   ]
  },
  {
   "cell_type": "markdown",
   "metadata": {},
   "source": [
    "### 12. group操作\n",
    "\n",
    "对字典列表或对象列表，按照某个键值或者属性，对其进行分组。 用到 `itertools.groupby`"
   ]
  },
  {
   "cell_type": "markdown",
   "metadata": {},
   "source": [
    "### 13. filter 操作\n",
    "\n",
    "有几种形式：\n",
    "\n",
    "1. `[x for x in a if x > 0]` 这种表达式形式\n",
    "2. `filter(lambda x: x > 0, a)` \n",
    "3. `itertools.compress`，这种实际上是用第二个序列的结果（boolean值），应用到第一个序列上去。"
   ]
  },
  {
   "cell_type": "code",
   "execution_count": 27,
   "metadata": {},
   "outputs": [
    {
     "name": "stdout",
     "output_type": "stream",
     "text": [
      "[1, 2, 3, 4, 5]\n",
      "[False, True, False, True, False]\n",
      "[2, 4]\n",
      "[False, True, False, True, False]\n"
     ]
    }
   ],
   "source": [
    "from itertools import compress\n",
    "\n",
    "a = [1, 2, 3, 4, 5]\n",
    "b = [x % 2 for x in a]\n",
    "bb = [x == 0 for x in b]\n",
    "\n",
    "print(a)\n",
    "print(bb)\n",
    "print(list(compress(a, bb)))\n",
    "print(list(compress(bb, a)))"
   ]
  },
  {
   "cell_type": "markdown",
   "metadata": {},
   "source": [
    "### 14.  Combining Multiple Mappings into a Single Mapping\n",
    "\n",
    "比如有几种映射关系 map1, map2, map3， 如果想串接起来，组成一个合成的映射关系，可以用 `collections.ChainMap`\n",
    "\n",
    "挺有意思的，但是不知道什么地方用。\n",
    "\n",
    "`ChainMap(map1, map2, map3)` 表示 map3 -> map2 -> map1 这样的映射顺序。前面的映射会被后面的覆盖"
   ]
  },
  {
   "cell_type": "code",
   "execution_count": 31,
   "metadata": {},
   "outputs": [
    {
     "name": "stdout",
     "output_type": "stream",
     "text": [
      "1\n",
      "3\n",
      "4\n",
      "ChainMap({'x': 1, 'y': 3}, {'y': 2, 'z': 4})\n"
     ]
    }
   ],
   "source": [
    "a = {'x': 1, 'y': 3}\n",
    "b = {'y': 2, 'z': 4}\n",
    "\n",
    "from collections import ChainMap\n",
    "c = ChainMap(a, b)\n",
    "print(c['x'])  # 1\n",
    "print(c['y'])  # 3  from a  这里可以理解成反向排序， a是最后一个映射关系。\n",
    "print(c['z'])  # 4\n",
    "print(c)"
   ]
  }
 ],
 "metadata": {
  "kernelspec": {
   "display_name": "Python 3",
   "language": "python",
   "name": "python3"
  },
  "language_info": {
   "codemirror_mode": {
    "name": "ipython",
    "version": 3
   },
   "file_extension": ".py",
   "mimetype": "text/x-python",
   "name": "python",
   "nbconvert_exporter": "python",
   "pygments_lexer": "ipython3",
   "version": "3.6.2"
  },
  "varInspector": {
   "cols": {
    "lenName": 16,
    "lenType": 16,
    "lenVar": 40
   },
   "kernels_config": {
    "python": {
     "delete_cmd_postfix": "",
     "delete_cmd_prefix": "del ",
     "library": "var_list.py",
     "varRefreshCmd": "print(var_dic_list())"
    },
    "r": {
     "delete_cmd_postfix": ") ",
     "delete_cmd_prefix": "rm(",
     "library": "var_list.r",
     "varRefreshCmd": "cat(var_dic_list()) "
    }
   },
   "types_to_exclude": [
    "module",
    "function",
    "builtin_function_or_method",
    "instance",
    "_Feature"
   ],
   "window_display": false
  }
 },
 "nbformat": 4,
 "nbformat_minor": 2
}
