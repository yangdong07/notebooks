{
 "cells": [
  {
   "cell_type": "markdown",
   "metadata": {},
   "source": [
    "## 9. Metaprogramming\n",
    "\n",
    "涉及 装饰器、元类（metaclass）。\n",
    "\n",
    "目的是不改变已有代码的情况下，去操控代码。 例如装饰器是添加修饰功能，或者完全取代。\n",
    "\n",
    "\n",
    "又是一个庞杂的东西。\n",
    "\n",
    "涉及\n",
    "\n",
    "1. 装饰器\n",
    "2. metaclass\n",
    "3. python code执行以及变量（不懂）"
   ]
  },
  {
   "cell_type": "markdown",
   "metadata": {},
   "source": [
    "###  9.1 wrapper\n",
    "\n",
    "很简单的装饰器，作为热身\n",
    "\n",
    "注意在用 `@` 语法时， 后面的对象（可以是函数，可以是类），必须接受一个 函数参数 (func)。"
   ]
  },
  {
   "cell_type": "code",
   "execution_count": 17,
   "metadata": {},
   "outputs": [
    {
     "name": "stdout",
     "output_type": "stream",
     "text": [
      "countdown 0.0006749629974365234\n",
      "<function timethis.<locals>.wrapper at 0x10ff42730>\n",
      "wrapper\n",
      "None\n"
     ]
    },
    {
     "ename": "AttributeError",
     "evalue": "'function' object has no attribute '__wrapped__'",
     "output_type": "error",
     "traceback": [
      "\u001b[0;31m---------------------------------------------------------------------------\u001b[0m",
      "\u001b[0;31mAttributeError\u001b[0m                            Traceback (most recent call last)",
      "\u001b[0;32m<ipython-input-17-3f30f51ebba8>\u001b[0m in \u001b[0;36m<module>\u001b[0;34m()\u001b[0m\n\u001b[1;32m     20\u001b[0m \u001b[0mprint\u001b[0m\u001b[0;34m(\u001b[0m\u001b[0mcountdown\u001b[0m\u001b[0;34m.\u001b[0m\u001b[0m__name__\u001b[0m\u001b[0;34m)\u001b[0m\u001b[0;34m\u001b[0m\u001b[0m\n\u001b[1;32m     21\u001b[0m \u001b[0mprint\u001b[0m\u001b[0;34m(\u001b[0m\u001b[0mcountdown\u001b[0m\u001b[0;34m.\u001b[0m\u001b[0m__doc__\u001b[0m\u001b[0;34m)\u001b[0m\u001b[0;34m\u001b[0m\u001b[0m\n\u001b[0;32m---> 22\u001b[0;31m \u001b[0mprint\u001b[0m\u001b[0;34m(\u001b[0m\u001b[0mcountdown\u001b[0m\u001b[0;34m.\u001b[0m\u001b[0m__wrapped__\u001b[0m\u001b[0;34m)\u001b[0m   \u001b[0;31m## wraps还给出 __wrapped__属性\u001b[0m\u001b[0;34m\u001b[0m\u001b[0m\n\u001b[0m",
      "\u001b[0;31mAttributeError\u001b[0m: 'function' object has no attribute '__wrapped__'"
     ]
    }
   ],
   "source": [
    "import time\n",
    "from functools import wraps\n",
    "\n",
    "def timethis(func):\n",
    "    def wrapper(*args, **kwargs):\n",
    "        start = time.time()\n",
    "        result = func(*args, **kwargs)\n",
    "        end = time.time()\n",
    "        print(func.__name__, end-start)\n",
    "        return result\n",
    "    return wrapper\n",
    "\n",
    "@timethis\n",
    "def countdown(n):\n",
    "    while n > 0:\n",
    "        n -= 1\n",
    "\n",
    "countdown(10000)\n",
    "print(countdown)\n",
    "print(countdown.__name__)\n",
    "print(countdown.__doc__)\n",
    "print(countdown.__wrapped__)   ## wraps还给出 __wrapped__属性"
   ]
  },
  {
   "cell_type": "markdown",
   "metadata": {},
   "source": [
    "### 9.2 使用装饰器时，保留原函数的metadata\n",
    "\n",
    "注意上面例子中， countdown不再是以前的那个countdown了，已经被掉包了，实际上是一个 wrapper函数对象。\n",
    "\n",
    "如果要保留原函数的信息，做到以假乱真，需要加上 `@wraps`装饰器\n",
    "\n",
    "看 `functools.wraps`的源代码就可以发现，就是把 `wrapper` 这个函数的一些metadata信息全部替换掉了。并且 加了一个 `__wrapped__`。\n"
   ]
  },
  {
   "cell_type": "code",
   "execution_count": 18,
   "metadata": {},
   "outputs": [
    {
     "name": "stdout",
     "output_type": "stream",
     "text": [
      "countdown 0.001474142074584961\n",
      "<function countdown at 0x10ffa16a8>\n",
      "countdown\n",
      "{'n': <class 'int'>}\n",
      "<function countdown at 0x10ff420d0>\n"
     ]
    }
   ],
   "source": [
    "import time\n",
    "from functools import wraps\n",
    "\n",
    "def timethis(func):\n",
    "    @wraps(func)\n",
    "    def wrapper(*args, **kwargs):\n",
    "        start = time.time()\n",
    "        result = func(*args, **kwargs)\n",
    "        end = time.time()\n",
    "        print(func.__name__, end-start)\n",
    "        return result\n",
    "    return wrapper\n",
    "\n",
    "@timethis\n",
    "def countdown(n:int):\n",
    "    while n > 0:\n",
    "        n -= 1\n",
    "\n",
    "countdown(10000)\n",
    "print(countdown)\n",
    "print(countdown.__name__)\n",
    "print(countdown.__annotations__)\n",
    "print(countdown.__wrapped__)   ## wraps还给出 __wrapped__属性"
   ]
  },
  {
   "cell_type": "markdown",
   "metadata": {},
   "source": [
    "### 9.3 Unwrapping a Decorator\n",
    "\n",
    "假的终归是假的。。还原本来的函数方法。\n"
   ]
  },
  {
   "cell_type": "code",
   "execution_count": 19,
   "metadata": {},
   "outputs": [
    {
     "name": "stdout",
     "output_type": "stream",
     "text": [
      "<function countdown at 0x10ff420d0>\n",
      "countdown\n",
      "{'n': <class 'int'>}\n"
     ]
    }
   ],
   "source": [
    "orig_countdown = countdown.__wrapped__\n",
    "orig_countdown(1000)\n",
    "print(orig_countdown)\n",
    "print(orig_countdown.__name__)\n",
    "print(orig_countdown.__annotations__)"
   ]
  },
  {
   "cell_type": "markdown",
   "metadata": {},
   "source": [
    "\n",
    "这里有个问题，如果有多个装饰器，实际上是一个链状结构"
   ]
  },
  {
   "cell_type": "code",
   "execution_count": 42,
   "metadata": {},
   "outputs": [
    {
     "name": "stdout",
     "output_type": "stream",
     "text": [
      "Decorator 1\n",
      "Decorator 2\n",
      "5\n",
      "Decorator 2\n",
      "5\n",
      "5\n"
     ]
    }
   ],
   "source": [
    "# Example of unwrapping a decorator\n",
    "\n",
    "from functools import wraps\n",
    "\n",
    "def decorator1(func):\n",
    "    @wraps(func)\n",
    "    def wrapper(*args, **kwargs):\n",
    "        print('Decorator 1')\n",
    "        return func(*args, **kwargs)\n",
    "    return wrapper\n",
    "\n",
    "def decorator2(func):\n",
    "    @wraps(func)\n",
    "    def wrapper(*args, **kwargs):\n",
    "        print('Decorator 2')\n",
    "        return func(*args, **kwargs)\n",
    "    return wrapper\n",
    "\n",
    "@decorator1\n",
    "@decorator2\n",
    "def add(x, y):\n",
    "    return x + y\n",
    "\n",
    "# Calling wrapped function\n",
    "print(add(2,3))\n",
    "\n",
    "# Calling original function\n",
    "print(add.__wrapped__(2,3))\n",
    "\n",
    "# Calling original function\n",
    "print(add.__wrapped__.__wrapped__(2,3))"
   ]
  },
  {
   "cell_type": "markdown",
   "metadata": {},
   "source": [
    "### 9.4 带参数的装饰器\n",
    "\n",
    "注意不带参数的装饰器对象是一个函数，需要接受一个(func)参数，返回一个 （wrapper）假函数即可。\n",
    "\n",
    "但是带参数的装饰器，需要先给出参数，然后返回一个不带参数的装饰器对象。"
   ]
  },
  {
   "cell_type": "code",
   "execution_count": 23,
   "metadata": {},
   "outputs": [
    {
     "name": "stderr",
     "output_type": "stream",
     "text": [
      "DEBUG:__main__:add\n",
      "CRITICAL:example:spam\n"
     ]
    },
    {
     "name": "stdout",
     "output_type": "stream",
     "text": [
      "5\n",
      "Spam!\n",
      "<function add at 0x10fbc01e0> <function add at 0x10fbc0a60>\n",
      "<function spam at 0x10fbc0d08> <function spam at 0x10fbc06a8>\n"
     ]
    }
   ],
   "source": [
    "from functools import wraps\n",
    "import logging\n",
    "\n",
    "def logged(level, name=None, message=None):\n",
    "    '''\n",
    "    Add logging to a function.  level is the logging\n",
    "    level, name is the logger name, and message is the\n",
    "    log message.  If name and message aren't specified,\n",
    "    they default to the function's module and name.\n",
    "    '''\n",
    "    def decorate(func):\n",
    "        logname = name if name else func.__module__\n",
    "        log = logging.getLogger(logname)\n",
    "        logmsg = message if message else func.__name__\n",
    "\n",
    "        @wraps(func)   # 在这里就把所有metadata保留了\n",
    "        def wrapper(*args, **kwargs):\n",
    "            log.log(level, logmsg)\n",
    "            return func(*args, **kwargs)\n",
    "        return wrapper\n",
    "    return decorate\n",
    "\n",
    "# Example use\n",
    "@logged(logging.DEBUG)\n",
    "def add(x, y):\n",
    "    return x + y\n",
    "\n",
    "@logged(logging.CRITICAL, 'example')\n",
    "def spam():\n",
    "    print('Spam!')\n",
    "\n",
    "if __name__ == '__main__':\n",
    "    import logging\n",
    "    logging.basicConfig(level=logging.DEBUG)\n",
    "    print(add(2,3))\n",
    "    spam()\n",
    "\n",
    "print(add, add.__wrapped__)\n",
    "print(spam, spam.__wrapped__)"
   ]
  },
  {
   "cell_type": "markdown",
   "metadata": {},
   "source": [
    "### 9.5 装饰器行为运行时调整\n",
    "\n",
    "其实可以理解成，配置装饰器的属性，可以在运行时修改调整。\n",
    "\n",
    "进一步理解： 装饰器的作用是替换掉原来的函数。 函数作为一个对象，可以有一些自己的属性。 同时，传进来的参数，是存放到函数堆栈里的。\n"
   ]
  },
  {
   "cell_type": "code",
   "execution_count": 26,
   "metadata": {
    "scrolled": true
   },
   "outputs": [
    {
     "name": "stderr",
     "output_type": "stream",
     "text": [
      "DEBUG:__main__:add\n",
      "DEBUG:__main__:Add called\n",
      "WARNING:__main__:Add called\n",
      "DEBUG:__main__:countdown\n",
      "CRITICAL:__main__:countdown\n",
      "DEBUG:__main__:countdown2\n",
      "CRITICAL:__main__:countdown2\n"
     ]
    },
    {
     "name": "stdout",
     "output_type": "stream",
     "text": [
      "5\n",
      "5\n",
      "5\n",
      "countdown 0.011485815048217773\n",
      "countdown 0.010819196701049805\n",
      "countdown2 0.015055179595947266\n",
      "countdown2 0.02456188201904297\n"
     ]
    }
   ],
   "source": [
    "from functools import wraps, partial\n",
    "import logging\n",
    "\n",
    "def attach_wrapper(obj, func=None):\n",
    "    if func is None:\n",
    "        return partial(attach_wrapper, obj)\n",
    "    setattr(obj, func.__name__, func)\n",
    "    return func\n",
    "\n",
    "def logged(level, name=None, message=None):\n",
    "    '''\n",
    "    Add logging to a function.  level is the logging\n",
    "    level, name is the logger name, and message is the\n",
    "    log message.  If name and message aren't specified,\n",
    "    they default to the function's module and name.\n",
    "    '''\n",
    "    def decorate(func):\n",
    "        logname = name if name else func.__module__\n",
    "        log = logging.getLogger(logname)\n",
    "        logmsg = message if message else func.__name__\n",
    "\n",
    "        @wraps(func)\n",
    "        def wrapper(*args, **kwargs):    # 这就是那个假函数\n",
    "            log.log(level, logmsg)\n",
    "            return func(*args, **kwargs)\n",
    "\n",
    "        # Attach setter functions\n",
    "        @attach_wrapper(wrapper)    # 对假函数的一些操作\n",
    "        def set_level(newlevel):\n",
    "            nonlocal level\n",
    "            level = newlevel\n",
    "\n",
    "        @attach_wrapper(wrapper)\n",
    "        def set_message(newmsg):\n",
    "            nonlocal logmsg\n",
    "            logmsg = newmsg\n",
    "\n",
    "        return wrapper\n",
    "    return decorate\n",
    "\n",
    "# Example use\n",
    "@logged(logging.DEBUG)\n",
    "def add(x, y):\n",
    "    return x + y\n",
    "\n",
    "@logged(logging.CRITICAL, 'example')\n",
    "def spam():\n",
    "    print('Spam!')\n",
    "\n",
    "# Example involving multiple decorators\n",
    "\n",
    "import time\n",
    "def timethis(func):\n",
    "    @wraps(func)\n",
    "    def wrapper(*args, **kwargs):\n",
    "        start = time.time()\n",
    "        r = func(*args, **kwargs)\n",
    "        end = time.time()\n",
    "        print(func.__name__, end - start)\n",
    "        return r\n",
    "    return wrapper\n",
    "\n",
    "@timethis\n",
    "@logged(logging.DEBUG)\n",
    "def countdown(n):\n",
    "    while n > 0:\n",
    "        n -= 1\n",
    "\n",
    "\n",
    "@logged(logging.DEBUG)\n",
    "@timethis\n",
    "def countdown2(n):\n",
    "    while n > 0:\n",
    "        n -= 1\n",
    "\n",
    "if __name__ == '__main__':\n",
    "    import logging\n",
    "    logging.basicConfig(level=logging.DEBUG)\n",
    "    print(add(2, 3))\n",
    "\n",
    "    # Change the log message\n",
    "    add.set_message('Add called')\n",
    "    print(add(2, 3))\n",
    "\n",
    "    # Change the log level\n",
    "    add.set_level(logging.WARNING)\n",
    "    print(add(2, 3))\n",
    "\n",
    "    countdown(100000)\n",
    "    countdown.set_level(logging.CRITICAL)\n",
    "    countdown(100000)\n",
    "\n",
    "    countdown2(100000)\n",
    "    countdown2.set_level(logging.CRITICAL)\n",
    "    countdown2(100000)\n"
   ]
  },
  {
   "cell_type": "code",
   "execution_count": 44,
   "metadata": {},
   "outputs": [
    {
     "name": "stderr",
     "output_type": "stream",
     "text": [
      "DEBUG:__main__:add\n",
      "DEBUG:__main__:add\n",
      "DEBUG:__main__:add\n",
      "DEBUG:__main__:add2\n",
      "DEBUG:__main__:Add called\n",
      "WARNING:__main__:Add called\n"
     ]
    },
    {
     "name": "stdout",
     "output_type": "stream",
     "text": [
      "add 0.0009200572967529297\n",
      "5\n",
      "add 0.0009019374847412109\n",
      "5\n",
      "add 0.004828929901123047\n",
      "5\n",
      "add2 1.9073486328125e-06\n",
      "5\n",
      "add2 1.9073486328125e-06\n",
      "5\n",
      "add2 2.1457672119140625e-06\n",
      "5\n"
     ]
    }
   ],
   "source": [
    "# Alternate formulation using function attributes directly\n",
    "\n",
    "from functools import wraps\n",
    "import logging\n",
    "\n",
    "def logged(level, name=None, message=None):\n",
    "    '''\n",
    "    Add logging to a function.  level is the logging\n",
    "    level, name is the logger name, and message is the\n",
    "    log message.  If name and message aren't specified,\n",
    "    they default to the function's module and name.\n",
    "    '''\n",
    "    def decorate(func):\n",
    "        logname = name if name else func.__module__\n",
    "        log = logging.getLogger(logname)\n",
    "        logmsg = message if message else func.__name__\n",
    "\n",
    "        @wraps(func)\n",
    "        def wrapper(*args, **kwargs):\n",
    "            wrapper.log.log(wrapper.level, wrapper.logmsg)\n",
    "            return func(*args, **kwargs)\n",
    "\n",
    "        # Attach adjustable attributes\n",
    "        wrapper.level = level\n",
    "        wrapper.logmsg = logmsg\n",
    "        wrapper.log = log\n",
    "\n",
    "        return wrapper\n",
    "    return decorate\n",
    "\n",
    "# Example use\n",
    "@timethis\n",
    "@logged(logging.DEBUG)\n",
    "def add(x, y):\n",
    "    return x + y\n",
    "\n",
    "@logged(logging.DEBUG)\n",
    "@timethis\n",
    "def add2(x, y):\n",
    "    return x + y\n",
    "\n",
    "@logged(logging.CRITICAL, 'example')\n",
    "def spam():\n",
    "    print('Spam!')\n",
    "\n",
    "if __name__ == '__main__':\n",
    "    import logging\n",
    "    logging.basicConfig(level=logging.DEBUG)\n",
    "    print(add(2, 3))\n",
    "\n",
    "    # Change the log message\n",
    "    add.logmsg = 'Add called'\n",
    "    print(add(2, 3))\n",
    "\n",
    "    # Change the log level\n",
    "    add.level = logging.WARNING\n",
    "    print(add(2, 3))\n",
    "    \n",
    "    ## add 2\n",
    "    print(add2(2, 3))\n",
    "\n",
    "    # Change the log message\n",
    "    add2.logmsg = 'Add called'\n",
    "    print(add2(2, 3))\n",
    "\n",
    "    # Change the log level\n",
    "    add2.level = logging.WARNING\n",
    "    print(add2(2, 3))\n"
   ]
  },
  {
   "cell_type": "code",
   "execution_count": 47,
   "metadata": {},
   "outputs": [
    {
     "name": "stdout",
     "output_type": "stream",
     "text": [
      "1. timethis {'__wrapped__': <function add at 0x10fcfb510>, 'level': 30, 'logmsg': 'Add called', 'log': <Logger __main__ (DEBUG)>}\n",
      "1. logged {'__wrapped__': <function add at 0x10fcfb400>, 'level': 10, 'logmsg': 'add', 'log': <Logger __main__ (DEBUG)>}\n",
      "2. logged {'__wrapped__': <function add2 at 0x10fcfbb70>, 'level': 30, 'logmsg': 'Add called', 'log': <Logger __main__ (DEBUG)>}\n",
      "2. timethis {'__wrapped__': <function add2 at 0x10fcfb840>}\n"
     ]
    }
   ],
   "source": [
    "print('1. timethis', add.__dict__)\n",
    "print('1. logged', add.__wrapped__.__dict__)\n",
    "print('2. logged', add2.__dict__)\n",
    "print('2. timethis', add2.__wrapped__.__dict__)"
   ]
  },
  {
   "cell_type": "markdown",
   "metadata": {},
   "source": [
    "注意以上两种方法的区别\n",
    "\n",
    "第二种方法有个bug， 如果 装饰器之上再添加一个装饰器，虽然保留这些属性，但是不再对封装的那个装饰器产生影响。\n",
    "\n",
    "所以相比较而言，添加一个方法（访问器，accessor），比直接添加属性要好。"
   ]
  },
  {
   "cell_type": "markdown",
   "metadata": {},
   "source": [
    "### 9.6 装饰器，可选参数，更灵活\n",
    "\n",
    "上面带参数的装饰器和不带参数的装饰器，层数不一样。 其实也可以放到一起。这里需要用到 位置参数的限定，即不允许使用位置参数。"
   ]
  },
  {
   "cell_type": "code",
   "execution_count": 50,
   "metadata": {},
   "outputs": [
    {
     "name": "stderr",
     "output_type": "stream",
     "text": [
      "DEBUG:__main__:add\n",
      "DEBUG:__main__:sub\n",
      "CRITICAL:example:spam\n"
     ]
    },
    {
     "name": "stdout",
     "output_type": "stream",
     "text": [
      "Spam!\n"
     ]
    }
   ],
   "source": [
    "from functools import wraps, partial\n",
    "import logging\n",
    "\n",
    "def logged(func=None, *, level=logging.DEBUG, name=None, message=None):\n",
    "    if func is None:\n",
    "        return partial(logged, level=level, name=name, message=message)\n",
    "\n",
    "    logname = name if name else func.__module__\n",
    "    log = logging.getLogger(logname)\n",
    "    logmsg = message if message else func.__name__\n",
    "    @wraps(func)\n",
    "    def wrapper(*args, **kwargs):\n",
    "        log.log(level, logmsg)\n",
    "        return func(*args, **kwargs)\n",
    "    return wrapper\n",
    "\n",
    "# Example use\n",
    "@logged         # 其实是不带参数的装饰器，传递了一个func：add进来。\n",
    "def add(x, y):\n",
    "    return x + y\n",
    "\n",
    "@logged()       # 是带参数的装饰器，但是 func =None， 所以用partial打个包，变成不带参数的装饰器\n",
    "def sub(x, y):\n",
    "    return x - y\n",
    "\n",
    "@logged(level=logging.CRITICAL, name='example')   # 同上，func=None\n",
    "def spam():     \n",
    "    print('Spam!')\n",
    "\n",
    "if __name__ == '__main__':\n",
    "    import logging\n",
    "    logging.basicConfig(level=logging.DEBUG)\n",
    "    add(2,3)\n",
    "    sub(2,3)\n",
    "    spam()\n"
   ]
  },
  {
   "cell_type": "markdown",
   "metadata": {},
   "source": [
    "### 9.7 使用装饰器做类型检查\n",
    "\n",
    "之前见过，一种操作。"
   ]
  },
  {
   "cell_type": "code",
   "execution_count": 51,
   "metadata": {},
   "outputs": [
    {
     "name": "stdout",
     "output_type": "stream",
     "text": [
      "5\n",
      "Argument y must be <class 'int'>\n",
      "1 2 3\n",
      "1 hello 3\n",
      "Argument z must be <class 'int'>\n"
     ]
    }
   ],
   "source": [
    "from inspect import signature\n",
    "from functools import wraps\n",
    "\n",
    "def typeassert(*ty_args, **ty_kwargs):\n",
    "    def decorate(func):\n",
    "        # If in optimized mode, disable type checking\n",
    "        if not __debug__:\n",
    "            return func\n",
    "\n",
    "        # Map function argument names to supplied types\n",
    "        sig = signature(func)\n",
    "        bound_types = sig.bind_partial(*ty_args, **ty_kwargs).arguments\n",
    "\n",
    "        @wraps(func)\n",
    "        def wrapper(*args, **kwargs):\n",
    "            bound_values = sig.bind(*args, **kwargs)\n",
    "            # Enforce type assertions across supplied arguments\n",
    "            for name, value in bound_values.arguments.items():\n",
    "                if name in bound_types:\n",
    "                    if not isinstance(value, bound_types[name]):\n",
    "                        raise TypeError(\n",
    "                            'Argument {} must be {}'.format(name, bound_types[name])\n",
    "                            )\n",
    "            return func(*args, **kwargs)\n",
    "        return wrapper\n",
    "    return decorate\n",
    "\n",
    "# Examples\n",
    "\n",
    "@typeassert(int, int)\n",
    "def add(x, y):\n",
    "    return x + y\n",
    "\n",
    "@typeassert(int, z=int)\n",
    "def spam(x, y, z=42):\n",
    "    print(x, y, z)\n",
    "\n",
    "if __name__ == '__main__':\n",
    "    print(add(2,3))\n",
    "    try:\n",
    "        add(2, 'hello')\n",
    "    except TypeError as e:\n",
    "        print(e)\n",
    "\n",
    "    spam(1, 2, 3)\n",
    "    spam(1, 'hello', 3)\n",
    "    try:\n",
    "        spam(1, 'hello', 'world')\n",
    "    except TypeError as e:\n",
    "        print(e)\n",
    "\n"
   ]
  },
  {
   "cell_type": "markdown",
   "metadata": {},
   "source": [
    "\n",
    "### 9.8 类方法作为装饰器\n",
    "\n",
    "其实 property 就用了一些方法作为装饰器"
   ]
  },
  {
   "cell_type": "code",
   "execution_count": 52,
   "metadata": {},
   "outputs": [
    {
     "name": "stdout",
     "output_type": "stream",
     "text": [
      "Decorator 1\n",
      "Decorator 2\n"
     ]
    }
   ],
   "source": [
    "from functools import wraps\n",
    "\n",
    "class A:\n",
    "    # Decorator as an instance method\n",
    "    def decorator1(self, func):\n",
    "        @wraps(func)\n",
    "        def wrapper(*args, **kwargs):\n",
    "            print('Decorator 1')\n",
    "            return func(*args, **kwargs)\n",
    "        return wrapper\n",
    "\n",
    "    # Decorator as a class method\n",
    "    @classmethod\n",
    "    def decorator2(cls, func):\n",
    "        @wraps(func)\n",
    "        def wrapper(*args, **kwargs):\n",
    "            print('Decorator 2')\n",
    "            return func(*args, **kwargs)\n",
    "        return wrapper\n",
    "\n",
    "# Example\n",
    "# As an instance method\n",
    "a = A()\n",
    "\n",
    "@a.decorator1\n",
    "def spam():\n",
    "    pass\n",
    "\n",
    "# As a class method\n",
    "@A.decorator2\n",
    "def grok():\n",
    "    pass\n",
    "\n",
    "spam()\n",
    "grok()\n"
   ]
  },
  {
   "cell_type": "code",
   "execution_count": 53,
   "metadata": {},
   "outputs": [
    {
     "name": "stdout",
     "output_type": "stream",
     "text": [
      "Dave\n"
     ]
    }
   ],
   "source": [
    "# Property example\n",
    "\n",
    "class Person:\n",
    "    first_name = property()\n",
    "    @first_name.getter\n",
    "    def first_name(self):\n",
    "        return self._first_name\n",
    "\n",
    "    @first_name.setter\n",
    "    def first_name(self, value):\n",
    "        if not isinstance(value, str):\n",
    "            raise TypeError('Expected a string')\n",
    "        self._first_name = value\n",
    "\n",
    "p = Person()\n",
    "p.first_name = 'Dave'\n",
    "print(p.first_name)\n"
   ]
  },
  {
   "cell_type": "markdown",
   "metadata": {},
   "source": [
    "### 9.9 类作为装饰器\n",
    "\n",
    "其实跟函数装饰器一样， 类的 `__init__` 方法需要接受一个 `func` 参数。\n",
    "\n",
    "然后替换掉的不再是一个函数，实际上是一个类装饰器的一个实例。"
   ]
  },
  {
   "cell_type": "code",
   "execution_count": 68,
   "metadata": {},
   "outputs": [
    {
     "name": "stdout",
     "output_type": "stream",
     "text": [
      "5\n",
      "9\n",
      "ncalls: 2\n",
      "get!!\n",
      "<__main__.Spam object at 0x10fcc0780> <class '__main__.Spam'>\n",
      "<__main__.Spam object at 0x10fcc0780> 1\n",
      "get!!\n",
      "<__main__.Spam object at 0x10fcc0780> <class '__main__.Spam'>\n",
      "<__main__.Spam object at 0x10fcc0780> 2\n",
      "get!!\n",
      "<__main__.Spam object at 0x10fcc0780> <class '__main__.Spam'>\n",
      "<__main__.Spam object at 0x10fcc0780> 3\n",
      "get!!\n",
      "None <class '__main__.Spam'>\n",
      "ncalls: 3\n"
     ]
    }
   ],
   "source": [
    "# Example of defining a decorator as a class\n",
    "import types\n",
    "from functools import wraps\n",
    "       \n",
    "class Profiled:\n",
    "    def __init__(self, func):\n",
    "        wraps(func)(self)    # 这里直接更新一个 metadata，假装自己就是原函数。\n",
    "        self.ncalls = 0\n",
    "\n",
    "    def __call__(self, *args, **kwargs):\n",
    "        self.ncalls += 1    # 每次调用计数， 这是装饰器唯一添加的功能\n",
    "        return self.__wrapped__(*args, **kwargs)   # 调用原函数\n",
    "\n",
    "    def __get__(self, instance, cls):   # ？？？？？\n",
    "        print('get!!')\n",
    "        print(instance, cls)\n",
    "        if instance is None:\n",
    "            return self\n",
    "        else:\n",
    "            return types.MethodType(self, instance)\n",
    "\n",
    "# Example\n",
    "\n",
    "@Profiled\n",
    "def add(x, y):\n",
    "    return x + y\n",
    "\n",
    "class Spam:\n",
    "    @Profiled\n",
    "    def bar(self, x):\n",
    "        print(self, x)\n",
    "\n",
    "if __name__ == '__main__':\n",
    "    print(add(2,3))\n",
    "    print(add(4,5))\n",
    "    print('ncalls:', add.ncalls)\n",
    "\n",
    "    s = Spam()\n",
    "    s.bar(1)\n",
    "    s.bar(2)\n",
    "    s.bar(3)\n",
    "    print('ncalls:', Spam.bar.ncalls)\n"
   ]
  },
  {
   "cell_type": "markdown",
   "metadata": {},
   "source": [
    "注意类里面定义的 `__get__` 方法。 这么做的原因是这样的： Spam的bar已经不是原来的那个bar了， 而是一个 Profiled 实例。 这个实例还没有跟 Spam类的实例 bond在一起。 所以定义这么一个方法，用于绑定调用者（instance）与自己(self)。 见下例"
   ]
  },
  {
   "cell_type": "code",
   "execution_count": 69,
   "metadata": {},
   "outputs": [
    {
     "data": {
      "text/plain": [
       "<bound method grok of <__main__.Spam object at 0x10fcc0c18>>"
      ]
     },
     "execution_count": 69,
     "metadata": {},
     "output_type": "execute_result"
    }
   ],
   "source": [
    "s = Spam()\n",
    "def grok(self, x):\n",
    "    pass\n",
    "\n",
    "grok.__get__(s, Spam)  # 第二个参数有啥用？"
   ]
  },
  {
   "cell_type": "markdown",
   "metadata": {},
   "source": [
    "### 9.10 类方法和静态方法装饰器\n",
    "\n",
    "`@classmethod`\n",
    "\n",
    "`@staticmethod`\n",
    "\n",
    "下面例子中，一定要注意装饰器的顺序。 @classmethod 一定是最上层的装饰器。否则就出错了。 涉及到boud一些问题？？？？"
   ]
  },
  {
   "cell_type": "code",
   "execution_count": 71,
   "metadata": {},
   "outputs": [
    {
     "name": "stdout",
     "output_type": "stream",
     "text": [
      "<__main__.Spam object at 0x10fc06710> 1000000\n",
      "0.10002517700195312\n",
      "<class '__main__.Spam'> 1000000\n",
      "0.07831406593322754\n",
      "1000000\n",
      "0.07678532600402832\n"
     ]
    }
   ],
   "source": [
    "import time\n",
    "from functools import wraps\n",
    "\n",
    "# A simple decorator\n",
    "def timethis(func):\n",
    "    @wraps(func)\n",
    "    def wrapper(*args, **kwargs):\n",
    "        start = time.time()\n",
    "        r = func(*args, **kwargs)\n",
    "        end = time.time()\n",
    "        print(end-start)\n",
    "        return r\n",
    "    return wrapper\n",
    "\n",
    "# Class illustrating application of the decorator to different kinds of methods\n",
    "class Spam:\n",
    "    @timethis\n",
    "    def instance_method(self, n):\n",
    "        print(self, n)\n",
    "        while n > 0:\n",
    "            n -= 1\n",
    "\n",
    "    @classmethod\n",
    "    @timethis\n",
    "    def class_method(cls, n):\n",
    "        print(cls, n)\n",
    "        while n > 0:\n",
    "            n -= 1\n",
    "\n",
    "    @staticmethod\n",
    "    @timethis\n",
    "    def static_method(n):\n",
    "        print(n)\n",
    "        while n > 0:\n",
    "            n -= 1\n",
    "\n",
    "if __name__ == '__main__':\n",
    "    s = Spam()\n",
    "    s.instance_method(1000000)\n",
    "    Spam.class_method(1000000)\n",
    "    Spam.static_method(1000000)\n"
   ]
  },
  {
   "cell_type": "markdown",
   "metadata": {},
   "source": [
    "### 9.11 给原函数增加一些参数\n",
    "\n"
   ]
  },
  {
   "cell_type": "code",
   "execution_count": 72,
   "metadata": {},
   "outputs": [
    {
     "name": "stdout",
     "output_type": "stream",
     "text": [
      "1 2 3\n",
      "Calling spam\n",
      "1 2 3\n"
     ]
    }
   ],
   "source": [
    "\n",
    "from functools import wraps\n",
    "\n",
    "def optional_debug(func):\n",
    "    @wraps(func)\n",
    "    def wrapper(*args, debug=False, **kwargs):\n",
    "        if debug:\n",
    "            print('Calling', func.__name__)\n",
    "        return func(*args, **kwargs)\n",
    "    return wrapper\n",
    "\n",
    "@optional_debug\n",
    "def spam(a, b, c):\n",
    "    print(a, b, c)\n",
    "    \n",
    "spam(1, 2, 3)\n",
    "spam(1, 2, 3, debug=True)"
   ]
  },
  {
   "cell_type": "markdown",
   "metadata": {},
   "source": [
    "\n",
    "### 9.12 类的装饰器（Patch）\n",
    "\n",
    "一种邪恶的方法，去修改类内部的一些行为。 表面上不去修改类。 本质上，仍然是修改类。\n",
    "\n",
    "有时候叫 monkeypatching。好像在哪见过， 似乎是 flask还是哪里，用 协程替代线程。"
   ]
  },
  {
   "cell_type": "code",
   "execution_count": 73,
   "metadata": {},
   "outputs": [
    {
     "name": "stdout",
     "output_type": "stream",
     "text": [
      "getting: x\n",
      "42\n",
      "getting: spam\n"
     ]
    }
   ],
   "source": [
    "def log_getattribute(cls):\n",
    "    # Get the original implementation\n",
    "    orig_getattribute = cls.__getattribute__\n",
    "\n",
    "    # Make a new definition\n",
    "    def new_getattribute(self, name):\n",
    "        print('getting:', name)\n",
    "        return orig_getattribute(self, name)\n",
    "\n",
    "    # Attach to the class and return\n",
    "    cls.__getattribute__ = new_getattribute\n",
    "    return cls\n",
    "\n",
    "# Example use\n",
    "@log_getattribute\n",
    "class A:\n",
    "    def __init__(self,x):\n",
    "        self.x = x\n",
    "    def spam(self):\n",
    "        pass\n",
    "\n",
    "if __name__ == '__main__':\n",
    "    a = A(42)\n",
    "    print(a.x)\n",
    "    a.spam()\n"
   ]
  },
  {
   "cell_type": "markdown",
   "metadata": {},
   "source": [
    "### 9.13 Metaclass ，控制 实例创建\n",
    "\n",
    "最典型的应用是 单例模式（singleton），见下面例子\n",
    "\n",
    "\n",
    "关于 metaclass的知识， 这片 <https://jakevdp.github.io/blog/2012/12/01/a-primer-on-python-metaclasses/> 介绍的很好。\n",
    "\n",
    "简而言之， metaclass 实际上是 type的子类。\n",
    "\n",
    "一般定义类，实际上都是  `type(name, parents, dict)` 这样的。\n",
    "\n",
    "如果定一个 Metaclass， 实际上是 `Metaclass(name, parents, dict)` 这样的。 在metaclass里面，会添加类的一些特别的用法。\n",
    "\n",
    "\n",
    "关于 metaclass，有一段话：\n",
    "\n",
    "> Metaclasses are deeper magic than 99% of users should ever worry about. If you wonder whether you need them, you don’t (the people who actually need them know with certainty that they need them, and don’t need an explanation about why).\n",
    "\n",
    ">– Tim Peters\n",
    "\n",
    "意思是 99% 都用不到这个。 用的时候自然有用的原因。"
   ]
  },
  {
   "cell_type": "code",
   "execution_count": 92,
   "metadata": {},
   "outputs": [
    {
     "name": "stdout",
     "output_type": "stream",
     "text": [
      "call\n",
      "<class '__main__.Spam'>\n",
      "<super: <class 'Singleton'>, <Singleton object>>\n",
      "<method-wrapper '__call__' of Singleton object at 0x7f974eea7258>\n",
      "Creating Spam\n",
      "call\n",
      "<class '__main__.Spam'>\n",
      "<super: <class 'Singleton'>, <Singleton object>>\n",
      "<method-wrapper '__call__' of Singleton object at 0x7f974eea7258>\n",
      "True\n"
     ]
    }
   ],
   "source": [
    "class Singleton(type):\n",
    "    def __init__(self, *args, **kwargs):   # 这是创建一个类的方法。可以这么说， MetaClass的实例就是Class。 Class的类型就是 MetaClass\n",
    "        self.__instance = None\n",
    "        super().__init__(*args, **kwargs)\n",
    "\n",
    "    def __call__(self, *args, **kwargs):   # 这是类调用（一般就是创建实例）的方法。 \n",
    "        print('call')\n",
    "        print(self)\n",
    "        print(super())\n",
    "        print(super().__call__)\n",
    "        if self.__instance is None:\n",
    "#             self.__instance = super().__call__(*args, **kwargs)  # 这里的super，感觉是调用了Spam，但是为什么？\n",
    "            self.__instance = type.__call__(self, *args, **kwargs) \n",
    "            return self.__instance\n",
    "        else:\n",
    "            return self.__instance\n",
    "\n",
    "class Spam(metaclass=Singleton):\n",
    "    def __init__(self):\n",
    "        print('Creating Spam')\n",
    "\n",
    "if __name__ == '__main__':\n",
    "    a = Spam()\n",
    "    b = Spam()\n",
    "    print(a is b)\n"
   ]
  },
  {
   "cell_type": "markdown",
   "metadata": {},
   "source": [
    "上面一直的一个困惑是 `self.__instance = super().__call__(*args, **kwargs)` ， 我知道其作用是创建一个实例。但是用到了 `super()`，就搞不明白了。 实际上， 就是用 metaclass的父类 type方法。\n",
    "\n",
    "这里有一个回答解释的比较合理： <https://stackoverflow.com/questions/6966772/using-the-call-method-of-a-metaclass-instead-of-new/6966942#6966942>\n",
    "\n",
    "其他参考资料：\n",
    "\n",
    "- <https://eli.thegreenplace.net/2011/08/14/python-metaclasses-by-example#id16>\n",
    "\n",
    "原因是这样子的：\n",
    "```python\n",
    "class type:\n",
    "    def __call__(cls, *args, **kwarg):\n",
    "\n",
    "        # ... a few things could possibly be done to cls here... maybe... or maybe not...\n",
    "\n",
    "        # then we call cls.__new__() to get a new object\n",
    "        obj = cls.__new__(cls, *args, **kwargs)\n",
    "\n",
    "        # ... a few things done to obj here... maybe... or not...\n",
    "\n",
    "        # then we call obj.__init__()\n",
    "        obj.__init__(*args, **kwargs)\n",
    "\n",
    "        # ... maybe a few more things done to obj here\n",
    "\n",
    "        # then we return obj\n",
    "        return obj\n",
    "```\n",
    "\n",
    "可以稍微理解 type的 `__call__` 干了什么事情。在这里调用了方法\n",
    "\n"
   ]
  },
  {
   "cell_type": "code",
   "execution_count": 85,
   "metadata": {},
   "outputs": [
    {
     "name": "stdout",
     "output_type": "stream",
     "text": [
      "<super: <class 'Singleton'>, <Singleton object>>\n"
     ]
    }
   ],
   "source": [
    "print(super(Singleton, Spam))"
   ]
  },
  {
   "cell_type": "code",
   "execution_count": 86,
   "metadata": {},
   "outputs": [
    {
     "name": "stdout",
     "output_type": "stream",
     "text": [
      "(<class '__main__.Singleton'>, <class 'type'>, <class 'object'>)\n"
     ]
    }
   ],
   "source": [
    "print(Singleton.__mro__)"
   ]
  },
  {
   "cell_type": "code",
   "execution_count": 87,
   "metadata": {},
   "outputs": [
    {
     "name": "stdout",
     "output_type": "stream",
     "text": [
      "(<class '__main__.Spam'>, <class 'object'>)\n"
     ]
    }
   ],
   "source": [
    "print(Spam.__mro__)"
   ]
  },
  {
   "cell_type": "code",
   "execution_count": 89,
   "metadata": {},
   "outputs": [
    {
     "name": "stdout",
     "output_type": "stream",
     "text": [
      "<class '__main__.Singleton'>\n",
      "<class 'type'>\n"
     ]
    }
   ],
   "source": [
    "print(type(Spam))\n",
    "print(type(Singleton))"
   ]
  },
  {
   "cell_type": "code",
   "execution_count": 80,
   "metadata": {},
   "outputs": [
    {
     "name": "stdout",
     "output_type": "stream",
     "text": [
      "1\n"
     ]
    }
   ],
   "source": [
    "print(a)"
   ]
  },
  {
   "cell_type": "markdown",
   "metadata": {},
   "source": [
    "为了说明这一点，注意下面这个例子， 这里更能看出来。 Spam不能实例化，原因是在 metaclass的 `__call__` 里禁用了这一点。"
   ]
  },
  {
   "cell_type": "code",
   "execution_count": 93,
   "metadata": {},
   "outputs": [
    {
     "name": "stdout",
     "output_type": "stream",
     "text": [
      "Can't instantiate directly\n",
      "Spam.grok\n"
     ]
    }
   ],
   "source": [
    "class NoInstances(type):\n",
    "    def __call__(self, *args, **kwargs):\n",
    "        raise TypeError(\"Can't instantiate directly\")\n",
    "\n",
    "class Spam(metaclass=NoInstances):\n",
    "    @staticmethod\n",
    "    def grok(x):\n",
    "        print('Spam.grok')\n",
    "\n",
    "if __name__ == '__main__':\n",
    "    try:\n",
    "        s = Spam()\n",
    "    except TypeError as e:\n",
    "        print(e)\n",
    "\n",
    "    Spam.grok(42)\n"
   ]
  },
  {
   "cell_type": "markdown",
   "metadata": {},
   "source": [
    "\n",
    "### 9.14 metaclass的一个例子： 保存 属性定义的顺序\n",
    "\n",
    "注意用一个顺序字典就可以了。 但是这个应用在哪里不是很清楚\n",
    "\n",
    "下面这个例子的重点其实就是 `__prepare__` 方法。\n",
    "\n",
    "参考 python的 [data model](https://docs.python.org/3/reference/datamodel.html)"
   ]
  },
  {
   "cell_type": "code",
   "execution_count": 94,
   "metadata": {},
   "outputs": [
    {
     "name": "stdout",
     "output_type": "stream",
     "text": [
      "GOOG\n",
      "GOOG,100,490.1\n",
      "Expected <class 'int'>\n"
     ]
    }
   ],
   "source": [
    "# Example of capturing class definition order\n",
    "\n",
    "from collections import OrderedDict\n",
    "\n",
    "# A set of descriptors for various types\n",
    "class Typed:\n",
    "    _expected_type = type(None)\n",
    "    def __init__(self, name=None):\n",
    "        self._name = name\n",
    "\n",
    "    def __set__(self, instance, value):\n",
    "        if not isinstance(value, self._expected_type):\n",
    "            raise TypeError('Expected ' +str(self._expected_type))\n",
    "        instance.__dict__[self._name] = value\n",
    "\n",
    "class Integer(Typed):\n",
    "    _expected_type = int\n",
    "\n",
    "class Float(Typed):\n",
    "    _expected_type = float\n",
    "\n",
    "class String(Typed):\n",
    "    _expected_type = str\n",
    "\n",
    "# Metaclass that uses an OrderedDict for class body\n",
    "class OrderedMeta(type):\n",
    "    def __new__(cls, clsname, bases, clsdict):\n",
    "        d = dict(clsdict)\n",
    "        order = []\n",
    "        for name, value in clsdict.items():\n",
    "            if isinstance(value, Typed):\n",
    "                value._name = name\n",
    "                order.append(name)\n",
    "        d['_order'] = order\n",
    "        return type.__new__(cls, clsname, bases, d)\n",
    "\n",
    "    @classmethod\n",
    "    def __prepare__(cls, clsname, bases):\n",
    "        return OrderedDict()\n",
    "\n",
    "# Example class that uses the definition order to initialize members\n",
    "class Structure(metaclass=OrderedMeta):\n",
    "    def as_csv(self):\n",
    "        return ','.join(str(getattr(self,name)) for name in self._order)\n",
    "\n",
    "# Example use\n",
    "class Stock(Structure):\n",
    "    name = String()\n",
    "    shares = Integer()\n",
    "    price = Float()\n",
    "    def __init__(self, name, shares, price):\n",
    "        self.name = name\n",
    "        self.shares = shares\n",
    "        self.price = price\n",
    "\n",
    "if __name__ == '__main__':\n",
    "    s = Stock('GOOG',100,490.1)\n",
    "    print(s.name)\n",
    "    print(s.as_csv())\n",
    "    try:\n",
    "        t = Stock('AAPL','a lot', 610.23)\n",
    "    except TypeError as e:\n",
    "        print(e)\n",
    "\n"
   ]
  },
  {
   "cell_type": "markdown",
   "metadata": {},
   "source": [
    "### 9.15 带optional参数 metaclass\n",
    "\n",
    "metaclass不是重点，以后再说"
   ]
  },
  {
   "cell_type": "code",
   "execution_count": 95,
   "metadata": {},
   "outputs": [],
   "source": [
    "# Example of a metaclass that takes optional arguments\n",
    "\n",
    "class MyMeta(type):\n",
    "    # Optional\n",
    "    @classmethod\n",
    "    def __prepare__(cls, name, bases, *, debug=False, synchronize=False):\n",
    "        # Custom processing\n",
    "        return super().__prepare__(name, bases)\n",
    "\n",
    "    # Required\n",
    "    def __new__(cls, name, bases, ns, *, debug=False, synchronize=False):\n",
    "        # Custom processing\n",
    "        return super().__new__(cls, name, bases, ns)\n",
    "        \n",
    "    def __init__(self, name, bases, ns, *, debug=False, synchronize=False):\n",
    "        # Custom processing\n",
    "        super().__init__(name, bases, ns)\n",
    "\n",
    "# Examples\n",
    "class A(metaclass=MyMeta, debug=True, synchronize=True):\n",
    "    pass\n",
    "\n",
    "class B(metaclass=MyMeta):\n",
    "    pass\n",
    "\n",
    "class C(metaclass=MyMeta, synchronize=True):\n",
    "    pass"
   ]
  },
  {
   "cell_type": "markdown",
   "metadata": {},
   "source": [
    "### 9.16 方法签名检查 `*args, **kwargs`"
   ]
  },
  {
   "cell_type": "code",
   "execution_count": 97,
   "metadata": {},
   "outputs": [
    {
     "name": "stdout",
     "output_type": "stream",
     "text": [
      "ACME 100 490.1\n",
      "ACME 100 490.1\n",
      "missing a required argument: 'price'\n",
      "too many positional arguments\n",
      "multiple values for argument 'name'\n"
     ]
    }
   ],
   "source": [
    "# Example of code that enforces signatures on an __init__ function\n",
    "\n",
    "from inspect import Signature, Parameter\n",
    "\n",
    "def make_sig(*names):\n",
    "    parms = [Parameter(name, Parameter.POSITIONAL_OR_KEYWORD)\n",
    "             for name in names]\n",
    "    return Signature(parms)\n",
    "\n",
    "class Structure:\n",
    "    __signature__ = make_sig()\n",
    "    def __init__(self, *args, **kwargs):\n",
    "        bound_values = self.__signature__.bind(*args, **kwargs)\n",
    "        for name, value in bound_values.arguments.items():\n",
    "            setattr(self, name, value)\n",
    "\n",
    "# Example use\n",
    "class Stock(Structure):\n",
    "    __signature__ = make_sig('name', 'shares', 'price')\n",
    "\n",
    "class Point(Structure):\n",
    "    __signature__ = make_sig('x', 'y')\n",
    "\n",
    "# Example instantiation tests\n",
    "if __name__ == '__main__':\n",
    "    s1 = Stock('ACME', 100, 490.1)\n",
    "    print(s1.name, s1.shares, s1.price)\n",
    "\n",
    "    s2 = Stock(shares=100, name='ACME', price=490.1)\n",
    "    print(s2.name, s2.shares, s2.price)\n",
    "\n",
    "    # Not enough args\n",
    "    try:\n",
    "        s3 = Stock('ACME', 100)\n",
    "    except TypeError as e:\n",
    "        print(e)\n",
    "\n",
    "    # Too many args\n",
    "    try:\n",
    "        s4 = Stock('ACME', 100, 490.1, '12/21/2012')\n",
    "    except TypeError as e:\n",
    "        print(e)\n",
    "\n",
    "    # Replicated args\n",
    "    try:\n",
    "        s5 = Stock('ACME', 100, name='ACME', price=490.1)\n",
    "    except TypeError as e:\n",
    "        print(e)\n"
   ]
  },
  {
   "cell_type": "markdown",
   "metadata": {},
   "source": [
    "### 9.17 类里面强制 coding风格\n",
    "\n",
    "似乎没什么必要。。。。用处不多。 但凡 metaclass都用处不多。 "
   ]
  },
  {
   "cell_type": "code",
   "execution_count": 98,
   "metadata": {},
   "outputs": [
    {
     "name": "stdout",
     "output_type": "stream",
     "text": [
      "**** About to generate a TypeError\n"
     ]
    },
    {
     "ename": "TypeError",
     "evalue": "Bad attribute name: fooBar",
     "output_type": "error",
     "traceback": [
      "\u001b[0;31m---------------------------------------------------------------------------\u001b[0m",
      "\u001b[0;31mTypeError\u001b[0m                                 Traceback (most recent call last)",
      "\u001b[0;32m<ipython-input-98-7745588507f3>\u001b[0m in \u001b[0;36m<module>\u001b[0;34m()\u001b[0m\n\u001b[1;32m     14\u001b[0m \u001b[0;34m\u001b[0m\u001b[0m\n\u001b[1;32m     15\u001b[0m \u001b[0mprint\u001b[0m\u001b[0;34m(\u001b[0m\u001b[0;34m'**** About to generate a TypeError'\u001b[0m\u001b[0;34m)\u001b[0m\u001b[0;34m\u001b[0m\u001b[0m\n\u001b[0;32m---> 16\u001b[0;31m \u001b[0;32mclass\u001b[0m \u001b[0mB\u001b[0m\u001b[0;34m(\u001b[0m\u001b[0mRoot\u001b[0m\u001b[0;34m)\u001b[0m\u001b[0;34m:\u001b[0m\u001b[0;34m\u001b[0m\u001b[0m\n\u001b[0m\u001b[1;32m     17\u001b[0m     \u001b[0;32mdef\u001b[0m \u001b[0mfooBar\u001b[0m\u001b[0;34m(\u001b[0m\u001b[0mself\u001b[0m\u001b[0;34m)\u001b[0m\u001b[0;34m:\u001b[0m       \u001b[0;31m# TypeError\u001b[0m\u001b[0;34m\u001b[0m\u001b[0m\n\u001b[1;32m     18\u001b[0m         \u001b[0;32mpass\u001b[0m\u001b[0;34m\u001b[0m\u001b[0m\n",
      "\u001b[0;32m<ipython-input-98-7745588507f3>\u001b[0m in \u001b[0;36m__new__\u001b[0;34m(cls, clsname, bases, clsdict)\u001b[0m\n\u001b[1;32m      3\u001b[0m         \u001b[0;32mfor\u001b[0m \u001b[0mname\u001b[0m \u001b[0;32min\u001b[0m \u001b[0mclsdict\u001b[0m\u001b[0;34m:\u001b[0m\u001b[0;34m\u001b[0m\u001b[0m\n\u001b[1;32m      4\u001b[0m             \u001b[0;32mif\u001b[0m \u001b[0mname\u001b[0m\u001b[0;34m.\u001b[0m\u001b[0mlower\u001b[0m\u001b[0;34m(\u001b[0m\u001b[0;34m)\u001b[0m \u001b[0;34m!=\u001b[0m \u001b[0mname\u001b[0m\u001b[0;34m:\u001b[0m\u001b[0;34m\u001b[0m\u001b[0m\n\u001b[0;32m----> 5\u001b[0;31m                 \u001b[0;32mraise\u001b[0m \u001b[0mTypeError\u001b[0m\u001b[0;34m(\u001b[0m\u001b[0;34m'Bad attribute name: '\u001b[0m \u001b[0;34m+\u001b[0m \u001b[0mname\u001b[0m\u001b[0;34m)\u001b[0m\u001b[0;34m\u001b[0m\u001b[0m\n\u001b[0m\u001b[1;32m      6\u001b[0m         \u001b[0;32mreturn\u001b[0m \u001b[0msuper\u001b[0m\u001b[0;34m(\u001b[0m\u001b[0;34m)\u001b[0m\u001b[0;34m.\u001b[0m\u001b[0m__new__\u001b[0m\u001b[0;34m(\u001b[0m\u001b[0mcls\u001b[0m\u001b[0;34m,\u001b[0m \u001b[0mclsname\u001b[0m\u001b[0;34m,\u001b[0m \u001b[0mbases\u001b[0m\u001b[0;34m,\u001b[0m \u001b[0mclsdict\u001b[0m\u001b[0;34m)\u001b[0m\u001b[0;34m\u001b[0m\u001b[0m\n\u001b[1;32m      7\u001b[0m \u001b[0;34m\u001b[0m\u001b[0m\n",
      "\u001b[0;31mTypeError\u001b[0m: Bad attribute name: fooBar"
     ]
    }
   ],
   "source": [
    "class NoMixedCaseMeta(type):\n",
    "    def __new__(cls, clsname, bases, clsdict):\n",
    "        for name in clsdict:\n",
    "            if name.lower() != name:\n",
    "                raise TypeError('Bad attribute name: ' + name)\n",
    "        return super().__new__(cls, clsname, bases, clsdict)\n",
    "\n",
    "class Root(metaclass=NoMixedCaseMeta):\n",
    "    pass\n",
    "\n",
    "class A(Root):\n",
    "    def foo_bar(self):      # Ok\n",
    "        pass\n",
    "\n",
    "print('**** About to generate a TypeError')\n",
    "class B(Root):\n",
    "    def fooBar(self):       # TypeError\n",
    "        pass\n"
   ]
  },
  {
   "cell_type": "markdown",
   "metadata": {},
   "source": [
    "### 9.18 手动创建类\n",
    "\n",
    "其实就是用 `type(classname, base, namespace)` 来创建"
   ]
  },
  {
   "cell_type": "code",
   "execution_count": 99,
   "metadata": {},
   "outputs": [
    {
     "name": "stdout",
     "output_type": "stream",
     "text": [
      "<types.Stock object at 0x10ff0ae80>\n",
      "4555.0\n"
     ]
    }
   ],
   "source": [
    "# Methods\n",
    "def __init__(self, name, shares, price):\n",
    "    self.name = name\n",
    "    self.shares = shares\n",
    "    self.price = price\n",
    "\n",
    "def cost(self):\n",
    "    return self.shares * self.price\n",
    "\n",
    "cls_dict = {\n",
    "    '__init__' : __init__,\n",
    "    'cost' : cost,\n",
    "}\n",
    "\n",
    "# Make a class\n",
    "import types\n",
    "\n",
    "Stock = types.new_class('Stock', (), {}, lambda ns: ns.update(cls_dict))\n",
    "\n",
    "if __name__ == '__main__':\n",
    "    s = Stock('ACME', 50, 91.1)\n",
    "    print(s)\n",
    "    print(s.cost())\n"
   ]
  },
  {
   "cell_type": "markdown",
   "metadata": {},
   "source": [
    "### 9.19 在定义时就创建类成员\n",
    "\n",
    "又是一个黑科技。\n",
    "\n",
    "下面这个例子主要注意两点\n",
    "\n",
    "1. metaclass里的 `__init__(cls, *args, **kwargs)`。 黑科技之创建类\n",
    "2. `property(operator.itemgetter(n))` 黑科技之 `itemgtter`"
   ]
  },
  {
   "cell_type": "code",
   "execution_count": 100,
   "metadata": {},
   "outputs": [
    {
     "name": "stdout",
     "output_type": "stream",
     "text": [
      "('ACME', 50, 91.1)\n",
      "ACME\n",
      "ACME\n",
      "4555.0\n",
      "can't set attribute\n"
     ]
    }
   ],
   "source": [
    "import operator\n",
    "\n",
    "class StructTupleMeta(type):\n",
    "    def __init__(cls, *args, **kwargs):\n",
    "        super().__init__(*args, **kwargs)\n",
    "        for n, name in enumerate(cls._fields_):\n",
    "            setattr(cls, name, property(operator.itemgetter(n)))\n",
    "\n",
    "class StructTuple(tuple, metaclass=StructTupleMeta):\n",
    "    _fields_ = []\n",
    "    def __new__(cls, *args):\n",
    "        if len(args) != len(cls._fields_):\n",
    "            raise ValueError('{} arguments required'.format(len(cls._fields_)))\n",
    "        return super().__new__(cls,args)\n",
    "\n",
    "# Examples\n",
    "class Stock(StructTuple):\n",
    "    _fields_ = ['name', 'shares', 'price']\n",
    "\n",
    "class Point(StructTuple):\n",
    "    _fields_ = ['x', 'y']\n",
    "\n",
    "if __name__ == '__main__':\n",
    "    s = Stock('ACME', 50, 91.1)\n",
    "    print(s)\n",
    "    print(s[0])\n",
    "    print(s.name)\n",
    "    print(s.shares * s.price)\n",
    "    try:\n",
    "        s.shares = 23\n",
    "    except AttributeError as e:\n",
    "        print(e)\n"
   ]
  },
  {
   "cell_type": "markdown",
   "metadata": {},
   "source": [
    "\n",
    "### 9.20 方法多态（不同签名）"
   ]
  },
  {
   "cell_type": "code",
   "execution_count": 101,
   "metadata": {},
   "outputs": [
    {
     "name": "stdout",
     "output_type": "stream",
     "text": [
      "Bar 1: 2 3\n",
      "Bar 2: hello 0\n",
      "Bar 2: hello 5\n",
      "No matching method for types (<class 'int'>, <class 'str'>)\n",
      "2012 12 21\n",
      "2018 4 1\n"
     ]
    }
   ],
   "source": [
    "import inspect\n",
    "import types\n",
    "\n",
    "class MultiMethod:\n",
    "    '''\n",
    "    Represents a single multimethod.\n",
    "    '''\n",
    "    def __init__(self, name):\n",
    "        self._methods = {}\n",
    "        self.__name__ = name\n",
    "\n",
    "    def register(self, meth):\n",
    "        '''\n",
    "        Register a new method as a multimethod\n",
    "        '''\n",
    "        sig = inspect.signature(meth)\n",
    "\n",
    "        # Build a type-signature from the method's annotations\n",
    "        types = []\n",
    "        for name, parm in sig.parameters.items():\n",
    "            if name == 'self': \n",
    "                continue\n",
    "            if parm.annotation is inspect.Parameter.empty:\n",
    "                raise TypeError(\n",
    "                    'Argument {} must be annotated with a type'.format(name)\n",
    "                    )\n",
    "            if not isinstance(parm.annotation, type):\n",
    "                raise TypeError(\n",
    "                    'Argument {} annotation must be a type'.format(name)\n",
    "                    )\n",
    "            if parm.default is not inspect.Parameter.empty:\n",
    "                self._methods[tuple(types)] = meth\n",
    "            types.append(parm.annotation)\n",
    "\n",
    "        self._methods[tuple(types)] = meth\n",
    "\n",
    "    def __call__(self, *args):\n",
    "        '''\n",
    "        Call a method based on type signature of the arguments\n",
    "        '''\n",
    "        types = tuple(type(arg) for arg in args[1:])\n",
    "        meth = self._methods.get(types, None)\n",
    "        if meth:\n",
    "            return meth(*args)\n",
    "        else:\n",
    "            raise TypeError('No matching method for types {}'.format(types))\n",
    "        \n",
    "    def __get__(self, instance, cls):\n",
    "        '''\n",
    "        Descriptor method needed to make calls work in a class\n",
    "        '''\n",
    "        if instance is not None:\n",
    "            return types.MethodType(self, instance)\n",
    "        else:\n",
    "            return self\n",
    "    \n",
    "class MultiDict(dict):\n",
    "    '''\n",
    "    Special dictionary to build multimethods in a metaclass\n",
    "    '''\n",
    "    def __setitem__(self, key, value):\n",
    "        if key in self:\n",
    "            # If key already exists, it must be a multimethod or callable\n",
    "            current_value = self[key]\n",
    "            if isinstance(current_value, MultiMethod):\n",
    "                current_value.register(value)\n",
    "            else:\n",
    "                mvalue = MultiMethod(key)\n",
    "                mvalue.register(current_value)\n",
    "                mvalue.register(value)\n",
    "                super().__setitem__(key, mvalue)\n",
    "        else:\n",
    "            super().__setitem__(key, value)\n",
    "\n",
    "class MultipleMeta(type):\n",
    "    '''\n",
    "    Metaclass that allows multiple dispatch of methods\n",
    "    '''\n",
    "    def __new__(cls, clsname, bases, clsdict):\n",
    "        return type.__new__(cls, clsname, bases, dict(clsdict))\n",
    "\n",
    "    @classmethod\n",
    "    def __prepare__(cls, clsname, bases):\n",
    "        return MultiDict()\n",
    "\n",
    "\n",
    "# Some example classes that use multiple dispatch\n",
    "class Spam(metaclass=MultipleMeta):\n",
    "    def bar(self, x:int, y:int):\n",
    "        print('Bar 1:', x, y)\n",
    "    def bar(self, s:str, n:int = 0):\n",
    "        print('Bar 2:', s, n)\n",
    "\n",
    "# Example: overloaded __init__\n",
    "import time\n",
    "class Date(metaclass=MultipleMeta):\n",
    "    def __init__(self, year: int, month:int, day:int):\n",
    "        self.year = year\n",
    "        self.month = month\n",
    "        self.day = day\n",
    "\n",
    "    def __init__(self):\n",
    "        t = time.localtime()\n",
    "        self.__init__(t.tm_year, t.tm_mon, t.tm_mday)\n",
    "\n",
    "if __name__ == '__main__':\n",
    "    s = Spam()\n",
    "    s.bar(2, 3)\n",
    "    s.bar('hello')\n",
    "    s.bar('hello', 5)\n",
    "    try:\n",
    "        s.bar(2, 'hello')\n",
    "    except TypeError as e:\n",
    "        print(e)\n",
    "\n",
    "    # Overloaded __init__\n",
    "    d = Date(2012, 12, 21)\n",
    "    print(d.year, d.month, d.day)\n",
    "    # Get today's date\n",
    "    e = Date()\n",
    "    print(e.year, e.month, e.day)\n"
   ]
  },
  {
   "cell_type": "markdown",
   "metadata": {},
   "source": [
    "### 9.21 节省代码的黑科技之 ：属性定义"
   ]
  },
  {
   "cell_type": "code",
   "execution_count": 102,
   "metadata": {},
   "outputs": [
    {
     "name": "stdout",
     "output_type": "stream",
     "text": [
      "age must be a <class 'int'>\n"
     ]
    }
   ],
   "source": [
    "def typed_property(name, expected_type):\n",
    "    storage_name = '_' + name\n",
    "\n",
    "    @property\n",
    "    def prop(self):\n",
    "        return getattr(self, storage_name)\n",
    "\n",
    "    @prop.setter\n",
    "    def prop(self, value):\n",
    "        if not isinstance(value, expected_type):\n",
    "            raise TypeError('{} must be a {}'.format(name, expected_type))\n",
    "        setattr(self, storage_name, value)\n",
    "    return prop\n",
    "\n",
    "# Example use\n",
    "class Person:\n",
    "    name = typed_property('name', str)\n",
    "    age = typed_property('age', int)\n",
    "    def __init__(self, name, age):\n",
    "        self.name = name\n",
    "        self.age = age\n",
    "\n",
    "if __name__ == '__main__':\n",
    "    p = Person('Dave', 39)\n",
    "    p.name = 'Guido'\n",
    "    try:\n",
    "        p.age = 'Old'\n",
    "    except TypeError as e:\n",
    "        print(e)\n"
   ]
  },
  {
   "cell_type": "markdown",
   "metadata": {},
   "source": [
    "### 9.22 节省代码黑科技之： Context Manager\n",
    "\n",
    "注意下面这个例子， 用了一个装饰器 `contextmanager`。\n",
    "\n",
    "理论上，这个装饰器可以给新的`timethis` 对象，添加 `__enter__` 和 `__exit__` 方法。  在使用的时候，进入开始计时，出去的时候结算。\n",
    "\n",
    "参考 <https://jeffknupp.com/blog/2016/03/07/python-with-context-managers/> 很好的描述了这一点。（前面还有很多讲 file handle重要性的东西）。\n",
    "\n",
    "`contextmanager` 装饰的是一个 generator！！！并且只 yield 一次！！！，重要的事情说一遍！！！。 在yield之前的都是 `__enter__` 要做的； 在yield之后 的都是 `__exit__` 要做的。\n",
    "\n",
    "具体实现的描述： 在 `__enter__` 里， 返回 `next(gen)`， 所以会运行 `yield` 之前的代码，并且返回 `yield` 的东西。\n",
    "\n",
    "在 `__exit__` 里， 又一个黑科技。。。。`self.gen.throw`，似乎是退到了 `timethis` 的 `finally` 中。。。继续执行。。。"
   ]
  },
  {
   "cell_type": "code",
   "execution_count": null,
   "metadata": {},
   "outputs": [],
   "source": [
    "import time\n",
    "from contextlib import contextmanager\n",
    "\n",
    "@contextmanager\n",
    "def timethis(label):\n",
    "    start = time.time()\n",
    "    try:\n",
    "        yield\n",
    "    finally:\n",
    "        end = time.time()\n",
    "        print('{}: {}'.format(label, end - start))\n",
    "\n",
    "# Example use\n",
    "with timethis('counting'):\n",
    "    n = 10000000\n",
    "    while n > 0:\n",
    "        n -= 1\n"
   ]
  },
  {
   "cell_type": "code",
   "execution_count": 103,
   "metadata": {},
   "outputs": [
    {
     "name": "stdout",
     "output_type": "stream",
     "text": [
      "[1, 2, 3, 4, 5]\n",
      "oops\n",
      "[1, 2, 3, 4, 5]\n"
     ]
    }
   ],
   "source": [
    "from contextlib import contextmanager\n",
    "\n",
    "@contextmanager\n",
    "def list_transaction(orig_list):\n",
    "    working = list(orig_list)\n",
    "    yield working\n",
    "    orig_list[:] = working\n",
    "\n",
    "# Example\n",
    "if __name__ == '__main__':\n",
    "    items = [1, 2, 3]\n",
    "    with list_transaction(items) as working:\n",
    "        working.append(4)\n",
    "        working.append(5)\n",
    "    print(items)\n",
    "    try:\n",
    "        with list_transaction(items) as working:\n",
    "            working.append(6)\n",
    "            working.append(7)\n",
    "            raise RuntimeError('oops')\n",
    "    except RuntimeError as e:\n",
    "        print(e)\n",
    "\n",
    "    print(items)\n"
   ]
  },
  {
   "cell_type": "markdown",
   "metadata": {},
   "source": [
    "这第二个例子，就说明了 context 的重要性。 在操作中如果出现异常， 就不会进入 `__exit__` 环节，所以不影响结果。"
   ]
  },
  {
   "cell_type": "markdown",
   "metadata": {},
   "source": [
    "### 9.23 执行 code， local 变量\n",
    "\n",
    "在调用 `exec` 时的一个问题。 关于 `exec` 参考 <http://lucumr.pocoo.org/2011/2/1/exec-in-python/>\n",
    "\n",
    "关于 `locals()` 又是一个故事。\n",
    "\n",
    "参考 <https://stackoverflow.com/questions/7969949/whats-the-difference-between-globals-locals-and-vars>\n",
    "\n",
    "注意 locals的范围。"
   ]
  },
  {
   "cell_type": "code",
   "execution_count": 111,
   "metadata": {},
   "outputs": [
    {
     "ename": "NameError",
     "evalue": "name 'b' is not defined",
     "output_type": "error",
     "traceback": [
      "\u001b[0;31m---------------------------------------------------------------------------\u001b[0m",
      "\u001b[0;31mNameError\u001b[0m                                 Traceback (most recent call last)",
      "\u001b[0;32m<ipython-input-111-d73801dd4ff5>\u001b[0m in \u001b[0;36m<module>\u001b[0;34m()\u001b[0m\n\u001b[1;32m      9\u001b[0m     \u001b[0mprint\u001b[0m\u001b[0;34m(\u001b[0m\u001b[0mb\u001b[0m\u001b[0;34m)\u001b[0m      \u001b[0;31m# --> 14\u001b[0m\u001b[0;34m\u001b[0m\u001b[0m\n\u001b[1;32m     10\u001b[0m \u001b[0;34m\u001b[0m\u001b[0m\n\u001b[0;32m---> 11\u001b[0;31m \u001b[0mtest\u001b[0m\u001b[0;34m(\u001b[0m\u001b[0;34m)\u001b[0m\u001b[0;34m\u001b[0m\u001b[0m\n\u001b[0m",
      "\u001b[0;32m<ipython-input-111-d73801dd4ff5>\u001b[0m in \u001b[0;36mtest\u001b[0;34m()\u001b[0m\n\u001b[1;32m      7\u001b[0m     \u001b[0ma\u001b[0m \u001b[0;34m=\u001b[0m \u001b[0;36m13\u001b[0m\u001b[0;34m\u001b[0m\u001b[0m\n\u001b[1;32m      8\u001b[0m     \u001b[0mexec\u001b[0m\u001b[0;34m(\u001b[0m\u001b[0;34m'b = a + 1'\u001b[0m\u001b[0;34m)\u001b[0m\u001b[0;34m\u001b[0m\u001b[0m\n\u001b[0;32m----> 9\u001b[0;31m     \u001b[0mprint\u001b[0m\u001b[0;34m(\u001b[0m\u001b[0mb\u001b[0m\u001b[0;34m)\u001b[0m      \u001b[0;31m# --> 14\u001b[0m\u001b[0;34m\u001b[0m\u001b[0m\n\u001b[0m\u001b[1;32m     10\u001b[0m \u001b[0;34m\u001b[0m\u001b[0m\n\u001b[1;32m     11\u001b[0m \u001b[0mtest\u001b[0m\u001b[0;34m(\u001b[0m\u001b[0;34m)\u001b[0m\u001b[0;34m\u001b[0m\u001b[0m\n",
      "\u001b[0;31mNameError\u001b[0m: name 'b' is not defined"
     ]
    }
   ],
   "source": [
    "try:\n",
    "    del b\n",
    "except:\n",
    "    pass\n",
    "\n",
    "def test():\n",
    "    a = 13\n",
    "    exec('b = a + 1')\n",
    "    print(b)      # --> 14\n",
    "\n",
    "test()"
   ]
  },
  {
   "cell_type": "markdown",
   "metadata": {},
   "source": [
    "注意找不到 b。"
   ]
  },
  {
   "cell_type": "code",
   "execution_count": 115,
   "metadata": {},
   "outputs": [
    {
     "name": "stdout",
     "output_type": "stream",
     "text": [
      "{'a': 13, 'loc': {...}, 'b': 14}\n",
      "14\n"
     ]
    }
   ],
   "source": [
    "def test():\n",
    "    a = 13\n",
    "    loc = locals()\n",
    "    exec('b = a + 1')\n",
    "    print(loc)\n",
    "    b = loc['b']\n",
    "    print(b)      # --> 14\n",
    "test()"
   ]
  },
  {
   "cell_type": "code",
   "execution_count": 120,
   "metadata": {},
   "outputs": [
    {
     "name": "stdout",
     "output_type": "stream",
     "text": [
      "0\n",
      "\n",
      "before: {'x': 0}\n",
      "after: {'x': 1, 'loc': {...}}\n",
      "x = 0\n",
      "\n",
      "{'x': 0}\n",
      "{'x': 1, 'loc': {...}}\n",
      "{'x': 0, 'loc': {...}}\n",
      "\n"
     ]
    }
   ],
   "source": [
    "def test1():\n",
    "    x = 0\n",
    "    exec('x += 1')\n",
    "    print(x)      # --> 0\n",
    "test1()\n",
    "print()\n",
    "\n",
    "def test2():\n",
    "    x = 0\n",
    "    loc = locals()\n",
    "    print('before:', loc)\n",
    "    exec('x += 1')\n",
    "    print('after:', loc)\n",
    "    print('x =', x)\n",
    "test2()\n",
    "print()\n",
    "\n",
    "def test3():\n",
    "    x = 0\n",
    "    loc = locals()\n",
    "    print(loc)\n",
    "    exec('x += 1')\n",
    "    print(loc)\n",
    "    locals()\n",
    "    print(loc)\n",
    "test3()\n",
    "print()"
   ]
  },
  {
   "cell_type": "markdown",
   "metadata": {},
   "source": [
    "\n",
    "### _TODO: 9.24 解析和执行python code（在python代码中）。。_\n",
    "\n",
    "\n",
    "其实理解这个，就能理解 python code是怎么执行的。 "
   ]
  },
  {
   "cell_type": "code",
   "execution_count": 126,
   "metadata": {},
   "outputs": [
    {
     "name": "stdout",
     "output_type": "stream",
     "text": [
      "Loaded: {'print', 'range', 'i'}\n",
      "Stored: {'i'}\n",
      "Deleted: {'i'}\n"
     ]
    }
   ],
   "source": [
    "import ast\n",
    "\n",
    "class CodeAnalyzer(ast.NodeVisitor):\n",
    "    def __init__(self):\n",
    "        self.loaded = set()\n",
    "        self.stored = set()\n",
    "        self.deleted = set()\n",
    "    def visit_Name(self, node):\n",
    "        if isinstance(node.ctx, ast.Load):\n",
    "            self.loaded.add(node.id)\n",
    "        elif isinstance(node.ctx, ast.Store):\n",
    "            self.stored.add(node.id)\n",
    "        elif isinstance(node.ctx, ast.Del):\n",
    "            self.deleted.add(node.id)\n",
    "\n",
    "# Sample usage\n",
    "if __name__ == '__main__':\n",
    "    # Some python code\n",
    "    code = '''\n",
    "for i in range(10): \n",
    "    print(i)\n",
    "del i\n",
    "'''\n",
    "    # Parse into an AST\n",
    "    top = ast.parse(code, mode='exec')\n",
    "\n",
    "    # Feed the AST to analyze name usage\n",
    "    c = CodeAnalyzer()\n",
    "    c.visit(top)\n",
    "    print('Loaded:', c.loaded)\n",
    "    print('Stored:', c.stored)\n",
    "    print('Deleted:', c.deleted)\n"
   ]
  },
  {
   "cell_type": "code",
   "execution_count": 128,
   "metadata": {},
   "outputs": [
    {
     "name": "stdout",
     "output_type": "stream",
     "text": [
      "Running a performance check\n",
      "countdown1: 0.12802362442016602\n",
      "countdown2: 0.12523603439331055\n"
     ]
    }
   ],
   "source": [
    "# namelower.py\n",
    "import ast\n",
    "import inspect\n",
    "\n",
    "# Node visitor that lowers globally accessed names into\n",
    "# the function body as local variables. \n",
    "class NameLower(ast.NodeVisitor):\n",
    "    def __init__(self, lowered_names):\n",
    "        self.lowered_names = lowered_names\n",
    "\n",
    "    def visit_FunctionDef(self, node):\n",
    "        # Compile some assignments to lower the constants\n",
    "        code = '__globals = globals()\\n'\n",
    "        code += '\\n'.join(\"{0} = __globals['{0}']\".format(name)\n",
    "                          for name in self.lowered_names)\n",
    "\n",
    "        code_ast = ast.parse(code, mode='exec')\n",
    "\n",
    "        # Inject new statements into the function body\n",
    "        node.body[:0] = code_ast.body\n",
    "\n",
    "        # Save the function object\n",
    "        self.func = node\n",
    "\n",
    "# Decorator that turns global names into locals\n",
    "def lower_names(*namelist):\n",
    "    def lower(func):\n",
    "        srclines = inspect.getsource(func).splitlines()\n",
    "        # Skip source lines prior to the @lower_names decorator\n",
    "        for n, line in enumerate(srclines):\n",
    "            if '@lower_names' in line:\n",
    "                break\n",
    "\n",
    "        src = '\\n'.join(srclines[n+1:])\n",
    "        # Hack to deal with indented code\n",
    "        if src.startswith((' ','\\t')):\n",
    "            src = 'if 1:\\n' + src\n",
    "        top = ast.parse(src, mode='exec')\n",
    "\n",
    "        # Transform the AST \n",
    "        cl = NameLower(namelist)\n",
    "        cl.visit(top)\n",
    "\n",
    "        # Execute the modified AST\n",
    "        temp = {}\n",
    "        exec(compile(top,'','exec'), temp, temp)\n",
    "\n",
    "        # Pull out the modified code object\n",
    "        func.__code__ = temp[func.__name__].__code__\n",
    "        return func\n",
    "    return lower\n",
    "\n",
    "# Example of use\n",
    "INCR = 1\n",
    "\n",
    "def countdown1(n):\n",
    "    while n > 0:\n",
    "        n -= INCR\n",
    "\n",
    "@lower_names('INCR')\n",
    "def countdown2(n):\n",
    "    while n > 0:\n",
    "        n -= INCR\n",
    "\n",
    "if __name__ == '__main__':\n",
    "    import time\n",
    "    print('Running a performance check')\n",
    "\n",
    "    start = time.time()\n",
    "    countdown1(1000000)\n",
    "    end = time.time()\n",
    "    print('countdown1:', end-start)\n",
    "\n",
    "    start = time.time()\n",
    "    countdown2(1000000)\n",
    "    end = time.time()\n",
    "    print('countdown2:', end-start)\n",
    "\n"
   ]
  },
  {
   "cell_type": "markdown",
   "metadata": {},
   "source": [
    "### 9.25 Disassembling Python Byte Code"
   ]
  },
  {
   "cell_type": "code",
   "execution_count": 129,
   "metadata": {},
   "outputs": [
    {
     "name": "stdout",
     "output_type": "stream",
     "text": [
      "120 SETUP_LOOP 31774\n",
      "0 <0> None\n",
      "100 LOAD_CONST 27393\n",
      "4 DUP_TOP None\n",
      "114 POP_JUMP_IF_FALSE 29726\n",
      "0 <0> None\n",
      "100 LOAD_CONST 31746\n",
      "0 <0> None\n",
      "131 CALL_FUNCTION 258\n",
      "0 <0> None\n",
      "124 LOAD_FAST 25600\n",
      "3 ROT_THREE None\n",
      "56 INPLACE_SUBTRACT None\n",
      "0 <0> None\n",
      "125 STORE_FAST 28928\n",
      "2 ROT_TWO None\n",
      "87 POP_BLOCK None\n",
      "0 <0> None\n",
      "116 LOAD_GLOBAL 25600\n",
      "4 DUP_TOP None\n",
      "131 CALL_FUNCTION 257\n",
      "0 <0> None\n",
      "100 LOAD_CONST 21248\n",
      "0 <0> None\n"
     ]
    }
   ],
   "source": [
    "# Example of manual disassembly of bytecode\n",
    "\n",
    "import opcode\n",
    "\n",
    "def generate_opcodes(codebytes):\n",
    "    extended_arg = 0\n",
    "    i = 0\n",
    "    n = len(codebytes)\n",
    "    while i < n:\n",
    "        op = codebytes[i]\n",
    "        i += 1\n",
    "        if op >= opcode.HAVE_ARGUMENT:\n",
    "            oparg = codebytes[i] + codebytes[i+1]*256 + extended_arg\n",
    "            extended_arg = 0\n",
    "            i += 2\n",
    "            if op == opcode.EXTENDED_ARG:\n",
    "                extended_arg = oparg * 65536\n",
    "                continue\n",
    "        else:\n",
    "            oparg = None\n",
    "        yield (op, oparg)\n",
    "\n",
    "# Example\n",
    "def countdown(n):\n",
    "    while n > 0:\n",
    "        print('T-minus', n)\n",
    "        n -= 1\n",
    "    print('Blastoff!')\n",
    "\n",
    "for op, oparg in generate_opcodes(countdown.__code__.co_code):\n",
    "    print(op, opcode.opname[op], oparg)\n"
   ]
  },
  {
   "cell_type": "code",
   "execution_count": 130,
   "metadata": {
    "scrolled": true
   },
   "outputs": [
    {
     "name": "stdout",
     "output_type": "stream",
     "text": [
      " 25           0 SETUP_LOOP              30 (to 32)\n",
      "        >>    2 LOAD_FAST                0 (n)\n",
      "              4 LOAD_CONST               1 (0)\n",
      "              6 COMPARE_OP               4 (>)\n",
      "              8 POP_JUMP_IF_FALSE       30\n",
      "\n",
      " 26          10 LOAD_GLOBAL              0 (print)\n",
      "             12 LOAD_CONST               2 ('T-minus')\n",
      "             14 LOAD_FAST                0 (n)\n",
      "             16 CALL_FUNCTION            2\n",
      "             18 POP_TOP\n",
      "\n",
      " 27          20 LOAD_FAST                0 (n)\n",
      "             22 LOAD_CONST               3 (1)\n",
      "             24 INPLACE_SUBTRACT\n",
      "             26 STORE_FAST               0 (n)\n",
      "             28 JUMP_ABSOLUTE            2\n",
      "        >>   30 POP_BLOCK\n",
      "\n",
      " 28     >>   32 LOAD_GLOBAL              0 (print)\n",
      "             34 LOAD_CONST               4 ('Blastoff!')\n",
      "             36 CALL_FUNCTION            1\n",
      "             38 POP_TOP\n",
      "             40 LOAD_CONST               0 (None)\n",
      "             42 RETURN_VALUE\n"
     ]
    }
   ],
   "source": [
    "import dis\n",
    "\n",
    "dis.dis(countdown)"
   ]
  },
  {
   "cell_type": "code",
   "execution_count": 132,
   "metadata": {},
   "outputs": [
    {
     "data": {
      "text/plain": [
       "b'x\\x1e|\\x00d\\x01k\\x04r\\x1et\\x00d\\x02|\\x00\\x83\\x02\\x01\\x00|\\x00d\\x038\\x00}\\x00q\\x02W\\x00t\\x00d\\x04\\x83\\x01\\x01\\x00d\\x00S\\x00'"
      ]
     },
     "execution_count": 132,
     "metadata": {},
     "output_type": "execute_result"
    }
   ],
   "source": [
    "countdown.__code__.co_code"
   ]
  }
 ],
 "metadata": {
  "kernelspec": {
   "display_name": "Python 3",
   "language": "python",
   "name": "python3"
  },
  "language_info": {
   "codemirror_mode": {
    "name": "ipython",
    "version": 3
   },
   "file_extension": ".py",
   "mimetype": "text/x-python",
   "name": "python",
   "nbconvert_exporter": "python",
   "pygments_lexer": "ipython3",
   "version": "3.6.2"
  },
  "varInspector": {
   "cols": {
    "lenName": 16,
    "lenType": 16,
    "lenVar": 40
   },
   "kernels_config": {
    "python": {
     "delete_cmd_postfix": "",
     "delete_cmd_prefix": "del ",
     "library": "var_list.py",
     "varRefreshCmd": "print(var_dic_list())"
    },
    "r": {
     "delete_cmd_postfix": ") ",
     "delete_cmd_prefix": "rm(",
     "library": "var_list.r",
     "varRefreshCmd": "cat(var_dic_list()) "
    }
   },
   "types_to_exclude": [
    "module",
    "function",
    "builtin_function_or_method",
    "instance",
    "_Feature"
   ],
   "window_display": false
  }
 },
 "nbformat": 4,
 "nbformat_minor": 2
}
