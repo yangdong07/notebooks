{
 "cells": [
  {
   "cell_type": "markdown",
   "metadata": {},
   "source": [
    "## 8. Classes and Objects\n",
    "\n",
    "有很多时候，这些模式并不是必须的。\n",
    "\n",
    "比如代理模式。 如果一定要用代理模式，就需要有一个用代理模式充分的理由。如果要用抽象类，就必须有一个用抽象类的理由。 在敏捷开发中，先实现功能，然后再不断的优化。\n",
    "\n",
    "软件工程是为了解决问题。"
   ]
  },
  {
   "cell_type": "markdown",
   "metadata": {},
   "source": [
    "### 8.1 改变实例的 string representation\n",
    "\n",
    "其实就是修改 `__str__` 和 `__repr__` 方法。\n",
    "\n",
    "一个用于 str表示，另一个用于对象表示"
   ]
  },
  {
   "cell_type": "code",
   "execution_count": 3,
   "metadata": {},
   "outputs": [
    {
     "name": "stdout",
     "output_type": "stream",
     "text": [
      "(3, 4)\n",
      "Pair(3, 4)\n",
      "p is Pair(3, 4)\n",
      "p is (3, 4)\n"
     ]
    }
   ],
   "source": [
    "class Pair:\n",
    "    def __init__(self, x, y):\n",
    "        self.x = x\n",
    "        self.y = y\n",
    "    def __repr__(self):\n",
    "        return 'Pair({0.x!r}, {0.y!r})'.format(self)\n",
    "    def __str__(self):\n",
    "        return '({0.x}, {0.y})'.format(self)\n",
    "\n",
    "p = Pair(3, 4)\n",
    "print(str(p))\n",
    "print(repr(p))\n",
    "print('p is {0!r}'.format(p))\n",
    "print('p is {0}'.format(p))"
   ]
  },
  {
   "cell_type": "markdown",
   "metadata": {},
   "source": [
    "### 8.2 自定义实例的 format\n",
    "\n",
    "其实就是 `__format__` 方法，用于 format"
   ]
  },
  {
   "cell_type": "code",
   "execution_count": 5,
   "metadata": {},
   "outputs": [
    {
     "name": "stdout",
     "output_type": "stream",
     "text": [
      "2018-4-1\n",
      "4/1/2018\n",
      "1/4/2018\n"
     ]
    }
   ],
   "source": [
    "_formats = {\n",
    "    'ymd' : '{d.year}-{d.month}-{d.day}',\n",
    "    'mdy' : '{d.month}/{d.day}/{d.year}',\n",
    "    'dmy' : '{d.day}/{d.month}/{d.year}'\n",
    "    }\n",
    "\n",
    "class Date:\n",
    "    def __init__(self, year, month, day):\n",
    "        self.year = year\n",
    "        self.month = month\n",
    "        self.day = day\n",
    "\n",
    "    def __format__(self, code):\n",
    "        if code == '':\n",
    "            code = 'ymd'\n",
    "        fmt = _formats[code]\n",
    "        return fmt.format(d=self)\n",
    "\n",
    "d = Date(2018, 4, 1)\n",
    "print(format(d, 'ymd'))\n",
    "print(format(d, 'mdy'))\n",
    "print(format(d, 'dmy'))"
   ]
  },
  {
   "cell_type": "markdown",
   "metadata": {},
   "source": [
    "### 8.3 Context-Management Protocol\n",
    "\n",
    "这个比较重要，其实就是定义好 进入、退出方法： `__enter__` 和 `__exit__`\n",
    "\n",
    "Context的作用就是定义一种上下文，提供一种环境，例如 对某个文件的操作； 例如建立某个连接（数据库连接之类）； 例如tensorflow的session。\n",
    "\n",
    "其实大部分时候，在干一件事情之前，需要准备一些配置； 在干完事情之后，清理一下配置。 这就是建立环境（context）的作用。 为了避免代码重复。\n",
    "\n",
    "可以用 with statement"
   ]
  },
  {
   "cell_type": "code",
   "execution_count": 6,
   "metadata": {},
   "outputs": [
    {
     "name": "stdout",
     "output_type": "stream",
     "text": [
      "Got 391 bytes\n"
     ]
    }
   ],
   "source": [
    "from socket import socket, AF_INET, SOCK_STREAM\n",
    "\n",
    "class LazyConnection:\n",
    "    def __init__(self, address, family=AF_INET, type=SOCK_STREAM):\n",
    "        self.address = address\n",
    "        self.family = AF_INET\n",
    "        self.type = SOCK_STREAM\n",
    "        self.sock = None\n",
    "\n",
    "    def __enter__(self):\n",
    "        if self.sock is not None:\n",
    "            raise RuntimeError('Already connected')\n",
    "        self.sock = socket(self.family, self.type)\n",
    "        self.sock.connect(self.address)\n",
    "        return self.sock\n",
    "    \n",
    "    def __exit__(self, exc_ty, exc_val, tb):\n",
    "        self.sock.close()\n",
    "        self.sock = None\n",
    "\n",
    "if __name__ == '__main__':\n",
    "    from functools import partial\n",
    "\n",
    "    c = LazyConnection(('www.python.org', 80))\n",
    "    # Connection closed\n",
    "    with c as s:\n",
    "        # c.__enter__() executes: connection open\n",
    "        s.send(b'GET /index.html HTTP/1.0\\r\\n')\n",
    "        s.send(b'Host: www.python.org\\r\\n')\n",
    "        s.send(b'\\r\\n')\n",
    "        resp = b''.join(iter(partial(s.recv, 8192), b''))\n",
    "        # c.__exit__() executes: connection closed\n",
    "\n",
    "    print('Got %d bytes' % len(resp))\n"
   ]
  },
  {
   "cell_type": "code",
   "execution_count": 8,
   "metadata": {},
   "outputs": [
    {
     "name": "stdout",
     "output_type": "stream",
     "text": [
      "Got 391 bytes\n",
      "resp1 got 390 bytes\n",
      "resp2 got 391 bytes\n"
     ]
    }
   ],
   "source": [
    "from socket import socket, AF_INET, SOCK_STREAM\n",
    "\n",
    "class LazyConnection:\n",
    "    def __init__(self, address, family=AF_INET, type=SOCK_STREAM):\n",
    "        self.address = address\n",
    "        self.family = AF_INET\n",
    "        self.type = SOCK_STREAM\n",
    "        self.connections = []\n",
    "\n",
    "    def __enter__(self):\n",
    "        sock = socket(self.family, self.type)\n",
    "        sock.connect(self.address)\n",
    "        self.connections.append(sock)\n",
    "        return sock\n",
    "                \n",
    "    def __exit__(self, exc_ty, exc_val, tb):\n",
    "        self.connections.pop().close()\n",
    "\n",
    "if __name__ == '__main__':\n",
    "    # Example use\n",
    "    from functools import partial\n",
    "\n",
    "    conn = LazyConnection(('www.python.org', 80))\n",
    "    with conn as s:\n",
    "        s.send(b'GET /index.html HTTP/1.0\\r\\n')\n",
    "        s.send(b'Host: www.python.org\\r\\n')\n",
    "        s.send(b'\\r\\n')\n",
    "        resp = b''.join(iter(partial(s.recv, 8192), b''))\n",
    "\n",
    "    print('Got %d bytes' % len(resp))\n",
    "\n",
    "    # 同时存在两个连接\n",
    "    with conn as s1, conn as s2:\n",
    "        s1.send(b'GET /downloads HTTP/1.0\\r\\n')\n",
    "        s2.send(b'GET /index.html HTTP/1.0\\r\\n')\n",
    "        s1.send(b'Host: www.python.org\\r\\n')\n",
    "        s2.send(b'Host: www.python.org\\r\\n')\n",
    "        s1.send(b'\\r\\n')\n",
    "        s2.send(b'\\r\\n')\n",
    "        resp1 = b''.join(iter(partial(s1.recv, 8192), b''))\n",
    "        resp2 = b''.join(iter(partial(s2.recv, 8192), b''))\n",
    "\n",
    "    print('resp1 got %d bytes' % len(resp1))\n",
    "    print('resp2 got %d bytes' % len(resp2))\n"
   ]
  },
  {
   "cell_type": "markdown",
   "metadata": {},
   "source": [
    "### 8.4 如果需要创建大量实例，一种节省内存的办法\n",
    "\n",
    "定义`__slots__`， 就没有 `__dict__` 占用空间了。\n",
    "\n",
    "但是还是有点奇怪。\n",
    "\n"
   ]
  },
  {
   "cell_type": "code",
   "execution_count": 17,
   "metadata": {},
   "outputs": [
    {
     "name": "stdout",
     "output_type": "stream",
     "text": [
      "56\n",
      "<__main__.Date1 object at 0x108b7c978> 56\n",
      "<__main__.Date2 object at 0x108b81288> 64\n"
     ]
    }
   ],
   "source": [
    "class Date0(object):\n",
    "    pass\n",
    "\n",
    "class Date1(object):\n",
    "    def __init__(self, year, month, day):\n",
    "        self.year = year\n",
    "        self.month = month\n",
    "        self.day = day\n",
    "        \n",
    "class Date2(object):\n",
    "    __slots__ = ['year', 'month', 'day']\n",
    "    def __init__(self, year, month, day):\n",
    "        self.year = year\n",
    "        self.month = month\n",
    "        self.day = day\n",
    "\n",
    "import sys\n",
    "\n",
    "print(sys.getsizeof(Date0()))\n",
    "d1 = Date1(2000, 1, 1)\n",
    "print(d1, sys.getsizeof(d1))\n",
    "d2 = Date2(2000, 1, 1)\n",
    "print(d2, sys.getsizeof(d2))"
   ]
  },
  {
   "cell_type": "code",
   "execution_count": 18,
   "metadata": {},
   "outputs": [
    {
     "data": {
      "text/plain": [
       "{'day': 1, 'month': 1, 'year': 2000}"
      ]
     },
     "execution_count": 18,
     "metadata": {},
     "output_type": "execute_result"
    }
   ],
   "source": [
    "d1.__dict__"
   ]
  },
  {
   "cell_type": "code",
   "execution_count": 26,
   "metadata": {},
   "outputs": [
    {
     "name": "stdout",
     "output_type": "stream",
     "text": [
      "4441200712\n",
      "4441200712\n"
     ]
    }
   ],
   "source": [
    "dir(d2)\n",
    "print(id(d2.__slots__))\n",
    "print(id(Date2(1, 2, 3).__slots__))"
   ]
  },
  {
   "cell_type": "markdown",
   "metadata": {},
   "source": [
    "### 8.5  实例的'private'方法\n",
    "\n",
    "实际上，python不是编译语言。 所有代码可见，想怎么调用怎么调用。。。\n",
    "\n",
    "一种方法是加上前缀 `_` 或者两个 `__`"
   ]
  },
  {
   "cell_type": "markdown",
   "metadata": {},
   "source": [
    "### 8.6 一种类似于 C#、Java 定义 property的方法\n",
    "\n",
    "避免直接操作 'private' 属性。一种保护机制。"
   ]
  },
  {
   "cell_type": "code",
   "execution_count": 31,
   "metadata": {},
   "outputs": [
    {
     "name": "stdout",
     "output_type": "stream",
     "text": [
      "Guido\n",
      "Dave\n",
      "Expected a string\n"
     ]
    }
   ],
   "source": [
    "class Person:\n",
    "    def __init__(self, first_name):\n",
    "        self.first_name = first_name\n",
    "\n",
    "    # Getter function\n",
    "    @property\n",
    "    def first_name(self):\n",
    "        return self._first_name\n",
    "\n",
    "    # Setter function\n",
    "    @first_name.setter\n",
    "    def first_name(self, value):\n",
    "        if not isinstance(value, str):\n",
    "            raise TypeError('Expected a string')\n",
    "        self._first_name = value\n",
    "\n",
    "if __name__ == '__main__':\n",
    "    a = Person('Guido')\n",
    "    print(a.first_name)\n",
    "    a.first_name = 'Dave'\n",
    "    print(a.first_name)\n",
    "    try:\n",
    "        a.first_name = 42\n",
    "    except TypeError as e:\n",
    "        print(e)\n"
   ]
  },
  {
   "cell_type": "markdown",
   "metadata": {},
   "source": [
    "### 8.7 调用父类方法\n",
    "\n",
    "调用 `super()` 可以获取父类方法。\n",
    "\n",
    "常做的是调用父类的 `__init__` ，用于初始化"
   ]
  },
  {
   "cell_type": "code",
   "execution_count": 32,
   "metadata": {},
   "outputs": [
    {
     "name": "stdout",
     "output_type": "stream",
     "text": [
      "B.spam\n",
      "A.spam\n"
     ]
    }
   ],
   "source": [
    "class A:\n",
    "    def spam(self):\n",
    "        print('A.spam')\n",
    "\n",
    "class B(A):\n",
    "    def spam(self):\n",
    "        print('B.spam')\n",
    "        super().spam()      # Call parent spam()\n",
    "\n",
    "if __name__ == '__main__':\n",
    "    b = B()\n",
    "    b.spam()\n"
   ]
  },
  {
   "cell_type": "code",
   "execution_count": 33,
   "metadata": {},
   "outputs": [
    {
     "name": "stdout",
     "output_type": "stream",
     "text": [
      "0 1\n"
     ]
    }
   ],
   "source": [
    "class A:\n",
    "    def __init__(self):\n",
    "        self.x = 0\n",
    "\n",
    "class B(A):\n",
    "    def __init__(self):\n",
    "        super().__init__()\n",
    "        self.y = 1\n",
    "\n",
    "if __name__ == '__main__':\n",
    "    b = B()\n",
    "    print(b.x, b.y)\n"
   ]
  },
  {
   "cell_type": "markdown",
   "metadata": {},
   "source": [
    "下面这个例子，是代理模式，就是不直接调用对象，使用代理去访问对象。"
   ]
  },
  {
   "cell_type": "code",
   "execution_count": 35,
   "metadata": {},
   "outputs": [
    {
     "name": "stdout",
     "output_type": "stream",
     "text": [
      "42\n",
      "A.spam\n",
      "None\n",
      "Should be 37: 37\n",
      "Should be 37: 37\n"
     ]
    }
   ],
   "source": [
    "class Proxy:\n",
    "    def __init__(self, obj):\n",
    "        self._obj = obj\n",
    "\n",
    "    # Delegate attribute lookup to internal obj\n",
    "    def __getattr__(self, name):\n",
    "        return getattr(self._obj, name)\n",
    "\n",
    "    # Delegate attribute assignment\n",
    "    def __setattr__(self, name, value):\n",
    "        if name.startswith('_'):\n",
    "            super().__setattr__(name, value)    # Call original __setattr__\n",
    "        else:\n",
    "            setattr(self._obj, name, value)\n",
    "\n",
    "if __name__ == '__main__':\n",
    "    class A:\n",
    "        def __init__(self, x):\n",
    "            self.x = x\n",
    "        def spam(self):\n",
    "            print('A.spam')\n",
    "\n",
    "    a = A(42)\n",
    "    p = Proxy(a)\n",
    "    print(p.x)\n",
    "    print(p.spam())\n",
    "    p.x = 37\n",
    "    print('Should be 37:', p.x)\n",
    "    print('Should be 37:', a.x)\n"
   ]
  },
  {
   "cell_type": "code",
   "execution_count": 36,
   "metadata": {},
   "outputs": [
    {
     "name": "stdout",
     "output_type": "stream",
     "text": [
      "Base.__init__\n",
      "A.__init__\n",
      "Base.__init__\n",
      "B.__init__\n",
      "C.__init__\n"
     ]
    }
   ],
   "source": [
    "\n",
    "class Base:\n",
    "    def __init__(self):\n",
    "        print('Base.__init__')\n",
    "\n",
    "class A(Base):\n",
    "    def __init__(self):\n",
    "        Base.__init__(self)\n",
    "        print('A.__init__')\n",
    "\n",
    "class B(Base):\n",
    "    def __init__(self):\n",
    "        Base.__init__(self)\n",
    "        print('B.__init__')\n",
    "\n",
    "class C(A,B):\n",
    "    def __init__(self):\n",
    "        A.__init__(self)\n",
    "        B.__init__(self)\n",
    "        print('C.__init__')\n",
    "\n",
    "if __name__ == '__main__':\n",
    "    # Please observe double call of Base.__init__\n",
    "    # Base.__init__ 被调用了两次， A、B各一次\n",
    "    c = C()\n"
   ]
  },
  {
   "cell_type": "code",
   "execution_count": 39,
   "metadata": {},
   "outputs": [
    {
     "name": "stdout",
     "output_type": "stream",
     "text": [
      "Base.__init__\n",
      "B.__init__\n",
      "A.__init__\n",
      "C.__init__\n",
      "(<class '__main__.C'>, <class '__main__.A'>, <class '__main__.B'>, <class '__main__.Base'>, <class 'object'>)\n"
     ]
    }
   ],
   "source": [
    "class Base:\n",
    "    def __init__(self):\n",
    "        print('Base.__init__')\n",
    "\n",
    "class A(Base):\n",
    "    def __init__(self):\n",
    "        super().__init__()\n",
    "        print('A.__init__')\n",
    "\n",
    "class B(Base):\n",
    "    def __init__(self):\n",
    "        super().__init__()\n",
    "        print('B.__init__')\n",
    "\n",
    "class C(A,B):\n",
    "    def __init__(self):\n",
    "        super().__init__()     # Only one call to super() here\n",
    "        print('C.__init__')\n",
    "\n",
    "if __name__ == '__main__':\n",
    "    # Observe that each class initialized only once\n",
    "    # 这里只被调用了一次。。不明所以\n",
    "    c = C()\n",
    "    print(C.__mro__)\n"
   ]
  },
  {
   "cell_type": "markdown",
   "metadata": {},
   "source": [
    "\n",
    "注意这里 MRO（method resolution order），是 C->A->B->Base， 所以在用 `__init__` 方法时，也是按照这个顺序。\n",
    "\n",
    "可以参考博文： <https://rhettinger.wordpress.com/2011/05/26/super-considered-super/> 。不过有点老。。"
   ]
  },
  {
   "cell_type": "markdown",
   "metadata": {},
   "source": [
    "### 8.8 在子类中扩展 property的功能\n",
    "\n",
    "其实就是继承，重写，类似 override"
   ]
  },
  {
   "cell_type": "code",
   "execution_count": 40,
   "metadata": {},
   "outputs": [
    {
     "name": "stdout",
     "output_type": "stream",
     "text": [
      "Guido\n",
      "Dave\n",
      "Expected a string\n"
     ]
    }
   ],
   "source": [
    "# Example of managed attributes via properties\n",
    "\n",
    "class Person:\n",
    "    def __init__(self, name):\n",
    "        self.name = name\n",
    "\n",
    "    # Getter function\n",
    "    @property\n",
    "    def name(self):\n",
    "        return self._name\n",
    "\n",
    "    # Setter function\n",
    "    @name.setter\n",
    "    def name(self, value):\n",
    "        if not isinstance(value, str):\n",
    "            raise TypeError('Expected a string')\n",
    "        self._name = value\n",
    "\n",
    "    @name.deleter\n",
    "    def name(self):\n",
    "        raise AttributeError(\"Can't delete attribute\")\n",
    "\n",
    "class SubPerson(Person):\n",
    "    @property\n",
    "    def name(self):\n",
    "        print('Getting name')\n",
    "        return super().name\n",
    "\n",
    "    @name.setter\n",
    "    def name(self, value):\n",
    "        print('Setting name to', value)\n",
    "        super(SubPerson, SubPerson).name.__set__(self, value)\n",
    "\n",
    "    @name.deleter\n",
    "    def name(self):\n",
    "        print('Deleting name')\n",
    "        super(SubPerson, SubPerson).name.__delete__(self)\n",
    "\n",
    "class SubPerson2(Person):\n",
    "    @Person.name.setter\n",
    "    def name(self, value):\n",
    "        print('Setting name to', value)\n",
    "        super(SubPerson2, SubPerson2).name.__set__(self, value)\n",
    "\n",
    "class SubPerson3(Person):\n",
    "    #@property\n",
    "    @Person.name.getter\n",
    "    def name(self):\n",
    "        print('Getting name')\n",
    "        return super().name\n",
    "\n",
    "if __name__ == '__main__':\n",
    "    a = Person('Guido')\n",
    "    print(a.name)\n",
    "    a.name = 'Dave'\n",
    "    print(a.name)\n",
    "    try:\n",
    "        a.name = 42\n",
    "    except TypeError as e:\n",
    "        print(e)\n"
   ]
  },
  {
   "cell_type": "markdown",
   "metadata": {},
   "source": [
    "### 8.9 还是封装，一种检查赋值类型的操作\n",
    "\n",
    "下面这个例子的思想就是， 为了避免赋值类型错误而进行的一个检查， 把这种方法封装起来。\n",
    "\n",
    "第二个例子更加通用。。并且用到了装饰器。 在装饰器方法里，直接用 `setattr(cls, name, Typed(name, expected_type))` 设置属性"
   ]
  },
  {
   "cell_type": "code",
   "execution_count": 41,
   "metadata": {},
   "outputs": [
    {
     "name": "stdout",
     "output_type": "stream",
     "text": [
      "2\n",
      "Expected an int\n"
     ]
    }
   ],
   "source": [
    "# Descriptor attribute for an integer type-checked attribute\n",
    "class Integer:\n",
    "    def __init__(self, name):\n",
    "        self.name = name\n",
    "\n",
    "    def __get__(self, instance, cls):\n",
    "        if instance is None:\n",
    "            return self\n",
    "        else:\n",
    "            return instance.__dict__[self.name]\n",
    "\n",
    "    def __set__(self, instance, value):\n",
    "        if not isinstance(value, int):\n",
    "            raise TypeError('Expected an int')\n",
    "        instance.__dict__[self.name] = value\n",
    "\n",
    "    def __delete__(self, instance):\n",
    "        del instance.__dict__[self.name]\n",
    "\n",
    "class Point:\n",
    "    x = Integer('x')\n",
    "    y = Integer('y')\n",
    "    def __init__(self, x, y):\n",
    "        self.x = x\n",
    "        self.y = y\n",
    "\n",
    "if __name__ == '__main__':\n",
    "    p = Point(2, 3)\n",
    "    print(p.x)\n",
    "    p.y = 5\n",
    "    try:\n",
    "        p.x = 2.3\n",
    "    except TypeError as e:\n",
    "        print(e)\n"
   ]
  },
  {
   "cell_type": "code",
   "execution_count": null,
   "metadata": {},
   "outputs": [],
   "source": [
    "# Descriptor for a type-checked attribute\n",
    "class Typed:\n",
    "    def __init__(self, name, expected_type):\n",
    "        self.name = name\n",
    "        self.expected_type = expected_type\n",
    "\n",
    "    def __get__(self, instance, cls):\n",
    "        if instance is None:\n",
    "            return self\n",
    "        else:\n",
    "            return instance.__dict__[self.name]\n",
    "\n",
    "    def __set__(self, instance, value):\n",
    "        if not isinstance(value, self.expected_type):\n",
    "            raise TypeError('Expected ' + str(self.expected_type))\n",
    "        instance.__dict__[self.name] = value\n",
    "\n",
    "    def __delete__(self, instance):\n",
    "        del instance.__dict__[self.name]\n",
    "\n",
    "# Class decorator that applies it to selected attributes\n",
    "def typeassert(**kwargs):\n",
    "    def decorate(cls):\n",
    "        for name, expected_type in kwargs.items():\n",
    "            # Attach a Typed descriptor to the class\n",
    "            setattr(cls, name, Typed(name, expected_type))\n",
    "        return cls\n",
    "    return decorate\n",
    "\n",
    "# Example use\n",
    "@typeassert(name=str, shares=int, price=float)\n",
    "class Stock:\n",
    "    def __init__(self, name, shares, price):\n",
    "        self.name = name\n",
    "        self.shares = shares\n",
    "        self.price = price\n",
    "\n",
    "if __name__ == '__main__':\n",
    "    s = Stock('ACME', 100, 490.1)\n",
    "    print(s.name, s.shares, s.price)\n",
    "    s.shares = 50\n",
    "    try:\n",
    "        s.shares = 'a lot'\n",
    "    except TypeError as e:\n",
    "        print(e)\n"
   ]
  },
  {
   "cell_type": "markdown",
   "metadata": {},
   "source": [
    "### 8.10  Lazy模式\n",
    "\n",
    "就是初始化的时候不计算。用到的时候在计算，然后缓存。"
   ]
  },
  {
   "cell_type": "code",
   "execution_count": 58,
   "metadata": {},
   "outputs": [
    {
     "name": "stdout",
     "output_type": "stream",
     "text": [
      "<__main__.lazyproperty object at 0x108c62dd8>\n",
      "area\n",
      "<__main__.lazyproperty object at 0x108c62048>\n",
      "perimeter\n",
      "4.0\n",
      "hello <__main__.lazyproperty object at 0x108c62dd8> <__main__.Circle object at 0x108c62f28>\n",
      "Computing area\n",
      "50.26548245743669\n"
     ]
    }
   ],
   "source": [
    "class lazyproperty:\n",
    "    def __init__(self, func):\n",
    "        print(self)\n",
    "        print(func.__name__)\n",
    "        self.func = func\n",
    "    def __get__(self, instance, cls):\n",
    "        if instance is None:\n",
    "            return self\n",
    "        else:\n",
    "            print('hello', self, instance)\n",
    "            value = self.func(instance)\n",
    "            setattr(instance, self.func.__name__, value)\n",
    "            return value\n",
    "\n",
    "import math\n",
    "class Circle:\n",
    "    def __init__(self, radius):\n",
    "        self.radius = radius\n",
    "\n",
    "    @lazyproperty\n",
    "    def area(self):\n",
    "        print('Computing area')\n",
    "        return math.pi * self.radius ** 2\n",
    "\n",
    "    @lazyproperty\n",
    "    def perimeter(self):\n",
    "        print('Computing perimeter')\n",
    "        return 2 * math.pi * self.radius\n",
    "        \n",
    "if __name__ == '__main__':\n",
    "    c = Circle(4.0)\n",
    "    print(c.radius)\n",
    "    # 第一次计算，因为没有，确实调用了方法\n",
    "    print(c.__getattribute__('area'))\n",
    "#     print(c.area)\n",
    "    \n",
    "#     print(c.perimeter)\n",
    "#     # 第二次计算，就直接用缓存了\n",
    "#     print(c.area)\n",
    "#     print(c.perimeter)"
   ]
  },
  {
   "cell_type": "markdown",
   "metadata": {},
   "source": [
    "理解一下上面的过程：\n",
    "\n",
    "1. 开始的时候， Circle实例有两个属性 area和 perimeter，都是 lazyproperty 实例。\n",
    "2. 第一次调用的时候，执行了实际的方法；结束后，直接将Circle实例的属性给替换成实际的值了，不再是 lazyproperty实例。 lazyproperty 自己把自己给干掉了。。。。\n"
   ]
  },
  {
   "cell_type": "code",
   "execution_count": 60,
   "metadata": {},
   "outputs": [
    {
     "name": "stdout",
     "output_type": "stream",
     "text": [
      "4.0\n",
      "Computing area\n",
      "50.26548245743669\n",
      "Computing perimeter\n",
      "25.132741228718345\n",
      "50.26548245743669\n",
      "25.132741228718345\n"
     ]
    }
   ],
   "source": [
    "def lazyproperty(func):\n",
    "    name = '_lazy_' + func.__name__\n",
    "    @property\n",
    "    def lazy(self):\n",
    "        if hasattr(self, name):\n",
    "            return getattr(self, name)\n",
    "        else:\n",
    "            value = func(self)\n",
    "            setattr(self, name, value)\n",
    "            return value\n",
    "    return lazy\n",
    "     \n",
    "import math\n",
    "class Circle:\n",
    "    def __init__(self, radius):\n",
    "        self.radius = radius\n",
    "\n",
    "    @lazyproperty\n",
    "    def area(self):\n",
    "        print('Computing area')\n",
    "        return math.pi * self.radius ** 2\n",
    "\n",
    "    @lazyproperty\n",
    "    def perimeter(self):\n",
    "        print('Computing perimeter')\n",
    "        return 2 * math.pi * self.radius\n",
    "    \n",
    "if __name__ == '__main__':\n",
    "    c = Circle(4.0)\n",
    "    print(c.radius)\n",
    "    # 第一次计算，因为没有，确实调用了方法\n",
    "    print(c.area)\n",
    "    \n",
    "    print(c.perimeter)\n",
    "    # 第二次计算，就直接用缓存了\n",
    "    print(c.area)\n",
    "    print(c.perimeter)"
   ]
  },
  {
   "cell_type": "markdown",
   "metadata": {},
   "source": [
    "上面这个例子，自己没把自己干掉，不过是换了个名字，代理了一下。"
   ]
  },
  {
   "cell_type": "markdown",
   "metadata": {},
   "source": [
    "\n",
    "### 8.11 简化 __init__ 方法\n",
    "\n",
    "这里用到了 `setattr` ，不过个人并不喜欢这样做。这样固然方便，但是隐藏很多细节，容易出错。\n",
    "\n",
    "遇到一大批类需要这样定义的时候，可以用这种技巧简化代码。。"
   ]
  },
  {
   "cell_type": "code",
   "execution_count": 61,
   "metadata": {
    "scrolled": true
   },
   "outputs": [
    {
     "name": "stdout",
     "output_type": "stream",
     "text": [
      "ACME 50 91.1\n",
      "2 3\n",
      "4.5\n",
      "Expected 3 arguments\n"
     ]
    }
   ],
   "source": [
    "class Structure:\n",
    "    # Class variable that specifies expected fields\n",
    "    _fields= []\n",
    "    def __init__(self, *args):\n",
    "        if len(args) != len(self._fields):\n",
    "            raise TypeError('Expected {} arguments'.format(len(self._fields)))\n",
    "\n",
    "        # Set the arguments\n",
    "        for name, value in zip(self._fields, args):\n",
    "            setattr(self, name, value)\n",
    "        \n",
    "# Example class definitions\n",
    "if __name__ == '__main__':\n",
    "    class Stock(Structure):\n",
    "        _fields = ['name', 'shares', 'price']\n",
    "\n",
    "    class Point(Structure):\n",
    "        _fields = ['x','y']\n",
    "\n",
    "    class Circle(Structure):\n",
    "        _fields = ['radius']\n",
    "        def area(self):\n",
    "            return math.pi * self.radius ** 2\n",
    "\n",
    "if __name__ == '__main__':\n",
    "    s = Stock('ACME', 50, 91.1)\n",
    "    print(s.name, s.shares, s.price)\n",
    "\n",
    "    p = Point(2,3)\n",
    "    print(p.x, p.y)\n",
    "\n",
    "    c = Circle(4.5)\n",
    "    print(c.radius)\n",
    "\n",
    "    try:\n",
    "        s2 = Stock('ACME', 50)\n",
    "    except TypeError as e:\n",
    "        print(e)\n"
   ]
  },
  {
   "cell_type": "markdown",
   "metadata": {},
   "source": [
    "\n",
    "### 8.12 抽象类的使用 （Abstract Base Class），定义接口\n",
    "\n",
    "在抽象类的方法里面可以使用  `NotImplementError` 这种异常。\n",
    "\n",
    "或者直接用 `from abc import ABCMeta, abstractmethod`这种方式。\n",
    "\n",
    "\n",
    "在一种大规模软件工程的模式下，确实需要定义接口，以便于交互。"
   ]
  },
  {
   "cell_type": "code",
   "execution_count": 63,
   "metadata": {},
   "outputs": [
    {
     "name": "stdout",
     "output_type": "stream",
     "text": [
      "Can't instantiate abstract class IStream with abstract methods read, write\n",
      "reading\n",
      "writing\n",
      "serializing\n",
      "Expected an IStream\n",
      "serializing\n"
     ]
    }
   ],
   "source": [
    "# Defining a simple abstract base class\n",
    "\n",
    "from abc import ABCMeta, abstractmethod\n",
    "\n",
    "class IStream(metaclass=ABCMeta):\n",
    "    @abstractmethod\n",
    "    def read(self, maxbytes=-1):\n",
    "        pass\n",
    "    @abstractmethod\n",
    "    def write(self, data):\n",
    "        pass\n",
    "\n",
    "# Example implementation\n",
    "class SocketStream(IStream):\n",
    "    def read(self, maxbytes=-1):\n",
    "        print('reading')\n",
    "    def write(self, data):\n",
    "        print('writing')\n",
    "\n",
    "# Example of type checking\n",
    "def serialize(obj, stream):\n",
    "    if not isinstance(stream, IStream):\n",
    "        raise TypeError('Expected an IStream')\n",
    "    print('serializing')\n",
    "\n",
    "# Examples\n",
    "if __name__ == '__main__':\n",
    "    # Attempt to instantiate ABC directly (doesn't work)\n",
    "    try:\n",
    "        a = IStream()\n",
    "    except TypeError as e:\n",
    "        print(e)\n",
    "\n",
    "    # Instantiation of a concrete implementation\n",
    "    a = SocketStream()\n",
    "    a.read()\n",
    "    a.write('data')\n",
    "\n",
    "    # Passing to type-check function\n",
    "    serialize(None, a)\n",
    "\n",
    "    # Attempt to pass a file-like object to serialize (fails)\n",
    "    import sys\n",
    "\n",
    "    try:\n",
    "        serialize(None, sys.stdout)\n",
    "    except TypeError as e:\n",
    "        print(e)\n",
    "\n",
    "    # Register file streams and retry\n",
    "    import io\n",
    "    IStream.register(io.IOBase)\n",
    "\n",
    "    serialize(None, sys.stdout)"
   ]
  },
  {
   "cell_type": "code",
   "execution_count": 64,
   "metadata": {},
   "outputs": [],
   "source": [
    "from abc import ABCMeta, abstractmethod\n",
    "\n",
    "class A(metaclass=ABCMeta):\n",
    "    @property\n",
    "    @abstractmethod\n",
    "    def name(self):\n",
    "        pass\n",
    "\n",
    "    @name.setter\n",
    "    @abstractmethod\n",
    "    def name(self, value):\n",
    "        pass\n",
    "\n",
    "    @classmethod\n",
    "    @abstractmethod\n",
    "    def method1(cls):\n",
    "        pass\n",
    "\n",
    "    @staticmethod\n",
    "    @abstractmethod\n",
    "    def method2():\n",
    "        pass\n"
   ]
  },
  {
   "cell_type": "markdown",
   "metadata": {},
   "source": [
    "\n",
    "### 8.13 Data Model 或者 Type System，用于类型约束\n",
    "\n",
    "下面例子用了三种方法\n",
    "\n",
    "1. 直接声明\n",
    "2. 装饰器\n",
    "3. metaclass"
   ]
  },
  {
   "cell_type": "code",
   "execution_count": 65,
   "metadata": {
    "scrolled": true
   },
   "outputs": [
    {
     "name": "stdout",
     "output_type": "stream",
     "text": [
      "# --- Class with descriptors\n",
      "ACME\n",
      "75\n",
      "Expected >= 0\n",
      "expected <class 'float'>\n",
      "size must be < 8\n",
      "# --- Class with class decorator\n",
      "ACME\n",
      "75\n",
      "Expected >= 0\n",
      "expected <class 'float'>\n",
      "size must be < 8\n",
      "# --- Class with metaclass\n",
      "ACME\n",
      "75\n",
      "Expected >= 0\n",
      "expected <class 'float'>\n",
      "size must be < 8\n"
     ]
    }
   ],
   "source": [
    "# Base class. Uses a descriptor to set a value\n",
    "class Descriptor:\n",
    "    def __init__(self, name=None, **opts):\n",
    "        self.name = name\n",
    "        self.__dict__.update(opts)\n",
    "\n",
    "    def __set__(self, instance, value):\n",
    "        instance.__dict__[self.name] = value\n",
    "\n",
    "# Descriptor for enforcing types\n",
    "class Typed(Descriptor):\n",
    "    expected_type = type(None)\n",
    "\n",
    "    def __set__(self, instance, value):\n",
    "        if not isinstance(value, self.expected_type):\n",
    "            raise TypeError('expected ' + str(self.expected_type))\n",
    "        super().__set__(instance, value)\n",
    "\n",
    "# Descriptor for enforcing values\n",
    "class Unsigned(Descriptor):\n",
    "    def __set__(self, instance, value):\n",
    "        if value < 0:\n",
    "            raise ValueError('Expected >= 0')\n",
    "        super().__set__(instance, value)\n",
    "\n",
    "class MaxSized(Descriptor):\n",
    "    def __init__(self, name=None, **opts):\n",
    "        if 'size' not in opts:\n",
    "            raise TypeError('missing size option')\n",
    "        self.size = opts['size']\n",
    "        super().__init__(name, **opts)\n",
    "\n",
    "    def __set__(self, instance, value):\n",
    "        if len(value) >= self.size:\n",
    "            raise ValueError('size must be < ' + str(self.size))\n",
    "        super().__set__(instance, value)\n",
    "\n",
    "class Integer(Typed):\n",
    "    expected_type = int\n",
    "\n",
    "class UnsignedInteger(Integer, Unsigned):\n",
    "    pass\n",
    "\n",
    "class Float(Typed):\n",
    "    expected_type = float\n",
    "\n",
    "class UnsignedFloat(Float, Unsigned):\n",
    "    pass\n",
    "\n",
    "class String(Typed):\n",
    "    expected_type = str\n",
    "\n",
    "class SizedString(String, MaxSized):\n",
    "    pass\n",
    "\n",
    "# Class decorator to apply constraints\n",
    "def check_attributes(**kwargs):\n",
    "    def decorate(cls):\n",
    "        for key, value in kwargs.items():\n",
    "            if isinstance(value, Descriptor):\n",
    "                value.name = key\n",
    "                setattr(cls, key, value)\n",
    "            else:\n",
    "                setattr(cls, key, value(key))\n",
    "        return cls\n",
    "    return decorate\n",
    "\n",
    "# A metaclass that applies checking\n",
    "class checkedmeta(type):\n",
    "    def __new__(cls, clsname, bases, methods):\n",
    "        # Attach attribute names to the descriptors\n",
    "        for key, value in methods.items():\n",
    "            if isinstance(value, Descriptor):\n",
    "                value.name = key\n",
    "        return type.__new__(cls, clsname, bases, methods)\n",
    "\n",
    "# Testing code\n",
    "def test(s):\n",
    "    print(s.name)\n",
    "    s.shares = 75\n",
    "    print(s.shares)\n",
    "    try:\n",
    "        s.shares = -10\n",
    "    except ValueError as e:\n",
    "        print(e)\n",
    "    try:\n",
    "        s.price = 'a lot'\n",
    "    except TypeError as e:\n",
    "        print(e)\n",
    "\n",
    "    try:\n",
    "        s.name = 'ABRACADABRA'\n",
    "    except ValueError as e:\n",
    "        print(e)\n",
    "\n",
    "# Various Examples:\n",
    "if __name__ == '__main__':\n",
    "    print(\"# --- Class with descriptors\")\n",
    "    class Stock:\n",
    "        # Specify constraints\n",
    "        name = SizedString('name',size=8)\n",
    "        shares = UnsignedInteger('shares')\n",
    "        price = UnsignedFloat('price')\n",
    "        def __init__(self, name, shares, price):\n",
    "            self.name = name\n",
    "            self.shares = shares\n",
    "            self.price = price\n",
    "\n",
    "    s = Stock('ACME',50,91.1)\n",
    "    test(s)\n",
    "\n",
    "    print(\"# --- Class with class decorator\")\n",
    "    @check_attributes(name=SizedString(size=8), \n",
    "                      shares=UnsignedInteger,\n",
    "                      price=UnsignedFloat)\n",
    "    class Stock:\n",
    "        def __init__(self, name, shares, price):\n",
    "            self.name = name\n",
    "            self.shares = shares\n",
    "            self.price = price\n",
    "\n",
    "    s = Stock('ACME',50,91.1)\n",
    "    test(s)\n",
    "\n",
    "    print(\"# --- Class with metaclass\")\n",
    "    class Stock(metaclass=checkedmeta):\n",
    "        name   = SizedString(size=8)\n",
    "        shares = UnsignedInteger()\n",
    "        price  = UnsignedFloat()\n",
    "        def __init__(self, name, shares, price):\n",
    "            self.name = name\n",
    "            self.shares = shares\n",
    "            self.price = price\n",
    "\n",
    "    s = Stock('ACME',50,91.1)\n",
    "    test(s)\n",
    "        \n"
   ]
  },
  {
   "cell_type": "markdown",
   "metadata": {},
   "source": [
    "### 8.14 自定义容器（container）\n",
    "\n",
    "包括：\n",
    "\n",
    "1. 继承自 `Iterable`\n",
    "2. `__getitem__`， 序列容器，可以索引\n",
    "3. `__len__`，长度\n",
    "4. `__setitem__`， 序列容器，可以索引修改\n",
    "\n",
    "\n",
    "下面例子中的 bisect，可以用来维持顺序。"
   ]
  },
  {
   "cell_type": "code",
   "execution_count": 66,
   "metadata": {},
   "outputs": [
    {
     "name": "stdout",
     "output_type": "stream",
     "text": [
      "[1, 3, 5]\n",
      "1\n",
      "5\n",
      "[1, 2, 3, 5]\n",
      "[-10, 1, 2, 3, 5]\n",
      "[1, 2, 3]\n",
      "True\n",
      "5\n",
      "-10\n",
      "1\n",
      "2\n",
      "3\n",
      "5\n"
     ]
    }
   ],
   "source": [
    "import collections\n",
    "import bisect\n",
    "\n",
    "class SortedItems(collections.Sequence):\n",
    "    def __init__(self, initial=None):\n",
    "        self._items = sorted(initial) if initial is not None else []\n",
    "\n",
    "    # Required sequence methods\n",
    "    def __getitem__(self, index):\n",
    "        return self._items[index]\n",
    "\n",
    "    def __len__(self):\n",
    "        return len(self._items)\n",
    "\n",
    "    # Method for adding an item in the right location\n",
    "    def add(self, item):\n",
    "        bisect.insort(self._items, item)\n",
    "\n",
    "if __name__ == '__main__':\n",
    "    items = SortedItems([5, 1, 3])\n",
    "    print(list(items))\n",
    "    print(items[0])\n",
    "    print(items[-1])\n",
    "    items.add(2)\n",
    "    print(list(items))\n",
    "    items.add(-10)\n",
    "    print(list(items))\n",
    "    print(items[1:4])\n",
    "    print(3 in items)\n",
    "    print(len(items))\n",
    "    for n in items:\n",
    "        print(n)\n"
   ]
  },
  {
   "cell_type": "code",
   "execution_count": 67,
   "metadata": {
    "scrolled": true
   },
   "outputs": [
    {
     "name": "stdout",
     "output_type": "stream",
     "text": [
      "Len\n",
      "3\n",
      "Len\n",
      "Inserting: 3 4\n",
      "Len\n",
      "Inserting: 4 2\n",
      "Getting: 0\n",
      "Getting: 1\n",
      "Getting: 2\n",
      "Getting: 3\n",
      "Getting: 4\n",
      "Getting: 5\n",
      "2\n",
      "Getting: 0\n",
      "Getting: 1\n",
      "Getting: 2\n",
      "Deleting: 2\n"
     ]
    }
   ],
   "source": [
    "import collections\n",
    "\n",
    "class Items(collections.MutableSequence):\n",
    "    def __init__(self, initial=None):\n",
    "        self._items = list(initial) if initial is not None else []\n",
    "\n",
    "    # Required sequence methods\n",
    "    def __getitem__(self, index):\n",
    "        print('Getting:', index)\n",
    "        return self._items[index]\n",
    "\n",
    "    def __setitem__(self, index, value):\n",
    "        print('Setting:', index, value)\n",
    "        self._items[index] = value\n",
    "\n",
    "    def __delitem__(self, index):\n",
    "        print('Deleting:', index)\n",
    "        del self._items[index]\n",
    "\n",
    "    def insert(self, index, value):\n",
    "        print('Inserting:', index, value)\n",
    "        self._items.insert(index, value)\n",
    "\n",
    "    def __len__(self):\n",
    "        print('Len')\n",
    "        return len(self._items)\n",
    "\n",
    "if __name__ == '__main__':\n",
    "    a = Items([1, 2, 3])\n",
    "    print(len(a))\n",
    "    a.append(4)\n",
    "    a.append(2)\n",
    "    print(a.count(2))\n",
    "    a.remove(3)\n"
   ]
  },
  {
   "cell_type": "markdown",
   "metadata": {},
   "source": [
    "### 8.15 属性委托访问（delegating attribute access）\n",
    "\n",
    "也是属于proxy模式的一种。不直接访问。 间接访问"
   ]
  },
  {
   "cell_type": "markdown",
   "metadata": {},
   "source": [
    "### 8.16 创建实例\n",
    "\n",
    "- 除了 `__init__`方法外，还有 `classmethod`\n",
    "- 还可以用 `__new__`。 理论上，  `__new__` 比 `__init__` 更底层，除了构建一个对象，还没有设置任何属性"
   ]
  },
  {
   "cell_type": "markdown",
   "metadata": {},
   "source": [
    "### 8.17 Mixin\n",
    "\n",
    "Mixin 类似于插件， 而且在一定程度上可以“通用”的插件。 它扩展一些功能，而不改变原类的设计。\n",
    "\n",
    "可以这样做： 设计一些Mixin，适用于某个类系列。"
   ]
  },
  {
   "cell_type": "code",
   "execution_count": 68,
   "metadata": {},
   "outputs": [
    {
     "name": "stdout",
     "output_type": "stream",
     "text": [
      "# ---- LoggedDict Example\n",
      "Setting x = 23\n",
      "Getting x\n",
      "23\n",
      "Deleting x\n"
     ]
    }
   ],
   "source": [
    "class LoggedMappingMixin:\n",
    "    '''\n",
    "    Add logging to get/set/delete operations for debugging.\n",
    "    '''\n",
    "    __slots__ = ()\n",
    "\n",
    "    def __getitem__(self, key):\n",
    "        print('Getting ' + str(key))\n",
    "        return super().__getitem__(key)\n",
    "\n",
    "    def __setitem__(self, key, value):\n",
    "        print('Setting {} = {!r}'.format(key, value))\n",
    "        return super().__setitem__(key, value)\n",
    "\n",
    "    def __delitem__(self, key):\n",
    "        print('Deleting ' + str(key))\n",
    "        return super().__delitem__(key)\n",
    "    \n",
    "print('# ---- LoggedDict Example')\n",
    "\n",
    "class LoggedDict(LoggedMappingMixin, dict):\n",
    "    pass\n",
    "\n",
    "d = LoggedDict()\n",
    "d['x'] = 23\n",
    "print(d['x'])\n",
    "del d['x']"
   ]
  },
  {
   "cell_type": "code",
   "execution_count": 69,
   "metadata": {},
   "outputs": [
    {
     "name": "stdout",
     "output_type": "stream",
     "text": [
      "# ---- SetOnceDefaultDict Example\n",
      "'x already set'\n"
     ]
    }
   ],
   "source": [
    "class SetOnceMappingMixin:\n",
    "    '''\n",
    "    Only allow a key to be set once.\n",
    "    '''\n",
    "    __slots__ = ()\n",
    "    def __setitem__(self, key, value):\n",
    "        if key in self:\n",
    "            raise KeyError(str(key) + ' already set')\n",
    "        return super().__setitem__(key, value)\n",
    "\n",
    "print('# ---- SetOnceDefaultDict Example')\n",
    "\n",
    "from collections import defaultdict\n",
    "class SetOnceDefaultDict(SetOnceMappingMixin, defaultdict):\n",
    "    pass\n",
    " \n",
    "d = SetOnceDefaultDict(list)\n",
    "d['x'].append(2)\n",
    "d['y'].append(3)\n",
    "d['x'].append(10)\n",
    "try:\n",
    "    d['x'] = 23\n",
    "except KeyError as e:\n",
    "    print(e)\n"
   ]
  },
  {
   "cell_type": "code",
   "execution_count": 70,
   "metadata": {},
   "outputs": [
    {
     "name": "stdout",
     "output_type": "stream",
     "text": [
      "# ---- StringOrderedDict Example\n",
      "keys must be strings\n",
      "'x already set'\n"
     ]
    }
   ],
   "source": [
    "class StringKeysMappingMixin:\n",
    "    '''\n",
    "    Restrict keys to strings only\n",
    "    '''\n",
    "    __slots__ = ()\n",
    "    def __setitem__(self, key, value):\n",
    "        if not isinstance(key, str):\n",
    "            raise TypeError('keys must be strings')\n",
    "        return super().__setitem__(key, value)\n",
    "\n",
    "print('# ---- StringOrderedDict Example')\n",
    "from collections import OrderedDict\n",
    "\n",
    "class StringOrderedDict(StringKeysMappingMixin,\n",
    "                        SetOnceMappingMixin,\n",
    "                        OrderedDict):\n",
    "    pass\n",
    "\n",
    "d = StringOrderedDict()\n",
    "d['x'] = 23\n",
    "try:\n",
    "    d[42] = 10\n",
    "except TypeError as e:\n",
    "    print(e)\n",
    "\n",
    "try:\n",
    "    d['x'] = 42\n",
    "except KeyError as e:\n",
    "    print(e)\n"
   ]
  },
  {
   "cell_type": "code",
   "execution_count": 71,
   "metadata": {
    "scrolled": true
   },
   "outputs": [
    {
     "name": "stdout",
     "output_type": "stream",
     "text": [
      "{'name': 'Dave', 'n': 37}\n",
      "Keys must be <class 'str'>\n"
     ]
    }
   ],
   "source": [
    "class RestrictKeysMixin:\n",
    "    def __init__(self, *args, _restrict_key_type, **kwargs):\n",
    "        self.__restrict_key_type = _restrict_key_type\n",
    "        super().__init__(*args, **kwargs)\n",
    "    \n",
    "    def __setitem__(self, key, value):\n",
    "        if not isinstance(key, self.__restrict_key_type):\n",
    "            raise TypeError('Keys must be ' + str(self.__restrict_key_type))\n",
    "        super().__setitem__(key, value)\n",
    "\n",
    "# Example\n",
    "\n",
    "class RDict(RestrictKeysMixin, dict):\n",
    "    pass\n",
    " \n",
    "d = RDict(_restrict_key_type=str)\n",
    "e = RDict([('name','Dave'), ('n',37)], _restrict_key_type=str)\n",
    "f = RDict(name='Dave', n=37, _restrict_key_type=str)\n",
    "print(f)\n",
    "try:\n",
    "    f[42] = 10\n",
    "except TypeError as e:\n",
    "    print(e)\n"
   ]
  },
  {
   "cell_type": "markdown",
   "metadata": {},
   "source": [
    "\n",
    "### 8.19 状态机\n",
    "\n",
    "状态机是这样子的： 有多种状态， 每种状态响应特定动作，进行状态转移。\n",
    "\n",
    "一种实现方式是： 记录状态，每次转移的时候进行条件判断。 这是过程式的编写方式。 一个好处是，直接，但是对于复杂的状态机模型，可以能回很难看，很难维护。另一个好处是在条件判断处可以设置锁，实现并发。\n",
    "\n",
    "另一种思路是： 每个状态一个类，对每个动作响应，状态迁移实现一个方法。这样做的一个好处是直观，并且便于维护。 但是缺点是代码量较大。 对于并发，需要额外的代码进行处理。"
   ]
  },
  {
   "cell_type": "code",
   "execution_count": 72,
   "metadata": {},
   "outputs": [
    {
     "name": "stdout",
     "output_type": "stream",
     "text": [
      "<__main__.ClosedConnection object at 0x108c62c18>\n",
      "Not open\n",
      "<__main__.OpenConnection object at 0x108c62c18>\n",
      "reading\n",
      "<__main__.ClosedConnection object at 0x108c62c18>\n"
     ]
    }
   ],
   "source": [
    "class Connection:\n",
    "    def __init__(self):\n",
    "        self.new_state(ClosedConnection)\n",
    "\n",
    "    def new_state(self, state):\n",
    "        self.__class__ = state\n",
    "\n",
    "    def read(self):\n",
    "        raise NotImplementedError()\n",
    "\n",
    "    def write(self, data):\n",
    "        raise NotImplementedError()\n",
    "\n",
    "    def open(self):\n",
    "        raise NotImplementedError()\n",
    "\n",
    "    def close(self):\n",
    "        raise NotImplementedError()\n",
    "\n",
    "class ClosedConnection(Connection):\n",
    "    def read(self):\n",
    "        raise RuntimeError('Not open')\n",
    "\n",
    "    def write(self, data):\n",
    "        raise RuntimeError('Not open')\n",
    "\n",
    "    def open(self):\n",
    "        self.new_state(OpenConnection)\n",
    "\n",
    "    def close(self):\n",
    "        raise RuntimeError('Already closed')\n",
    "\n",
    "class OpenConnection(Connection):\n",
    "    def read(self):\n",
    "        print('reading')\n",
    "\n",
    "    def write(self, data):\n",
    "        print('writing')\n",
    "\n",
    "    def open(self):\n",
    "        raise RuntimeError('Already open')\n",
    "\n",
    "    def close(self):\n",
    "        self.new_state(ClosedConnection)\n",
    "\n",
    "# Example\n",
    "if __name__ == '__main__':\n",
    "    c = Connection()\n",
    "    print(c)\n",
    "    try:\n",
    "        c.read()\n",
    "    except RuntimeError as e:\n",
    "        print(e)\n",
    "\n",
    "    c.open()\n",
    "    print(c)\n",
    "    c.read()\n",
    "    c.close()\n",
    "    print(c)\n"
   ]
  },
  {
   "cell_type": "markdown",
   "metadata": {},
   "source": [
    "\n",
    "### 8.20 通过名称字符串调用方法\n",
    "\n",
    "其实方法啊、函数啊，都是一个对象，在类里面就是一个属性。 用 `getattr`就可以了"
   ]
  },
  {
   "cell_type": "markdown",
   "metadata": {},
   "source": [
    "### 8.23 Cyclic Data Structure 内存管理\n",
    "\n",
    "\n",
    "这个问题涉及 循环引用 的内存管理。 比如一些树、图的数据结构，就有循环引用。"
   ]
  },
  {
   "cell_type": "code",
   "execution_count": 104,
   "metadata": {},
   "outputs": [],
   "source": [
    "class Data:\n",
    "    def __del__(self):\n",
    "        print('Data.__del__')\n",
    "\n",
    "class Node:\n",
    "    def __init__(self):\n",
    "        self.data = Data()\n",
    "        self.parent = None\n",
    "        self.children = []\n",
    "    def add_child(self, child):\n",
    "        self.children.append(child)\n",
    "        child.parent = self"
   ]
  },
  {
   "cell_type": "code",
   "execution_count": 105,
   "metadata": {},
   "outputs": [
    {
     "name": "stdout",
     "output_type": "stream",
     "text": [
      "Data.__del__\n",
      "Data.__del__\n"
     ]
    }
   ],
   "source": [
    "# 没有循环引用时正常\n",
    "a = Data()\n",
    "del a\n",
    "a = Node()\n",
    "del a"
   ]
  },
  {
   "cell_type": "code",
   "execution_count": 107,
   "metadata": {},
   "outputs": [],
   "source": [
    "# 这里删除了父节点，子节点仍然保留对父节点的引用，所以不会释放\n",
    "a = Node()\n",
    "a.add_child(Node())\n",
    "del a\n",
    "# 但是子节点也没有引用，这里就留下了 2个垃圾"
   ]
  },
  {
   "cell_type": "code",
   "execution_count": 110,
   "metadata": {},
   "outputs": [
    {
     "data": {
      "text/plain": [
       "1075"
      ]
     },
     "execution_count": 110,
     "metadata": {},
     "output_type": "execute_result"
    }
   ],
   "source": [
    "import gc\n",
    "gc.collect()   # 必须强制垃圾回收，才能删除"
   ]
  },
  {
   "cell_type": "code",
   "execution_count": 111,
   "metadata": {},
   "outputs": [
    {
     "data": {
      "text/plain": [
       "<weakref at 0x108c682c8; to 'Node' at 0x108b46470>"
      ]
     },
     "execution_count": 111,
     "metadata": {},
     "output_type": "execute_result"
    }
   ],
   "source": [
    "a = Node()\n",
    "a.add_child(Node())\n",
    "a_ref = weakref.ref(a)\n",
    "a_ref   "
   ]
  },
  {
   "cell_type": "code",
   "execution_count": 112,
   "metadata": {},
   "outputs": [
    {
     "data": {
      "text/plain": [
       "<__main__.Node at 0x108b46470>"
      ]
     },
     "execution_count": 112,
     "metadata": {},
     "output_type": "execute_result"
    }
   ],
   "source": [
    "a_ref()"
   ]
  },
  {
   "cell_type": "markdown",
   "metadata": {},
   "source": [
    "a_ref 实际上就是 Node的一个指针，并且没有引用计数。 当删掉Node 之后，这个指针实际上指向一个空地址，即返回None。（上面的例子中，由于子节点保留了对父节点的引用，所以删除父节点时，weakref仍有效，因为没有真正删掉）\n",
    "\n",
    "所以为了避免循环引用，在反向上（比如指向父节点），可以使用  weakref。 这样在删除节点时，就能彻底删除。避免内存泄漏。（见下面的例子）"
   ]
  },
  {
   "cell_type": "code",
   "execution_count": 116,
   "metadata": {
    "scrolled": true
   },
   "outputs": [
    {
     "name": "stdout",
     "output_type": "stream",
     "text": [
      "Node('parent')\n",
      "None\n",
      "None\n"
     ]
    }
   ],
   "source": [
    "import weakref\n",
    "\n",
    "class Node:\n",
    "    def __init__(self, value):\n",
    "        self.value = value\n",
    "        self._parent = None\n",
    "        self.children = []\n",
    "\n",
    "    def __repr__(self):\n",
    "        return 'Node({!r:})'.format(self.value)\n",
    "\n",
    "    # property that manages the parent as a weak-reference\n",
    "    @property\n",
    "    def parent(self):\n",
    "        return self._parent if self._parent is None else self._parent()\n",
    "\n",
    "    @parent.setter\n",
    "    def parent(self, node):\n",
    "        self._parent = weakref.ref(node)\n",
    "\n",
    "    def add_child(self, child):\n",
    "        self.children.append(child)\n",
    "        child.parent = self\n",
    "\n",
    "if __name__ == '__main__':\n",
    "    root = Node('parent')\n",
    "    c1 = Node('c1')\n",
    "    c2 = Node('c2')\n",
    "    root.add_child(c1)\n",
    "    root.add_child(c2)\n",
    "\n",
    "    print(c1.parent)\n",
    "    del root\n",
    "    print(c1.parent)\n",
    "    print(c2.parent)\n",
    "    gc.collect()"
   ]
  },
  {
   "cell_type": "markdown",
   "metadata": {},
   "source": [
    "### 8.24 自定义比较操作\n",
    "\n",
    "- `__le__`\n",
    "- `__ge__`\n",
    "- `__gt__`\n",
    "- `__lt__`\n",
    "- `__eq__`\n",
    "等等"
   ]
  },
  {
   "cell_type": "code",
   "execution_count": 117,
   "metadata": {
    "scrolled": true
   },
   "outputs": [
    {
     "name": "stdout",
     "output_type": "stream",
     "text": [
      "Is h1 bigger than h2? True\n",
      "Is h2 smaller than h3? True\n",
      "Is h2 greater than or equal to h1? False\n",
      "Which one is biggest? h3: 1101 square foot Split\n",
      "Which is smallest? h2: 846 square foot Ranch\n"
     ]
    }
   ],
   "source": [
    "from functools import total_ordering\n",
    "class Room:\n",
    "    def __init__(self, name, length, width):\n",
    "        self.name = name\n",
    "        self.length = length\n",
    "        self.width = width\n",
    "        self.square_feet = self.length * self.width\n",
    "\n",
    "@total_ordering\n",
    "class House:\n",
    "    def __init__(self, name, style):\n",
    "        self.name = name\n",
    "        self.style = style\n",
    "        self.rooms = list()\n",
    "\n",
    "    @property\n",
    "    def living_space_footage(self):\n",
    "        return sum(r.square_feet for r in self.rooms)\n",
    "\n",
    "    def add_room(self, room):\n",
    "        self.rooms.append(room)\n",
    "\n",
    "    def __str__(self):\n",
    "        return '{}: {} square foot {}'.format(self.name, \n",
    "                                              self.living_space_footage, \n",
    "                                              self.style)\n",
    "\n",
    "    def __eq__(self, other):\n",
    "        return self.living_space_footage == other.living_space_footage\n",
    "\n",
    "    def __lt__(self, other):\n",
    "        return self.living_space_footage < other.living_space_footage \n",
    "\n",
    "\n",
    "\n",
    "# Build a few houses, and add rooms to them.\n",
    "h1 = House('h1', 'Cape')\n",
    "h1.add_room(Room('Master Bedroom', 14, 21))\n",
    "h1.add_room(Room('Living Room', 18, 20))\n",
    "h1.add_room(Room('Kitchen', 12, 16))\n",
    "h1.add_room(Room('Office', 12, 12))\n",
    "\n",
    "h2 = House('h2', 'Ranch')\n",
    "h2.add_room(Room('Master Bedroom', 14, 21))\n",
    "h2.add_room(Room('Living Room', 18, 20))\n",
    "h2.add_room(Room('Kitchen', 12, 16))\n",
    "\n",
    "h3 = House('h3', 'Split')\n",
    "h3.add_room(Room('Master Bedroom', 14, 21))\n",
    "h3.add_room(Room('Living Room', 18, 20))\n",
    "h3.add_room(Room('Office', 12, 16))\n",
    "h3.add_room(Room('Kitchen', 15, 17))\n",
    "houses = [h1, h2, h3]\n",
    "\n",
    "print(\"Is h1 bigger than h2?\", h1 > h2) # prints True\n",
    "print(\"Is h2 smaller than h3?\", h2 < h3) # prints True\n",
    "print(\"Is h2 greater than or equal to h1?\", h2 >= h1) # prints False\n",
    "print(\"Which one is biggest?\", max(houses)) # prints 'h3: 1101 square foot Split'\n",
    "print(\"Which is smallest?\", min(houses)) # prints 'h2: 846 square foot Ranch'\n"
   ]
  },
  {
   "cell_type": "markdown",
   "metadata": {},
   "source": [
    "### 8.25 Cached Instance\n",
    "\n",
    "有些实例，如果创建时参数一致，可以不用重复创建，返回已经创建过的那个实例就行了。\n",
    "\n",
    "这样做可以避免浪费内存。 \n",
    "\n",
    "见过，比如  logger.getLogger('xxx')，如果名字一致，全局都是一样的。"
   ]
  },
  {
   "cell_type": "code",
   "execution_count": 120,
   "metadata": {},
   "outputs": [
    {
     "name": "stdout",
     "output_type": "stream",
     "text": [
      "a is b: False\n",
      "a is c: True\n",
      "<__main__.Spam object at 0x108c7ab00>\n",
      "<__main__.Spam object at 0x108c7aef0>\n",
      "<__main__.Spam object at 0x108c7ab00>\n"
     ]
    }
   ],
   "source": [
    "class Spam:\n",
    "    def __init__(self, name):\n",
    "        self.name = name\n",
    "\n",
    "# Caching support\n",
    "import weakref\n",
    "_spam_cache = weakref.WeakValueDictionary()\n",
    "\n",
    "def get_spam(name):\n",
    "    if name not in _spam_cache:\n",
    "        s = Spam(name)\n",
    "        _spam_cache[name] = s\n",
    "    else:\n",
    "        s = _spam_cache[name]\n",
    "    return s\n",
    "\n",
    "if __name__ == '__main__':\n",
    "    a = get_spam('foo')\n",
    "    b = get_spam('bar')\n",
    "    print('a is b:', a is b)\n",
    "    c = get_spam('foo')\n",
    "    print('a is c:', a is c)\n",
    "    print(a)\n",
    "    print(b)\n",
    "    print(c)"
   ]
  },
  {
   "cell_type": "code",
   "execution_count": 121,
   "metadata": {},
   "outputs": [
    {
     "name": "stdout",
     "output_type": "stream",
     "text": [
      "This should print 'Initializing Spam' twice\n",
      "Initializing Spam\n",
      "Initializing Spam\n",
      "True\n"
     ]
    }
   ],
   "source": [
    "class Spam:\n",
    "    _spam_cache = weakref.WeakValueDictionary()\n",
    "    def __new__(cls, name):\n",
    "        if name in cls._spam_cache:\n",
    "            return cls._spam_cache[name]\n",
    "        else:\n",
    "            self = super().__new__(cls)\n",
    "            cls._spam_cache[name] = self\n",
    "            return self\n",
    "\n",
    "    def __init__(self, name):\n",
    "        print('Initializing Spam')\n",
    "        self.name = name\n",
    "\n",
    "if __name__ == '__main__':\n",
    "    print(\"This should print 'Initializing Spam' twice\")\n",
    "    s = Spam('Dave')\n",
    "    t = Spam('Dave')\n",
    "    print(s is t)\n"
   ]
  }
 ],
 "metadata": {
  "kernelspec": {
   "display_name": "Python 3",
   "language": "python",
   "name": "python3"
  },
  "language_info": {
   "codemirror_mode": {
    "name": "ipython",
    "version": 3
   },
   "file_extension": ".py",
   "mimetype": "text/x-python",
   "name": "python",
   "nbconvert_exporter": "python",
   "pygments_lexer": "ipython3",
   "version": "3.6.2"
  },
  "varInspector": {
   "cols": {
    "lenName": 16,
    "lenType": 16,
    "lenVar": 40
   },
   "kernels_config": {
    "python": {
     "delete_cmd_postfix": "",
     "delete_cmd_prefix": "del ",
     "library": "var_list.py",
     "varRefreshCmd": "print(var_dic_list())"
    },
    "r": {
     "delete_cmd_postfix": ") ",
     "delete_cmd_prefix": "rm(",
     "library": "var_list.r",
     "varRefreshCmd": "cat(var_dic_list()) "
    }
   },
   "types_to_exclude": [
    "module",
    "function",
    "builtin_function_or_method",
    "instance",
    "_Feature"
   ],
   "window_display": false
  }
 },
 "nbformat": 4,
 "nbformat_minor": 2
}
