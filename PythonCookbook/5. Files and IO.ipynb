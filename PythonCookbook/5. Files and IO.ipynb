{
 "cells": [
  {
   "cell_type": "markdown",
   "metadata": {},
   "source": [
    "\n",
    "## 5. Files and IO\n",
    "\n"
   ]
  },
  {
   "cell_type": "markdown",
   "metadata": {},
   "source": [
    "\n",
    "### 5.1 Reading and Writing Text Data\n",
    "\n",
    "就是文件读写，很简单。\n",
    "\n",
    "注意文件的编码。默认是 utf-8 编码。\n",
    "\n",
    "参考 <https://www.programiz.com/python-programming/file-operation> \n",
    "\n",
    "\n",
    "Mode | Description\n",
    "-- |--\n",
    "'r' | Open a file for reading. (default)\n",
    " 'w' | Open a file for writing. Creates a new file if it does not exist or truncates the file if it exists.\n",
    " 'x' | Open a file for exclusive creation. If the file already exists, the operation fails.\n",
    " 'a' | Open for appending at the end of the file without truncating it. Creates a new file if it does not exist.\n",
    " 't' | Open in text mode. (default)\n",
    " 'b' | Open in binary mode.\n",
    " '+' | Open a file for updating (reading and writing)"
   ]
  },
  {
   "cell_type": "code",
   "execution_count": 37,
   "metadata": {},
   "outputs": [
    {
     "name": "stdout",
     "output_type": "stream",
     "text": [
      "Reading a simple text file (UTF-8)\n",
      "'Hello World\\n'\n",
      "'Spicy Jalapeño\\n'\n",
      "Reading text file with universal newlines off\n",
      "'Hello World\\r\\n'\n",
      "'Spicy Jalapeño\\r\\n'\n",
      "Reading text as ASCII with replacement error handling\n",
      "'Hello World\\n'\n",
      "'Spicy Jalape��o\\n'\n",
      "Reading text as ASCII with ignore error handling\n",
      "'Hello World\\n'\n",
      "'Spicy Jalapeo\\n'\n"
     ]
    }
   ],
   "source": [
    "\n",
    "\n",
    "print(\"Reading a simple text file (UTF-8)\")\n",
    "with open('./samples/sample.txt', 'rt') as f:\n",
    "    for line in f:\n",
    "        print(repr(line))\n",
    "\n",
    "# (b) Reading a text file with universal newlines turned off\n",
    "print(\"Reading text file with universal newlines off\")\n",
    "with open('./samples/sample.txt', 'rt', newline='') as f:\n",
    "    for line in f:\n",
    "        print(repr(line))\n",
    "\n",
    "# (c) Reading text file as ASCII with replacement error handling\n",
    "print(\"Reading text as ASCII with replacement error handling\")\n",
    "with open('./samples/sample.txt', 'rt', encoding='ascii', errors='replace') as f:\n",
    "    for line in f:\n",
    "        print(repr(line))\n",
    "\n",
    "# (d) Reading text file as ASCII with ignore error handling\n",
    "print(\"Reading text as ASCII with ignore error handling\")\n",
    "with open('./samples/sample.txt', 'rt', encoding='ascii', errors='ignore') as f:\n",
    "    for line in f:\n",
    "        print(repr(line))\n"
   ]
  },
  {
   "cell_type": "markdown",
   "metadata": {},
   "source": [
    "### 5.2 打印重定向到 File\n",
    "\n",
    "指定  `print`参数 `file` 即可。\n",
    "\n",
    "感觉没什么用， 直接用 write好了。"
   ]
  },
  {
   "cell_type": "code",
   "execution_count": 38,
   "metadata": {},
   "outputs": [],
   "source": [
    "with open('./samples/somefile2.txt', 'wt') as f:\n",
    "    print('Hello World!', file=f)"
   ]
  },
  {
   "cell_type": "markdown",
   "metadata": {},
   "source": [
    "### 5.3 打印分隔符与 line ending\n",
    "\n",
    "`print`的两个参数 \n",
    "\n",
    "- `sep`，分隔符，默认是 ' '\n",
    "- `end`，line ending，默认是 '\\n'"
   ]
  },
  {
   "cell_type": "code",
   "execution_count": 7,
   "metadata": {},
   "outputs": [
    {
     "name": "stdout",
     "output_type": "stream",
     "text": [
      "ACME 50 91.5\n",
      "ACME,50,91.5\n",
      "ACME,50,91.5!!\n"
     ]
    }
   ],
   "source": [
    "print('ACME', 50, 91.5)\n",
    "print('ACME', 50, 91.5, sep=',')\n",
    "print('ACME', 50, 91.5, sep=',', end='!!\\n')"
   ]
  },
  {
   "cell_type": "markdown",
   "metadata": {},
   "source": [
    "### 5.4 读写二进制数据文件\n",
    "\n"
   ]
  },
  {
   "cell_type": "code",
   "execution_count": 40,
   "metadata": {},
   "outputs": [
    {
     "name": "stdout",
     "output_type": "stream",
     "text": [
      "Hello world\n"
     ]
    }
   ],
   "source": [
    "with open('./samples/somefile.bin', 'wb') as f:\n",
    "    f.write(b'Hello world')\n",
    "\n",
    "with open('./samples/somefile.bin', 'rb') as f:\n",
    "    d = f.read()\n",
    "    print(d.decode('utf-8'))"
   ]
  },
  {
   "cell_type": "markdown",
   "metadata": {},
   "source": [
    "### 5.5 写文件，但避免覆盖原文件\n",
    "\n",
    "我们知道， 写文件如果用 'w'模式，如果文件不存在，则会创建文件；如果文件已存在，则会覆盖原文件。\n",
    "\n",
    "需要避免的是 覆盖原文件这一点。可以用 'x' 模式。\n"
   ]
  },
  {
   "cell_type": "code",
   "execution_count": 41,
   "metadata": {},
   "outputs": [
    {
     "ename": "FileExistsError",
     "evalue": "[Errno 17] File exists: './samples/somefile.bin'",
     "output_type": "error",
     "traceback": [
      "\u001b[0;31m---------------------------------------------------------------------------\u001b[0m",
      "\u001b[0;31mFileExistsError\u001b[0m                           Traceback (most recent call last)",
      "\u001b[0;32m<ipython-input-41-7b3a917515d1>\u001b[0m in \u001b[0;36m<module>\u001b[0;34m()\u001b[0m\n\u001b[0;32m----> 1\u001b[0;31m \u001b[0;32mwith\u001b[0m \u001b[0mopen\u001b[0m\u001b[0;34m(\u001b[0m\u001b[0;34m'./samples/somefile.bin'\u001b[0m\u001b[0;34m,\u001b[0m \u001b[0;34m'xb'\u001b[0m\u001b[0;34m)\u001b[0m \u001b[0;32mas\u001b[0m \u001b[0mf\u001b[0m\u001b[0;34m:\u001b[0m\u001b[0;34m\u001b[0m\u001b[0m\n\u001b[0m\u001b[1;32m      2\u001b[0m     \u001b[0mf\u001b[0m\u001b[0;34m.\u001b[0m\u001b[0mwrite\u001b[0m\u001b[0;34m(\u001b[0m\u001b[0;34mb'\\u4e2d'\u001b[0m\u001b[0;34m)\u001b[0m\u001b[0;34m\u001b[0m\u001b[0m\n",
      "\u001b[0;31mFileExistsError\u001b[0m: [Errno 17] File exists: './samples/somefile.bin'"
     ]
    }
   ],
   "source": [
    "with open('./samples/somefile.bin', 'xb') as f:\n",
    "    f.write(b'\\u4e2d')"
   ]
  },
  {
   "cell_type": "markdown",
   "metadata": {},
   "source": [
    "### 5.6  String上的I/O操作"
   ]
  },
  {
   "cell_type": "code",
   "execution_count": 21,
   "metadata": {},
   "outputs": [
    {
     "name": "stdout",
     "output_type": "stream",
     "text": [
      "Hello world\n",
      "This is a test\n",
      "\n"
     ]
    }
   ],
   "source": [
    "import io\n",
    "s = io.StringIO()\n",
    "s.write('Hello world\\n')\n",
    "print('This is a test', file=s)\n",
    "\n",
    "print(s.getvalue())"
   ]
  },
  {
   "cell_type": "code",
   "execution_count": 23,
   "metadata": {},
   "outputs": [
    {
     "name": "stdout",
     "output_type": "stream",
     "text": [
      "b'Hello\\n'\n"
     ]
    }
   ],
   "source": [
    "## 或者 byte io\n",
    "import io\n",
    "b = io.BytesIO()\n",
    "b.write(b'Hello\\n')\n",
    "# print(b'This is a test', file=b)\n",
    "\n",
    "print(b.getvalue())"
   ]
  },
  {
   "cell_type": "markdown",
   "metadata": {},
   "source": [
    "### 5.7 压缩文件操作（gzip，bz2）\n"
   ]
  },
  {
   "cell_type": "code",
   "execution_count": 42,
   "metadata": {},
   "outputs": [
    {
     "name": "stdout",
     "output_type": "stream",
     "text": [
      "Hello, gzip\n",
      "Hello, bz2\n"
     ]
    }
   ],
   "source": [
    "import gzip\n",
    "import bz2\n",
    "\n",
    "with gzip.open('./samples/somefile.gz', 'wt') as f:\n",
    "    f.write('Hello, gzip')\n",
    "\n",
    "with gzip.open('./samples/somefile.gz', 'rt') as f:\n",
    "    print(f.read())\n",
    "    \n",
    "with bz2.open('./samples/somefile.bz2', 'wt') as f:\n",
    "    f.write('Hello, bz2')\n",
    "\n",
    "with bz2.open('./samples/somefile.bz2', 'rt') as f:\n",
    "    print(f.read())"
   ]
  },
  {
   "cell_type": "markdown",
   "metadata": {},
   "source": [
    "### 5.8 Iterating Over Fixed-Sized Record\n",
    "\n",
    "这个例子与之前那个 iter 的例子相同， 就是读取 相同大小的块，然后处理。\n",
    "\n",
    "注意 iter 第一个参数是一个callable对象， 第二个参数是 sentinel。\n",
    "\n",
    "callable对象，可以用 partial 构建。"
   ]
  },
  {
   "cell_type": "code",
   "execution_count": 27,
   "metadata": {},
   "outputs": [
    {
     "name": "stdout",
     "output_type": "stream",
     "text": [
      "hello worl\n",
      "d\n",
      "this is \n",
      "a test\n",
      "of \n",
      "iterating \n",
      "over lines\n",
      " with a hi\n",
      "story\n",
      "pyth\n",
      "on is fun\n",
      "\n"
     ]
    }
   ],
   "source": [
    "from functools import partial\n",
    "with open('somefile.txt', 'rt') as f:\n",
    "    records = iter(partial(f.read, 10), '')\n",
    "    for r in records:\n",
    "        print(r)"
   ]
  },
  {
   "cell_type": "markdown",
   "metadata": {},
   "source": [
    "### 5.9 Reading Binary Data into a Mutable Buffer\n",
    "\n",
    "就是将内容读进一个缓存区。可以用 bytearray"
   ]
  },
  {
   "cell_type": "code",
   "execution_count": 46,
   "metadata": {},
   "outputs": [
    {
     "name": "stdout",
     "output_type": "stream",
     "text": [
      "bytearray(b'Hello world')\n",
      "bytearray(b'Hallo world')\n"
     ]
    }
   ],
   "source": [
    "import os.path\n",
    "\n",
    "def read_into_buffer(filename):\n",
    "    buf = bytearray(os.path.getsize(filename))\n",
    "    with open(filename, 'rb') as f:\n",
    "        f.readinto(buf)\n",
    "    return buf\n",
    "\n",
    "buf = read_into_buffer('./samples/somefile.bin')\n",
    "print(buf)\n",
    "buf[0:5] = b'Hallo'\n",
    "print(buf)"
   ]
  },
  {
   "cell_type": "markdown",
   "metadata": {},
   "source": [
    "### 5.10 Memory Mapping Binary Files\n",
    "\n",
    "内存与文件二进制映射：可以直接修改。"
   ]
  },
  {
   "cell_type": "code",
   "execution_count": 52,
   "metadata": {},
   "outputs": [
    {
     "name": "stdout",
     "output_type": "stream",
     "text": [
      "1000\n",
      "b'Hello World'\n"
     ]
    }
   ],
   "source": [
    "import os\n",
    "import mmap\n",
    "\n",
    "def memory_map(filename, access=mmap.ACCESS_WRITE):\n",
    "    size = os.path.getsize(filename)\n",
    "    fd = os.open(filename, os.O_RDWR)\n",
    "    return mmap.mmap(fd, size, access=access)\n",
    "\n",
    "\n",
    "# 创建文件\n",
    "size = 1000    # 1KB 文件\n",
    "with open('./samples/data', 'wb') as f:\n",
    "    f.seek(size-1)\n",
    "    f.write(b'\\x00')\n",
    "    \n",
    "# 内存映射\n",
    "with memory_map('./samples/data') as m:\n",
    "    print(len(m))\n",
    "    m[0:11] = b'Hello World'\n",
    "\n",
    "# 读取文件\n",
    "with open('./samples/data', 'rb') as f:\n",
    "    print(f.read(11))"
   ]
  },
  {
   "cell_type": "markdown",
   "metadata": {},
   "source": [
    "### 5.11 处理文件路径"
   ]
  },
  {
   "cell_type": "code",
   "execution_count": 60,
   "metadata": {},
   "outputs": [
    {
     "name": "stdout",
     "output_type": "stream",
     "text": [
      "文件名 sample.txt\n",
      "目录路径 /Users/yangdong/Study/Github/notebooks/PythonCookbook/samples\n",
      "拼接路径 tmp/data/sample.txt\n",
      "expanduser /Users/yangdong/Study/Github/notebooks/PythonCookbook/samples/sample.txt\n",
      "分割扩展后缀 ('~/Study/Github/notebooks/PythonCookbook/samples/sample', '.txt')\n"
     ]
    }
   ],
   "source": [
    "import os\n",
    "\n",
    "path = '/Users/yangdong/Study/Github/notebooks/PythonCookbook/samples/sample.txt'\n",
    "\n",
    "print('文件名', os.path.basename(path))\n",
    "print('目录路径', os.path.dirname(path))\n",
    "print('拼接路径', os.path.join('tmp', 'data', os.path.basename(path)))\n",
    "\n",
    "path = '~/Study/Github/notebooks/PythonCookbook/samples/sample.txt'\n",
    "print('expanduser', os.path.expanduser(path))\n",
    "print('分割扩展后缀', os.path.splitext(path))"
   ]
  },
  {
   "cell_type": "markdown",
   "metadata": {},
   "source": [
    "### 5.12 文件测试"
   ]
  },
  {
   "cell_type": "code",
   "execution_count": 66,
   "metadata": {},
   "outputs": [
    {
     "name": "stdout",
     "output_type": "stream",
     "text": [
      "6774\n",
      "Tue Oct  3 08:36:26 2017\n"
     ]
    }
   ],
   "source": [
    "import os\n",
    "\n",
    "assert os.path.exists('/etc/passwd')\n",
    "assert os.path.isfile('/etc/passwd')\n",
    "assert os.path.isdir('/etc/passwd') == False\n",
    "assert os.path.islink('/usr/local/bin/python2')\n",
    "\n",
    "print(os.path.getsize('/etc/passwd'))\n",
    "import time\n",
    "print(time.ctime(os.path.getmtime('/etc/passwd')))"
   ]
  },
  {
   "cell_type": "markdown",
   "metadata": {},
   "source": [
    "### 5.13 列出目录文件\n",
    "\n",
    "`glob`模块，用于匹配文件名。（或者用 `fnmatch.fnmatch`）"
   ]
  },
  {
   "cell_type": "code",
   "execution_count": 74,
   "metadata": {},
   "outputs": [
    {
     "name": "stdout",
     "output_type": "stream",
     "text": [
      ".DS_Store\n",
      "somefile.txt\n",
      "1. Data Structures and Algorithms.ipynb\n",
      "3. Numbers Dates and Times.ipynb\n",
      "4. Iterators and Generators.ipynb\n",
      "sample.dat\n",
      "5. Files and IO.ipynb\n",
      "2. Strings and Text.ipynb\n",
      "['www', 'samples', '.ipynb_checkpoints']\n",
      "['./1. Data Structures and Algorithms.ipynb', './3. Numbers Dates and Times.ipynb', './4. Iterators and Generators.ipynb', './5. Files and IO.ipynb', './2. Strings and Text.ipynb']\n"
     ]
    }
   ],
   "source": [
    "import os\n",
    "\n",
    "names = os.listdir('.')\n",
    "# print(names)\n",
    "\n",
    "# 当前目录所有文件：\n",
    "all_files = [name for name in os.listdir('.') if os.path.isfile(os.path.join('.', name))]\n",
    "print('\\n'.join(all_files))\n",
    "\n",
    "# 当前目录下所有目录\n",
    "all_dirs = [name for name in os.listdir('.') if os.path.isdir(os.path.join('.', name))]\n",
    "print(all_dirs)\n",
    "\n",
    "# 匹配搜索文件\n",
    "import glob\n",
    "all_ipynb = glob.glob('./*.ipynb')\n",
    "print(all_ipynb)"
   ]
  },
  {
   "cell_type": "markdown",
   "metadata": {},
   "source": [
    "### 5.14 文件编码"
   ]
  },
  {
   "cell_type": "code",
   "execution_count": 98,
   "metadata": {},
   "outputs": [
    {
     "name": "stdout",
     "output_type": "stream",
     "text": [
      "<_io.TextIOWrapper name='./samples/encoding.txt' mode='w' encoding='utf-16'>\n"
     ]
    }
   ],
   "source": [
    "samples_path = './samples/'\n",
    "with open(samples_path + 'encoding.txt', 'w', encoding='utf-16') as f:\n",
    "    print(f)"
   ]
  },
  {
   "cell_type": "code",
   "execution_count": 104,
   "metadata": {},
   "outputs": [
    {
     "name": "stdout",
     "output_type": "stream",
     "text": [
      "b'\\xe4\\xb8\\xad'\n",
      "e4,b8,ad,\n",
      "b'\\xff\\xfe-N'\n",
      "ff,fe,2d,4e,\n",
      "b'\\xff\\xfe\\x00\\x00-N\\x00\\x00'\n",
      "ff,fe,00,00,2d,4e,00,00,\n"
     ]
    }
   ],
   "source": [
    "# 参考 http://graphemica.com/%E4%B8%AD\n",
    "\n",
    "def print_code(s, encoding, formats):\n",
    "    b = s.encode(encoding)\n",
    "    print(b)\n",
    "    for bit in b:\n",
    "        print(format(bit, formats), end=',')\n",
    "    print()\n",
    "print_code('中', 'utf-8', '02x')\n",
    "print_code('中', 'utf-16', '02x')\n",
    "print_code('中', 'utf-32', '02x')"
   ]
  },
  {
   "cell_type": "code",
   "execution_count": null,
   "metadata": {},
   "outputs": [],
   "source": []
  }
 ],
 "metadata": {
  "kernelspec": {
   "display_name": "Python 3",
   "language": "python",
   "name": "python3"
  },
  "language_info": {
   "codemirror_mode": {
    "name": "ipython",
    "version": 3
   },
   "file_extension": ".py",
   "mimetype": "text/x-python",
   "name": "python",
   "nbconvert_exporter": "python",
   "pygments_lexer": "ipython3",
   "version": "3.6.2"
  },
  "varInspector": {
   "cols": {
    "lenName": 16,
    "lenType": 16,
    "lenVar": 40
   },
   "kernels_config": {
    "python": {
     "delete_cmd_postfix": "",
     "delete_cmd_prefix": "del ",
     "library": "var_list.py",
     "varRefreshCmd": "print(var_dic_list())"
    },
    "r": {
     "delete_cmd_postfix": ") ",
     "delete_cmd_prefix": "rm(",
     "library": "var_list.r",
     "varRefreshCmd": "cat(var_dic_list()) "
    }
   },
   "types_to_exclude": [
    "module",
    "function",
    "builtin_function_or_method",
    "instance",
    "_Feature"
   ],
   "window_display": false
  }
 },
 "nbformat": 4,
 "nbformat_minor": 2
}
