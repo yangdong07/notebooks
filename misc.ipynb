{
 "cells": [
  {
   "cell_type": "markdown",
   "metadata": {},
   "source": [
    "### 获取一个instance的大小，占用空间\n",
    "\n",
    "参考： <https://stackoverflow.com/questions/449560/how-do-i-determine-the-size-of-an-object-in-python>\n",
    "\n",
    "这里是python2的\n",
    "```\n",
    "Bytes  type        empty + scaling notes\n",
    "24     int         NA\n",
    "28     long        NA\n",
    "37     str         + 1 byte per additional character\n",
    "52     unicode     + 4 bytes per additional character\n",
    "56     tuple       + 8 bytes per additional item\n",
    "72     list        + 32 for first, 8 for each additional\n",
    "232    set         sixth item increases to 744; 22nd, 2280; 86th, 8424\n",
    "280    dict        sixth item increases to 1048; 22nd, 3352; 86th, 12568 *\n",
    "64     class inst  has a __dict__ attr, same scaling as dict above\n",
    "16     __slots__   class with slots has no dict, seems to store in \n",
    "                   mutable tuple-like structure.\n",
    "120    func def    doesn't include default args and other attrs\n",
    "904    class def   has a proxy __dict__ structure for class attrs\n",
    "104    old class   makes sense, less stuff, has real dict though.\n",
    "```\n",
    "\n",
    "\n",
    "一个工具，可以参考 <https://code.tutsplus.com/tutorials/understand-how-much-memory-your-python-objects-use--cms-25609> \n",
    "\n",
    "上面是python2的，python3又不一样的大小。"
   ]
  },
  {
   "cell_type": "code",
   "execution_count": 10,
   "metadata": {},
   "outputs": [
    {
     "name": "stdout",
     "output_type": "stream",
     "text": [
      "28\n",
      "50\n",
      "78\n"
     ]
    }
   ],
   "source": [
    "import sys\n",
    "\n",
    "print(sys.getsizeof(1))  # int 28\n",
    "print(sys.getsizeof('a'))     # str 49 + 1 byte per c\n",
    "print(sys.getsizeof(u'中文'))     # str 74 + 2 byte per c\n",
    "\n"
   ]
  }
 ],
 "metadata": {
  "kernelspec": {
   "display_name": "Python 3",
   "language": "python",
   "name": "python3"
  },
  "language_info": {
   "codemirror_mode": {
    "name": "ipython",
    "version": 3
   },
   "file_extension": ".py",
   "mimetype": "text/x-python",
   "name": "python",
   "nbconvert_exporter": "python",
   "pygments_lexer": "ipython3",
   "version": "3.6.2"
  },
  "varInspector": {
   "cols": {
    "lenName": 16,
    "lenType": 16,
    "lenVar": 40
   },
   "kernels_config": {
    "python": {
     "delete_cmd_postfix": "",
     "delete_cmd_prefix": "del ",
     "library": "var_list.py",
     "varRefreshCmd": "print(var_dic_list())"
    },
    "r": {
     "delete_cmd_postfix": ") ",
     "delete_cmd_prefix": "rm(",
     "library": "var_list.r",
     "varRefreshCmd": "cat(var_dic_list()) "
    }
   },
   "types_to_exclude": [
    "module",
    "function",
    "builtin_function_or_method",
    "instance",
    "_Feature"
   ],
   "window_display": false
  }
 },
 "nbformat": 4,
 "nbformat_minor": 2
}
