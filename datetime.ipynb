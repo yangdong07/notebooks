{
 "cells": [
  {
   "cell_type": "markdown",
   "metadata": {},
   "source": [
    "### 1. 给定 year 和month， 计算当月天数\n",
    "\n",
    "一个直接的思路是，给定： `[31, 28, 31, 30, 31, 30, 31, 31, 30, 31, 30, 31]` ，然后2月根据润年，决定是否加1。\n",
    "\n",
    "参考 <https://github.com/python/cpython/blob/master/Lib/datetime.py> 也是这么干的！\n"
   ]
  },
  {
   "cell_type": "code",
   "execution_count": 13,
   "metadata": {},
   "outputs": [],
   "source": [
    "\n",
    "_DAYS_IN_MONTH = [-1, 31, 28, 31, 30, 31, 30, 31, 31, 30, 31, 30, 31]\n",
    "\n",
    "def _is_leap(year):\n",
    "    \"year -> 1 if leap year, else 0.\"\n",
    "    return year % 4 == 0 and (year % 100 != 0 or year % 400 == 0)\n",
    "\n",
    "def days_in_month(year, month):\n",
    "    \"year, month -> number of days in that month in that year.\"\n",
    "    assert 1 <= month <= 12, month\n",
    "    if month == 2 and _is_leap(year):\n",
    "        return 29\n",
    "    return _DAYS_IN_MONTH[month]\n"
   ]
  },
  {
   "cell_type": "markdown",
   "metadata": {},
   "source": [
    "### 2.  给定 year、month 和 day， 判断是否有效\n",
    "\n",
    "- 𝚍𝚊𝚝𝚎𝚝𝚒𝚖𝚎.𝙼𝙸𝙽𝚈𝙴𝙰𝚁 ≤ year ≤ 𝚍𝚊𝚝𝚎𝚝𝚒𝚖𝚎.𝙼𝙰𝚇𝚈𝙴𝙰𝚁\n",
    "- 1≤ month ≤12\n",
    "- 1≤ day ≤ number of days in the given month and year"
   ]
  },
  {
   "cell_type": "code",
   "execution_count": 25,
   "metadata": {},
   "outputs": [],
   "source": [
    "import datetime\n",
    "\n",
    "def is_valid_date(year, month, day):\n",
    "    \"\"\"\n",
    "    Inputs:\n",
    "      year  - an integer representing the year\n",
    "      month - an integer representing the month\n",
    "      day   - an integer representing the day\n",
    "      \n",
    "    Returns:\n",
    "      True if year-month-day is a valid date and\n",
    "      False otherwise\n",
    "    \"\"\"\n",
    "    if not datetime.MINYEAR <= year <= datetime.MAXYEAR:\n",
    "        return False\n",
    "    if not 1 <= month <= 12:\n",
    "        return False\n",
    "    dim = days_in_month(year, month)\n",
    "    if not 1 <= day <= dim:\n",
    "        return False\n",
    "    return True"
   ]
  },
  {
   "cell_type": "code",
   "execution_count": 28,
   "metadata": {},
   "outputs": [],
   "source": [
    "assert is_valid_date(202222, 111, 111) == False\n",
    "assert is_valid_date(2018, 1, 1) == True"
   ]
  },
  {
   "cell_type": "markdown",
   "metadata": {},
   "source": [
    "\n",
    "### 3. 计算两个日期之间的天数\n"
   ]
  },
  {
   "cell_type": "code",
   "execution_count": 29,
   "metadata": {},
   "outputs": [],
   "source": [
    "def days_between(year1, month1, day1, year2, month2, day2):\n",
    "    \"\"\"\n",
    "    Inputs:\n",
    "      year1  - an integer representing the year of the first date\n",
    "      month1 - an integer representing the month of the first date\n",
    "      day1   - an integer representing the day of the first date\n",
    "      year2  - an integer representing the year of the second date\n",
    "      month2 - an integer representing the month of the second date\n",
    "      day2   - an integer representing the day of the second date\n",
    "      \n",
    "    Returns:\n",
    "      The number of days from the first date to the second date.\n",
    "      Returns 0 if either date is invalid or the second date is \n",
    "      before the first date.\n",
    "    \"\"\"\n",
    "    try:\n",
    "        d1 = datetime.date(year1, month1, day1)\n",
    "        d2 = datetime.date(year2, month2, day2)\n",
    "        days = (d2 - d1).days\n",
    "    except ValueError:\n",
    "        return 0\n",
    "    else:\n",
    "        return max(days, 0)"
   ]
  },
  {
   "cell_type": "code",
   "execution_count": 34,
   "metadata": {},
   "outputs": [],
   "source": [
    "assert days_between(2018, 1, 1, 2018, 2, 1) == 31\n",
    "assert days_between(2000, 1, 1, 1, 1, 1) == 0"
   ]
  },
  {
   "cell_type": "markdown",
   "metadata": {},
   "source": [
    "### 4. 给定年月日，作为生日，计算一个人的年龄（天数）"
   ]
  },
  {
   "cell_type": "code",
   "execution_count": 38,
   "metadata": {},
   "outputs": [],
   "source": [
    "def age_in_days(year, month, day):\n",
    "    \"\"\"\n",
    "    Inputs:\n",
    "      year  - an integer representing the birthday year\n",
    "      month - an integer representing the birthday month\n",
    "      day   - an integer representing the birthday day\n",
    "      \n",
    "    Returns:\n",
    "      The age of a person with the input birthday as of today.\n",
    "      Returns 0 if the input date is invalid of if the input\n",
    "      date is in the future.\n",
    "    \"\"\"\n",
    "    today = datetime.datetime.today()\n",
    "    return days_between(year, month, day, today.year, today.month, today.day)\n"
   ]
  },
  {
   "cell_type": "code",
   "execution_count": 39,
   "metadata": {},
   "outputs": [],
   "source": [
    "assert age_in_days(1985, 12, 20) > 0\n",
    "assert age_in_days(2018, 11, 10) == 0"
   ]
  },
  {
   "cell_type": "code",
   "execution_count": null,
   "metadata": {},
   "outputs": [],
   "source": []
  }
 ],
 "metadata": {
  "kernelspec": {
   "display_name": "Python 3",
   "language": "python",
   "name": "python3"
  },
  "language_info": {
   "codemirror_mode": {
    "name": "ipython",
    "version": 3
   },
   "file_extension": ".py",
   "mimetype": "text/x-python",
   "name": "python",
   "nbconvert_exporter": "python",
   "pygments_lexer": "ipython3",
   "version": "3.6.2"
  },
  "varInspector": {
   "cols": {
    "lenName": 16,
    "lenType": 16,
    "lenVar": 40
   },
   "kernels_config": {
    "python": {
     "delete_cmd_postfix": "",
     "delete_cmd_prefix": "del ",
     "library": "var_list.py",
     "varRefreshCmd": "print(var_dic_list())"
    },
    "r": {
     "delete_cmd_postfix": ") ",
     "delete_cmd_prefix": "rm(",
     "library": "var_list.r",
     "varRefreshCmd": "cat(var_dic_list()) "
    }
   },
   "types_to_exclude": [
    "module",
    "function",
    "builtin_function_or_method",
    "instance",
    "_Feature"
   ],
   "window_display": false
  }
 },
 "nbformat": 4,
 "nbformat_minor": 2
}
